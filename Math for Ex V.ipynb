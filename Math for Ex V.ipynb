{
 "cells": [
  {
   "cell_type": "code",
   "execution_count": 1,
   "metadata": {},
   "outputs": [],
   "source": [
    "import numpy as np "
   ]
  },
  {
   "cell_type": "code",
   "execution_count": 2,
   "metadata": {},
   "outputs": [],
   "source": [
    "format = \"{:.03e}\".format\n",
    "\n",
    "h = 6.62607015e-34\n",
    "wave = 2e-10\n",
    "m = np.array([9.109e-31, 1.674e-27])\n",
    "kb= 1.38e-23\n",
    "np.set_printoptions(formatter={'float_kind':format})\n",
    "\n",
    "E = ((h**2)/(2*m*wave**2))\n",
    "# print(E)\n",
    "\n",
    "# print(f'{(h*299792458)/wave:.03e}')\n",
    "\n",
    "T = (2*E)/(3*kb)\n",
    "# print (f'{T}')"
   ]
  },
  {
   "cell_type": "code",
   "execution_count": 3,
   "metadata": {},
   "outputs": [
    {
     "name": "stdout",
     "output_type": "stream",
     "text": [
      "1.000e+00\n"
     ]
    }
   ],
   "source": [
    "m_p = 0.938e9\n",
    "E = 6.8e12\n",
    "beta = np.sqrt(1-(m_p**2)/(E**2))\n",
    "print(f'{beta:.03e}')"
   ]
  }
 ],
 "metadata": {
  "kernelspec": {
   "display_name": ".venv",
   "language": "python",
   "name": "python3"
  },
  "language_info": {
   "codemirror_mode": {
    "name": "ipython",
    "version": 3
   },
   "file_extension": ".py",
   "mimetype": "text/x-python",
   "name": "python",
   "nbconvert_exporter": "python",
   "pygments_lexer": "ipython3",
   "version": "3.11.9"
  }
 },
 "nbformat": 4,
 "nbformat_minor": 2
}
