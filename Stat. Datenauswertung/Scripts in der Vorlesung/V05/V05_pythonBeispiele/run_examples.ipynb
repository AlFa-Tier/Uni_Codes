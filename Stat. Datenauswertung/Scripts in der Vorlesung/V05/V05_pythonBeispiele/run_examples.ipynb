{
 "cells": [
  {
   "cell_type": "markdown",
   "id": "43729a86-7988-4a0e-9e10-772d5b44dd0c",
   "metadata": {},
   "source": [
    "## Beispiele aus Vorlesug 5: \n",
    "### Grundlagen der Statistischen Datenanalyse\n",
    "\n",
    "**Werkzeuge zur Anpassung von Modellen an Daten**"
   ]
  },
  {
   "cell_type": "code",
   "execution_count": null,
   "id": "37a9dd96-6d11-4b09-beb8-5778a5705134",
   "metadata": {},
   "outputs": [],
   "source": [
    "%run kafe2_genericFit.py"
   ]
  },
  {
   "cell_type": "code",
   "execution_count": null,
   "id": "edf1b334-6b59-4972-9ffc-c077328ad4ad",
   "metadata": {},
   "outputs": [],
   "source": [
    "%run kafe2_unbinned_fit.py"
   ]
  },
  {
   "cell_type": "code",
   "execution_count": null,
   "id": "4d4d1cff-8acf-4a3f-974d-3016e522d9d8",
   "metadata": {},
   "outputs": [],
   "source": [
    "%run kafe2_histogram_fit.py"
   ]
  },
  {
   "cell_type": "code",
   "execution_count": null,
   "id": "a3865d36-b20d-4e31-83c8-ba3de945b08e",
   "metadata": {},
   "outputs": [],
   "source": [
    "%run test_xyFit.py"
   ]
  },
  {
   "cell_type": "code",
   "execution_count": null,
   "id": "8ff6dc2f-8fcd-47fa-88e7-4e63f640e4c6",
   "metadata": {},
   "outputs": [],
   "source": [
    "%run test_hFit.py"
   ]
  },
  {
   "cell_type": "code",
   "execution_count": null,
   "id": "742ed658-8619-4377-93d8-1a8c6a453c74",
   "metadata": {},
   "outputs": [],
   "source": [
    "%run toyMC_Fit.py"
   ]
  }
 ],
 "metadata": {
  "kernelspec": {
   "display_name": "Python 3 (ipykernel)",
   "language": "python",
   "name": "python3"
  },
  "language_info": {
   "codemirror_mode": {
    "name": "ipython",
    "version": 3
   },
   "file_extension": ".py",
   "mimetype": "text/x-python",
   "name": "python",
   "nbconvert_exporter": "python",
   "pygments_lexer": "ipython3",
   "version": "3.11.10"
  }
 },
 "nbformat": 4,
 "nbformat_minor": 5
}
