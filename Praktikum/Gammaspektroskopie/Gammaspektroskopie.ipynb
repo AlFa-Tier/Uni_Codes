{
 "cells": [
  {
   "cell_type": "markdown",
   "id": "42682082-b73c-4ed8-b2c0-363135adec6a",
   "metadata": {},
   "source": [
    "# Fakultät für Physik\n",
    "\n",
    "## Physikalisches Praktikum P2 für Studierende der Physik\n",
    "\n",
    "Versuch P2-72, 73, 83 (Stand: März 2024)\n",
    "\n",
    "[Raum F2-19](https://labs.physik.kit.edu/img/Praktikum/Lageplan_P2.png)\n",
    "\n",
    "\n",
    "\n",
    "# Gammaspektroskopie"
   ]
  },
  {
   "cell_type": "markdown",
   "id": "8325ca3f-3703-401b-9d86-06365071d964",
   "metadata": {},
   "source": [
    "Name: Alhelo Vorname: Fadi E-Mail: uylex@student.kit.edu\n",
    "\n",
    "\\begin{equation*}\n",
    "\\begin{split}\n",
    "&\\\\\n",
    "&\\\\\n",
    "\\end{split}\n",
    "\\end{equation*}\n",
    "\n",
    "Name: Ji Vorname: Tony E-Mail: uvsvo@student.kit.edu\n",
    "\n",
    "\\begin{equation*}\n",
    "\\begin{split}\n",
    "&\\\\\n",
    "&\\\\\n",
    "&\\\\\n",
    "\\end{split}\n",
    "\\end{equation*}\n",
    "\n",
    "Gruppennummer: DO 14\n",
    "\n",
    "\\begin{equation*}\n",
    "\\begin{split}\n",
    "&\\\\\n",
    "&\\\\\n",
    "&\\\\\n",
    "\\end{split}\n",
    "\\end{equation*}\n",
    "\n",
    "\n",
    "Betreuer: __________________\n",
    "\n",
    "\\begin{equation*}\n",
    "\\begin{split}\n",
    "&\\\\\n",
    "&\\\\\n",
    "&\\\\\n",
    "\\end{split}\n",
    "\\end{equation*}\n",
    "\n",
    "Versuch durchgeführt am: __________________"
   ]
  },
  {
   "cell_type": "markdown",
   "id": "fb96cd4b-ae30-4d17-9905-401195589b94",
   "metadata": {},
   "source": [
    "---\n",
    "\n",
    "**Beanstandungen zu Protokoll Version _____:**\n",
    "\n",
    "\\begin{equation*}\n",
    "\\begin{split}\n",
    "&\\\\\n",
    "&\\\\\n",
    "&\\\\\n",
    "&\\\\\n",
    "&\\\\\n",
    "&\\\\\n",
    "&\\\\\n",
    "&\\\\\n",
    "&\\\\\n",
    "&\\\\\n",
    "\\end{split}\n",
    "%\\text{\\vspace{10cm}}\n",
    "\\end{equation*}\n",
    "\n",
    "<br>\n",
    "Testiert am: __________________ Testat: __________________"
   ]
  },
  {
   "cell_type": "markdown",
   "id": "e13de07e-5451-471b-a22b-1c7905af9470",
   "metadata": {
    "tags": []
   },
   "source": [
    "# Durchführung\n",
    "\n",
    "**Die Anleitung zu diesem Versuch finden Sie [hier](https://gitlab.kit.edu/kit/etp-lehre/p2-praktikum/students/-/blob/main/Gammaspektroskopie/README.md).**"
   ]
  },
  {
   "cell_type": "markdown",
   "id": "3dc19f14-383d-4e96-8430-55f1e2eeffc0",
   "metadata": {
    "jp-MarkdownHeadingCollapsed": true,
    "tags": []
   },
   "source": [
    "## Aufgabe 1: Messanordnung\n",
    "\n",
    "**Hinweise zu Aufgabe 1 finden in der Datei [Hinweise-Versuchsdurchfuehrung.md](https://gitlab.kit.edu/kit/etp-lehre/p2-praktikum/students/-/blob/main/Gammaspektroskopie/doc/Hinweise-Versuchsdurchfuehrung.md).**\n",
    "\n",
    " * Machen Sie sich mit der Messanordnung vertraut. \n",
    " * Bearbeiten Sie hierzu die folgenden Aufgaben."
   ]
  },
  {
   "cell_type": "markdown",
   "id": "c847b0f0-c930-469d-a2d1-10fa74274927",
   "metadata": {
    "tags": []
   },
   "source": [
    "### Aufgabe 1.1: Beschreibung der Messanordnung\n",
    "\n",
    " * Beschreiben Sie die Messanordnung, die Sie für diesen Versuch vorfinden in eigenen Worten.\n",
    "\n",
    "---"
   ]
  },
  {
   "cell_type": "markdown",
   "id": "093b91d5-4284-43e4-bfaa-dfce3f41b29b",
   "metadata": {},
   "source": [
    "**Lösung:**\n",
    "\n",
    "Zum Messen der Strahlung der radioaktiven Proben wird diese wie in **Abbildung 1.1.1** gezeigt über dem Messgerät festgespannt. Der Messgerät ist der in den Hinweisen beschriebene Szintillator und Detektormaterial. Dieses Aparat ist in der Abbildung innerhalb des silbernen Zylenders zu finden. Die in der Abbildung zu sehende Probe (der Festgespannte blaue Zylinder) ist $_{11}^{22}Na$. \n",
    "\n",
    "<img src=\"figures/IMG_1450.jpg\" alt=\"Aufnahme des Aufbaus\" style=\"width:400px;\"/>\n",
    "\n",
    "**Abbildung 1.1.1:** Aufbau der Messanlage\n",
    "\n",
    "Das gemessene Signal wird dann druch den MCA (Multichannelanalizer) durchgeleitet und dann auf dem Rechner visuell aufgetragen.\n",
    "\n",
    "<img src=\"figures/IMG_1449.jpg\" alt=\"Aufnahme vom MCA\" style=\"width:300px\"/>\n",
    "\n",
    "**Abbildung 1.1.2:** Aufnahme des MCA\n",
    "\n",
    "Im laufe des Verscuhes wird das MCA als Oszilloskop eingesezt um den Signal zu untersuchen (genaueres dazu unter [Aufgabe 1.2](#aufgabe-12-oszilloskopische-untersuchung-des-signal)) und im späteren Verlauf dazu verwendet, um einen Histogramm mithilfe der Verschiedenen Signale zu erstellen.\n",
    "\n",
    "---"
   ]
  },
  {
   "cell_type": "markdown",
   "id": "24474090-95d0-4c73-a3e1-29fce409e226",
   "metadata": {
    "jp-MarkdownHeadingCollapsed": true,
    "tags": []
   },
   "source": [
    "### Aufgabe 1.2: Oszilloskopische Untersuchung des Signal \n",
    "\n",
    " * Untersuchen Sie das Signal eines beliebigen radioaktiven Präparats. \n",
    " * Verwenden Sie hierzu den MCA als Oszilloskop. \n",
    " * Beschreiben Sie Ihre Beobachtungen.\n",
    "\n",
    "---"
   ]
  },
  {
   "cell_type": "markdown",
   "id": "c059e535-acba-4c6b-935b-bb36d1a577cf",
   "metadata": {},
   "source": [
    "**Lösung:**\n",
    "\n",
    "<p><font color=\"gray\"> Es wird in Abbildung 1.2.1 die Aufnahme der Gruppe Do-02 verwendet, da diese von besserer Qualität ist.</font></p>\n",
    "\n",
    "\n",
    "In Abbildung 1.2.1 Ist eine Aufnahme des Signales mithilfe der Osziloskop funktion zu sehen.  \n",
    "Die unterschiedliche Stärke der Ausschläge zeigt hierfür die unterschiedliche Energien die gemessen wurden.  \n",
    "Zudem sind die Zeitintervalle zwischen den einzelnen aufgenommenen Signale sehr unregelmäßig. Diese entsprechen die statistische Natur des radioactiven Zerfalls.\n",
    "\n",
    "<img src=\"Messungen/Oszi-Aufnahme_Do-02.jpg\" alt=\"Aufnahme des Oszilators Gruppe Do-02\" style=\"width:1000px\"/>\n",
    "\n",
    "**Abbildung 1.2.1:** Aufnahme des Signales \n",
    "\n",
    "---"
   ]
  },
  {
   "cell_type": "markdown",
   "id": "bcef04b0-1ea7-4945-9505-9a088210bcfc",
   "metadata": {
    "jp-MarkdownHeadingCollapsed": true,
    "tags": []
   },
   "source": [
    "### Aufgabe 1.3: Spektrale Untersuchung des Signal \n",
    "\n",
    " * Untersuchen Sie zur Vorbereitung auf **Aufgabe 2** die Spektren der Präparate $_{\\hphantom{0}55}^{137}\\mathrm{Cs}$, $_{27}^{60}\\mathrm{Co}$ und $_{11}^{22}\\mathrm{Na}$.\n",
    " * Verwenden Sie hierzu den MCA in seiner eigentlichen Eigenschaft als Spektrumanalysator. \n",
    " * Bestimmen Sie einen einheitlichen dynamischen Bereich, des MCA mit dem Sie alle folgenden Spektren aufzeichnen werden.\n",
    "\n",
    "---"
   ]
  },
  {
   "cell_type": "markdown",
   "id": "2eb224f7-e4a2-4ad5-ba3d-246073c4d59a",
   "metadata": {},
   "source": [
    "**Lösung:**\n",
    "\n",
    "In der Abbildung 1.3.1 sind die einzelne Messwerte über einem Histogramm aufgetragen. Durch diese Verarbeitung des Signals, typische Verläufe sichtbar.  \n",
    "In [Aufgabe2.2](#aufgabe-22-bestimmung-der-impulshöhenspektren-verschiedener-präparate) wird auf diese genauer eingegangen.\n",
    "\n",
    "Zum bestimmen des Einheitlichen Berieches wurde die Messung mit den Präparate $_{55}^{137}\\mathrm{Cs}$, $_{27}^{60}\\mathrm{Co}$ und $_{11}^{22}\\mathrm{Na}$ durchgeführt. Unter anlegen verschiedener Spannungen ist zu erkennen, dass sich die Aufgenommene Muster stauchen oder strecekn. Dies sieht man bei dem Vergleichen der verschiedenen Abbildungen.Zum festlegen der Spannung wird die Spannung gewählt bei dem eins der Spekten der Präparate and dem rechten Rand des Messbereichs kommt.  \n",
    "Es wird bei alle Messungen eine Spannung von $683 V$ angelegt.\n",
    "\n",
    "<img src=\"Messungen/Cs_Probe.png\" alt=\"Aufnahme des Histogramms für die Cs Probe\" style=\"width:1000px\"/>\n",
    "\n",
    "**Abbildung 1.3.1:** Histogramm der $_{11}^{22}Na$-Probe\n",
    "\n",
    "<img src=\"Messungen/Natrium_Probe.png\" alt=\"Aufnahme des Histogramms für die Natrium Probe\" style=\"width:1000px\"/>\n",
    "\n",
    "**Abbildung 1.3.2:** Histogramm der $_{55}^{137}Cs$-Probe\n",
    "\n",
    "<img src=\"Messungen/Cobalt_Probe.png\" alt=\"Aufnahme des Histogramms für die Cobalt Probe\" style=\"width:1000px\"/>\n",
    "\n",
    "**Abbildung 1.3.3:** Histogramm der $_{27}^{60}Co$-Probe\n",
    "\n",
    "---"
   ]
  },
  {
   "cell_type": "markdown",
   "id": "8b3ad7b9-496e-4423-aff2-42a82fc01d77",
   "metadata": {
    "jp-MarkdownHeadingCollapsed": true,
    "tags": []
   },
   "source": [
    "## Aufgabe 2: Analyse der Impulshöhenspektren\n",
    "\n",
    "**Hinweise zu Aufgabe 2 finden in der Datei [Hinweise-Versuchsdurchfuehrung.md](https://gitlab.kit.edu/kit/etp-lehre/p2-praktikum/students/-/blob/main/Gammaspektroskopie/doc/Hinweise-Versuchsdurchfuehrung.md).**\n",
    "\n",
    " * Analysieren Sie die Impulshöhenspektren der Präparate $_{\\hphantom{0}55}^{137}\\mathrm{Cs}$, $_{27}^{60}\\mathrm{Co}$ und $_{11}^{22}\\mathrm{Na}$. \n",
    " * Bearbeiten Sie hierzu die folgenden Aufgaben."
   ]
  },
  {
   "cell_type": "markdown",
   "id": "3ae01cd3-7ea9-45ef-a451-3c37b381dd3a",
   "metadata": {
    "jp-MarkdownHeadingCollapsed": true,
    "tags": []
   },
   "source": [
    "### Aufgabe 2.1: Bestimmung des Untergrunds ohne Präparat\n",
    "\n",
    " * Führen Sie eine Messung ohne Präparat durch, um ein Spektrum des Untergrunds zu erhalten, der jeder weiteren Messung unterliegt.\n",
    " * Notieren Sie sich die Zeitspanne, in der Sie das Spektrum aufgenommen haben. \n",
    "\n",
    "---"
   ]
  },
  {
   "cell_type": "markdown",
   "id": "d22a5ff1-84ae-4e0c-8952-0b2b7b9baf06",
   "metadata": {},
   "source": [
    "#### Vorbereitung\n",
    "\n",
    "Hintergrundstrahlung ist überall in der Umwelt vorhanden und stammt aus natürlichen Quellen wie kosmischer Strahlung, radioaktiven Isotopen in der Umgebung (im Boden oder auch in dem Menschlichem körper) und andere Quellen.  \n",
    "Um die Genauigkeit der Messung zu erhöhen, muss man diese gemessene Untergrundstrahlung von den Messwerten der Präparate zunächst abziehen. \n",
    "\n",
    "#### Durchführung\n",
    "\n",
    "Um den Untergrunds Spektrum des Versuches zu erhalten wurde die untenstehende Messung durchgeführt.\n",
    "Die Messung entstand under einer Messdauer von $t=6\\text{min}$.  \n",
    "Diese zeit wurde auch bei den anderen Versuchen (mit der Ausnahme der Cobalt Messung) verwendet. \n",
    "\n",
    "<img src=\"Messungen/Keine_Probe.png\" alt=\"Messung ohne Probe\" style=\"width:1000px\">\n",
    "\n",
    "**Abbildung 2.1:** Untergrund Spektrum ohne präparat\n",
    "\n",
    "---"
   ]
  },
  {
   "cell_type": "markdown",
   "id": "51f5f4d3-d7a5-4e05-a33e-5e73e67c1c22",
   "metadata": {
    "jp-MarkdownHeadingCollapsed": true,
    "tags": []
   },
   "source": [
    "### Aufgabe 2.2: Bestimmung der Impulshöhenspektren verschiedener Präparate\n",
    "\n",
    " * Führen Sie eine Messung für jedes der oben angegebenen Präparate durch.\n",
    " * Notieren Sie sich die Zeitspanne, in der Sie das jeweilge Spektrum aufgenommen haben. \n",
    " * Charakterisieren Sie die Spektren, indem Sie **alle Strukturen**, die Sie darin vorfinden identifizieren.\n",
    " * Fügen Sie Darstellungen der Spektren, **wie gemessen**, ins Protokoll ein. Für die anschließende Versuchsauswertung sollten Sie diese Spektren auf den in **Aufgabe 2.1** bestimmten Untergrund korrigieren und die MCA-Kanäle mit Hilfe der in **Aufgabe 2.3** bestimmten Kalibrationkonstanten auf die Energie des Photons $E_{\\gamma}$ kalibrieren.\n",
    "\n",
    "---"
   ]
  },
  {
   "cell_type": "markdown",
   "id": "712f1825-4521-4028-b06c-3aba17960e38",
   "metadata": {},
   "source": [
    "#### Vorbereitung"
   ]
  },
  {
   "cell_type": "markdown",
   "id": "4b25051c",
   "metadata": {},
   "source": [
    "##### Detektieren von $\\gamma$-Quanten\n",
    "\n",
    "Da ungeladene $\\gamma$-Quanten nicht direkt Atome ionisieren können und keine Coulombwechselwirkungen erzeugen, muss deren Nachweis durch vorhergehende Wechselwirkungen mit Materie erfolgen.  \n",
    "Für den Versuch sind folgende Phänomen:  \n",
    "\n",
    "- **Photoeffekt:**  \n",
    "    Bei dem Photoeffekt absorbiert ein Elektron einfallende Photonen und wird dadurch aus dem Atom ausgelöst. Damit dieseer Prozess stattfinden kann, muss die Energie des Photons mindestens die Bindungsenergie des jeweiligem Elektron entsprechen.\n",
    "\n",
    "    Da hier die Impulserhaltung gelten muss, und dass das Photon nach dem Stoß vollständig absorniert wird, muss eine Wechselwirkung mit dem Kern hier stattfinden.  \n",
    "    Aufgrund dieser Wechselwirkung mit dem Kern findet der Photoeffekt am wahrscheinlichsten bei Elektron in Kernnähe statt.\n",
    "\n",
    "    <img src=\"figures/Pair.png\" alt=\"Feynman Diagramm Photo\" style=\"width:400px\">  \n",
    "    \n",
    "    **Abbildung 2.2.1:** Feynman Diagramm zum Photoeffekt\n",
    "\n",
    "- **Comptonstreuung:**  \n",
    "    Bei der Comptonstreuung überträgt das $\\gamma$-Quant einen Teil seines Impulses auf ein sehr schwach gebundenes Elektron eines Atoms. Dieses ”quasifreie“ Elektron erhält einen Teil der Energie des Photons und verlässt die Atomhülle. Durch den unelastischen Stoß verliert das Photon an Energie und ändert seine Richtung. Der maximale Energieübertrag liegt bei einem Streuungswinkel des Photons von $180\\degree$.\n",
    "\n",
    "    <img src=\"figures/Compton.png\" alt=\"Feynman Diagramm Compton\" style=\"width:400px\"> \n",
    "\n",
    "    **Abbildung 2.2.2:** Feynman Diagramm zur Comptonstreuung\n",
    "\n",
    "##### Verläufe der Signale\n",
    "\n",
    "- **Photopeak:**  \n",
    "    Ein Photopeak entsteht, wenn ein Gamma-Quant einen Photoeffekt auslöst. Hierbei ist eigentlich ein senkrechter Strich im Spektrum zu erwarten, jedoch erhält man aufgrund der Messungenauigkeit eine Gaußkurve. \n",
    "\n",
    "- **Comptonkante:**  \n",
    "    In diesem Breich handelt es sich um die Comptonstreuung eines Gammaquants. Die Energie ist hier vom Rückstreuwinkel abhängig. Auch hier ist eine scharfe Kante zu erwarten. Wie die Abbildungen 1.3.1 bis 1.3.3 aber zeigen, sieht die Kante nicht wie die erwartete Heavysidefunktion aus. Diesen Prozess wird bei Energien von $100keV$ bis $10MeV$ erwartet.  \n",
    "    Die Maximale Energie ist durch folgende Formel gegeben:\n",
    "\n",
    "    $$\n",
    "    E_{CK}=\\frac{E_\\gamma}{1+\\frac{m_0c^2}{2E_\\gamma}}\n",
    "    $$\n",
    "\n",
    "- **Rückstreupeak:**  \n",
    "    Der Rückstreupeak entsteht aufgrund der Tatsache, dass das Präparat in alle Richtungen abstrahlt. Abgestrahlte $\\gamma$-Quanten, welche mit Materie in der Umgebung wechsekwirken und eine Comptonstreuung erfhren kann dieses $\\gamma$-Quant dann vom Szintillator detektiert werden.  \n",
    "    Der Quant besitzt die Energie $E_\\gamma-E_{CK}$ und lässt sich folglich berechnen.\n",
    "\n",
    "    $$\n",
    "    E_\\gamma^\\prime = \\frac{E_\\gamma}{1+\\frac{E_\\gamma}{m_0c^2}\\cdot\n",
    "    \\left(1-\\cos\\theta\\right)}\n",
    "    $$\n",
    "\n",
    "- **Pile-Up:**  \n",
    "    Dieser Effekt ist eine folge der begrenzten Zeitauflösung des Szintillators.  \n",
    "    Kurz aufeinanderfolgende Photonoen können daher als ein Signal interpretiert werden. Deis führt zu dass ein viel stärkeres Signal aufgenommen wird.  \n",
    "    Die Zeitspanne, welche der Detektor bräuchte um die Signale unterscheiden zu können wird als *Totzeit* bezeichnet.  \n",
    "    Bei dem verwendeten Detektor ist die Totzeit genügend klein weshalb dieser Effekt vernachlässigt werden kann."
   ]
  },
  {
   "cell_type": "markdown",
   "id": "8b81f53a",
   "metadata": {},
   "source": [
    "#### Durchfürhung\n",
    "\n",
    "Es wird wie in [Aufgabe 1](#aufgabe-1-messanordnung) das Präparat aufgebaut und Eine Messung durchgeführ. Leider wurde die Messzeit nicht einheitlich gewählt (was später angesprochen wird) und die Messung für das Präparat $_{27}^{69}Co$ wurde über eine dauer von $t=8\\text{min}$ aufgenommen im gegensatz zu alle anderen Messungen welche über eine Zeit von $t=6\\text{min}$ gemacht wurden.  \n",
    "Die Messdauer von $t=6\\text{min}$ wurde gewählt weil ab diese Messzeit sich das Histogramm der Messdaten keine erhebliche besserung der Qualität gezeigt hat.\n",
    "\n",
    "Im Versuch sind folgende Diagramme dabei entstanden:\n",
    "\n",
    "<img src=\"Messungen/Cs_Probe.png\" alt=\"Aufnahme des Histogramms für die Cs Probe\" style=\"width:1000px\"/>\n",
    "\n",
    "**Abbildung 2.2.3:** Histogramm der $_{55}^{137}Cs$-Probe\n",
    "\n",
    "<img src=\"Messungen/Natrium_Probe.png\" alt=\"Aufnahme des Histogramms für die Natrium Probe\" style=\"width:1000px\"/>\n",
    "\n",
    "**Abbildung 2.2.4:** Histogramm der $_{11}^{22}Na$-Probe\n",
    "\n",
    "<img src=\"Messungen/Cobalt_Probe.png\" alt=\"Aufnahme des Histogramms für die Cobalt Probe\" style=\"width:1000px\"/>\n",
    "\n",
    "**Abbildung 2.2.5:** Histogramm der $_{27}^{60}Co$-Probe"
   ]
  },
  {
   "cell_type": "markdown",
   "id": "6639a40e",
   "metadata": {},
   "source": [
    "#### Auswertung"
   ]
  },
  {
   "cell_type": "markdown",
   "metadata": {},
   "source": [
    "Als erstes Folgt die Auswertung des $_{11}^{22}Na$ Präparats."
   ]
  },
  {
   "cell_type": "code",
   "execution_count": 1,
   "id": "73d09e0b",
   "metadata": {},
   "outputs": [],
   "source": [
    "import matplotlib.pyplot as plt\n",
    "import numpy as np"
   ]
  },
  {
   "cell_type": "code",
   "execution_count": 14,
   "id": "febb6d85",
   "metadata": {},
   "outputs": [
    {
     "data": {
      "image/png": "[encoded data removed]",
      "text/plain": [
       "<Figure size 640x480 with 1 Axes>"
      ]
     },
     "metadata": {},
     "output_type": "display_data"
    }
   ],
   "source": [
    "na_peak = np.genfromtxt(\"./Messungen/Natrium_probe.hst\")\n",
    "na_channel = np.arange(len(na_peak))\n",
    "\n",
    "plt.bar(na_channel, na_peak, width = 1)\n",
    "plt.title('Histogramm des Präparats $_{11}^{22}$Na')\n",
    "plt.xlabel('Channel')\n",
    "plt.ylabel('Count')\n",
    "\n",
    "plt.annotate('1. Photopeak', xy=(1050., 670.), xytext=(3100, 700.),\n",
    "    arrowprops=dict(facecolor='black', shrink=0.1, width=0.2, headwidth=8., \n",
    "    headlength=8.))\n",
    "\n",
    "plt.show()"
   ]
  },
  {
   "cell_type": "markdown",
   "id": "f49cec28",
   "metadata": {},
   "source": [
    "---"
   ]
  },
  {
   "cell_type": "markdown",
   "id": "95ac41a2-5000-4a75-8e9a-986f41c69fda",
   "metadata": {
    "jp-MarkdownHeadingCollapsed": true,
    "tags": []
   },
   "source": [
    "### Aufgabe 2.3: Energie-Kalibration des Detektors\n",
    "\n",
    " * Kalibieren Sie mit Hilfe der in **Aufgabe 2.2** aufgezeichneten Spektren die Kanäle des MCA auf die Photonenergie $E_{\\gamma}$. \n",
    " * Fügen Sie eine Darstellung der Kalibrationspunkte ins Protokoll ein und passen Sie ein entsprechendes Modell daran an. \n",
    "\n",
    "---"
   ]
  },
  {
   "cell_type": "markdown",
   "id": "afa42a01-aa90-4277-8b00-deca175c897f",
   "metadata": {},
   "source": [
    "**Lösung:**\n",
    "\n",
    "*Fügen Sie Ihre Lösung zu dieser Aufgabe hier ein. Löschen Sie hierzu diesen kursiv gestellten Text aus dem Dokument. Um Code-Fragmente und Skripte in [Python](https://www.python.org/), sowie ggf. bildliche Darstellungen direkt ins [Jupyter notebook](https://jupyter.org/) einzubinden fügen Sie dem notebook eine Code-Zelle zu.* \n",
    "\n",
    "---"
   ]
  },
  {
   "cell_type": "markdown",
   "id": "d5f51052-8055-4c77-8448-5a42f6843f20",
   "metadata": {
    "jp-MarkdownHeadingCollapsed": true,
    "tags": []
   },
   "source": [
    "### Aufgabe 2.4: Relative Energie-Auflösung des Detektors\n",
    "\n",
    " * Bestimmen Sie mit Hilfe der in **Aufgabe 2.2** aufgezeichneten Spektren die relative Energieauflösung des Detektors als Funktion von $E_{\\gamma}$.\n",
    " * Fügen Sie eine Darstellung der bestimmten Messpunkte ins Protokoll ein und passen Sie ein entsprechendes Modell daran an. \n",
    " * Schätzen Sie basierend auf dieser Anpassung die erwartete Anzahl ausgeschlagener Elektronen $N_{\\mathrm{e}}$ an der Photokathode des im Photodetektor verbauten Photomultipliers ab. \n",
    "\n",
    "---"
   ]
  },
  {
   "cell_type": "markdown",
   "id": "f32cd2e9-ede8-4c62-bab2-f191a99f0518",
   "metadata": {},
   "source": [
    "**Lösung:**\n",
    "\n",
    "*Fügen Sie Ihre Lösung zu dieser Aufgabe hier ein. Löschen Sie hierzu diesen kursiv gestellten Text aus dem Dokument. Um Code-Fragmente und Skripte in [Python](https://www.python.org/), sowie ggf. bildliche Darstellungen direkt ins [Jupyter notebook](https://jupyter.org/) einzubinden fügen Sie dem notebook eine Code-Zelle zu.* \n",
    "\n",
    "---"
   ]
  },
  {
   "cell_type": "markdown",
   "id": "a09b9086-556d-4b45-9602-c5442154eb66",
   "metadata": {
    "jp-MarkdownHeadingCollapsed": true,
    "tags": []
   },
   "source": [
    "## Aufgabe 3: Detektorakzeptanz\n",
    "\n",
    "**Hinweise zu Aufgabe 3 finden in der Datei [Hinweise-Versuchsdurchfuehrung.md](https://gitlab.kit.edu/kit/etp-lehre/p2-praktikum/students/-/blob/main/Gammaspektroskopie/doc/Hinweise-Versuchsdurchfuehrung.md).**\n",
    "\n",
    " * Bestimmen Sie Rate aufgezeichneter Photonen für $_{\\hphantom{0}55}^{137}\\mathrm{Cs}$ bei fünf verschiedenen Abständen des Präparats von der Detektorstirnfläche.  \n",
    " * Schätzen Sie ab und begründen Sie, ob eine Korrektur auf den unterliegenden Untergrund notwendig ist. \n",
    " * Schätzen Sie ab und begründen Sie, ob eine Korrektur des Detektors auf pile-up notwendig ist.\n",
    " * Fügen Sie eine Darstellung der bestimmten Messpunkte ins Protokoll ein und passen Sie ein entsprechendes Modell daran an. \n",
    " \n",
    "---"
   ]
  },
  {
   "cell_type": "markdown",
   "id": "a019bbb3-7793-4b93-ab2a-8ff7e2e9edd4",
   "metadata": {},
   "source": [
    "**Lösung:**\n",
    "\n",
    "*Fügen Sie Ihre Lösung zu dieser Aufgabe hier ein. Löschen Sie hierzu diesen kursiv gestellten Text aus dem Dokument. Um Code-Fragmente und Skripte in [Python](https://www.python.org/), sowie ggf. bildliche Darstellungen direkt ins [Jupyter notebook](https://jupyter.org/) einzubinden fügen Sie dem notebook eine Code-Zelle zu.* \n",
    "\n",
    "---"
   ]
  }
 ],
 "metadata": {
  "kernelspec": {
   "display_name": "Python 3 (ipykernel)",
   "language": "python",
   "name": "python3"
  },
  "language_info": {
   "codemirror_mode": {
    "name": "ipython",
    "version": 3
   },
   "file_extension": ".py",
   "mimetype": "text/x-python",
   "name": "python",
   "nbconvert_exporter": "python",
   "pygments_lexer": "ipython3",
   "version": "3.11.9"
  }
 },
 "nbformat": 4,
 "nbformat_minor": 5
}
