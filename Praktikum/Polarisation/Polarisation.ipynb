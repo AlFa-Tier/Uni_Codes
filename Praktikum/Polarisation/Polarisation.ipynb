{
 "cells": [
  {
   "cell_type": "markdown",
   "id": "89066e31-faf3-4ac9-a78a-a364e066ca84",
   "metadata": {},
   "source": [
    "# Fakultät für Physik\n",
    "\n",
    "## Physikalisches Praktikum P2 für Studierende der Physik\n",
    "\n",
    "Versuch P2-11 (Stand: April 2024)\n",
    "\n",
    "[Raum F1-14](https://labs.physik.kit.edu/img/Praktikum/Lageplan_P2.png)\n",
    "\n",
    "\n",
    "\n",
    "# Polarisation und Doppelbrechung"
   ]
  },
  {
   "cell_type": "markdown",
   "id": "27cf71fa-c60c-45ed-a885-790064eb1939",
   "metadata": {},
   "source": [
    "Name: Alhelo Vorname: Fadi E-Mail: uylex@student.kit.edu\n",
    "\n",
    "\\begin{equation*}\n",
    "\\begin{split}\n",
    "&\\\\\n",
    "&\\\\\n",
    "&\\\\\n",
    "\\end{split}\n",
    "\\end{equation*}\n",
    "\n",
    "Gruppennummer: Do-14\n",
    "\n",
    "\\begin{equation*}\n",
    "\\begin{split}\n",
    "&\\\\\n",
    "&\\\\\n",
    "&\\\\\n",
    "\\end{split}\n",
    "\\end{equation*}\n",
    "\n",
    "Betreuer: __________________\n",
    "\n",
    "\\begin{equation*}\n",
    "\\begin{split}\n",
    "&\\\\\n",
    "&\\\\\n",
    "&\\\\\n",
    "\\end{split}\n",
    "\\end{equation*}\n",
    "\n",
    "Versuch durchgeführt am: __________________"
   ]
  },
  {
   "cell_type": "markdown",
   "id": "dbab7615-683f-40e5-86be-b56d85a03e6e",
   "metadata": {},
   "source": [
    "---\n",
    "\n",
    "**Beanstandungen zu Protokoll Version _____:**\n",
    "\n",
    "\\begin{equation*}\n",
    "\\begin{split}\n",
    "&\\\\\n",
    "&\\\\\n",
    "&\\\\\n",
    "&\\\\\n",
    "&\\\\\n",
    "&\\\\\n",
    "&\\\\\n",
    "&\\\\\n",
    "&\\\\\n",
    "&\\\\\n",
    "\\end{split}\n",
    "%\\text{\\vspace{10cm}}\n",
    "\\end{equation*}\n",
    "\n",
    "<br>\n",
    "Testiert am: __________________ Testat: __________________"
   ]
  },
  {
   "cell_type": "markdown",
   "id": "842fb8e4-33d8-46bf-bb9d-5ddbc01e07bb",
   "metadata": {
    "tags": []
   },
   "source": [
    "# Durchführung\n",
    "\n",
    "**Die Anleitung zu diesem Versuch finden Sie [hier](https://gitlab.kit.edu/kit/etp-lehre/p2-praktikum/students/-/blob/main/Polarisation/README.md).**"
   ]
  },
  {
   "cell_type": "markdown",
   "id": "f6193e61-35b0-4147-ba5b-cc9369e5b192",
   "metadata": {
    "jp-MarkdownHeadingCollapsed": true,
    "tags": []
   },
   "source": [
    "## Aufgabe 1: Polarisiertes Licht aus dem Wasserglas\n",
    "\n",
    "**Hinweise zu Aufgabe 1 finden in der Datei [Hinweise-Versuchsdurchfuehrung.md](https://gitlab.kit.edu/kit/etp-lehre/p2-praktikum/students/-/blob/main/Polarisation/doc/Hinweise-Versuchsdurchfuehrung.md).**\n",
    "\n",
    " * Strahlen Sie Licht durch ein mit Wasser gefülltes Glas und beobachten Sie das austretende Streulicht aus verschiedenen Richtungen durch einen Polarisationsfilter. \n",
    " * Beschreiben und erklären Sie, was Sie beobachten.\n",
    " \n",
    " ---"
   ]
  },
  {
   "cell_type": "markdown",
   "id": "32ef6302-1c01-40d7-9c83-ea5c664f14a0",
   "metadata": {},
   "source": [
    "**Lösung:**\n",
    "\n",
    "#### Durchführung\n",
    "Ein mit Wasser gefülltes Glas wird mit einem Licht von der seite beschient.  \n",
    "Es wird dann das Wasser von oben und von der Seite betrachtet.\n",
    "\n",
    "Es wird beobachtet, dass ...\n",
    "\n",
    "#### Auswertung\n",
    "\n",
    "\n",
    "---"
   ]
  },
  {
   "cell_type": "markdown",
   "id": "64fe330f-c7d1-41e0-91af-a4b379848e20",
   "metadata": {
    "jp-MarkdownHeadingCollapsed": true,
    "tags": []
   },
   "source": [
    "## Aufgabe 2: Erzeugung und Untersuchung von Licht mit verschiedener Polarisation \n",
    "\n",
    "**Hinweise zu Aufgabe 2 finden in der Datei [Hinweise-Versuchsdurchfuehrung.md](https://gitlab.kit.edu/kit/etp-lehre/p2-praktikum/students/-/blob/main/Polarisation/doc/Hinweise-Versuchsdurchfuehrung.md).**\n",
    "\n",
    " * Erzeugen und untersuchen Sie die Intensitätsverteilungen von verschieden polarisiertem Licht.\n",
    " * Bearbeiten Sie hierzu die folgenden Aufgaben."
   ]
  },
  {
   "cell_type": "markdown",
   "id": "ade3da13-6157-4b1f-882c-dcb0eca52e62",
   "metadata": {
    "jp-MarkdownHeadingCollapsed": true,
    "tags": []
   },
   "source": [
    "### Aufgabe 2.1: Aufbau des Strahlengangs \n",
    "\n",
    " * Bauen Sie geeignete Strahlengänge zur Erzeugung von **linear**, **elliptisch** und **zirkular** polarisiertem Licht auf.   \n",
    " * Bestimmen Sie die Intensitätsverteilungen des Lichts jeweils als Funktion des Winkels $\\varphi$ eines zweiten linearen Polarisationsfilters.\n",
    "\n",
    "---"
   ]
  },
  {
   "cell_type": "markdown",
   "id": "2f281ba4-8f43-453c-af41-166ab714d54d",
   "metadata": {},
   "source": [
    "**Lösung:**"
   ]
  },
  {
   "cell_type": "markdown",
   "id": "9f5ddf2e",
   "metadata": {},
   "source": [
    "#### Durchführung"
   ]
  },
  {
   "cell_type": "markdown",
   "id": "e811ed48",
   "metadata": {},
   "source": [
    "Es werden vier Durchläufe des Versuchs gemacht. \n",
    "Zwei davon werden mit linear polarisiertem Licht (einmal mit weißem und einmal mit monochrom rotem) durchgeführt.  \n",
    "Die zwei weitere Versuche werden beide mit dem monochromatischen Licht durchgefüht. Es wird aber einmal mit zirkular und einmal mit elliptisch plarisiertem Licht durchgeführt.\n",
    "\n",
    "Falls es zu Bereiche kommt, wo die Messwerte oberhalb der zulässigen $U_{max}$ des Messgeräts kommt, werden diese aus den Messreihen verworfen."
   ]
  },
  {
   "cell_type": "markdown",
   "id": "1574f937",
   "metadata": {},
   "source": [
    "#### Auswertung"
   ]
  },
  {
   "cell_type": "code",
   "execution_count": 34,
   "id": "7243fae1",
   "metadata": {},
   "outputs": [],
   "source": [
    "#Imorting all needed libraries\n",
    "import numpy as np\n",
    "import matplotlib.pyplot as plt\n",
    "import kafe2\n",
    "import pandas as pd \n",
    "from IPython.display import display, Math\n",
    "\n",
    "import warnings\n",
    "warnings.filterwarnings('ignore')"
   ]
  },
  {
   "cell_type": "code",
   "execution_count": 35,
   "id": "760660aa",
   "metadata": {},
   "outputs": [],
   "source": [
    "# Define model function for a sinus\n",
    "def model_sin(rads, x_0,x_A,phi_0,omega):\n",
    "    return x_0+x_A*np.sin(omega*rads+phi_0)"
   ]
  },
  {
   "cell_type": "code",
   "execution_count": 36,
   "id": "52d8c205",
   "metadata": {},
   "outputs": [],
   "source": [
    "# Making all Variables needed for the plots\n",
    "\n",
    "# Errors that apply everywhere\n",
    "degree_err = np.array([ ])\n",
    "rad_err = degree_err*(np.pi/180)\n",
    "U_err = np.array([ ])\n",
    "\n",
    "# Linear Polarized white light\n",
    "\n",
    "degree_1 = np.linspace(0,180,37)\n",
    "rad_1 = np.radians(degree_1)\n",
    "# U_1 = 1\n",
    "U_1 = np.array([ ]) \n",
    "\n",
    "\n",
    "# Linear Polarized red light\n",
    "\n",
    "degree_2 = np.linspace(0,180,37)\n",
    "rad_2 = np.radians(degree_2)\n",
    "U_2 = np.array([ ])\n",
    "\n",
    "# Zirkular Polarized  light\n",
    "\n",
    "degree_3 = np.linspace(0,180,37)\n",
    "rad_3 = np.radians(degree_1)\n",
    "U_3 = np.array([ ])\n",
    "\n",
    "# Eliptic Polarized  light\n",
    "\n",
    "degree_4 = np.linspace(0,180,37)\n",
    "rad_4 = np.radians(degree_1)\n",
    "U_4 = np.array([ ])"
   ]
  },
  {
   "cell_type": "code",
   "execution_count": 37,
   "id": "34cb204c",
   "metadata": {},
   "outputs": [
    {
     "ename": "ValueError",
     "evalue": "x_data and y_data must have the same shape but received (37,) for x_data and (0,) for y_data.",
     "output_type": "error",
     "traceback": [
      "\u001b[1;31m---------------------------------------------------------------------------\u001b[0m",
      "\u001b[1;31mValueError\u001b[0m                                Traceback (most recent call last)",
      "Cell \u001b[1;32mIn[37], line 4\u001b[0m\n\u001b[0;32m      1\u001b[0m \u001b[38;5;66;03m# Fit for linear white light\u001b[39;00m\n\u001b[0;32m      2\u001b[0m \n\u001b[0;32m      3\u001b[0m \u001b[38;5;66;03m# Make dataset\u001b[39;00m\n\u001b[1;32m----> 4\u001b[0m dataset \u001b[38;5;241m=\u001b[39m \u001b[43mkafe2\u001b[49m\u001b[38;5;241;43m.\u001b[39;49m\u001b[43mXYContainer\u001b[49m\u001b[43m(\u001b[49m\u001b[43mx_data\u001b[49m\u001b[38;5;241;43m=\u001b[39;49m\u001b[43mrad_1\u001b[49m\u001b[43m,\u001b[49m\u001b[43my_data\u001b[49m\u001b[38;5;241;43m=\u001b[39;49m\u001b[43mU_1\u001b[49m\u001b[43m)\u001b[49m\n\u001b[0;32m      5\u001b[0m dataset\u001b[38;5;241m.\u001b[39maxis_labels\u001b[38;5;241m=\u001b[39m[\u001b[38;5;124mr\u001b[39m\u001b[38;5;124m'\u001b[39m\u001b[38;5;124mWinkel $\u001b[39m\u001b[38;5;124m\\\u001b[39m\u001b[38;5;124mvarphi$ in rad\u001b[39m\u001b[38;5;124m'\u001b[39m, \u001b[38;5;124m'\u001b[39m\u001b[38;5;124mSpannung in $V$\u001b[39m\u001b[38;5;124m'\u001b[39m]\n\u001b[0;32m      6\u001b[0m dataset\u001b[38;5;241m.\u001b[39mlabel\u001b[38;5;241m=\u001b[39m\u001b[38;5;124m'\u001b[39m\u001b[38;5;124mLienar polarisiertes weisses Licht\u001b[39m\u001b[38;5;124m'\u001b[39m\n",
      "File \u001b[1;32mc:\\Users\\fadia\\Desktop\\Uni_codes\\.venv\\Lib\\site-packages\\kafe2\\fit\\xy\\container.py:42\u001b[0m, in \u001b[0;36mXYContainer.__init__\u001b[1;34m(self, x_data, y_data, dtype)\u001b[0m\n\u001b[0;32m     40\u001b[0m     \u001b[38;5;28;01mraise\u001b[39;00m \u001b[38;5;167;01mValueError\u001b[39;00m(\u001b[38;5;124m\"\u001b[39m\u001b[38;5;124my_data must be scalar or one-dimensional \u001b[39m\u001b[38;5;124m\"\u001b[39m \u001b[38;5;124mf\u001b[39m\u001b[38;5;124m\"\u001b[39m\u001b[38;5;124mbut received data with \u001b[39m\u001b[38;5;132;01m{\u001b[39;00my_data\u001b[38;5;241m.\u001b[39mndim\u001b[38;5;132;01m}\u001b[39;00m\u001b[38;5;124m dimensions.\u001b[39m\u001b[38;5;124m\"\u001b[39m)\n\u001b[0;32m     41\u001b[0m \u001b[38;5;28;01mif\u001b[39;00m x_data\u001b[38;5;241m.\u001b[39mshape \u001b[38;5;241m!=\u001b[39m y_data\u001b[38;5;241m.\u001b[39mshape:\n\u001b[1;32m---> 42\u001b[0m     \u001b[38;5;28;01mraise\u001b[39;00m \u001b[38;5;167;01mValueError\u001b[39;00m(\u001b[38;5;124m\"\u001b[39m\u001b[38;5;124mx_data and y_data must have the same shape but received \u001b[39m\u001b[38;5;124m\"\u001b[39m \u001b[38;5;124mf\u001b[39m\u001b[38;5;124m\"\u001b[39m\u001b[38;5;132;01m{\u001b[39;00mx_data\u001b[38;5;241m.\u001b[39mshape\u001b[38;5;132;01m}\u001b[39;00m\u001b[38;5;124m for x_data and \u001b[39m\u001b[38;5;132;01m{\u001b[39;00my_data\u001b[38;5;241m.\u001b[39mshape\u001b[38;5;132;01m}\u001b[39;00m\u001b[38;5;124m for y_data.\u001b[39m\u001b[38;5;124m\"\u001b[39m)\n\u001b[0;32m     43\u001b[0m \u001b[38;5;66;03m# super constructor doesn't allow 2D arrays\u001b[39;00m\n\u001b[0;32m     44\u001b[0m \u001b[38;5;28msuper\u001b[39m(XYContainer, \u001b[38;5;28mself\u001b[39m)\u001b[38;5;241m.\u001b[39m\u001b[38;5;21m__init__\u001b[39m(np\u001b[38;5;241m.\u001b[39mzeros(\u001b[38;5;28mlen\u001b[39m(x_data)))\n",
      "\u001b[1;31mValueError\u001b[0m: x_data and y_data must have the same shape but received (37,) for x_data and (0,) for y_data."
     ]
    }
   ],
   "source": [
    "# Fit for linear white light\n",
    "\n",
    "# Make dataset\n",
    "dataset = kafe2.XYContainer(x_data=rad_1,y_data=U_1)\n",
    "dataset.axis_labels=[r'Winkel $\\varphi$ in rad', 'Spannung in $V$']\n",
    "dataset.label='Lienar polarisiertes weisses Licht'\n",
    "\n",
    "dataset.add_error(axis='x',err_val=rad_err[0])\n",
    "dataset.add_error(axis='y',err_val=U_err[0])\n",
    "\n",
    "\n",
    "\n",
    "# Fit-Objekt erstellen  \n",
    "fit = kafe2.Fit(dataset,model_function=model_sin)\n",
    "\n",
    "# make fit plot\n",
    "fit.do_fit()\n",
    "fit_result=kafe2.Plot([fit])\n",
    "\n",
    "\n",
    "# show Fit results\n",
    "fit_result.plot()\n",
    "plt.show()"
   ]
  },
  {
   "cell_type": "code",
   "execution_count": null,
   "id": "29e9c6cd",
   "metadata": {},
   "outputs": [],
   "source": [
    "# Fit for linear monochrome red light\n",
    "\n",
    "# Make dataset\n",
    "dataset = kafe2.XYContainer(x_data=rad_2,y_data=U_2)\n",
    "dataset.axis_labels=[r'Winkel $\\varphi$ in rad', 'Spannung in $V$']\n",
    "dataset.label='Lienar polarisiertes rotes Licht'\n",
    "\n",
    "dataset.add_error(axis='x',err_val=rad_err[0])\n",
    "dataset.add_error(axis='y',err_val=U_err[0])\n",
    "\n",
    "\n",
    "\n",
    "# Fit-Objekt erstellen  \n",
    "fit = kafe2.Fit(dataset,model_function=model_sin)\n",
    "\n",
    "# make fit plot\n",
    "fit.do_fit()\n",
    "fit_result=kafe2.Plot([fit])\n",
    "\n",
    "\n",
    "# show Fit results\n",
    "fit_result.plot()\n",
    "plt.show()"
   ]
  },
  {
   "cell_type": "markdown",
   "id": "476299ce",
   "metadata": {},
   "source": [
    "#### Vergleich der zwei Plots"
   ]
  },
  {
   "cell_type": "code",
   "execution_count": null,
   "id": "efa65eea",
   "metadata": {},
   "outputs": [],
   "source": [
    "# Fit for eliptic red light\n",
    "\n",
    "# Make dataset\n",
    "dataset = kafe2.XYContainer(x_data=rad_3,y_data=U_3)\n",
    "dataset.axis_labels=[r'Winkel $\\varphi$ in rad', 'Spannung in $V$']\n",
    "dataset.label='Elliptisch polarisiertes rotes Licht'\n",
    "\n",
    "dataset.add_error(axis='x',err_val=rad_err[0])\n",
    "dataset.add_error(axis='y',err_val=U_err[0])\n",
    "\n",
    "\n",
    "\n",
    "# Fit-Objekt erstellen  \n",
    "fit = kafe2.Fit(dataset,model_function=model_sin)\n",
    "\n",
    "# make fit plot\n",
    "fit.do_fit()\n",
    "fit_result=kafe2.Plot([fit])\n",
    "\n",
    "\n",
    "# show Fit results\n",
    "fit_result.plot()\n",
    "plt.show()"
   ]
  },
  {
   "cell_type": "code",
   "execution_count": null,
   "id": "b4cb53a6",
   "metadata": {},
   "outputs": [],
   "source": [
    "# Fit for circular red light\n",
    "\n",
    "# Make dataset\n",
    "dataset = kafe2.XYContainer(x_data=rad_4,y_data=U_4)\n",
    "dataset.axis_labels=[r'Winkel $\\varphi$ in rad', 'Spannung in $V$']\n",
    "dataset.label='Zirkular polarisiertes rotes Licht'\n",
    "\n",
    "dataset.add_error(axis='x',err_val=rad_err[0])\n",
    "dataset.add_error(axis='y',err_val=U_err[0])\n",
    "\n",
    "\n",
    "\n",
    "# Fit-Objekt erstellen  \n",
    "fit = kafe2.Fit(dataset,model_function=model_sin)\n",
    "\n",
    "# make fit plot\n",
    "fit.do_fit()\n",
    "fit_result=kafe2.Plot([fit])\n",
    "\n",
    "\n",
    "# show Fit results\n",
    "fit_result.plot()\n",
    "plt.show()"
   ]
  },
  {
   "cell_type": "markdown",
   "id": "3a205557",
   "metadata": {},
   "source": [
    "\n",
    "---"
   ]
  },
  {
   "cell_type": "markdown",
   "id": "660733e2-8145-4f32-9654-08c0f45b56b9",
   "metadata": {
    "jp-MarkdownHeadingCollapsed": true,
    "tags": []
   },
   "source": [
    "### Aufgabe 2.2: Differenz der Brechungsindizes der beobachteten Strahlen\n",
    "\n",
    "Bestimmen Sie die Differenz $\\Delta n=\\left(n_{\\beta} - n_{\\gamma}\\right)$ der beobachteten Strahlen. Verwenden Sie hierzu die gemessenen Intensitätsverteilungen für den Fall elliptisch polarisierten Lichts.\n",
    "\n",
    "---"
   ]
  },
  {
   "cell_type": "markdown",
   "id": "dcb3d760-7527-4b14-b5f5-ced25fb0258a",
   "metadata": {},
   "source": [
    "**Lösung:**\n",
    "\n",
    "*Fügen Sie Ihre Lösung zu dieser Aufgabe hier ein. Löschen Sie hierzu diesen kursiv gestellten Text aus dem Dokument. Um Code-Fragmente und Skripte in [Python](https://www.python.org/), sowie ggf. bildliche Darstellungen direkt ins [Jupyter notebook](https://jupyter.org/) einzubinden fügen Sie dem notebook eine Code-Zelle zu.* \n",
    "\n",
    "---"
   ]
  },
  {
   "cell_type": "markdown",
   "id": "6d7d2608-13c8-4244-98f6-978666bfeaba",
   "metadata": {
    "jp-MarkdownHeadingCollapsed": true,
    "tags": []
   },
   "source": [
    "## Aufgabe 3: Beobachtungen mit polarisiertem Licht\n",
    "\n",
    "**Hinweise zu Aufgabe 3 finden in der Datei [Hinweise-Versuchsdurchfuehrung.md](https://gitlab.kit.edu/kit/etp-lehre/p2-praktikum/students/-/blob/main/Polarisation/doc/Hinweise-Versuchsdurchfuehrung.md).**\n",
    "\n",
    " - Beobachten Sie einige Beispiele, wo Doppelbrechung im Alltag auftaucht und z.T. auch technisch angewandt wird.\n",
    " - Bearbeiten Sie hierzu die folgenden Aufgaben."
   ]
  },
  {
   "cell_type": "markdown",
   "id": "8265f1be-61c4-4334-be19-699e469c3398",
   "metadata": {
    "jp-MarkdownHeadingCollapsed": true,
    "tags": []
   },
   "source": [
    "### Aufgabe 3.1: Doppelbrechung am Klebefilm\n",
    "\n",
    " * An handelsüblichen Klebefilmen tritt Doppelbrechung auf, die Sie mit linear polarisiertem Licht sichtbar machen können. \n",
    " * Untersuchen Sie die am Versuch ausliegenden Klebefilme und beschreiben Sie, was Sie beobachten.\n",
    " * Stellen Sie eigene Klebefilmkonstruktionen her, um sich mit dem beobachteten Phänomen vertraut zu machen. \n",
    " * Fügen Sie Ihrem Protokoll entsprechende Aufnahmen zu. \n",
    "\n",
    "---"
   ]
  },
  {
   "cell_type": "markdown",
   "id": "13def5a7-a0e5-4099-8465-fe63f5f654e1",
   "metadata": {},
   "source": [
    "**Lösung:**\n",
    "\n",
    "*Fügen Sie Ihre Lösung zu dieser Aufgabe hier ein. Löschen Sie hierzu diesen kursiv gestellten Text aus dem Dokument. Um Code-Fragmente und Skripte in [Python](https://www.python.org/), sowie ggf. bildliche Darstellungen direkt ins [Jupyter notebook](https://jupyter.org/) einzubinden fügen Sie dem notebook eine Code-Zelle zu.* \n",
    "\n",
    "---"
   ]
  },
  {
   "cell_type": "markdown",
   "id": "3edf8c1a-8093-424d-b71c-ffed083c79a8",
   "metadata": {
    "jp-MarkdownHeadingCollapsed": true,
    "tags": []
   },
   "source": [
    "### Aufgabe 3.2: Doppelbrechung unter mechanischer Spannung\n",
    "\n",
    " * Eine technische Anwendung der Doppelbrechung besteht in der Sichtbarmachung von Stellen an Materialien, die besonderer mechanischer Spannung unterliegen. \n",
    " * Am Versuch liegen einige Modelle aus. Versetzen Sie diese mechanischer Spannung und beobachten Sie die Transmission linear polarisierten Lichts. \n",
    " * Beschreiben Sie, was Sie beobachten.\n",
    " * Fügen Sie Ihrem Protokoll entsprechende Aufnahmen zu. \n",
    "\n",
    "---"
   ]
  },
  {
   "cell_type": "markdown",
   "id": "824ddc4d-ac26-44c1-8c69-e90313d52617",
   "metadata": {},
   "source": [
    "**Lösung:**\n",
    "\n",
    "*Fügen Sie Ihre Lösung zu dieser Aufgabe hier ein. Löschen Sie hierzu diesen kursiv gestellten Text aus dem Dokument. Um Code-Fragmente und Skripte in [Python](https://www.python.org/), sowie ggf. bildliche Darstellungen direkt ins [Jupyter notebook](https://jupyter.org/) einzubinden fügen Sie dem notebook eine Code-Zelle zu.* \n",
    "\n",
    "---"
   ]
  }
 ],
 "metadata": {
  "kernelspec": {
   "display_name": "Python 3 (ipykernel)",
   "language": "python",
   "name": "python3"
  },
  "language_info": {
   "codemirror_mode": {
    "name": "ipython",
    "version": 3
   },
   "file_extension": ".py",
   "mimetype": "text/x-python",
   "name": "python",
   "nbconvert_exporter": "python",
   "pygments_lexer": "ipython3",
   "version": "3.11.9"
  }
 },
 "nbformat": 4,
 "nbformat_minor": 5
}
