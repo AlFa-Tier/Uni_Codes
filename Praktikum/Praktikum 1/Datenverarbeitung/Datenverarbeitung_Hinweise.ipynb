{
 "cells": [
  {
   "cell_type": "markdown",
   "id": "0ed58416-7972-4ef1-9b76-c3a2842ac14b",
   "metadata": {
    "jp-MarkdownHeadingCollapsed": true,
    "tags": []
   },
   "source": [
    "# Hinweise zum Versuch Datenverarbeitung\n",
    "\n",
    "Als **Referenzwert für Ihre Messungen** können Sie den Wert \n",
    "\n",
    "$$\n",
    "g_{\\mathrm{exp}} = (9.809599\\pm0.000034)\\,\\mathrm{m/s^{2}}\n",
    "$$\n",
    "\n",
    "verwenden. Dieser wurde aus der [Global Gravtiy Database des Bureau Gravimetrique International (BGI)](https://ggos.org/item/bgi/) für die Stadt Mannheim (bei $49.49^{\\circ}$ nördlicher Breite und $8.53^{\\circ}$ westlicher Länge auf einer Referenzhöhe von $101\\,\\mathrm{m}$) ausgelesen."
   ]
  },
  {
   "cell_type": "markdown",
   "id": "96ca407c-799d-4a17-8cfb-fc6214f9ae9f",
   "metadata": {
    "jp-MarkdownHeadingCollapsed": true,
    "tags": []
   },
   "source": [
    "## Aufgabe 1: Umgang mit großen Datensätzen"
   ]
  },
  {
   "cell_type": "markdown",
   "id": "2eb64c6a-c042-4038-ab5b-844b579366b0",
   "metadata": {
    "jp-MarkdownHeadingCollapsed": true,
    "tags": []
   },
   "source": [
    "Bei der Bearbeitung der folgenden Aufgaben sollte der **Rohdatensatz unbedingt erhalten bleiben**. Gehen Sie zur Bearbeitung dieser Aufgbe wie folgt vor:\n",
    "\n",
    " * Öffnen Sie die Originaldatei `raw.csv` z.B. per Doppelblick im Editor und überprüfen Sie, anhand der Überschriften in der Datei, welche Daten die *app* aufgezeichnet hat.\n",
    " * Stellen Sie die Datenreihen der Beschleunigungssensoren in $x$, $y$, und $z$ als Funktion der Zeit $t$ **graphisch dar**. \n",
    " * Entscheiden Sie welche Datenreihe für eine Messung von $g$ am sinnvollsten geeignet ist.\n",
    " * **Reduzieren Sie den Datensatz** auf die ausgewählte Datenreihe und einen Zeitraum, in dem die Datennahme stabil verlaufen ist.\n",
    " * Reduzieren Sie für diesen Zeitraum die Abtastrate. Ein vernünftiges Maß für die Bearbietung der weiteren Aufgaben liegt bei **150-200 Datenpunkten**.\n",
    " * Schreiben Sie diesen reduzierten Datensatz zur Weiterverarbeitung in eine neue Datei `data.csv`.\n",
    " * **Protokollieren** Sie:\n",
    "   * Die Größe der Originaldateien `raw.csv` und `data.csv` (in Byte).\n",
    "   * Die Anzahl und Überschriften der Spalten in `raw.csv`.\n",
    "   * Jeweils eine **geeignete graphische Darstellung** der Beschleunigungen in $x$, $y$, und $z$ als Funktion von $t$, aus `raw.csv`.\n",
    "   * Begründen Sie Ihre Auswahl der Datenreihe und des gewählten Ausschnitts. \n",
    "   * Den Faktor, um den Sie die Abstastrate reduziert haben (mit Begründung Ihrer Wahl!).\n",
    "   * Die Anzahl der Zeilen in `raw.csv` und `data.csv`.\n",
    "\n",
    "---\n",
    "\n",
    "Details dazu, wie diese Messung durchgeführt wurde finden Sie in der Datei [Hinweise-Datennahme](https://gitlab.kit.edu/kit/etp-lehre/p1-praktikum/students/-/tree/main/Datenverarbeitung/doc/Hinweise-Datennahme.md). Beispiele dafür, wie Sie die Aufgaben mit den vorinstallierten Bibliotheken *pandas*, *matplotlib* und *numpy* bewerkstelligen können finden Sie in den Jupyter-notebooks **[data_processing.ipynb](https://gitlab.kit.edu/kit/etp-lehre/p1-praktikum/students/-/blob/main/Datenverarbeitung/tools/data_processing.ipynb)** und **[smoothing.ipynb](https://gitlab.kit.edu/kit/etp-lehre/p1-praktikum/students/-/blob/main/Datenverarbeitung/tools/smoothing.ipynb)**.\n",
    "\n",
    "---   "
   ]
  },
  {
   "cell_type": "markdown",
   "id": "865c9be0-f486-4385-987f-13a4767d5891",
   "metadata": {
    "jp-MarkdownHeadingCollapsed": true,
    "tags": []
   },
   "source": [
    "## Aufgabe 2: Verträglichkeit von Messwerten\n",
    "\n",
    "---\n",
    "\n",
    "Weitere Details zur Vorbereitung auf die folgenden Aufgaben finden Sie in in der Datei [Hinweise-Modelle](https://gitlab.kit.edu/kit/etp-lehre/p1-praktikum/students/-/blob/main/Datenverarbeitung/doc/Hinweise-Modelle.md).\n",
    "\n",
    "---"
   ]
  },
  {
   "cell_type": "markdown",
   "id": "f9440de9-3056-48aa-aaf4-c2d7a03a7155",
   "metadata": {
    "jp-MarkdownHeadingCollapsed": true,
    "tags": []
   },
   "source": [
    "### Aufgabe 2.1: Einzelmessung der Periode"
   ]
  },
  {
   "cell_type": "markdown",
   "id": "c2e546e6-6f07-4130-9140-2a642575a01d",
   "metadata": {},
   "source": [
    "Gehen Sie zur Bearbeitung dieser Aufgbe wie folgt vor:\n",
    "\n",
    " * Sie können die **Periode $T$ einer einzelnen Messung** auf jede Art und Weise bestimmen, die Ihnen sinnvoll erscheint. Wichtig ist an dieser Stelle nur, dass Sie eine faire Unsicherheit $\\Delta T$ dazu abschätzen. Beachten Sie dazu die Hinweise in der Datei [Hinweise-Kompatibilitaet](https://gitlab.kit.edu/kit/etp-lehre/p1-praktikum/students/-/tree/main/Datenverarbeitung/doc/Hinweise-Kompatibilitaet.md).\n",
    " * Sie können $g$ aus Gleichung **(3)** [hier](https://gitlab.kit.edu/kit/etp-lehre/p1-praktikum/students/-/blob/main/Datenverarbeitung/doc/Hinweise-Modelle.md) bestimmen. Den für die Berechnung ebenfalls notwendigen Wert für $\\ell\\pm\\Delta\\ell$ können Sie [hier](https://gitlab.kit.edu/kit/etp-lehre/p1-praktikum/students/-/blob/main/Datenverarbeitung/params/parameters_Exercise_2.py) einlesen oder im [Datenblatt](https://gitlab.kit.edu/kit/etp-lehre/p1-praktikum/students/-/blob/main/Datenverarbeitung/Datenblatt.md) zum Versuch nachschlagen. \n",
    " * Bestimmen Sie $\\Delta g$ mit Hilfe [linearer Fehlerfortpflanzung](https://de.wikipedia.org/wiki/Fehlerfortpflanzung) nach Gauß. Berücksichtigen Sie dabei auch $\\Delta\\ell$. Implementieren Sie die **Fehlerforpflanzung in *python***.\n",
    " * **Protokollieren** Sie:\n",
    "   * Die **Art und Weise**, wie Sie $T$ bestimmt haben.\n",
    "   * Die Art und Weise, wie Sie $\\Delta T$ bestimmt haben. Rechtfertigen Sie Ihre Abschätzung!\n",
    "   * Die **Werte $T$ und $\\Delta T$**.\n",
    "   * Die Werte **$g$ und $\\Delta g$**. Rechtfertigen Sie ihr Vorgehen bei der Berechnung von $\\Delta g$ aus $\\Delta T$ und $\\Delta\\ell$!\n",
    "   * Vergleichen Sie Ihr Ergebnis $g\\pm\\Delta g$, im Rahmen der ermittelten Unsicherheiten, mit $g_{\\mathrm{exp}}\\pm \\Delta g_{\\mathrm{exp}}$.\n",
    "   * Beurteilen Sie die **statistische Verträglichkeit (Kompatibilität)** beider Messungen. \n",
    "\n",
    "---\n",
    "\n",
    "Details dazu, wie man zwei Messungen innerhalb ihrer Unsicherheiten auf ihre Verträglichkeit hin überprüft finden Sie in der Datei [Hinweise-Kompatibilitaet](https://gitlab.kit.edu/kit/etp-lehre/p1-praktikum/students/-/tree/main/Datenverarbeitung/doc/Hinweise-Kompatibilitaet.md).\n",
    "\n",
    "---"
   ]
  },
  {
   "cell_type": "markdown",
   "id": "842a63f7-65c7-4752-82a0-9ca654e46acf",
   "metadata": {
    "jp-MarkdownHeadingCollapsed": true,
    "tags": []
   },
   "source": [
    "### Aufgabe 2.2: Harmonische Schwingung"
   ]
  },
  {
   "cell_type": "markdown",
   "id": "cbc28245-1839-470d-932e-b45c10912362",
   "metadata": {},
   "source": [
    "Gehen Sie zur Bearbeitung dieser Aufgabe wie folgt vor: \n",
    "\n",
    " * Passen Sie das folgende Modell an die Daten aus der Datei `data.csv`an:\n",
    " ```python\n",
    " # Model to obtain T from the data\n",
    " def harmonic(t, x0=0.75, T=1.6, phi0=0.):\n",
    "    return x0*np.cos(2*np.pi/T*t+phi0)\n",
    " ```\n",
    " * Berücksichtigen Sie bei der Anpassung die Unsicherheiten $\\Delta t$ und $\\Delta\\varphi$ **in jedem Datenpunkt**! Sie können diese [hier](https://gitlab.kit.edu/kit/etp-lehre/p1-praktikum/students/-/blob/main/Datenverarbeitung/params/uncertainties_data.py) einlesen oder im [Datenblatt](https://gitlab.kit.edu/kit/etp-lehre/p1-praktikum/students/-/blob/main/Datenverarbeitung/Datenblatt.md) zum Versuch nachschlagen.\n",
    " * **Protokollieren** Sie:\n",
    "    * Die **Güte der Anpassung** (quantifiziert durch die Größe $\\hat{\\chi}^{2}/\\alpha$). (Diskutieren Sie Ihr Ergebnis!) \n",
    "    * Die **Werte $T$ und $\\Delta T$** aus der Anpassung. \n",
    " * Berechnen Sie aus den Werten für $T\\pm\\Delta T$ eine **neue Abschätzungen für $g\\pm\\Delta g$**. \n",
    " * Gehen Sie dabei analog zu **Aufgabe 2.1** vor.\n",
    " * Beurteilen Sie die **Kompatibilität** Ihres Ergebnisses mit $g_{\\mathrm{exp}}\\pm \\Delta g_{\\mathrm{exp}}$, wie zuvor für **Aufgabe 2.1**.\n",
    "\n",
    "#### *kafe2*-Nutzer\n",
    "\n",
    " * Wie Sie eine **Anpassung mit Hilfe von [kafe2](https://etpwww.etp.kit.edu/~quast/kafe2/htmldoc/index.html)** durchführen können, finden Sie im Jupyter-notebook [kafe2_example.ipynb](https://gitlab.kit.edu/kit/etp-lehre/p1-praktikum/students/-/blob/main/tools/kafe2_exampe.ipynb) erklärt. \n",
    "\n",
    "#### *PhyPraKit*-Nutzer\n",
    "\n",
    " * Wie Sie eine **Anpassung mit Hilfe der Skriptensammlung [PhyPraKit](https://etpwww.etp.kit.edu/~quast/PhyPraKit/htmldoc/)** durchführen können, finden Sie im Jupyter-notebook [PhyPraKit_example.ipynb](https://gitlab.kit.edu/kit/etp-lehre/p1-praktikum/students/-/blob/main/tools/PhyPraKit_example.ipynb?ref_type=heads) erklärt. \n",
    " * Eine Vorlage für eine *yaml* Konfigurationsdatei, die Sie als **Ausgangspunkt für Ihre Anpassungen** verwenden können, finden Sie [hier](https://gitlab.kit.edu/kit/etp-lehre/p1-praktikum/students/-/blob/main/Datenverarbeitung/yaml/data.yaml).\n",
    " * Dort könnte der \"Funktionsblock\", zur Definition des Modells z.B. so aussehen:\n",
    " ```yaml\n",
    " model_label: \"HARMONIC\"\n",
    " model_function: |\n",
    "   def hamonic(t, A=0.75, T=1.6, phi=0.):\n",
    "      return A*np.cos(2*np.pi/T*t+phi)\n",
    " ```\n",
    " * Der Wert der Variablen `model_label` und der Funktionsname `harmonic(...)` sind frei gewählt.\n",
    "\n",
    "---\n",
    "\n",
    "Details zur $\\chi^{2}$-Anpassung und zur Beurteilung ihrer Güte finden Sie in der Datei [Hinweise-Chi2](https://gitlab.kit.edu/kit/etp-lehre/p1-praktikum/students/-/tree/main/Datenverarbeitung/doc/Hinweise-Chi2.md).\n",
    "\n",
    "---"
   ]
  },
  {
   "cell_type": "markdown",
   "id": "ef823a54-8ec4-485b-b924-c1bd54293460",
   "metadata": {
    "jp-MarkdownHeadingCollapsed": true,
    "tags": []
   },
   "source": [
    "### Aufgabe 2.3: Direkte Bestimmung von $g$"
   ]
  },
  {
   "cell_type": "markdown",
   "id": "594df6be-4ad2-4188-8ca2-78c030c985e2",
   "metadata": {
    "jp-MarkdownHeadingCollapsed": true,
    "tags": []
   },
   "source": [
    "Gehen Sie zur Bearbeitung dieser Aufgabe wie folgt vor:\n",
    "\n",
    " * Passen Sie das folgende Modell an dei Daten der Datei `data.csv`an:\n",
    " ```python\n",
    "  # Length of the pendulum\n",
    "  from params.parameters_Exercise_2 import l, l_UPPER, l_LOWER\n",
    "  # Model to obtain g from the data directly\n",
    "  def g_harmonic(x, x0=0.75, g=9.8, phi0=0):\n",
    "      return x0*np.cos(np.sqrt(g/l)*x+phi0) \n",
    " ```\n",
    "  * Dieses Modell leitet sich aus Gleichung **(2)** [hier](https://gitlab.kit.edu/kit/etp-lehre/p1-praktikum/students/-/blob/main/Datenverarbeitung/doc/Hinweise-Modelle.md) ab. \n",
    " * Gehen Sie ansonsten, wie für **Aufgabe 2.2** vor.\n",
    " * $\\Delta g_{\\mathrm{stat.}}$, wie Sie es aus der Anpassung erhalten, **berücksichtigt nur** den Effekt der Unsicherheiten auf die Datenpunkte $\\Delta t$ und $\\Delta\\varphi$ (siehe **Aufgabe 2.2**). \n",
    " * Zur Abschätzung der Unsicherheiten aus $\\Delta\\ell$ **schlagen wir das folgende Vorgehen vor**: \n",
    "   * Wiederholen Sie die Anpassung, wobei Sie `l`durch `l_UPPER`ersetzen, um die Variation für $\\ell+\\Delta\\ell$ für die Berechnung von $\\Delta g$ fortzupflanzen.\n",
    "   * Wiederholen Sie die Anpassung, wobei Sie `l`durch `l_LOWER`ersetzen, um die Variation für $\\ell-\\Delta\\ell$ für die Berechnung von $\\Delta g$ fortzupflanzen.\n",
    "   * Aus beiden Variationen erhalten Sie den Effekt der Variation $\\ell\\pm\\Delta\\ell$ auf $g$.\n",
    "   * Addieren Sie den Effekt der Variation von $\\ell\\pm\\Delta\\ell$, geeignet als $g_{\\mathrm{syst.}}$ zur Unsicherheit $\\Delta g_{\\mathrm{stat.}}$ aus der Anpassung.\n",
    " * **Protokollieren** Sie:\n",
    "    * Die **Güte der Anpassung** (quantifiziert durch die Größe $\\hat{\\chi}^{2}/\\alpha$). (Diskutieren Sie Ihr Ergebnis!) \n",
    "    * Die **Werte $g$, $\\Delta g$, $\\Delta g_{\\mathrm{stat.}}$ und $\\Delta g_{\\mathrm{syst.}}$**.\n",
    "    * **Vergleichen Sie** Ihr Ergebnis $g\\pm\\Delta g$, im Rahmen der ermittelten Unsicherheiten, mit $g_{\\mathrm{exp}}\\pm \\Delta g_{\\mathrm{exp}}$.\n",
    "    * Diskutieren Sie Ihre Ergebnisse. Begründen Sie die folgenden Erwartungen:\n",
    "      * Der Wert von $g$ ist der gleiche, wie für **Aufgabe 2.2**.\n",
    "      * Der Wert von $\\Delta g$ ist der gleiche, wie für **Aufgabe 2.2**.\n",
    "      * Der Wert von $\\hat{z}/\\alpha$ ist der gleiche, wie für **Aufgabe 2.2**.\n",
    "\n",
    "---\n",
    "\n",
    "Eine Diskussion des Vorgehens für diese Aufgabe finden Sie in der Datei [Hinweise-Unsicherheiten](https://gitlab.kit.edu/kit/etp-lehre/p1-praktikum/students/-/tree/main/Datenverarbeitung/doc/Hinweise-Unsicherheiten.md).\n",
    "\n",
    "---\n"
   ]
  },
  {
   "cell_type": "markdown",
   "id": "2a77968c-1421-4a37-841e-819ae864a823",
   "metadata": {
    "jp-MarkdownHeadingCollapsed": true,
    "tags": []
   },
   "source": [
    "## Aufgabe 3: Modellerweiterungen"
   ]
  },
  {
   "cell_type": "markdown",
   "id": "f02bf9d0-e26d-44f6-b81f-5ab2143346a4",
   "metadata": {
    "tags": []
   },
   "source": [
    "### Aufgabe 3.1: Physikalische Pendel "
   ]
  },
  {
   "cell_type": "markdown",
   "id": "8a75dc6a-3fba-4d76-95c3-cfbeafdbc290",
   "metadata": {
    "jp-MarkdownHeadingCollapsed": true,
    "tags": []
   },
   "source": [
    "Gehen Sie zur Bearbeitung dieser Aufgabe wie folgt vor:\n",
    "\n",
    " * Passen Sie ein **Modell aus Gleichung (5) [hier](https://gitlab.kit.edu/kit/etp-lehre/p1-praktikum/students/-/blob/main/Datenverarbeitung/doc/Hinweise-Modelle.md)** an die Daten der Datei `data.csv`an. \n",
    " * Gehen Sie ansonsten, wie für **Aufgabe 2.3** vor.\n",
    " * Die für die Berechnung notwendigen Werte für $\\Theta\\pm\\Delta\\Theta$, $m\\pm\\Delta M$ und $s\\pm\\Delta s$ können Sie [hier](https://gitlab.kit.edu/kit/etp-lehre/p1-praktikum/students/-/blob/main/Datenverarbeitung/params/parameters_Exercise_3.py) einlesen oder im [Datenblatt](https://gitlab.kit.edu/kit/etp-lehre/p1-praktikum/students/-/blob/main/Datenverarbeitung/Datenblatt.md) zum Versuch nachschlagen.\n",
    " * Im neuen Modell kommen mit $\\Delta\\Theta$, $\\Delta M$ und $\\Delta s$ **drei externe Parameter** vor. Schätzen Sie die einzelnen Beiträge, ihre Kombination $\\Delta g_{\\mathrm{syst.}}$ und $\\Delta g$ als Gesamtunsicherheit entsprechend ab.\n",
    " * **Protokollieren** Sie:\n",
    "    * Die **Güte der Anpassung** (quantifiziert durch die Größe $\\hat{\\chi}^{2}/\\alpha$). (Diskutieren Sie Ihr Ergebnis!) \n",
    "    * Die **Werte $g$, $\\Delta g_{\\mathrm{stat.}},\\ \\Delta g_{\\mathrm{syst.}},\\ \\Delta g_{\\Theta},\\ \\Delta g_{M},\\ \\Delta g_{s}$**. \n",
    "    * **Begründen Sie** die Art und Weise, wie Sie $\\Delta g_{\\mathrm{syst.}}$ aus den einzelnen Beiträgen abgeleitet haben. \n",
    "    * Vergleichen Sie Ihr Ergebnis $g\\pm\\Delta g$, im Rahmen der ermittelten Unsicherheiten, mit $g_{\\mathrm{exp}}\\pm \\Delta g_{\\mathrm{exp}}$.\n",
    " * **Bilden Sie sich vor der Auswertung eine Erwartungen aus Ihren Erfahrungen von Aufgabe 2.3** und revidieren Sie gegebenenfalls: \n",
    "      * Erwarten Sie für $g$ den gleichen Wert, wie für **Aufgabe 2.3**?\n",
    "      * Erwarten Sie für $\\Delta g$ den gleichen Werte, wie für **Aufgabe 2.3**?\n",
    "      * Erwarten Sie für $\\hat{z}/\\alpha$ den gleichen Wert, wie für **Aufgabe 2.3**?\n",
    "\n",
    "---\n",
    "\n",
    "Eine Diskussion des Vorgehens für diese Aufgabe finden Sie in der Datei [Hinweise-Unsicherheiten](https://gitlab.kit.edu/kit/etp-lehre/p1-praktikum/students/-/tree/main/Datenverarbeitung/doc/Hinweise-Unsicherheiten.md).\n",
    "\n",
    "---"
   ]
  },
  {
   "cell_type": "markdown",
   "id": "43514625-5ee0-4c48-b42b-0d28fb8c45d0",
   "metadata": {
    "jp-MarkdownHeadingCollapsed": true,
    "tags": []
   },
   "source": [
    "### Aufgabe 3.2: Gedämpfte Schwingung"
   ]
  },
  {
   "cell_type": "markdown",
   "id": "3cd8f8f0-ddd8-4785-acdf-08cb5834b4df",
   "metadata": {
    "jp-MarkdownHeadingCollapsed": true,
    "tags": []
   },
   "source": [
    "Gehen Sie zur Bearbeitung dieser Aufgabe wie folgt vor:\n",
    "\n",
    " *  Berechnen Sie aus Gleichung **(6)** [hier](https://gitlab.kit.edu/kit/etp-lehre/p1-praktikum/students/-/blob/main/Datenverarbeitung/doc/Hinweise-Modelle.md) und den Angaben aus dem [Datenblatt](https://gitlab.kit.edu/kit/etp-lehre/p1-praktikum/students/-/blob/main/Datenverarbeitung/Datenblatt.md) zum Versuch die **Größe der Korrektur $\\delta g^{(0)}$**. \n",
    " * **Beurteilen Sie**, ob das bestehende Modell um diesen Wert korrigiert werden sollte oder nicht. \n",
    " * Verändern Sie ihr Modell gemäß Gleichung **(7)** [hier](https://gitlab.kit.edu/kit/etp-lehre/p1-praktikum/students/-/blob/main/Datenverarbeitung/doc/Hinweise-Modelle.md) (mit oder ohne Korrektur auf $\\omega$), passen Sie dieses veränderte Modell an die Daten aus der Datei `data.csv`an und beantworten Sie die folgenden Fragen: \n",
    "    * Wie ändert sich die Ausgabe von $\\alpha$ und warum?\n",
    "    * Wie ändert sich die Ausgabe von $\\hat{z}/\\alpha$?\n",
    "    * Ist das zugrundeliegende Modell mit den Daten kompatibel? \n",
    "\n",
    "**Studierende mit Nebenfach Physik und Lehramtstudierende können von Gleichung (8) [hier](https://gitlab.kit.edu/kit/etp-lehre/p1-praktikum/students/-/blob/main/Datenverarbeitung/doc/Hinweise-Modelle.md) ausgehen.** "
   ]
  }
 ],
 "metadata": {
  "kernelspec": {
   "display_name": "Python 3 (ipykernel)",
   "language": "python",
   "name": "python3"
  },
  "language_info": {
   "codemirror_mode": {
    "name": "ipython",
    "version": 3
   },
   "file_extension": ".py",
   "mimetype": "text/x-python",
   "name": "python",
   "nbconvert_exporter": "python",
   "pygments_lexer": "ipython3",
   "version": "3.12.3"
  }
 },
 "nbformat": 4,
 "nbformat_minor": 5
}
