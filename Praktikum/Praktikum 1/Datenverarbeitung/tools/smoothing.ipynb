{
 "cells": [
  {
   "cell_type": "markdown",
   "id": "74fe669f-0b80-4969-9ca4-06b192b6388a",
   "metadata": {
    "jp-MarkdownHeadingCollapsed": true,
    "tags": []
   },
   "source": [
    "# Verwendung der Bibliotheken *pandas* und *numpy*"
   ]
  },
  {
   "cell_type": "markdown",
   "id": "9848a899-4d0d-495f-ae49-56eacca98ec7",
   "metadata": {},
   "source": [
    "Mit dem folgenden Code-Fragment zeigen wir Ihnen: \n",
    "\n",
    " * Wie man eine *csv*-Datei mit Hilfe von *pandas* **einließt**.\n",
    " * Wie man die Daten mit einer laufenden Mittelwertbildung (*running mean*) mit Hilfe von *numpy* **glättet**.\n",
    " * Wie man die eingelesenen Daten mit Hilfe von *matplotlib* **darstellt**.\n",
    " \n",
    "Wir verwenden z.T. Erlerntes aus dem Jupyter-notebook [data_processing.ipynb]() im gleichen Verzeichnis."
   ]
  },
  {
   "cell_type": "code",
   "execution_count": null,
   "id": "28e75194-4ea2-4413-8048-2ce260822911",
   "metadata": {},
   "outputs": [],
   "source": [
    "import pandas as pd\n",
    "import numpy as np\n",
    "import matplotlib.pyplot as plt\n",
    "\n",
    "# Read csv as pandas dataframe df\n",
    "df = pd.read_csv(\"../raw.csv\")\n",
    "# Cut out the first 5s of data taking\n",
    "df = df.iloc[:500]\n",
    "# Display raw data \n",
    "fig = plt.figure(\"my_plot\", figsize=(10.0, 6.0))\n",
    "plt.plot(\"Time (s)\", \"Linear Acceleration z (m/s^2)\", data=df, color=\"darkblue\", label=\"Rohdaten (5s Messdauer)\")\n",
    "# Apply running mean smoothing with different window of sizes, e.g. 10, 5, 3\n",
    "wd = 10\n",
    "df[\"smoothed\"] = np.convolve(df[\"Linear Acceleration z (m/s^2)\"], np.ones(wd)/wd, mode=\"same\")\n",
    "# Display smoothed data\n",
    "plt.plot(\"Time (s)\", \"smoothed\", data=df, color=\"darkcyan\", label=\"Geglättet\")\n",
    "# Label axes\n",
    "plt.xlabel(\"Zeit (s)\")\n",
    "plt.ylabel(\"Beschleunigung ($m/s^{2}$)\")\n",
    "plt.legend()"
   ]
  }
 ],
 "metadata": {
  "kernelspec": {
   "display_name": "Python 3 (ipykernel)",
   "language": "python",
   "name": "python3"
  },
  "language_info": {
   "codemirror_mode": {
    "name": "ipython",
    "version": 3
   },
   "file_extension": ".py",
   "mimetype": "text/x-python",
   "name": "python",
   "nbconvert_exporter": "python",
   "pygments_lexer": "ipython3",
   "version": "3.12.3"
  }
 },
 "nbformat": 4,
 "nbformat_minor": 5
}
