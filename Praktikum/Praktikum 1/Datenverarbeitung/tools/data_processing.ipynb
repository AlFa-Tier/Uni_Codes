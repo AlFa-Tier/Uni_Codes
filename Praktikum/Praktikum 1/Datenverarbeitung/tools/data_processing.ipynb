{
 "cells": [
  {
   "cell_type": "markdown",
   "id": "001d51ab-bdf8-40b5-9aad-54e33181e05c",
   "metadata": {
    "jp-MarkdownHeadingCollapsed": true,
    "tags": []
   },
   "source": [
    "# Verwendung der Bibliotheken *pandas* und *matplotlib*"
   ]
  },
  {
   "cell_type": "markdown",
   "id": "a7fd56cb-ed0a-4516-86e6-9fe10a9dd806",
   "metadata": {},
   "source": [
    "Mit den folgenden Code-Fragmenten zeigen wir Ihnen: \n",
    "\n",
    " * Wie man *csv*-Datei mit Hilfe von *pandas* **einließt**.\n",
    " * Wie man die eingelesenen Daten mit Hilfe von *matplotlib* **darstellt**.\n",
    " * Wie man die eingelesenen Daten auf ein handhabbares Maß **reduziert**. \n",
    " \n",
    "Alle im Folgenden gezeigten Code-Fragmente lassen sich geeignet kombinieren. "
   ]
  },
  {
   "cell_type": "code",
   "execution_count": null,
   "id": "1a3cd3bb-d2fa-49e7-bf7d-399bc366924c",
   "metadata": {},
   "outputs": [],
   "source": [
    "# After execution of this cell these imports can be used throughout the whole \n",
    "# Juyter-notebook \n",
    "import pandas as pd\n",
    "import matplotlib.pyplot as plt"
   ]
  },
  {
   "cell_type": "markdown",
   "id": "e206f7dc-5caf-48b5-8471-2166816dd19a",
   "metadata": {
    "jp-MarkdownHeadingCollapsed": true,
    "tags": []
   },
   "source": [
    "## Einlesen von Daten in *csv*-Format und Darstellung mit *matplotlib* "
   ]
  },
  {
   "cell_type": "markdown",
   "id": "2a78a765-8072-41f8-a181-0cc3861d8f2c",
   "metadata": {},
   "source": [
    "Mit dem folgenden Code-Fragment zeigen wir Ihnen:\n",
    "    \n",
    " * Wie man mit *pandas* Daten aus einer *csv*-Datei **einließt**.\n",
    " * Wie man die eingelesenen Daten mit *matplotlib* **darstellt**."
   ]
  },
  {
   "cell_type": "code",
   "execution_count": null,
   "id": "1ccc1832-7d51-4425-8c3b-a130e332dcdb",
   "metadata": {},
   "outputs": [],
   "source": [
    "# Not needed after execution of cell 6\n",
    "#import pandas as pd\n",
    "#import maplotlib.pyplot as plt\n",
    "\n",
    "# Read data with pandas; our variable name df stands for dataframe. Columns in \n",
    "# the csv file become coumns of df; lines in the csv file become lines in df\n",
    "df = pd.read_csv(\"../raw.csv\")\n",
    "\n",
    "# Define a suited figure size (values are given in inches). \"my_plot\" is a name \n",
    "# we give to the figure object\n",
    "fig = plt.figure(\"my_plot\", figsize=(10.0, 5.0))\n",
    "# Plot the data from df. df is passed as \"data\", the first and second arguments \n",
    "# refer to the column headlines in df. Here we plot the column \"Linear \n",
    "# Acceleration x (m/s^2)\" on the y-axis agains the column \"time (s)\" on the \n",
    "# x-axis. \"color\" defines the color of the plot\n",
    "plt.plot(\"Time (s)\", \"Linear Acceleration x (m/s^2)\", data=df, color=\"darkblue\", label=\"Rohdaten (5 min Messdauer)\")\n",
    "# Set proper x- and y-axis titles\n",
    "plt.xlabel(\"Zeit (s)\")\n",
    "plt.ylabel(\"Beschleunigung ($m/s^{2}$)\")\n",
    "plt.legend()"
   ]
  },
  {
   "cell_type": "markdown",
   "id": "81f33305-c1ec-428e-917c-32e0f5080ae7",
   "metadata": {
    "jp-MarkdownHeadingCollapsed": true,
    "tags": []
   },
   "source": [
    "## Ausschneiden von Daten aus einer *csv*-Datei"
   ]
  },
  {
   "cell_type": "markdown",
   "id": "54688a39-ed26-40f7-9de1-5219a3b26a54",
   "metadata": {},
   "source": [
    "Im folgenden Code-Fragment zeigen wir Ihnen:\n",
    "\n",
    " * Wie man die Daten eines ggf. großen Datensatzes auf ein handhabebares Maß **reduziert** und neu abspeichert.   \n"
   ]
  },
  {
   "cell_type": "code",
   "execution_count": null,
   "id": "ad4fb485-f026-44e3-852d-5b9d70adedd1",
   "metadata": {},
   "outputs": [],
   "source": [
    "# Not needed after execution of cell 6\n",
    "#import pandas as pd\n",
    "\n",
    "# Read the data\n",
    "df0 = pd.read_csv(\"../raw.csv\")\n",
    "# The following part restricts df to the columns \"Time (s)\" and \"Linear \n",
    "# Acceleration x (m/s^2)\". Output is a new dataframe df1:\n",
    "# \n",
    "# --> df0[[\"Time (s)\", \"Linear Acceleration x (m/s^2)\"]]\n",
    "#\n",
    "# The following part cuts out columns 500 to 2200, of those only any 10th line\n",
    "# is chosen. Output is a new dataframe df2:\n",
    "#\n",
    "# --> df1.iloc[500:2200:10]\n",
    "#\n",
    "# The following part renames the columns \"Time (s)\" and \"Linear Acceleration x \n",
    "# (m/s^2)\" into the more hany names \"x_data\" and \"y_data\". Output is a new \n",
    "# dataframe df3\n",
    "#\n",
    "# --> df2.rename(\n",
    "#         columns={\n",
    "#             \"Time (s)\" : \"x_data\",\n",
    "#             \"Linear Acceleration x (m/s^2)\" : \"y_data\"\n",
    "#         }\n",
    "#     )\n",
    "#\n",
    "# In practise all steps are usually concatenated and df1 and df2 never really \n",
    "# exist. We write directly from df0 to df3. \n",
    "dfs = df0[[\"Time (s)\", \"Linear Acceleration x (m/s^2)\"]].iloc[500:2200:10].rename(columns={\n",
    "            \"Time (s)\":\"x_data\", \n",
    "            \"Linear Acceleration x (m/s^2)\":\"y_data\"\n",
    "            })\n",
    "# Print the result of our work to screen (for checking)\n",
    "print(dfs)\n",
    "# Write the result to a new pre-processed file. \"index=False\" measn that the \n",
    "# first colum with indexes, as shown o nthe printout to screen are not written \n",
    "# to file\n",
    "dfs.to_csv(\"../data.csv\", index=False)"
   ]
  },
  {
   "cell_type": "markdown",
   "id": "5361b0af-891d-4e10-8270-fcf2e4279d7b",
   "metadata": {
    "jp-MarkdownHeadingCollapsed": true,
    "tags": []
   },
   "source": [
    "## Check"
   ]
  },
  {
   "cell_type": "markdown",
   "id": "5e1efb2c-de78-4a91-9743-6f23b639a8f1",
   "metadata": {},
   "source": [
    "Führen Sie zur Wiederholung des Gelernten  und zum Test Ihres Verständnisses noch einmal die folgenden Operationen durch:\n",
    "\n",
    " * Öffnen Sie die Datei \"data.csv\" mit *pandas*.\n",
    " * Stellen Sie die eingelesenen Daten mit *matplotlib* dar. "
   ]
  },
  {
   "cell_type": "code",
   "execution_count": null,
   "id": "58a99bdf-2922-4357-a067-684eee9111d3",
   "metadata": {},
   "outputs": [],
   "source": [
    "# ADD YOUR CODE BELOW"
   ]
  }
 ],
 "metadata": {
  "kernelspec": {
   "display_name": "Python 3 (ipykernel)",
   "language": "python",
   "name": "python3"
  },
  "language_info": {
   "codemirror_mode": {
    "name": "ipython",
    "version": 3
   },
   "file_extension": ".py",
   "mimetype": "text/x-python",
   "name": "python",
   "nbconvert_exporter": "python",
   "pygments_lexer": "ipython3",
   "version": "3.12.3"
  }
 },
 "nbformat": 4,
 "nbformat_minor": 5
}
