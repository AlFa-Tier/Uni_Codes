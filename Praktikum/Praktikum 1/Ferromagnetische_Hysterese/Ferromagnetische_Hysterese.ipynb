{
 "cells": [
  {
   "cell_type": "markdown",
   "id": "885c7767-e912-4e31-b5d6-3a3443ffa58e",
   "metadata": {
    "jp-MarkdownHeadingCollapsed": true
   },
   "source": [
    "# Fakultät für Physik\n",
    "\n",
    "## Physikalisches Praktikum P1 für Studierende der Physik\n",
    "\n",
    "Versuch P1-61, 62, 63 (Stand: **Oktober 2024**)\n",
    "\n",
    "[Raum F1-16](https://labs.physik.kit.edu/img/Klassische-Praktika/Lageplan_P1P2.png)\n",
    "\n",
    "\n",
    "\n",
    "# Ferromagnetische Hysterese"
   ]
  },
  {
   "cell_type": "markdown",
   "id": "6cda71a9-2111-4282-a28a-821dc2202093",
   "metadata": {},
   "source": [
    "Name: __________________ Vorname: __________________ E-Mail: __________________\n",
    "\n",
    "\\begin{equation*}\n",
    "\\begin{split}\n",
    "&\\\\\n",
    "&\\\\\n",
    "\\end{split}\n",
    "\\end{equation*}\n",
    "\n",
    "Name: __________________ Vorname: __________________ E-Mail: __________________\n",
    "\n",
    "\\begin{equation*}\n",
    "\\begin{split}\n",
    "&\\\\\n",
    "&\\\\\n",
    "&\\\\\n",
    "\\end{split}\n",
    "\\end{equation*}\n",
    "\n",
    "Gruppennummer: _____\n",
    "\n",
    "\\begin{equation*}\n",
    "\\begin{split}\n",
    "&\\\\\n",
    "&\\\\\n",
    "&\\\\\n",
    "\\end{split}\n",
    "\\end{equation*}\n",
    "\n",
    "\n",
    "Betreuer: __________________\n",
    "\n",
    "\\begin{equation*}\n",
    "\\begin{split}\n",
    "&\\\\\n",
    "&\\\\\n",
    "&\\\\\n",
    "\\end{split}\n",
    "\\end{equation*}\n",
    "\n",
    "Versuch durchgeführt am: __________________"
   ]
  },
  {
   "cell_type": "markdown",
   "id": "4ad5aaeb-5800-4251-81e5-e723ee312a16",
   "metadata": {},
   "source": [
    "---\n",
    "\n",
    "**Beanstandungen zu Protokoll Version _____:**\n",
    "\n",
    "\\begin{equation*}\n",
    "\\begin{split}\n",
    "&\\\\\n",
    "&\\\\\n",
    "&\\\\\n",
    "&\\\\\n",
    "&\\\\\n",
    "&\\\\\n",
    "&\\\\\n",
    "&\\\\\n",
    "&\\\\\n",
    "&\\\\\n",
    "\\end{split}\n",
    "%\\text{\\vspace{10cm}}\n",
    "\\end{equation*}\n",
    "\n",
    "<br>\n",
    "Testiert am: __________________ Testat: __________________"
   ]
  },
  {
   "cell_type": "markdown",
   "id": "e3e27d6b-3390-4401-8300-1dc26021fb2d",
   "metadata": {
    "jp-MarkdownHeadingCollapsed": true
   },
   "source": [
    "# Durchführung"
   ]
  },
  {
   "cell_type": "markdown",
   "id": "8fe74fe8-1b63-48de-832b-ad03e49b0132",
   "metadata": {
    "jp-MarkdownHeadingCollapsed": true
   },
   "source": [
    "## Aufgabe 1: Induktivität und Verlustleistung einer Spule"
   ]
  },
  {
   "cell_type": "markdown",
   "id": "0f05f94c-cb93-4ac6-b323-7a73a8bffbb0",
   "metadata": {
    "jp-MarkdownHeadingCollapsed": true
   },
   "source": [
    "### Aufgabe 1.1: Luftgefüllte Spulte\n",
    "\n",
    " * Bestimmen Sie die **Spuleninduktivität** $L$, den **Verlustwiderstand** $R$ und die **elektrische Verlustleistung** $P_{\\mathrm{R}}$ einer luftgefüllten Spule.\n",
    " * Bestätigen oder Widerlegen Sie die Hypothese, dass weder $L$ noch $R$ von der effektiven Stromstärke $I_{\\mathrm{eff}}$ im Wechselstromkreis abhängen.\n",
    " * Berechnen Sie aus den angegebenen Spulendaten im [Datenblatt](https://gitlab.kit.edu/kit/etp-lehre/p1-praktikum/students/-/blob/main/Ferromagnetische_Hysterese/Datenblatt.md) zum Versuch die erwarteten Werte für $L$ und $R$ und vergleichen Sie Ihre Erwartung mit der Messung.\n",
    "\n",
    "---"
   ]
  },
  {
   "cell_type": "markdown",
   "id": "b699a264-3663-45b1-9ce4-ab2424a308d5",
   "metadata": {},
   "source": [
    "**V E R S U C H S B E S C H R E I B U N G**\n",
    "\n",
    "*Fügen Sie Ihre Versuchsbeschreibung hier ein. Löschen Sie hierzu diesen kursiv gestellten Text aus dem Dokument.* \n",
    "\n",
    "---"
   ]
  },
  {
   "cell_type": "markdown",
   "id": "b92d6f12-dd01-47e0-af99-1a77716ee6da",
   "metadata": {},
   "source": [
    "**L Ö S U N G**\n",
    "\n",
    "*Fügen Sie numerische Berechnungen zur Lösung dieser Aufgabe hier ein. Löschen Sie hierzu diesen kursiv gestellten Text aus dem Dokument. Um Code-Fragmente und Skripte in [Python](https://www.python.org/), sowie ggf. bildliche Darstellungen direkt ins [Jupyter notebook](https://jupyter.org/) einzubinden verwandeln Sie diese Zelle in eine Code-Zelle. Fügen Sie ggf. weitere Code-Zellen zu.* \n",
    "\n",
    "---"
   ]
  },
  {
   "cell_type": "markdown",
   "id": "3d2e8948-810e-4240-9f99-8cb2c8bb2db2",
   "metadata": {},
   "source": [
    "**D I S K U S S I O N**\n",
    "\n",
    "*Fügen Sie eine abschließende Diskussion und Bewertung Ihrer Lösung hier ein. Löschen Sie hierzu diesen kursiv gestellten Text aus dem Dokument.* \n",
    "\n",
    "---"
   ]
  },
  {
   "cell_type": "markdown",
   "id": "20887c3e-9c2e-4cf2-918e-c6091ec8f900",
   "metadata": {
    "jp-MarkdownHeadingCollapsed": true
   },
   "source": [
    "### Aufgabe 1.2: Spule mit Eisenkern\n",
    "\n",
    " * Wiederholen Sie die Messungen von **Aufgabe 1.1**, diesmal jedoch mit einem Eisenkern in der Spule.\n",
    " * Berechnen Sie aus den Daten der Spule und den gemessenen Werten für $L$ die (mittlere) **relative Permeabilität** $\\langle\\mu_{r}\\rangle$ als Funktion von $I_{\\mathrm{eff}}$.\n",
    " * Berechnen Sie aus den gemessenen Werten für $R$ und $I_{\\mathrm{eff}}$ die **Gesamtverlustleistung $P_{\\mathrm{ges}}$ der Spule**, als Funktion von $I_{\\mathrm{eff}}$ und vergleichen Sie mit dem Ergebnis für $P_{R}$ aus **Aufgabe 1.1**.\n",
    "\n",
    "---"
   ]
  },
  {
   "cell_type": "markdown",
   "id": "0722c5d3-c073-4d86-a6c0-e6dc05073693",
   "metadata": {},
   "source": [
    "**V E R S U C H S B E S C H R E I B U N G**\n",
    "\n",
    "*Fügen Sie Ihre Versuchsbeschreibung hier ein. Löschen Sie hierzu diesen kursiv gestellten Text aus dem Dokument.* \n",
    "\n",
    "---"
   ]
  },
  {
   "cell_type": "markdown",
   "id": "aa723eed-4a46-41a3-a823-7e61a1d252c7",
   "metadata": {},
   "source": [
    "**L Ö S U N G**\n",
    "\n",
    "*Fügen Sie numerische Berechnungen zur Lösung dieser Aufgabe hier ein. Löschen Sie hierzu diesen kursiv gestellten Text aus dem Dokument. Um Code-Fragmente und Skripte in [Python](https://www.python.org/), sowie ggf. bildliche Darstellungen direkt ins [Jupyter notebook](https://jupyter.org/) einzubinden verwandeln Sie diese Zelle in eine Code-Zelle. Fügen Sie ggf. weitere Code-Zellen zu.* \n",
    "\n",
    "---"
   ]
  },
  {
   "cell_type": "markdown",
   "id": "41f840e3-c7de-4945-8370-b54745a50f95",
   "metadata": {},
   "source": [
    "**D I S K U S S I O N**\n",
    "\n",
    "*Fügen Sie eine abschließende Diskussion und Bewertung Ihrer Lösung hier ein. Löschen Sie hierzu diesen kursiv gestellten Text aus dem Dokument.* \n",
    "\n",
    "---"
   ]
  },
  {
   "cell_type": "markdown",
   "id": "3aadb392-61cb-4657-b068-9d9c1216460e",
   "metadata": {
    "jp-MarkdownHeadingCollapsed": true
   },
   "source": [
    "## Aufgabe 2: Hysterese"
   ]
  },
  {
   "attachments": {},
   "cell_type": "markdown",
   "id": "e42096c8-8cb9-4937-8b94-8e0c78cdc05c",
   "metadata": {
    "jp-MarkdownHeadingCollapsed": true
   },
   "source": [
    "### Aufgabe 2.1: Hysteresekurve\n",
    "\n",
    " * Stellen Sie die **Hysteresekurve** $B(H)$ für den Eisenkern aus **Aufgabe 1.2** für zwei geeignete effektive Stromestärken von $I_{\\mathrm{eff}}$ (im Primärkreis der Schaltung) auf dem Oszilloskop dar.\n",
    " * Bestimmen Sie aus den aufgezeichneten Kurven $\\langle\\mu_{r}\\rangle$ und vergleichen Sie mit Ihren Ergebnissen aus **Aufgabe 1.2**.\n",
    "\n",
    "---"
   ]
  },
  {
   "cell_type": "markdown",
   "id": "e96d00f4-6793-429d-b1f6-7287723557c8",
   "metadata": {},
   "source": [
    "**V E R S U C H S B E S C H R E I B U N G**\n",
    "\n",
    "*Fügen Sie Ihre Versuchsbeschreibung hier ein. Löschen Sie hierzu diesen kursiv gestellten Text aus dem Dokument.* \n",
    "\n",
    "---"
   ]
  },
  {
   "cell_type": "markdown",
   "id": "db113a38-b1df-4ab9-b89c-a24bfd10b7c8",
   "metadata": {},
   "source": [
    "**L Ö S U N G**\n",
    "\n",
    "*Fügen Sie numerische Berechnungen zur Lösung dieser Aufgabe hier ein. Löschen Sie hierzu diesen kursiv gestellten Text aus dem Dokument. Um Code-Fragmente und Skripte in [Python](https://www.python.org/), sowie ggf. bildliche Darstellungen direkt ins [Jupyter notebook](https://jupyter.org/) einzubinden verwandeln Sie diese Zelle in eine Code-Zelle. Fügen Sie ggf. weitere Code-Zellen zu.* \n",
    "\n",
    "---"
   ]
  },
  {
   "cell_type": "markdown",
   "id": "eaa372be-36be-4914-9477-b3025bdee5c5",
   "metadata": {},
   "source": [
    "**D I S K U S S I O N**\n",
    "\n",
    "*Fügen Sie eine abschließende Diskussion und Bewertung Ihrer Lösung hier ein. Löschen Sie hierzu diesen kursiv gestellten Text aus dem Dokument.* \n",
    "\n",
    "---"
   ]
  },
  {
   "cell_type": "markdown",
   "id": "66f60b58-6aac-4a8b-bb6a-adad17f3c95a",
   "metadata": {
    "jp-MarkdownHeadingCollapsed": true
   },
   "source": [
    "### Aufgabe 2.2: Hystereseverlust \n",
    "\n",
    "**Diese Aufgabe ist nur für Studierende mit Hauptfach Physik verpflichtend. Studierende mit Nebenfach Physik und Lehramtstudierende können diese Aufgabe überspringen.**\n",
    "\n",
    " * Bestimmen Sie den **Hystereseverlust** $P_{\\mathrm{hyst}}$ und den dazu äquivalenten **Verlustwiderstand** $R_{\\mathrm{hyst}}$ aus den Magnetisierungskurven von **Aufgabe 2.1** für die verwendeten Werte von $I_{\\mathrm{eff}}$.\n",
    " * Vergleichen Sie Ihr Ergebnis für $P_{\\mathrm{hyst}}$ mit Ihren Ergebnissen für $P_{R}$ und $P_{\\mathrm{ges}}$ aus **Aufgabe 1**.\n",
    "\n",
    "---"
   ]
  },
  {
   "cell_type": "markdown",
   "id": "bf9b0247-cd93-47a3-93af-82ddaafb1da8",
   "metadata": {},
   "source": [
    "**V E R S U C H S B E S C H R E I B U N G**\n",
    "\n",
    "*Fügen Sie Ihre Versuchsbeschreibung hier ein. Löschen Sie hierzu diesen kursiv gestellten Text aus dem Dokument.* \n",
    "\n",
    "---"
   ]
  },
  {
   "cell_type": "markdown",
   "id": "691ea74e-c262-436d-9f9f-a512e2f7f5b1",
   "metadata": {},
   "source": [
    "**L Ö S U N G**\n",
    "\n",
    "*Fügen Sie numerische Berechnungen zur Lösung dieser Aufgabe hier ein. Löschen Sie hierzu diesen kursiv gestellten Text aus dem Dokument. Um Code-Fragmente und Skripte in [Python](https://www.python.org/), sowie ggf. bildliche Darstellungen direkt ins [Jupyter notebook](https://jupyter.org/) einzubinden verwandeln Sie diese Zelle in eine Code-Zelle. Fügen Sie ggf. weitere Code-Zellen zu.* \n",
    "\n",
    "---"
   ]
  },
  {
   "cell_type": "markdown",
   "id": "a27d59cd-4be9-49dc-b15b-d74960881da5",
   "metadata": {},
   "source": [
    "**D I S K U S S I O N**\n",
    "\n",
    "*Fügen Sie eine abschließende Diskussion und Bewertung Ihrer Lösung hier ein. Löschen Sie hierzu diesen kursiv gestellten Text aus dem Dokument.* \n",
    "\n",
    "---"
   ]
  },
  {
   "attachments": {},
   "cell_type": "markdown",
   "id": "5aaf2521-dbac-4802-a743-f267363680fc",
   "metadata": {
    "jp-MarkdownHeadingCollapsed": true
   },
   "source": [
    "## Aufgabe 3: Magnetische Härte\n",
    "\n",
    " * Stellen Sie die Hysteresekurve für einen **Ferrit-Schalenkern** am Oszilloskop dar und vergleichen Sie diese mit der Hysteresekurve des Eisenkerns. \n",
    " * Ermitteln Sie hierzu zusätzlich jeweils die folgenden Größen:\n",
    "   * **Remanenz** $B_{R}$,\n",
    "   * **Koerzitivfeldstärke** $H_{C}$ und\n",
    "   * **Sättigungsinduktion** $B_{S}$.\n",
    " * Diskutieren Sie Ihre Erwartung für $P_{\\mathrm{hyst}}$ für den Ferrit-Schalenkern im Vergleich zum Eisenkern. \n",
    "\n",
    "---"
   ]
  },
  {
   "cell_type": "markdown",
   "id": "bf498ca8-ac2f-4d18-829e-3edd1b05b6e9",
   "metadata": {},
   "source": [
    "**V E R S U C H S B E S C H R E I B U N G**\n",
    "\n",
    "*Fügen Sie Ihre Versuchsbeschreibung hier ein. Löschen Sie hierzu diesen kursiv gestellten Text aus dem Dokument.* \n",
    "\n",
    "---"
   ]
  },
  {
   "cell_type": "markdown",
   "id": "5f5600ea-c2ea-4d77-a77e-e3b471c99146",
   "metadata": {},
   "source": [
    "**L Ö S U N G**\n",
    "\n",
    "*Fügen Sie numerische Berechnungen zur Lösung dieser Aufgabe hier ein. Löschen Sie hierzu diesen kursiv gestellten Text aus dem Dokument. Um Code-Fragmente und Skripte in [Python](https://www.python.org/), sowie ggf. bildliche Darstellungen direkt ins [Jupyter notebook](https://jupyter.org/) einzubinden verwandeln Sie diese Zelle in eine Code-Zelle. Fügen Sie ggf. weitere Code-Zellen zu.* \n",
    "\n",
    "---"
   ]
  },
  {
   "cell_type": "markdown",
   "id": "a3fb8b19-3453-4ee0-8be3-79e63c9d428f",
   "metadata": {},
   "source": [
    "**D I S K U S S I O N**\n",
    "\n",
    "*Fügen Sie eine abschließende Diskussion und Bewertung Ihrer Lösung hier ein. Löschen Sie hierzu diesen kursiv gestellten Text aus dem Dokument.* \n",
    "\n",
    "---"
   ]
  },
  {
   "cell_type": "markdown",
   "id": "b669bee3-e4f2-4a1d-be44-6ef3be4f6170",
   "metadata": {
    "jp-MarkdownHeadingCollapsed": true
   },
   "source": [
    "# Beurteilung"
   ]
  },
  {
   "cell_type": "markdown",
   "id": "d4ab1a4b-9cdf-43aa-a33c-ae863bd60902",
   "metadata": {},
   "source": [
    " * Nach Abschluss des Versuchs haben Sie die Möglichkeit diesen Versuch individuell zu beurteilen.\n",
    " * **Folgen Sie zur Beurteilung dieses Versuchs diesem [Link](https://www.empirio.de/s/mlNVWZpooS)**.\n",
    " * Beachten Sie, dass jede:r Studierende nur einmal pro Versuch eine Beurteilung abgeben kann.\n",
    " * Wir empfehlen die Beurteilung nach der Besprechung Ihrer Versuchsauswertung mit Ihrem:r Tutor:in auszufüllen.  "
   ]
  }
 ],
 "metadata": {
  "kernelspec": {
   "display_name": "Python 3 (ipykernel)",
   "language": "python",
   "name": "python3"
  },
  "language_info": {
   "codemirror_mode": {
    "name": "ipython",
    "version": 3
   },
   "file_extension": ".py",
   "mimetype": "text/x-python",
   "name": "python",
   "nbconvert_exporter": "python",
   "pygments_lexer": "ipython3",
   "version": "3.12.3"
  }
 },
 "nbformat": 4,
 "nbformat_minor": 5
}
