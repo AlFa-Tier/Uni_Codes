{
 "cells": [
  {
   "cell_type": "markdown",
   "id": "b57fab4e-7d24-4158-9302-813e022d608c",
   "metadata": {
    "jp-MarkdownHeadingCollapsed": true,
    "tags": []
   },
   "source": [
    "# Hinweise zum Versuch Ferromagnetische Hysterese"
   ]
  },
  {
   "cell_type": "markdown",
   "id": "3d2e3ed9-9952-4eb8-b59e-9121e16c900c",
   "metadata": {
    "jp-MarkdownHeadingCollapsed": true
   },
   "source": [
    "## Aufgabe 1: Induktivität und Verlustleistung einer Spule"
   ]
  },
  {
   "cell_type": "markdown",
   "id": "8ff7c527-b30e-49be-8000-45bff385c14f",
   "metadata": {
    "jp-MarkdownHeadingCollapsed": true
   },
   "source": [
    "### Aufgabe 1.1: Luftgefüllte Spule"
   ]
  },
  {
   "cell_type": "markdown",
   "id": "4242e78d-5eab-485c-8fac-8305425633da",
   "metadata": {},
   "source": [
    "Gehen Sie zur Bearbeitung dieser Aufgabe wie folgt vor: \n",
    "\n",
    " * Schalten Sie einen Widerstand mit $R=10\\,\\Omega$ mit einer am Versuch ausliegenden Transformatorspule mit $N_{1}=1000$ Windungen (noch ohne Eisenkern) in Reihe, wie in **Abbildung 1a** [hier](https://gitlab.kit.edu/kit/etp-lehre/p1-praktikum/students/-/blob/main/Ferromagnetische_Hysterese/doc/Hinweise-Spule.md) gezeigt. \n",
    " * Schließen Sie an diese Schaltung eine **sinusförmige Wechselspannung** mit $\\nu=50\\,\\mathrm{Hz}$ an. \n",
    " * Bestimmen Sie mit Hilfe des Oszilloskops die folgenden Größen:\n",
    "   * Die **Spannungsamplitude** $U_{L}$ an der Spule\n",
    "   * Die **Spannungsamplitude** $U_{R}$ am Widerstand $R$.\n",
    "   * Die **Zeitdifferenz** $\\Delta t$ zwischen den jeweiligen Nulldurchgängen der beiden Spannungen.\n",
    " * **Protokollieren** Sie:\n",
    "   * Den Aufbau der Schaltung in eigenen Worten (mit Skizze!).\n",
    "   * Die Werte $U_{L}$, $U_{R}$ und $\\Delta t$ **für 3-5 Werte** von $I_{\\mathrm{eff}}$ zwischen ${\\approx} 30\\,\\mathrm{mA}$ und $300\\,\\mathrm{mA}$.\n",
    "   * Das Prinzip zur Bestimmung von $L$ und $R$ aus den Messwerten.\n",
    "   * Berechnen Sie $L$ und $R$ aus den Messwerten (mit **Fehlerfortpflanzung!**).\n",
    "   * Berechnen Sie die **elektrische Verlustleistung** $P_{R}$ aufgrund von $R$.\n",
    " * Protokollieren Sie **alle** numerischen Werte mit entsprechenden Unsicherheiten!\n",
    " * Vergleichen Sie die von Ihnen bestimmten Werte von $L$ und $R$ mit Ihrer Erwartung.\n",
    " * Sie können die Hypothese, dass sowohl $L$, als auch $R$ nicht von $I_{\\mathrm{eff}}$ abhängen im Rahmen Ihrer Auswertung mit Hilfe eines **$\\chi^{2}$-Tests** überprüfen. \n",
    "\n",
    "---\n",
    "\n",
    "Weitere Details zur Vorbereitung auf diese Aufgabe finden Sie in der Datei [Hinweise-Spule](https://gitlab.kit.edu/kit/etp-lehre/p1-praktikum/students/-/blob/main/Ferromagnetische_Hysterese/doc/Hinweise-Spule.md).\n",
    "\n",
    "---"
   ]
  },
  {
   "cell_type": "markdown",
   "id": "a6fd9e8c-98ca-4e17-8e74-ca9c4a443c3c",
   "metadata": {
    "jp-MarkdownHeadingCollapsed": true
   },
   "source": [
    "### Aufgabe 1.2: Spule mit Eisenkern"
   ]
  },
  {
   "cell_type": "markdown",
   "id": "e804640d-7417-42dc-8453-11f9ade866a6",
   "metadata": {
    "jp-MarkdownHeadingCollapsed": true
   },
   "source": [
    "Gehen Sie zur Bearbeitung dieser Aufgabe wie für **Aufgabe 1.1**, jedoch mit den folgenden Unterschieden, vor: \n",
    "\n",
    " * Führen Sie in die Spule einen **Eisenkern** ein.\n",
    " * Schalten Sie zwischen Spule und Oszilloskop zusätzlich einen Widerstand von $R_{S}=9\\,\\mathrm{M\\Omega}$. Dieser dient zur passiven Messbereichserweiterung des Oszillokskopeingangs.\n",
    " * Eine entsprechende Schaltung ist in **Abbildung 1b** [hier](https://gitlab.kit.edu/kit/etp-lehre/p1-praktikum/students/-/blob/main/Ferromagnetische_Hysterese/doc/Hinweise-Spule.md) gezeigt \n",
    " * Wählen Sie für $I_{\\mathrm{eff}}$ **3-5 Werte** zwischen ${\\approx} 10\\,\\mathrm{mA}$ und dem maximal erreichbaren Strom von $I_{\\mathrm{eff}}\\lesssim 30\\,\\mathrm{mA}$.\n",
    " * Berechnen Sie aus den Daten der Spule und den gemessenen Werten für $L$ die (mittlere) **relative Permeabilität $\\langle\\mu_{r}\\rangle$** als Funktion von $I_{\\mathrm{eff}}$ (mit entsprechenden **Unsicherheiten!**). Da $\\mu_{r}$ selbst von $H$ und damit von $I(t)$ abhängt handelt es sich um einen mittleren Wert.\n",
    " * Berechnen Sie aus den gemessenen Werten für $R$ und $I_{\\mathrm{eff}}$ die jeweilige **Gesamtverlustleistung der Spule $P_{\\mathrm{ges}}$** (mit entsprechenden **Unsicherheiten!**).\n",
    " * Stellen Sie die Verläufe von $\\langle\\mu_{r}\\rangle$ und $P_{\\mathrm{ges}}$ graphisch dar. (Berücksichtigen Sie dabei auch Unsicherheiten auf $I_{\\mathrm{eff}}$!).\n",
    " * Vergleichen Sie $P_{\\mathrm{ges}}$ mit dem Ergebnis von $P_{R}$ aus **Aufgabe 1.1** und diskutieren Sie Ihre Beobachtung.\n",
    "\n",
    "---\n",
    "\n",
    "Weitere Details zur Vorbereitung auf diese Aufgabe finden Sie in der Datei [Hinweise-Spule](https://gitlab.kit.edu/kit/etp-lehre/p1-praktikum/students/-/blob/main/Ferromagnetische_Hysterese/doc/Hinweise-Spule.md).\n",
    "\n",
    "---"
   ]
  },
  {
   "cell_type": "markdown",
   "id": "f61da566-6b83-4b32-b8f6-9d5c17b4ff1d",
   "metadata": {
    "jp-MarkdownHeadingCollapsed": true
   },
   "source": [
    "## Aufgabe 2: Hysterese"
   ]
  },
  {
   "cell_type": "markdown",
   "id": "e29817f7-6167-46a7-9cd5-4f4b6dcffab7",
   "metadata": {
    "jp-MarkdownHeadingCollapsed": true
   },
   "source": [
    "### Aufgabe 2.1: Hysteresekurve "
   ]
  },
  {
   "cell_type": "markdown",
   "id": "f91aa1d3-26f1-46cb-a625-a033f498f225",
   "metadata": {
    "jp-MarkdownHeadingCollapsed": true
   },
   "source": [
    "Gehen Sie zur Bearbeitung dieser Aufgabe wie folgt vor:\n",
    "\n",
    " * Ergänzen Sie die Schaltung aus **Aufgabe 1** entsprechend **Abbildung 2** [hier](https://gitlab.kit.edu/kit/etp-lehre/p1-praktikum/students/-/blob/main/Ferromagnetische_Hysterese/doc/Hinweise-Hysterese.md).\n",
    " * Verwenden Sie hierzu die folgenden Komponenten:\n",
    "   * Die Spule mit $N_{1}=1000$ Windungen als felderzeugende Primärspule.\n",
    "   * Eine Spule mit $N_{2}=50$ Windungen als Sekundärspule.\n",
    "   * Einen geschlossenen Eisenkern mit Joch.\n",
    "   * Dimensionieren Sie das Integrierglied aus $R_{2}$ und $C$ geeignet, so dass die Bedingung $R_{2}\\,C\\,\\omega\\gg1$ erfüllt ist. \n",
    " * Stellen Sie die **Hysteresekurve $B(H)$** für den Eisenkern für die folgenden effektiven Stromstärken im Primärkreis auf dem Oszilloskop dar:\n",
    "   * $I_{\\mathrm{eff}}\\approx 10\\,\\mathrm{mA}$.\n",
    "   * $I_{\\mathrm{eff}}\\lesssim 30\\,\\mathrm{mA}$.\n",
    "   * Dabei soll es sich in etwa um den kleinsten und größten Wert von $I_{\\mathrm{eff}}$ aus **Aufgabe 1.2** handeln.\n",
    " * Speichern Sie die am Oszilloskop dargestellten Kurven, lesen Sie sie digital aus und verarbeiten Sie sie im Rahmen der Auswertung entsprechend weiter:\n",
    "   * Verwenden Sie u.U. ein geeignetes *down sampling* der aufgezeichneten Datenpunkte.\n",
    "   * Glätten Sie die Kurve mit Hilfe von [*Spline*](https://de.wikipedia.org/wiki/Spline)-Funktionen.\n",
    "   * **Kalibieren Sie die Achsen der Hysterekurve** auf $[H]=\\mathrm{A/m}$ (auf der $x$-Achse) und $[B]=\\mathrm{(V\\,s)/m^{2}}$ (auf der $y$-Achse).\n",
    "   * **Für Studierende mit Nebenfach Physik und Lehramtstudierende sind die ersten beiden Schritte zur weiteren Darstellung der Hysteresekurve nicht verpflichtend.**\n",
    " * **Protokollieren** Sie:\n",
    "   * Den Aufbau der Schaltung in eigenen Worten (mit Skizze!).\n",
    "   * Das Prinzip der Messung zur Darstellung der Hysterekurve auf dem Oszilloskop.\n",
    "   * Fügen Sie Ihrem Protokoll eine geeignete Darstellung der aufgezeichneten Hysteresekurven (mit angemessenen Achsenbeschriftungen) bei.\n",
    "   * Berechnen Sie $\\langle\\mu_{r}\\rangle$ aus den Quotienten\n",
    "$$\n",
    "\\langle\\mu_{r}\\rangle = \\frac{B_{S}}{\\mu_{0}\\,H_{S}}\n",
    "$$\n",
    " * Da $\\mu_{r}$ selbst von $H$ abhängt handelt es sich dabei um einen mittleren Wert. \n",
    " * Schätzen Sie **entsprechende Unsicherheiten** ab!\n",
    " * Vergleichen Sie Ihr Ergebnis für $\\langle\\mu_{r}\\rangle$ mit dem Ergebnis aus **Aufgabe 1.2**. Beziehen Sie die **Unsicherheiten** auf die jeweils bestimmten Werte in diesen Vergleich mit ein!\n",
    "\n",
    "**Hinweise und Code-Beispiele zur Darstellung der Hysterseschleife finden Sie im Verzeichnis *tools* [hier](https://gitlab.kit.edu/kit/etp-lehre/p1-praktikum/students/-/blob/main/Ferromagnetische_Hysterese/tools/hysteresis_curve.ipynb).**  \n",
    "\n",
    "---\n",
    "\n",
    "Weitere Details zur Vorbereitung auf diese Aufgabe finden Sie in der Datei [Hinweise-Hysterese](https://gitlab.kit.edu/kit/etp-lehre/p1-praktikum/students/-/blob/main/Ferromagnetische_Hysterese/doc/Hinweise-Hysterese.md).\n",
    "\n",
    "---"
   ]
  },
  {
   "cell_type": "markdown",
   "id": "1292b5f8-4ed5-4114-8f3e-a660abd26680",
   "metadata": {
    "jp-MarkdownHeadingCollapsed": true
   },
   "source": [
    "### Aufgabe 2.2: Hystereseverlust "
   ]
  },
  {
   "cell_type": "markdown",
   "id": "942f8073-9faf-4655-99e7-9b3ea6db73ad",
   "metadata": {},
   "source": [
    "**Hinweise und Code-Beispiele für die Berechnung der Fläche der Hysterseschleife finden Sie im Verzeichnis *tools* [hier](https://gitlab.kit.edu/kit/etp-lehre/p1-praktikum/students/-/blob/main/Ferromagnetische_Hysterese/tools/hysteresis_curve.ipynb).**  \n",
    "\n",
    "---\n",
    "\n",
    "Weitere Details zur Vorbereitung auf diese Aufgabe finden Sie in der Datei [Hinweise-Hysterese](https://gitlab.kit.edu/kit/etp-lehre/p1-praktikum/students/-/blob/main/Ferromagnetische_Hysterese/doc/Hinweise-Hysterese.md).\n",
    "\n",
    "---"
   ]
  },
  {
   "cell_type": "markdown",
   "id": "cf9ed2da-d450-438d-9389-9dc6740cd099",
   "metadata": {
    "jp-MarkdownHeadingCollapsed": true
   },
   "source": [
    "## Aufgabe 3: Magnetische Härte"
   ]
  },
  {
   "cell_type": "markdown",
   "id": "846fc8ba-25c6-4323-8914-3a2f6000b3b3",
   "metadata": {},
   "source": [
    "Gehen Sie zur Bearbeitung dieser Aufgabe wie für **Aufgabe 2.1**, jedoch mit den folgenden Unterschieden, vor.\n",
    "\n",
    " * Verwenden Sie eine Primärspule mit $N_{1}=250$ Windungen als felderzeugende Primärspule.\n",
    " * Verwenden Sie für den **Eisenkern** $I_{\\mathrm{eff}}\\approx 0.29\\,\\mathrm{A}$.\n",
    " * Verwenden Sie für den **Ferrit-Schalenkern** $I_{\\mathrm{eff}}\\approx 25\\,\\mathrm{mA}$.\n",
    " * Mit diesen Einstellungen sollten Sie einen Sättigungseffekt in den Hysteresekurven erkennen können.\n",
    "\n",
    "---\n",
    "\n",
    "Weitere Details zur Vorbereitung auf diese Aufgabe finden Sie in der Datei [Hinweise-Hysterese](https://gitlab.kit.edu/kit/etp-lehre/p1-praktikum/students/-/blob/main/Ferromagnetische_Hysterese/doc/Hinweise-Hysterese.md).\n",
    "\n",
    "---"
   ]
  }
 ],
 "metadata": {
  "kernelspec": {
   "display_name": "Python 3 (ipykernel)",
   "language": "python",
   "name": "python3"
  },
  "language_info": {
   "codemirror_mode": {
    "name": "ipython",
    "version": 3
   },
   "file_extension": ".py",
   "mimetype": "text/x-python",
   "name": "python",
   "nbconvert_exporter": "python",
   "pygments_lexer": "ipython3",
   "version": "3.12.3"
  }
 },
 "nbformat": 4,
 "nbformat_minor": 5
}
