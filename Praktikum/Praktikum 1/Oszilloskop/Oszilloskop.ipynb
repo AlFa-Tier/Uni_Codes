{
 "cells": [
  {
   "cell_type": "markdown",
   "id": "885c7767-e912-4e31-b5d6-3a3443ffa58e",
   "metadata": {
    "jp-MarkdownHeadingCollapsed": true,
    "tags": []
   },
   "source": [
    "# Fakultät für Physik\n",
    "\n",
    "## Physikalisches Praktikum P1 für Studierende der Physik\n",
    "\n",
    "Versuch P1-11, 12, 13 (Stand: **Oktober 2024**)\n",
    "\n",
    "[Raum F1-29](https://labs.physik.kit.edu/img/Klassische-Praktika/Lageplan_P1P2.png)\n",
    "\n",
    "\n",
    "\n",
    "# Oszilloskop"
   ]
  },
  {
   "cell_type": "markdown",
   "id": "332ea590-1b77-41c5-879e-c12f6f05135e",
   "metadata": {},
   "source": [
    "Name: __________________ Vorname: __________________ E-Mail: __________________\n",
    "\n",
    "\\begin{equation*}\n",
    "\\begin{split}\n",
    "&\\\\\n",
    "&\\\\\n",
    "\\end{split}\n",
    "\\end{equation*}\n",
    "\n",
    "Name: __________________ Vorname: __________________ E-Mail: __________________\n",
    "\n",
    "\\begin{equation*}\n",
    "\\begin{split}\n",
    "&\\\\\n",
    "&\\\\\n",
    "&\\\\\n",
    "\\end{split}\n",
    "\\end{equation*}\n",
    "\n",
    "Gruppennummer: _____\n",
    "\n",
    "\\begin{equation*}\n",
    "\\begin{split}\n",
    "&\\\\\n",
    "&\\\\\n",
    "&\\\\\n",
    "\\end{split}\n",
    "\\end{equation*}\n",
    "\n",
    "\n",
    "Betreuer: __________________\n",
    "\n",
    "\\begin{equation*}\n",
    "\\begin{split}\n",
    "&\\\\\n",
    "&\\\\\n",
    "&\\\\\n",
    "\\end{split}\n",
    "\\end{equation*}\n",
    "\n",
    "Versuch durchgeführt am: __________________"
   ]
  },
  {
   "cell_type": "markdown",
   "id": "c429d7e4-eb2f-4f64-b015-3adc3b3c05cd",
   "metadata": {},
   "source": [
    "---\n",
    "\n",
    "**Beanstandungen zu Protokoll Version _____:**\n",
    "\n",
    "\\begin{equation*}\n",
    "\\begin{split}\n",
    "&\\\\\n",
    "&\\\\\n",
    "&\\\\\n",
    "&\\\\\n",
    "&\\\\\n",
    "&\\\\\n",
    "&\\\\\n",
    "&\\\\\n",
    "&\\\\\n",
    "&\\\\\n",
    "\\end{split}\n",
    "%\\text{\\vspace{10cm}}\n",
    "\\end{equation*}\n",
    "\n",
    "<br>\n",
    "Testiert am: __________________ Testat: __________________"
   ]
  },
  {
   "cell_type": "markdown",
   "id": "94e7b0bf-9f20-41c9-a4d3-5eb81ce66919",
   "metadata": {
    "jp-MarkdownHeadingCollapsed": true
   },
   "source": [
    "# Durchführung"
   ]
  },
  {
   "cell_type": "markdown",
   "id": "560f9ee2-ad20-4f49-89e8-bfd4aa526e60",
   "metadata": {
    "jp-MarkdownHeadingCollapsed": true,
    "tags": []
   },
   "source": [
    "## Aufgabe 1: Einkanalbetrieb"
   ]
  },
  {
   "cell_type": "markdown",
   "id": "2438ad3f-981f-41ea-80e7-0fb180f1e9b5",
   "metadata": {
    "jp-MarkdownHeadingCollapsed": true,
    "tags": []
   },
   "source": [
    "### Aufgabe 1.1: Grundfunktionen des Oszilloskops\n",
    "\n",
    " * Machen Sie sich mit der **Bedienung** der Ihnen zur Verfügung stehenden Oszilloskope vertraut. \n",
    " * Stellen Sie auf einem der beiden Eingangskanäle ein stehendes Bild einer **sinusförmigen Wechselspannung** mit einer Frequenz von $10\\,\\mathrm{Hz}$ dar. \n",
    " * Bestimmen Sie mit den jeweiligen Mitteln beider Geräte die folgenden Größen und schätzen Sie entsprechende Unsicherheiten auf die angegebenen Werte ab: \n",
    "   * Amplitude, \n",
    "   * Frequenz, \n",
    "   * Anstiegszeit.\n",
    "\n",
    "---"
   ]
  },
  {
   "cell_type": "markdown",
   "id": "109390a7-1f9a-4a06-a48d-b8807f21dead",
   "metadata": {},
   "source": [
    "**V E R S U C H S B E S C H R E I B U N G**\n",
    "\n",
    "*Fügen Sie Ihre Versuchsbeschreibung hier ein. Löschen Sie hierzu diesen kursiv gestellten Text aus dem Dokument.* \n",
    "\n",
    "---"
   ]
  },
  {
   "cell_type": "markdown",
   "id": "733dbf48-87c2-48a3-8180-54ab119b645b",
   "metadata": {},
   "source": [
    "**L Ö S U N G**\n",
    "\n",
    "*Fügen Sie numerische Berechnungen zur Lösung dieser Aufgabe hier ein. Löschen Sie hierzu diesen kursiv gestellten Text aus dem Dokument. Um Code-Fragmente und Skripte in [Python](https://www.python.org/), sowie ggf. bildliche Darstellungen direkt ins [Jupyter notebook](https://jupyter.org/) einzubinden verwandeln Sie diese Zelle in eine Code-Zelle. Fügen Sie ggf. weitere Code-Zellen zu.* \n",
    "\n",
    "---"
   ]
  },
  {
   "cell_type": "markdown",
   "id": "931cf708-ddb3-4c20-838d-621461a03d50",
   "metadata": {},
   "source": [
    "**D I S K U S S I O N**\n",
    "\n",
    "*Fügen Sie eine abschließende Diskussion und Bewertung Ihrer Lösung hier ein. Löschen Sie hierzu diesen kursiv gestellten Text aus dem Dokument.* \n",
    "\n",
    "---"
   ]
  },
  {
   "cell_type": "markdown",
   "id": "50cb5a64-7ec5-4be9-b0a2-584653ab45ae",
   "metadata": {
    "jp-MarkdownHeadingCollapsed": true,
    "tags": []
   },
   "source": [
    "### Aufgabe 1.2: Frequenzmodulation\n",
    "\n",
    "**Diese Aufgabe ist nur für Studierende mit Hauptfach Physik verpflichtend. Studierende mit Nebenfach Physik und Lehramtstudierende können diese Aufgabe überspringen.**\n",
    "\n",
    " * Stellen Sie eine **frequenzmodulierte Schwingung** her, für die Sie einer sinusförmigen Trägerwelle von $1.5\\,\\mathrm{kHz}$ eine sinusförmige Frequenzmodulation von $50\\,\\mathrm{Hz}$ aufprägen. \n",
    " * Bestimmen Sie den **Frequenzhub** dieses Signals.\n",
    "\n",
    "---"
   ]
  },
  {
   "cell_type": "markdown",
   "id": "1d60a192-957d-4f2f-814d-6cca18c81fb5",
   "metadata": {},
   "source": [
    "**V E R S U C H S B E S C H R E I B U N G**\n",
    "\n",
    "*Fügen Sie Ihre Versuchsbeschreibung hier ein. Löschen Sie hierzu diesen kursiv gestellten Text aus dem Dokument.* \n",
    "\n",
    "---"
   ]
  },
  {
   "cell_type": "markdown",
   "id": "36363e4a-8312-46ee-b725-a9244bc9cb2c",
   "metadata": {},
   "source": [
    "**L Ö S U N G**\n",
    "\n",
    "*Fügen Sie numerische Berechnungen zur Lösung dieser Aufgabe hier ein. Löschen Sie hierzu diesen kursiv gestellten Text aus dem Dokument. Um Code-Fragmente und Skripte in [Python](https://www.python.org/), sowie ggf. bildliche Darstellungen direkt ins [Jupyter notebook](https://jupyter.org/) einzubinden verwandeln Sie diese Zelle in eine Code-Zelle. Fügen Sie ggf. weitere Code-Zellen zu.* \n",
    "\n",
    "---"
   ]
  },
  {
   "cell_type": "markdown",
   "id": "cbba9820-fab7-480f-a0ff-a0c2f49af805",
   "metadata": {},
   "source": [
    "**D I S K U S S I O N**\n",
    "\n",
    "*Fügen Sie eine abschließende Diskussion und Bewertung Ihrer Lösung hier ein. Löschen Sie hierzu diesen kursiv gestellten Text aus dem Dokument.* \n",
    "\n",
    "---"
   ]
  },
  {
   "cell_type": "markdown",
   "id": "52c26a57-ccf0-42c3-a9ef-45611ce53e7b",
   "metadata": {
    "jp-MarkdownHeadingCollapsed": true,
    "tags": []
   },
   "source": [
    "## Aufgabe 2: Zweikanalbetrieb"
   ]
  },
  {
   "cell_type": "markdown",
   "id": "e91dd15b-9d36-4ad6-9436-a5a9b95e82ee",
   "metadata": {
    "jp-MarkdownHeadingCollapsed": true,
    "tags": []
   },
   "source": [
    "### Aufgabe 2.1: Einweggleichrichter\n",
    "\n",
    "Verwenden Sie eine **sinusförmige Wechselspannung** und stellen Sie sowohl $U_{e}$, als auch $U_{a}$ für einen Dioden-Einweggleichrichter mit $R=1\\,\\mathrm{M\\Omega}$ Lastwiderstand für die folgenden Variationen der Schaltung am Oszilloskop dar:\n",
    "\n",
    " * Mit Ladekondensator,\n",
    " * Ohne Ladekondensator. \n",
    "\n",
    "---"
   ]
  },
  {
   "cell_type": "markdown",
   "id": "d66c4c94-76a2-475b-9136-38509c9c6c9b",
   "metadata": {},
   "source": [
    "**V E R S U C H S B E S C H R E I B U N G**\n",
    "\n",
    "*Fügen Sie Ihre Versuchsbeschreibung hier ein. Löschen Sie hierzu diesen kursiv gestellten Text aus dem Dokument.* \n",
    "\n",
    "---"
   ]
  },
  {
   "cell_type": "markdown",
   "id": "58a7aa99-6fb3-4613-83f2-87c011608f61",
   "metadata": {},
   "source": [
    "**L Ö S U N G**\n",
    "\n",
    "*Fügen Sie numerische Berechnungen zur Lösung dieser Aufgabe hier ein. Löschen Sie hierzu diesen kursiv gestellten Text aus dem Dokument. Um Code-Fragmente und Skripte in [Python](https://www.python.org/), sowie ggf. bildliche Darstellungen direkt ins [Jupyter notebook](https://jupyter.org/) einzubinden verwandeln Sie diese Zelle in eine Code-Zelle. Fügen Sie ggf. weitere Code-Zellen zu.* \n",
    "\n",
    "---"
   ]
  },
  {
   "cell_type": "markdown",
   "id": "f8b94d4f-7644-4316-9915-dda612a00f61",
   "metadata": {},
   "source": [
    "**D I S K U S S I O N**\n",
    "\n",
    "*Fügen Sie eine abschließende Diskussion und Bewertung Ihrer Lösung hier ein. Löschen Sie hierzu diesen kursiv gestellten Text aus dem Dokument.* \n",
    "\n",
    "---"
   ]
  },
  {
   "cell_type": "markdown",
   "id": "c256508a-17cf-4f07-9c16-91890abd4c66",
   "metadata": {
    "jp-MarkdownHeadingCollapsed": true,
    "tags": []
   },
   "source": [
    "### Aufgabe 2.2: $RC$-Glieder\n",
    "\n",
    " * Verwenden Sie eine **Rechteckspannung** und stellen Sie sowohl $U_{e}$, als auch $U_{a}$ für das **Integrierglied** und den Fall $\\omega\\gg\\omega_{0}$, auf dem Oszilloskop dar. \n",
    " * Verwenden Sie eine **Dreieckspannung** und stellen Sie sowohl $U_{e}$, als auch $U_{a}$ für das **Differenzierglied** und den Fall $\\omega\\ll\\omega_{0}$, auf dem Oszilloskop dar. \n",
    " * Verwenden Sie eine **sinusförmige Wechelspannung** und stellen Sie sowohl $U_{e}$, als auch $U_{a}$ für das **Differenzierglied als Phasenschieber** für verschiedene Frequenzen auf dem Oszilloskop dar. \n",
    "\n",
    "\n",
    " ---"
   ]
  },
  {
   "cell_type": "markdown",
   "id": "0e9d08aa-461c-4381-a9ca-375a0fe5d4e3",
   "metadata": {},
   "source": [
    "**V E R S U C H S B E S C H R E I B U N G**\n",
    "\n",
    "*Fügen Sie Ihre Versuchsbeschreibung hier ein. Löschen Sie hierzu diesen kursiv gestellten Text aus dem Dokument.* \n",
    "\n",
    "---"
   ]
  },
  {
   "cell_type": "markdown",
   "id": "fd84b560-dd2e-48e1-a875-244d62f81981",
   "metadata": {},
   "source": [
    "**L Ö S U N G**\n",
    "\n",
    "*Fügen Sie numerische Berechnungen zur Lösung dieser Aufgabe hier ein. Löschen Sie hierzu diesen kursiv gestellten Text aus dem Dokument. Um Code-Fragmente und Skripte in [Python](https://www.python.org/), sowie ggf. bildliche Darstellungen direkt ins [Jupyter notebook](https://jupyter.org/) einzubinden verwandeln Sie diese Zelle in eine Code-Zelle. Fügen Sie ggf. weitere Code-Zellen zu.* \n",
    "\n",
    "---"
   ]
  },
  {
   "cell_type": "markdown",
   "id": "aaa9ea68-3117-4ddf-aa46-ff4ddd34b974",
   "metadata": {},
   "source": [
    "**D I S K U S S I O N**\n",
    "\n",
    "*Fügen Sie eine abschließende Diskussion und Bewertung Ihrer Lösung hier ein. Löschen Sie hierzu diesen kursiv gestellten Text aus dem Dokument.* \n",
    "\n",
    "---"
   ]
  },
  {
   "cell_type": "markdown",
   "id": "44dd4e62-90df-4b5d-83f5-7564c1b22df9",
   "metadata": {
    "jp-MarkdownHeadingCollapsed": true,
    "tags": []
   },
   "source": [
    "## Aufgabe 3: XY-Modus\n",
    "\n",
    "Stellen Sie die **Strom-Spannungs-Kennlinie einer am Versuchsplatz ausliegenden Z-Diode** im XY-Modus auf dem Oszilloskop dar.\n",
    "\n",
    "---"
   ]
  },
  {
   "cell_type": "markdown",
   "id": "87c05b50-0f2f-470d-bde6-9ec06e86f9c7",
   "metadata": {},
   "source": [
    "**V E R S U C H S B E S C H R E I B U N G**\n",
    "\n",
    "*Fügen Sie Ihre Versuchsbeschreibung hier ein. Löschen Sie hierzu diesen kursiv gestellten Text aus dem Dokument.* \n",
    "\n",
    "---"
   ]
  },
  {
   "cell_type": "markdown",
   "id": "f2415ca8-4d13-4b10-b8fc-8d3291a1ed1e",
   "metadata": {},
   "source": [
    "**L Ö S U N G**\n",
    "\n",
    "*Fügen Sie numerische Berechnungen zur Lösung dieser Aufgabe hier ein. Löschen Sie hierzu diesen kursiv gestellten Text aus dem Dokument. Um Code-Fragmente und Skripte in [Python](https://www.python.org/), sowie ggf. bildliche Darstellungen direkt ins [Jupyter notebook](https://jupyter.org/) einzubinden verwandeln Sie diese Zelle in eine Code-Zelle. Fügen Sie ggf. weitere Code-Zellen zu.* \n",
    "\n",
    "---"
   ]
  },
  {
   "cell_type": "markdown",
   "id": "53c1f2d2-3029-4f88-8040-5a5f9431c7af",
   "metadata": {},
   "source": [
    "**D I S K U S S I O N**\n",
    "\n",
    "*Fügen Sie eine abschließende Diskussion und Bewertung Ihrer Lösung hier ein. Löschen Sie hierzu diesen kursiv gestellten Text aus dem Dokument.* \n",
    "\n",
    "---"
   ]
  },
  {
   "cell_type": "markdown",
   "id": "269b6fda-8db0-4fbc-a776-017db5617039",
   "metadata": {
    "jp-MarkdownHeadingCollapsed": true,
    "tags": []
   },
   "source": [
    "## Aufgabe 4: Einmalvorgänge"
   ]
  },
  {
   "cell_type": "markdown",
   "id": "09482237-2a79-41cd-b528-fefb30079ca8",
   "metadata": {
    "jp-MarkdownHeadingCollapsed": true,
    "tags": []
   },
   "source": [
    "### Aufgabe 4.1: Kondensatorentladung\n",
    "\n",
    "**Diese Aufgabe ist nur für Studierende mit Hauptfach Physik verpflichtend. Studierende mit Nebenfach Physik und Lehramtstudierende können diese Aufgabe überspringen.**\n",
    "\n",
    "Speichern Sie den Spannungsverlauf beim Entladevorgang eines Kondensators mit $C=0.47\\,\\mathrm{\\mu F}$ in zwei Konfigurationen:\n",
    "\n",
    " * Über den Eingangswiderstand des Oszilloskops.\n",
    " * Über den Eingangswiderstand des 10:1-Tastkopfes am Oszilloskop.\n",
    " \n",
    "Bestimmen Sie bei vorgegebenem $C$ die **Eingangswiderstände** des Oszilloskops und des Tastkopfs und vergleichen Sie diese mit den Herstellerangaben.\n",
    "\n",
    "---"
   ]
  },
  {
   "cell_type": "markdown",
   "id": "b91ab2bd-663a-4c63-824d-7718f076d9ba",
   "metadata": {},
   "source": [
    "**V E R S U C H S B E S C H R E I B U N G**\n",
    "\n",
    "*Fügen Sie Ihre Versuchsbeschreibung hier ein. Löschen Sie hierzu diesen kursiv gestellten Text aus dem Dokument.* \n",
    "\n",
    "---"
   ]
  },
  {
   "cell_type": "markdown",
   "id": "2985d761-c8e5-4fa6-b5b5-95d7579fec9c",
   "metadata": {},
   "source": [
    "**L Ö S U N G**\n",
    "\n",
    "*Fügen Sie numerische Berechnungen zur Lösung dieser Aufgabe hier ein. Löschen Sie hierzu diesen kursiv gestellten Text aus dem Dokument. Um Code-Fragmente und Skripte in [Python](https://www.python.org/), sowie ggf. bildliche Darstellungen direkt ins [Jupyter notebook](https://jupyter.org/) einzubinden verwandeln Sie diese Zelle in eine Code-Zelle. Fügen Sie ggf. weitere Code-Zellen zu.* \n",
    "\n",
    "---"
   ]
  },
  {
   "cell_type": "markdown",
   "id": "f5d48581-de6e-4120-a02d-dc2346b4da23",
   "metadata": {},
   "source": [
    "**D I S K U S S I O N**\n",
    "\n",
    "*Fügen Sie eine abschließende Diskussion und Bewertung Ihrer Lösung hier ein. Löschen Sie hierzu diesen kursiv gestellten Text aus dem Dokument.* \n",
    "\n",
    "---"
   ]
  },
  {
   "cell_type": "markdown",
   "id": "6f4aa669-45c2-4ee5-84ca-adcaa1b9dd56",
   "metadata": {
    "jp-MarkdownHeadingCollapsed": true,
    "tags": []
   },
   "source": [
    "### Aufgabe 4.2: Fallversuch\n",
    "\n",
    " * Speichern Sie die **Fallkurve eines Magneten** auf seinem Weg durch ein eigens angefertigtes Fallrohr. \n",
    " * Bestimmen Sie aus der Fallkurve des Magenten die **Erdbeschleunigung $g$**.  \n",
    "\n",
    "---"
   ]
  },
  {
   "cell_type": "markdown",
   "id": "51cc2359-dd63-4d81-91e1-7432b9074bb6",
   "metadata": {},
   "source": [
    "**V E R S U C H S B E S C H R E I B U N G**\n",
    "\n",
    "*Fügen Sie Ihre Versuchsbeschreibung hier ein. Löschen Sie hierzu diesen kursiv gestellten Text aus dem Dokument.* \n",
    "\n",
    "---"
   ]
  },
  {
   "cell_type": "markdown",
   "id": "ebb7d096-1f41-4562-8615-0743d8d83216",
   "metadata": {},
   "source": [
    "**L Ö S U N G**\n",
    "\n",
    "*Fügen Sie numerische Berechnungen zur Lösung dieser Aufgabe hier ein. Löschen Sie hierzu diesen kursiv gestellten Text aus dem Dokument. Um Code-Fragmente und Skripte in [Python](https://www.python.org/), sowie ggf. bildliche Darstellungen direkt ins [Jupyter notebook](https://jupyter.org/) einzubinden verwandeln Sie diese Zelle in eine Code-Zelle. Fügen Sie ggf. weitere Code-Zellen zu.* \n",
    "\n",
    "---"
   ]
  },
  {
   "cell_type": "markdown",
   "id": "6f93d18d-c7d8-41f9-91d6-ebe98b2bbd0d",
   "metadata": {},
   "source": [
    "**D I S K U S S I O N**\n",
    "\n",
    "*Fügen Sie eine abschließende Diskussion und Bewertung Ihrer Lösung hier ein. Löschen Sie hierzu diesen kursiv gestellten Text aus dem Dokument.* \n",
    "\n",
    "---"
   ]
  },
  {
   "cell_type": "markdown",
   "id": "7eb301bd-a08e-4dd3-8653-07ce324f37dd",
   "metadata": {
    "jp-MarkdownHeadingCollapsed": true
   },
   "source": [
    "# Beurteilung"
   ]
  },
  {
   "cell_type": "markdown",
   "id": "bb54c481-eb6b-4614-bf87-a3c011dbc411",
   "metadata": {},
   "source": [
    " * Nach Abschluss des Versuchs haben Sie die Möglichkeit diesen Versuch individuell zu beurteilen.\n",
    " * **Folgen Sie zur Beurteilung dieses Versuchs diesem [Link](https://www.empirio.de/s/s33xbbrNN=)**.\n",
    " * Beachten Sie, dass jede:r Studierende nur einmal pro Versuch eine Beurteilung abgeben kann.\n",
    " * Wir empfehlen die Beurteilung nach der Besprechung Ihrer Versuchsauswertung mit Ihrem:r Tutor:in auszufüllen.  "
   ]
  }
 ],
 "metadata": {
  "kernelspec": {
   "display_name": "Python 3 (ipykernel)",
   "language": "python",
   "name": "python3"
  },
  "language_info": {
   "codemirror_mode": {
    "name": "ipython",
    "version": 3
   },
   "file_extension": ".py",
   "mimetype": "text/x-python",
   "name": "python",
   "nbconvert_exporter": "python",
   "pygments_lexer": "ipython3",
   "version": "3.12.3"
  }
 },
 "nbformat": 4,
 "nbformat_minor": 5
}
