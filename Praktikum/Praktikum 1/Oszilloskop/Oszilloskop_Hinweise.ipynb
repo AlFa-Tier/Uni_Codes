{
 "cells": [
  {
   "cell_type": "markdown",
   "id": "0ed58416-7972-4ef1-9b76-c3a2842ac14b",
   "metadata": {
    "jp-MarkdownHeadingCollapsed": true,
    "tags": []
   },
   "source": [
    "# Hinweise zum Versuch Oszilloskop"
   ]
  },
  {
   "cell_type": "markdown",
   "id": "cbbba30f-d1e8-4875-8c14-6e55dacdc02f",
   "metadata": {
    "jp-MarkdownHeadingCollapsed": true,
    "tags": []
   },
   "source": [
    "## Aufgabe 1: Einkanalbetrieb"
   ]
  },
  {
   "cell_type": "markdown",
   "id": "96ca407c-799d-4a17-8cfb-fc6214f9ae9f",
   "metadata": {
    "jp-MarkdownHeadingCollapsed": true,
    "tags": []
   },
   "source": [
    "### Aufgabe 1.1: Grundfunktionen des Oszilloskops"
   ]
  },
  {
   "cell_type": "markdown",
   "id": "02fdc195-f438-4637-b2e2-dc01385503fd",
   "metadata": {},
   "source": [
    "Gehen Sie zur Bearbeitung dieser Aufgabe wie folgt vor: \n",
    "\n",
    " * Erzeugen Sie mit Hilfe eines der beiden am Versuch zur Verfügung stehenden Funktionsgeneratoren eine **sinusförmige Wechselspannung** mit den folgenden Eigenschaften: \n",
    "   * Frequenz $\\nu=10\\,\\mathrm{Hz}$ \n",
    "   * Amplitude $U_{0}=1\\ \\mathrm{V_{pp}}$ (d.h. von Spitze zu Spitze).\n",
    " * Stellen Sie dieses Signal auf dem Oszilloskop dar.\n",
    " * Wie ändert sich das Signal, wenn Sie die folgenden **Einstellungen am Oszilloskop** variieren:\n",
    "   * Eingangsempfindlichkeit des Verstärkers (in VOLTS/DIV)?\n",
    "   * Signaleinkopplung (AC, DC oder GND)?  \n",
    "   * Zeitablenkung (in TIME/DIV)? \n",
    "   * Triggerlevel?\n",
    "   * Triggerflanke?\n",
    " * **Protokollieren** Sie: \n",
    "   * Die Bedeutung der folgenden Begriffe:\n",
    "     * Eingangsverstärkung,\n",
    "     * Signaleinkopplung,\n",
    "     * Zeitbasis,\n",
    "     * Zeitauflösung, \n",
    "     * Trigger.\n",
    "   * Die Änderungen, wenn Sie die Einstellungen am Oszilloskop, wie oben angegeben variieren.\n",
    "   * Die **Signalamplitude**, **Signalfrequenz** und **Anstiegszeit** (d.h. die Zeit, die das Signal benötigt um von 10 auf 90% seiner Amplitude anzusteigen) **mit entsprechend abgeschätzen Unsicherheiten**.\n",
    "\n",
    "---\n",
    "\n",
    "Weitere Details zur Vorbereitung auf diese Aufgabe finden Sie in der Datei [Hinweise-Bedienung](https://gitlab.kit.edu/kit/etp-lehre/p1-praktikum/students/-/blob/main/Oszilloskop/doc/Hinweise-Bedienung.md).\n",
    "\n",
    "---"
   ]
  },
  {
   "cell_type": "markdown",
   "id": "6b4a8f9b-c957-45b5-9fcc-fa4d74608d64",
   "metadata": {
    "jp-MarkdownHeadingCollapsed": true,
    "tags": []
   },
   "source": [
    "### Aufgabe 1.2: Frequenzmodulation"
   ]
  },
  {
   "cell_type": "markdown",
   "id": "69e0ebcb-73b6-4a23-a17c-4ca84a1720cf",
   "metadata": {
    "jp-MarkdownHeadingCollapsed": true,
    "tags": []
   },
   "source": [
    "Für diesen Versuch prägen Sie einer Trägerwelle von $\\nu_{2}=1.5\\ \\mathrm{kHz}$ eine FM von $\\nu_{1}=50\\ \\mathrm{Hz}$ auf. Gehen Sie hierzu wie folgt vor:\n",
    "\n",
    " * Legen Sie eine **sinusförmige Wechselspannung** mit einer Amplitude von $U_{1}=50\\ \\mathrm{mV_{pp}}$ und einer Frequenz von $\\nu_{1}=50\\ \\mathrm{Hz}$ aus **Generator 1** an die `VC IN`-Buchse von **Generator 2** an (siehe [Datenblatt](https://gitlab.kit.edu/kit/etp-lehre/p1-praktikum/students/-/blob/main/Oszilloskop/Datenblatt.md) zum Versuch).\n",
    " * Stellen Sie an **Generator 2** eine **sinusförmige Wechselspannung** mit einer Frequenz von $\\nu_{2}=1.5\\ \\mathrm{kHz}$ ein.\n",
    " * Gehen Sie zur Messung von $\\Delta\\nu_{s}$ wie in der Datei [Hinweise-FM](https://gitlab.kit.edu/kit/etp-lehre/p1-praktikum/students/-/blob/main/Oszilloskop/doc/Hinweise-FM.md) beschrieben vor.\n",
    " * Sie können $\\nu_{\\mathrm{min}}$ und $\\nu_{\\mathrm{max}}$ jeweils aus der Dauer einer Periode am Oszilloskp bestimmen. \n",
    " * Schätzen Sie entsprechende Unsicherheiten ab und propagieren Sie diese auf $\\Delta\\nu_{s}$.\n",
    " * **Protokollieren** Sie:\n",
    "   * Den Aufbau der Schaltung(en) in eigenen Worten, ggf. mit Skizzen. \n",
    "   * Die Werte $\\nu_{\\mathrm{min}}\\pm\\Delta\\nu_{\\mathrm{min}}$, $\\nu_{\\mathrm{max}}\\pm\\Delta\\nu_{\\mathrm{max}}$ und $\\nu_{s}\\pm\\Delta\\nu_{s}$,\n",
    "   * Fügen Sie Ihrem Protokoll ein Bild des zusätzlich amplitudenmodulierten Signals zur Veranschaulichung Ihres Vorgehens bei. \n",
    "\n",
    "---\n",
    "\n",
    "Weitere Details zu dieser Aufgabe finden Sie in der Datei [Hinweise-FM](https://gitlab.kit.edu/kit/etp-lehre/p1-praktikum/students/-/blob/main/Oszilloskop/doc/Hinweise-FM.md).\n",
    "\n",
    "---"
   ]
  },
  {
   "cell_type": "markdown",
   "id": "1793639b-889e-4439-bc6b-18339b1da3ef",
   "metadata": {
    "jp-MarkdownHeadingCollapsed": true,
    "tags": []
   },
   "source": [
    "## Aufgabe 2: Zweikanalbetrieb\n",
    "\n",
    "Stellen Sie zur Bearbeitung der folgenden Aufgaben jeweils zwei Signale auf CH1 und CH2 über derselben Zeitachse dar."
   ]
  },
  {
   "cell_type": "markdown",
   "id": "f9440de9-3056-48aa-aaf4-c2d7a03a7155",
   "metadata": {
    "jp-MarkdownHeadingCollapsed": true,
    "tags": []
   },
   "source": [
    "### Aufgabe 2.1: Einweggleichrichter"
   ]
  },
  {
   "cell_type": "markdown",
   "id": "c2e546e6-6f07-4130-9140-2a642575a01d",
   "metadata": {},
   "source": [
    "Gehen Sie zur Bearbeitung dieser Aufgabe wie folgt vor: \n",
    "\n",
    " * Erzeugen Sie mit Hilfe des am Versuch zur Verfügung stehenden Funktionsgenerators eine **sinusförmige Wechselspannung** mit den folgenden Eigenschaften: \n",
    "   * Frequenz $\\nu=10\\,\\mathrm{Hz}$ \n",
    "   * Amplitude $U_{e}=8\\ \\mathrm{V_{pp}}$ (d.h. von Spitze zu Spitze).\n",
    " * Stellen Sie $U_{e}$ und $U_{a}$ auf dem Oszilloskop dar.\n",
    " * **Protokollieren** Sie:\n",
    "   * Den verwendeten Aufbau in eigenen Worten (mit Skizze!).\n",
    "   * Das Prinzip der Gleichrichtung.\n",
    "   * Die von Ihnen verwendeten Werte für $R$, ($C$), und $\\nu$. \n",
    "   * Fügen Sie dem Protokoll ein Bild der von Ihnen dargestellten Gleichrichtung, jeweils **für die Schaltung mit und ohne Kondensator**, bei. \n",
    "\n",
    "---\n",
    "\n",
    "Weitere Details zur Vorbereitung auf diese Aufgabe finden Sie in der Datei [Hinweise-Gleichrichter](https://gitlab.kit.edu/kit/etp-lehre/p1-praktikum/students/-/blob/main/Oszilloskop/doc/Hinweise-Gleichrichter.md).\n",
    "\n",
    "---"
   ]
  },
  {
   "cell_type": "markdown",
   "id": "842a63f7-65c7-4752-82a0-9ca654e46acf",
   "metadata": {
    "jp-MarkdownHeadingCollapsed": true,
    "tags": []
   },
   "source": [
    "### Aufgabe 2.2: $RC$-Glieder"
   ]
  },
  {
   "cell_type": "markdown",
   "id": "cbc28245-1839-470d-932e-b45c10912362",
   "metadata": {},
   "source": [
    "Gehen Sie zur Bearbeitung dieser Aufgabe wie folgt vor:\n",
    "\n",
    " * Wählen Sie $R$ und $C$ geeignet und berechnen Sie $\\omega_{0}$.\n",
    "\n",
    "#### Integrierglied\n",
    "\n",
    " * Wählen Sie eine **Rechteckspannung**.\n",
    " * Wählen Sie $\\nu$ am Funktionsgenerator geeignet, so dass die Bedingung $\\omega\\gg\\omega_{0}$ für die Verwendung des $RC$-Glieds als **Integrierer** erfüllt ist.\n",
    " * Stellen Sie $U_{e}$ und $U_{a}$ gemeinsam auf dem Oszilloskop dar. \n",
    " * **Protokollieren** Sie:\n",
    "   * Den Aufbau der Schaltung (mit Skizze!).\n",
    "   * Die verwendeten Werte von $R$, $C$ und $\\nu$.\n",
    "   * Den berechneten Wert von $\\omega_{0}$.\n",
    "   * Fügen Sie Ihrem Protokoll ein Bild Ihrer Darstellung von $U_{e}$ und $U_{a}$ am Ozilloskop bei.\n",
    " * Geben Sie zu allen protokollierten Werten entsprechende Unsicherheiten an.\n",
    "\n",
    "#### Differenzierglied\n",
    "\n",
    " * Wählen Sie eine **Dreieckspannung**.\n",
    " * Wählen Sie $\\nu$ am Funktionsgenerator geeignet, so dass die Bedingung $\\omega\\ll\\omega_{0}$ für die Verwendung des $RC$-Glieds als **Differenzierer** erfüllt ist.\n",
    " * Stellen Sie $U_{e}$ und $U_{a}$ gemeinsam auf dem Oszilloskop dar. \n",
    " * **Protokollieren** Sie:\n",
    "   * Den Aufbau der Schaltung (mit Skizze!).\n",
    "   * Den verwendeten Wert von $\\nu$.\n",
    "   * Fügen Sie Ihrem Protokoll ein Bild Ihrer Darstellung von $U_{e}$ und $U_{a}$ am Ozilloskop bei.\n",
    " \n",
    "#### Phasenschieber\n",
    "\n",
    " * Wählen Sie eine **sinusförmige Wechwelspannung**. \n",
    " * Verwenden Sie die Schaltung des **Differenzierglieds als Phasenshieber**.\n",
    " * Stellen Sie $U_{e}$ und $U_{a}$ gemeinsam auf dem Oszilloskop dar.\n",
    " * Wählen Sie mindestens fünf Frequenzen $\\nu^{(1)}<\\nu^{(2)}<\\nu^{(3)}(\\approx\\nu_{0})<\\nu^{(4)}<\\nu^{(5)}$.\n",
    " * Passen Sie an die von Ihnen aufgenommenen Datenpunkte ein Modell entsprechend Gleichung **(3)** [hier](https://gitlab.kit.edu/kit/etp-lehre/p1-praktikum/students/-/blob/main/Oszilloskop/doc/Hinweise-RCGlieder.md) an und bestimmen Sie daraus einen genaueren Wert für $\\omega_{0}$.\n",
    " * **Protokollieren** Sie:\n",
    "   * Alle Messpunkte und deren Unsicherheiten.\n",
    "   * Den von Ihnen berechneten Wert von $\\omega_{0}\\pm\\Delta\\omega_{0}$.\n",
    "   * Fügen Sie Ihrem Protokoll ein exemplarisches Bild Ihrer Darstellung von $U_{e}$ und $U_{a}$ am Oszilloskop bei. \n",
    "   * Vergleichen Sie den von Ihnen bestimmen Wert von $\\omega_{0}$ mit dem aus $R$ und $C$ berechneten Wert. \n",
    " * Berücksichtigen Sie die **Unsicherheiten aller Mesgrößen!** \n",
    "\n",
    "---\n",
    "\n",
    "Weitere Details zur Vorbereitung auf diese Aufgabe finden Sie in der Datei [Hinweise-RCGlieder](https://gitlab.kit.edu/kit/etp-lehre/p1-praktikum/students/-/blob/main/Oszilloskop/doc/Hinweise-RCGlieder.md).\n",
    "\n",
    "---"
   ]
  },
  {
   "cell_type": "markdown",
   "id": "8f244574-4e94-49ec-ab06-298e5a736c07",
   "metadata": {
    "jp-MarkdownHeadingCollapsed": true,
    "tags": []
   },
   "source": [
    "## Aufgabe 3: XY-Modus\n",
    "\n"
   ]
  },
  {
   "cell_type": "markdown",
   "id": "538da047-83cc-46f8-b3e7-de4dedb8fdb3",
   "metadata": {},
   "source": [
    "Ein Schaltbild zur Messung der $I(U)$-Kennlinie der Z-Diode finden Sie in **Abbildung 2** [hier](https://gitlab.kit.edu/kit/etp-lehre/p1-praktikum/students/-/blob/main/Oszilloskop/doc/Hinweise-XYModus.md). Gehen Sie zur Bearbeitung dieser Aufgabe wie folgt vor: \n",
    "\n",
    " * Koppeln Sie die Eingangsspannung $U_{e}$ ggf. durch einen Trenntransformator vom Eingangsnetz ab. \n",
    " * Greifen Sie die Spannung über der Z-Diode mit CH1 ab.\n",
    " * Greifen Sie den Strom als über den Lastwiderstand $R$ abfallende Spannung mit CH2 ab. \n",
    " * Dadurch, dass es sich um einen periodischen Vorgang handelt entsteht ein stabiles Bild auf dem Oszilloskop.\n",
    " * **Protokollieren** Sie: \n",
    "   * $U_{\\mathrm{BR}}$ mit entsprechender Unsicherheit.\n",
    "   * Fügen Sie Ihrem Protokoll ein Bild der von Ihnen dargestellten $I(U)$-Kennlinie bei.\n",
    "\n",
    "---\n",
    "\n",
    "Weitere Details zur Vorbereitung auf diese Aufgabe finden Sie in der Datei [Hinweise-XYModus](https://gitlab.kit.edu/kit/etp-lehre/p1-praktikum/students/-/blob/main/Oszilloskop/doc/Hinweise-XYModus.md).\n",
    "\n",
    "---"
   ]
  },
  {
   "cell_type": "markdown",
   "id": "018578f6-7569-4bd3-9a88-f61874b56c97",
   "metadata": {
    "jp-MarkdownHeadingCollapsed": true,
    "tags": []
   },
   "source": [
    "## Aufgabe 4: Einmalvorgänge\n",
    "\n",
    " * Die folgenden Versuche können nur mit einem Digitaloszilloskop durchgeführt werden, das über die Möglichkeit verfügt Einmalvorgänge aufzuzeichnen und zu speichern. \n",
    " * Koppeln Sie die Signale als DC-Signale ein. \n",
    " * Lesen Sie die aufgezeichneten Daten mit dem bereitgestellten USB-Datenträger aus und verarbeiten Sie sie entsprechend weiter. "
   ]
  },
  {
   "cell_type": "markdown",
   "id": "f02bf9d0-e26d-44f6-b81f-5ab2143346a4",
   "metadata": {
    "jp-MarkdownHeadingCollapsed": true,
    "tags": []
   },
   "source": [
    "### Aufgabe 4.1: Kondensatorentladung"
   ]
  },
  {
   "cell_type": "markdown",
   "id": "8a75dc6a-3fba-4d76-95c3-cfbeafdbc290",
   "metadata": {
    "tags": []
   },
   "source": [
    "Einen Schaltplan die für Aufnahme der Kondensatorentladung finden Sie in **Abbildung 1** [hier](https://gitlab.kit.edu/kit/etp-lehre/p1-praktikum/students/-/blob/main/Oszilloskop/doc/Hinweise-Kondensatorentladung.md). Gehen Sie zur Bearbeitung dieser Aufgabe wie folgt vor:\n",
    "\n",
    " * Laden Sie den Kondensator.\n",
    " * Sie können hierzu entweder das bereitgestellte Netzteil oder einen der beiden Frequenzgeneratoren mit einem Rechtecksignal niedriger Frequenz (z.B. von $0.1\\,\\mathrm{Hz}$) verwenden.\n",
    " * Stellen Sie die Entladung des Kondensators als Einmalvorgang mit dem Ozilloskop dar. Schließen Sie hierzu den Kondensator über das Oszilloskop kurz:\n",
    "   * Der direkte Anschluss erfolgt über einen [Bananen-BNC-Adapter](https://gitlab.kit.edu/kit/etp-lehre/p1-praktikum/students/-/blob/main/Oszilloskop/figures/Banane-BNC.png). \n",
    "   * Der Anschluss des [Tastkopfs](https://gitlab.kit.edu/kit/etp-lehre/p1-praktikum/students/-/blob/main/Oszilloskop/figures/OszilloskopTastkopf.png) erfolgt über die entsprechenden Klemmen.\n",
    " * Passen Sie ein Gleichung **(1)** [hier](https://gitlab.kit.edu/kit/etp-lehre/p1-praktikum/students/-/blob/main/Oszilloskop/doc/Hinweise-Kondensatorentladung.md) entsprechendes Modell an die aufgezeichneten Datenpunkte an und bestimmen Sie daraus den Widerstand $R\\pm\\Delta R$ bei gegebenem $C$.\n",
    " * **Protokollieren** Sie:\n",
    "   * Den Aufbau der Schaltung in eigenen Worten (mit Skizze!).\n",
    "   * Fügen Sie Ihrem Protokoll jewels ein Diagramm der Datenpukte mit Anpassung bei.\n",
    "   * Die jeweilige Güte der Anpassung, ausgedrückt durch den Wert $\\chi^{2}/\\alpha$ oder den $p$-Wert der Anpassung (siehe Versuch [Datenverarbeitung](https://gitlab.kit.edu/kit/etp-lehre/p1-praktikum/students/-/tree/main/Datenverarbeitung)).\n",
    "   * $R\\pm\\Delta R$ für den **direkten Anschluss** des Oszilloskops.\n",
    "   * $R\\pm\\Delta R$ für den **Anschluss über den Tastkopf**.\n",
    " * Protokollieren Sie **alle** numerischen Werte mit entsprechenden Unsicherheiten!\n",
    " * Vergleichen Sie die von Ihnen bestimmten Werte von $R_{i}$ mit Ihrer Erwartung aus Datenblatt und Handbuch des Oszilloskops. \n",
    "\n",
    "---\n",
    "\n",
    "Weitere Details zur Vorbereitung auf diese Aufgabe finden Sie in der Datei [Hinweise-Kondensatorentladung](https://gitlab.kit.edu/kit/etp-lehre/p1-praktikum/students/-/blob/main/Oszilloskop/doc/Hinweise-Kondensatorentladung.md).\n",
    "\n",
    "---"
   ]
  },
  {
   "cell_type": "markdown",
   "id": "43514625-5ee0-4c48-b42b-0d28fb8c45d0",
   "metadata": {
    "jp-MarkdownHeadingCollapsed": true,
    "tags": []
   },
   "source": [
    "### Aufgabe 4.2: Fallversuch"
   ]
  },
  {
   "cell_type": "markdown",
   "id": "3cd8f8f0-ddd8-4785-acdf-08cb5834b4df",
   "metadata": {
    "jp-MarkdownHeadingCollapsed": true,
    "tags": []
   },
   "source": [
    "Für diesen Versuch benötigen Sie keine Spannungsquelle! Gehen Sie für diesen Versuch wie folgt vor:\n",
    "\n",
    " * Schließen Sie das zur Verfügung gestellte Fallrohr über ein Koaxialkabel ans Digitaloszilloskop an. \n",
    " * Stellen Sie das Oszilloskop auf manuellen Triggerbetrieb (`Edge Trigger`) und stellen Sie die Triggerschwelle auf ${\\approx}0.2\\,\\mathrm{V}$ ein. Damit sollten Sie sechs, wie in **Abbildung 1** [hier](https://gitlab.kit.edu/kit/etp-lehre/p1-praktikum/students/-/blob/main/Oszilloskop/doc/Hinweise-Fallversuch.md) gezeigte, Spannungsspitzen als Einmalvorgang auf dem Oszilloskop aufzeichnen können.\n",
    " * Bestimmen Sie die Differenzen $\\Delta t_{k}$ mit entsprechenden Unsicherheiten $\\Delta(\\Delta t_{k})$ und damit die entsprechenden Datenpunkte $(\\Delta t_{k}, \\Delta s_{k})$.\n",
    " * Schätzen Sie entsprechende Unsicherheiten $\\Delta(\\Delta s_{k})$ ab.\n",
    " * Passen ein Gleichung **(1)** [hier](https://gitlab.kit.edu/kit/etp-lehre/p1-praktikum/students/-/blob/main/Oszilloskop/doc/Hinweise-Fallversuch.md) entsprechendes Modell an die aufgezeichneten Datenpunkte an und bestimmen Sie daraus die Erdbeschleuniging $g\\pm\\Delta g$.\n",
    " * **Protokollieren** Sie:\n",
    "   * Den Aufbau der Messanordnung in eigenen Worten (mit Skizze!). \n",
    "   * Die Datenpunkte $(\\Delta t_{k}, \\Delta s_{k})$ mit entsprechenden Unsicherheiten, am besten tabellarisch.\n",
    "   * Fügen Sie Ihrem Protokoll ein Diagramm der Datenpunkte mit Anpassung bei.\n",
    "   * Die Güte der Anpassung ausgedrückt durch den Wert $\\chi^{2}/\\alpha$ oder den $p$-Wert der Anpassung.\n",
    "   * Den ermittelten Wert $g\\pm\\Delta g$.\n",
    "\n",
    "---\n",
    "\n",
    "Weitere Details zur Vorbereitung auf diese Aufgabe finden Sie in der Datei [Hinweise-Fallversuch](https://gitlab.kit.edu/kit/etp-lehre/p1-praktikum/students/-/blob/main/Oszilloskop/doc/Hinweise-Fallversuch.md).\n",
    "\n",
    "---"
   ]
  }
 ],
 "metadata": {
  "kernelspec": {
   "display_name": "Python 3 (ipykernel)",
   "language": "python",
   "name": "python3"
  },
  "language_info": {
   "codemirror_mode": {
    "name": "ipython",
    "version": 3
   },
   "file_extension": ".py",
   "mimetype": "text/x-python",
   "name": "python",
   "nbconvert_exporter": "python",
   "pygments_lexer": "ipython3",
   "version": "3.12.3"
  }
 },
 "nbformat": 4,
 "nbformat_minor": 5
}
