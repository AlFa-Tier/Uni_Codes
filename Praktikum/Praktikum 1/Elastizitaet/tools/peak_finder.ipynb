{
 "cells": [
  {
   "cell_type": "markdown",
   "id": "001d51ab-bdf8-40b5-9aad-54e33181e05c",
   "metadata": {
    "tags": []
   },
   "source": [
    "# Werkzeuge zum Auffinden von Peaks und Perioden in Datenreihen"
   ]
  },
  {
   "cell_type": "markdown",
   "id": "a7fd56cb-ed0a-4516-86e6-9fe10a9dd806",
   "metadata": {},
   "source": [
    "Mit den folgenden Code-Fragmenten zeigen wir Ihnen: \n",
    "\n",
    " * Wie man die **Autokorrelationsfunktion** einer Datenreihe mit der Funktion `autocorrelate` aus PhyPraKit berechnen kann.\n",
    " * Wie man mit der *scipy* Funktion `find_peak_cwt` Maxima und Minima in Verteilungen finden kann.\n",
    " * Wie man mit der Funktion `convolutionPeakfinder`aus PhyPraKit Maxima und Minima in Verteilungen finden kann.\n",
    "\n",
    "Alle im Folgenden gezeigten Code-Fragmente lassen sich geeignet kombinieren. Dabei können Sie selbst ein Gefühl dafür bekommen, wie zuverlässig durch die entsprechenden Funktionen Maxima und Minima in Datenreihen gefunden werden und wie hilfreich die Autokorrelation von Datenreihen sein kann, um Periodizitäten besser identifizieren zu können. \n",
    "\n",
    "Dazu verwenden wir die Beispiel-Datei `AudioData.csv`, aus dem *tools*-Verzeichnis, die periodische Daten enthält. "
   ]
  },
  {
   "cell_type": "markdown",
   "id": "f19a05d2-1fe0-48f8-b0d2-cd0d5347774d",
   "metadata": {
    "jp-MarkdownHeadingCollapsed": true,
    "tags": []
   },
   "source": [
    "## Einlesen der Daten im *csv*-Format mit *pandas*"
   ]
  },
  {
   "cell_type": "markdown",
   "id": "44cc2032-e170-411d-bb06-bd1347bdc80f",
   "metadata": {},
   "source": [
    "Wie man *csv*-Dateien mit *pandas* **einließt** finden Sie z.B. [hier](https://gitlab.kit.edu/kit/etp-lehre/p1-praktikum/students/-/blob/main/Ferromagnetische_Hysterese/tools/hysteresis_curve.ipynb). Für alle weiteren Zellen verwenden wir die Beispiel-Datei `AudioData.csv`, aus dem *tools*-Verzeichnis, die periodische Daten enthält."
   ]
  },
  {
   "cell_type": "code",
   "execution_count": null,
   "id": "9d186433-2215-4c20-85c1-31fc6936e134",
   "metadata": {},
   "outputs": [],
   "source": [
    "import pandas as pd\n",
    "# Read cvs file as pandas dataframe\n",
    "df = pd.read_csv(\"AudioData.csv\")\n",
    "# Translate dataframe columns into native python lists\n",
    "t = df[\"Time (ms)\"].to_list()\n",
    "d = df[\"Recording (a.u.)\"].to_list() \n",
    "\n",
    "# Plot the data\n",
    "import matplotlib.pyplot as plt\n",
    "fig = plt.figure(1, figsize=(6.0, 6.0))\n",
    "plt.plot(t, d, color=\"darkblue\", label=\"Input Data\")\n",
    "plt.xlabel(\"t (ms)\")\n",
    "plt.ylabel(\"Signal (AU)\")\n",
    "plt.legend(numpoints=1, loc=\"best\")\n",
    "plt.grid(linestyle=\"dashed\")\n",
    "plt.show()"
   ]
  },
  {
   "cell_type": "markdown",
   "id": "d7c21a7c-b21d-474a-8692-715e51386cd1",
   "metadata": {
    "jp-MarkdownHeadingCollapsed": true,
    "tags": []
   },
   "source": [
    "## Einlesen der Daten im *csv*-Format mit PhyPraKit"
   ]
  },
  {
   "cell_type": "markdown",
   "id": "6b48a8c8-ffe3-484b-8434-0ffbc9006ece",
   "metadata": {},
   "source": [
    "Wie man die *csv*-Dateien aus dem PicoScope mit der PhyPrakit Funktion *readPicoScope* **einließt** finden Sie z.B. [hier](https://gitlab.kit.edu/kit/etp-lehre/p1-praktikum/students/-/blob/main/Ferromagnetische_Hysterese/tools/hysteresis_curve.ipynb)."
   ]
  },
  {
   "cell_type": "markdown",
   "id": "bd214272-52ad-411c-9843-b9eccd0dd98b",
   "metadata": {
    "jp-MarkdownHeadingCollapsed": true,
    "tags": []
   },
   "source": [
    "## Smoothing und down sampling mit PhyPraKit"
   ]
  },
  {
   "cell_type": "markdown",
   "id": "5575a8c5-2748-4e59-8941-ae6065718215",
   "metadata": {},
   "source": [
    "Wie Sie Datenreihen ***down samplen* und glätten** können finden Sie z.B. [hier](https://gitlab.kit.edu/kit/etp-lehre/p1-praktikum/students/-/blob/main/Ferromagnetische_Hysterese/tools/hysteresis_curve.ipynb). "
   ]
  },
  {
   "cell_type": "markdown",
   "id": "3df7241a-0c74-4122-ad04-689c1c5a72e2",
   "metadata": {
    "jp-MarkdownHeadingCollapsed": true,
    "tags": []
   },
   "source": [
    "## Suche nach Autokorrelationen in den Daten mit PhyPrakit"
   ]
  },
  {
   "cell_type": "markdown",
   "id": "22c6a38a-066c-466d-bcf2-7a5d7ced2c39",
   "metadata": {},
   "source": [
    " * Bei periodischen Daten bietet es sich manchmal an die Periodizität mit Hilfe einer **Autokorrelationsfunktion** etwas besser herauszuarbeiten.\n",
    " * Mit dem folgenden Code-Fragment zeigen wir Ihnen, wie Sie dies mit der PhyPraKit Funktion *autocorrelate* tun können. "
   ]
  },
  {
   "cell_type": "code",
   "execution_count": null,
   "id": "c0dfb476-6c59-44f2-9df0-33278d831abf",
   "metadata": {},
   "outputs": [],
   "source": [
    "import numpy as np\n",
    "from PhyPraKit.phyTools import autocorrelate\n",
    "# Find auto correlation\n",
    "ac_d = autocorrelate(d)\n",
    "\n",
    "# Plot the auto correlation on top of the original data\n",
    "fig = plt.figure(2, figsize=(6.0, 6.0))\n",
    "plt.plot(t, ac_d, color=\"darkblue\", label=\"Auto correlation\")\n",
    "plt.plot(t, d, color=\"darkred\", label=\"Input Data\")\n",
    "plt.xlabel(\"t (ms)\")\n",
    "plt.ylabel(\"Auto correlation\")\n",
    "plt.legend(numpoints=1, loc=\"best\")\n",
    "plt.grid(linestyle=\"dashed\")\n",
    "plt.show()"
   ]
  },
  {
   "cell_type": "markdown",
   "id": "29b68f26-3ad9-4f86-8ff9-2dbaf6812bc8",
   "metadata": {
    "jp-MarkdownHeadingCollapsed": true,
    "tags": []
   },
   "source": [
    "## Suche nach Maxima und Minima in den Daten mit *scipy*"
   ]
  },
  {
   "cell_type": "markdown",
   "id": "4e431b2f-0fea-4db8-a7d4-65b90dd32497",
   "metadata": {},
   "source": [
    "Mit dem folgenden Code-Fragment zeigen wir Ihnen:\n",
    "    \n",
    " * Wie man mit der scipy Klasse [signal.find_peaks_cwt](https://docs.scipy.org/doc/scipy/reference/generated/scipy.signal.find_peaks_cwt.html#scipy.signal.find_peaks_cwt) **Maxima** und **Minima** in einer Datenreihe finden kann."
   ]
  },
  {
   "cell_type": "code",
   "execution_count": 73,
   "id": "0b36faaf-c9d3-47aa-b6d2-15a818e21d8e",
   "metadata": {},
   "outputs": [],
   "source": [
    "from scipy.signal import find_peaks_cwt\n",
    "# Return indices of peaks in auto correlation function, width refers to the \n",
    "# window to define a local extremum. It might require a bit of tuning \n",
    "pidxac = find_peaks_cwt( ac_d, widths=3)\n",
    "# Return indices of dips in auto correlation function \n",
    "didxac = find_peaks_cwt(-ac_d, widths=3)"
   ]
  },
  {
   "cell_type": "markdown",
   "id": "4b4e5a93-5dc3-4786-b1d0-bc94ed409810",
   "metadata": {
    "jp-MarkdownHeadingCollapsed": true,
    "tags": []
   },
   "source": [
    "## Suche nach Maxima und Minima in den Daten mit PhyPraKit"
   ]
  },
  {
   "cell_type": "markdown",
   "id": "3de6c582-0177-40be-9be0-bc89f8b291e4",
   "metadata": {},
   "source": [
    "Mit dem folgenden Code-Fragment zeigen wir Ihnen:\n",
    "    \n",
    " * Wie Sie das gleiche mit der Funktion `convolutionPeakfinder` aus PhyPraKit erreichen."
   ]
  },
  {
   "cell_type": "code",
   "execution_count": 69,
   "id": "6d516f97-1550-4184-9d65-1a79f1198201",
   "metadata": {},
   "outputs": [],
   "source": [
    "from PhyPraKit.phyTools import convolutionPeakfinder\n",
    "\n",
    "# find maxima and minima using convolution peak finder\n",
    "width = 3\n",
    "pidxac = convolutionPeakfinder( ac_d, width, th=0.5)\n",
    "didxac = convolutionPeakfinder(-ac_d, width, th=0.5)"
   ]
  },
  {
   "cell_type": "markdown",
   "id": "bb6433e2-94e5-4cb0-a2e6-45430d7dde05",
   "metadata": {
    "jp-MarkdownHeadingCollapsed": true,
    "tags": []
   },
   "source": [
    "## Darstellung der Maxima und Minima mit *matplotlib*"
   ]
  },
  {
   "cell_type": "markdown",
   "id": "a8cc3a36-6e14-4c82-b7c7-df44a1586403",
   "metadata": {},
   "source": [
    "Mit dem folgenden Code-Fragment demonstrieren wir, das die Minima und Maxima erfolgreich gefunden wurden."
   ]
  },
  {
   "cell_type": "code",
   "execution_count": null,
   "id": "581ffe8b-4257-4b52-a7ac-10287cfefce6",
   "metadata": {},
   "outputs": [],
   "source": [
    "# Prepare arrays for plotting\n",
    "if len(pidxac) > 1:\n",
    "    # The first peak is at 0 by construction. If you let the peak finder run \n",
    "    # loos it can stumble at the array edges, since it averages over a number \n",
    "    # of \"widths\" indices to determine the peak position\n",
    "    pidxac[0] = 0  \n",
    "    ac_tp, ac_dp = np.array(t)[pidxac], np.array(ac_d)[pidxac]\n",
    "    ac_td, ac_dd = np.array(t)[didxac], np.array(ac_d)[didxac]\n",
    "else:\n",
    "    print(\"Not enough correlation peaks found.\")\n",
    "\n",
    "# Plot the identified minima and maxima on top of auto correlation\n",
    "fig = plt.figure(3, figsize=(6.0, 6.0))\n",
    "plt.plot(t, ac_d, color=\"darkblue\", label=\"Auto correlation\")\n",
    "plt.plot(ac_tp, ac_dp, \"gx\", label=\"Identified maxima\")\n",
    "plt.plot(ac_td, ac_dd, \"rx\", label=\"Identified minima\")\n",
    "plt.xlabel(\"t (ms)\")\n",
    "plt.ylabel(\"Auto correlation\")\n",
    "plt.legend(numpoints=1, loc=\"best\")\n",
    "plt.grid(linestyle=\"dashed\")\n",
    "plt.show()"
   ]
  },
  {
   "cell_type": "markdown",
   "id": "5361b0af-891d-4e10-8270-fcf2e4279d7b",
   "metadata": {
    "jp-MarkdownHeadingCollapsed": true,
    "tags": []
   },
   "source": [
    "## Check"
   ]
  },
  {
   "cell_type": "markdown",
   "id": "5e1efb2c-de78-4a91-9743-6f23b639a8f1",
   "metadata": {},
   "source": [
    "Führen Sie zur Wiederholung des Gelernten und zum Test Ihres Verständnisses noch einmal die folgenden Operationen durch:\n",
    "\n",
    " * Versuchen Sie die Maxima und Minima der Datenreihe selbst zu bestimmen.\n",
    " * Berechnen Sie Werte für $\\Delta t$ aus den Differenzen der Maxima aus der Datenreihe selbst.\n",
    " * Vergleichen Sie die berechneten Werte für $\\Delta t$ aus der Datenreihe selbst und aus der Autokorrelationsfunktion. "
   ]
  },
  {
   "cell_type": "code",
   "execution_count": null,
   "id": "58a99bdf-2922-4357-a067-684eee9111d3",
   "metadata": {},
   "outputs": [],
   "source": [
    "# ADD YOUR CODE BELOW"
   ]
  }
 ],
 "metadata": {
  "kernelspec": {
   "display_name": "Python 3 (ipykernel)",
   "language": "python",
   "name": "python3"
  },
  "language_info": {
   "codemirror_mode": {
    "name": "ipython",
    "version": 3
   },
   "file_extension": ".py",
   "mimetype": "text/x-python",
   "name": "python",
   "nbconvert_exporter": "python",
   "pygments_lexer": "ipython3",
   "version": "3.12.3"
  }
 },
 "nbformat": 4,
 "nbformat_minor": 5
}
