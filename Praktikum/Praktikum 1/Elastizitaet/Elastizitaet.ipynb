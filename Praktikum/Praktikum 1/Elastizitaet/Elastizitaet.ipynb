{
 "cells": [
  {
   "cell_type": "markdown",
   "id": "885c7767-e912-4e31-b5d6-3a3443ffa58e",
   "metadata": {
    "jp-MarkdownHeadingCollapsed": true
   },
   "source": [
    "# Fakultät für Physik\n",
    "\n",
    "## Physikalisches Praktikum P1 für Studierende der Physik\n",
    "\n",
    "Versuch P1-101, 102, 103 (Stand: **Oktober 2024**)\n",
    "\n",
    "[Raum F1-19](https://labs.physik.kit.edu/img/Klassische-Praktika/Lageplan_P1P2.png)\n",
    "\n",
    "\n",
    "\n",
    "# Elastizität"
   ]
  },
  {
   "cell_type": "markdown",
   "id": "475c1f2e-fb7c-4348-b0ad-3062d6d41520",
   "metadata": {},
   "source": [
    "Name: __________________ Vorname: __________________ E-Mail: __________________\n",
    "\n",
    "\\begin{equation*}\n",
    "\\begin{split}\n",
    "&\\\\\n",
    "&\\\\\n",
    "\\end{split}\n",
    "\\end{equation*}\n",
    "\n",
    "Name: __________________ Vorname: __________________ E-Mail: __________________\n",
    "\n",
    "\\begin{equation*}\n",
    "\\begin{split}\n",
    "&\\\\\n",
    "&\\\\\n",
    "&\\\\\n",
    "\\end{split}\n",
    "\\end{equation*}\n",
    "\n",
    "Gruppennummer: _____\n",
    "\n",
    "\\begin{equation*}\n",
    "\\begin{split}\n",
    "&\\\\\n",
    "&\\\\\n",
    "&\\\\\n",
    "\\end{split}\n",
    "\\end{equation*}\n",
    "\n",
    "\n",
    "Betreuer: __________________\n",
    "\n",
    "\\begin{equation*}\n",
    "\\begin{split}\n",
    "&\\\\\n",
    "&\\\\\n",
    "&\\\\\n",
    "\\end{split}\n",
    "\\end{equation*}\n",
    "\n",
    "Versuch durchgeführt am: __________________"
   ]
  },
  {
   "cell_type": "markdown",
   "id": "961513c5-255d-4d86-9f78-80610a82f07f",
   "metadata": {},
   "source": [
    "---\n",
    "\n",
    "**Beanstandungen zu Protokoll Version _____:**\n",
    "\n",
    "\\begin{equation*}\n",
    "\\begin{split}\n",
    "&\\\\\n",
    "&\\\\\n",
    "&\\\\\n",
    "&\\\\\n",
    "&\\\\\n",
    "&\\\\\n",
    "&\\\\\n",
    "&\\\\\n",
    "&\\\\\n",
    "&\\\\\n",
    "\\end{split}\n",
    "%\\text{\\vspace{10cm}}\n",
    "\\end{equation*}\n",
    "\n",
    "<br>\n",
    "Testiert am: __________________ Testat: __________________"
   ]
  },
  {
   "cell_type": "markdown",
   "id": "a6f09ffe-da6c-4685-ae44-c622ec40e56b",
   "metadata": {
    "jp-MarkdownHeadingCollapsed": true
   },
   "source": [
    "# Durchführung"
   ]
  },
  {
   "cell_type": "markdown",
   "id": "59a24234-f914-4ba1-a5f1-66ae8a5dc359",
   "metadata": {
    "jp-MarkdownHeadingCollapsed": true
   },
   "source": [
    "## Aufgabe 1: Elastizitätsmoduls aus der Biegung flacher Balken\n",
    "\n",
    "Bestimmen Sie den Elastizitätsmodul $E$ aus der Biegung eines flachen Balkens als Funktion der Kraft $F_{g}$ in der Mitte des Balkens angehängter Gewichte, **für drei der vier Materialien**: \n",
    "\n",
    " * Messing,\n",
    " * Aluminium,\n",
    " * Kupfer,\n",
    " * Edelstahl.\n",
    "\n",
    "**Zur Bearbeitung dieser Aufgabe können Sie eine der Teilaufgaben 1.1 oder 1.2 auswählen. Die jeweils andere Teilaufgabe müssen Sie daraufhin nicht bearbeiten.**"
   ]
  },
  {
   "cell_type": "markdown",
   "id": "263ba9c6-f6e8-425f-9d45-fcf283aa8fc8",
   "metadata": {
    "jp-MarkdownHeadingCollapsed": true
   },
   "source": [
    "### Aufgabe 1.1: Messuhr\n",
    "\n",
    "Bestimmen Sie die Biegung des Balkens aus der Strecke $s_{\\mathrm{max}}$ in der Mitte des Balkens zwischen belastetem und unbelastetem Zustand, mit Hilfe einer mechanischen Messuhr.\n",
    "\n",
    "---"
   ]
  },
  {
   "cell_type": "markdown",
   "id": "c5edafa2-3c6b-43bc-82b0-bc655e88d25f",
   "metadata": {},
   "source": [
    "**V E R S U C H S B E S C H R E I B U N G**\n",
    "\n",
    "*Fügen Sie Ihre Versuchsbeschreibung hier ein. Löschen Sie hierzu diesen kursiv gestellten Text aus dem Dokument.* \n",
    "\n",
    "---"
   ]
  },
  {
   "cell_type": "markdown",
   "id": "8dccc922-d7c5-4273-a9f0-21338702feb4",
   "metadata": {},
   "source": [
    "**L Ö S U N G**\n",
    "\n",
    "*Fügen Sie numerische Berechnungen zur Lösung dieser Aufgabe hier ein. Löschen Sie hierzu diesen kursiv gestellten Text aus dem Dokument. Um Code-Fragmente und Skripte in [Python](https://www.python.org/), sowie ggf. bildliche Darstellungen direkt ins [Jupyter notebook](https://jupyter.org/) einzubinden verwandeln Sie diese Zelle in eine Code-Zelle. Fügen Sie ggf. weitere Code-Zellen zu.* \n",
    "\n",
    "---"
   ]
  },
  {
   "cell_type": "markdown",
   "id": "efd8e12c-a080-48dc-8841-90d0e129f538",
   "metadata": {},
   "source": [
    "**D I S K U S S I O N**\n",
    "\n",
    "*Fügen Sie eine abschließende Diskussion und Bewertung Ihrer Lösung hier ein. Löschen Sie hierzu diesen kursiv gestellten Text aus dem Dokument.* \n",
    "\n",
    "---"
   ]
  },
  {
   "cell_type": "markdown",
   "id": "20887c3e-9c2e-4cf2-918e-c6091ec8f900",
   "metadata": {
    "jp-MarkdownHeadingCollapsed": true
   },
   "source": [
    "### Aufgabe 1.2: Spiegelsystem\n",
    "\n",
    "Bestimmmen Sie die Biegung des Balkens aus dem Versatz $\\delta$ eines Positionslasers, der über zwei Spiegel an den Enden des Balkens geleitet wird. \n",
    "\n",
    "---"
   ]
  },
  {
   "cell_type": "markdown",
   "id": "de48450f-28e6-411f-b53f-68fe97aff9a0",
   "metadata": {},
   "source": [
    "**V E R S U C H S B E S C H R E I B U N G**\n",
    "\n",
    "*Fügen Sie Ihre Versuchsbeschreibung hier ein. Löschen Sie hierzu diesen kursiv gestellten Text aus dem Dokument.* \n",
    "\n",
    "---"
   ]
  },
  {
   "cell_type": "markdown",
   "id": "2a671784-8c8a-42bd-95b3-eeaad4470782",
   "metadata": {},
   "source": [
    "**L Ö S U N G**\n",
    "\n",
    "*Fügen Sie numerische Berechnungen zur Lösung dieser Aufgabe hier ein. Löschen Sie hierzu diesen kursiv gestellten Text aus dem Dokument. Um Code-Fragmente und Skripte in [Python](https://www.python.org/), sowie ggf. bildliche Darstellungen direkt ins [Jupyter notebook](https://jupyter.org/) einzubinden verwandeln Sie diese Zelle in eine Code-Zelle. Fügen Sie ggf. weitere Code-Zellen zu.* \n",
    "\n",
    "---"
   ]
  },
  {
   "cell_type": "markdown",
   "id": "db156447-3d3f-40d4-900f-49d998664d05",
   "metadata": {},
   "source": [
    "**D I S K U S S I O N**\n",
    "\n",
    "*Fügen Sie eine abschließende Diskussion und Bewertung Ihrer Lösung hier ein. Löschen Sie hierzu diesen kursiv gestellten Text aus dem Dokument.* \n",
    "\n",
    "---"
   ]
  },
  {
   "cell_type": "markdown",
   "id": "97b7053b-f7c8-471f-bd76-01bb183198e0",
   "metadata": {
    "jp-MarkdownHeadingCollapsed": true
   },
   "source": [
    "## Aufgabe 2: Elastizitätsmodul aus der Schallgeschwindigkeit \n",
    "\n",
    " * Bestimmen Sie $E$ aus der Geschwindigkeit $v_{s}$ eines lokalisierten Verdichtungsstoßes an der Stirnfläche eines Stabs.\n",
    " * Verwenden Sie hierzu die gleichen Materialien, die Sie für **Aufgabe 1** ausgewählt haben, um die erzielten Ergebnisse vergleichen zu können.\n",
    "\n",
    "---"
   ]
  },
  {
   "cell_type": "markdown",
   "id": "2193cd10-f66a-45f0-8893-32543f288e9c",
   "metadata": {},
   "source": [
    "**V E R S U C H S B E S C H R E I B U N G**\n",
    "\n",
    "*Fügen Sie Ihre Versuchsbeschreibung hier ein. Löschen Sie hierzu diesen kursiv gestellten Text aus dem Dokument.* \n",
    "\n",
    "---"
   ]
  },
  {
   "cell_type": "markdown",
   "id": "2437cb1f-e305-459e-aaeb-1ba8ebe83f52",
   "metadata": {},
   "source": [
    "**L Ö S U N G**\n",
    "\n",
    "*Fügen Sie numerische Berechnungen zur Lösung dieser Aufgabe hier ein. Löschen Sie hierzu diesen kursiv gestellten Text aus dem Dokument. Um Code-Fragmente und Skripte in [Python](https://www.python.org/), sowie ggf. bildliche Darstellungen direkt ins [Jupyter notebook](https://jupyter.org/) einzubinden verwandeln Sie diese Zelle in eine Code-Zelle. Fügen Sie ggf. weitere Code-Zellen zu.* \n",
    "\n",
    "---"
   ]
  },
  {
   "cell_type": "markdown",
   "id": "b85f7d0b-1ae2-4a76-a77d-34c1fafe9721",
   "metadata": {},
   "source": [
    "**D I S K U S S I O N**\n",
    "\n",
    "*Fügen Sie eine abschließende Diskussion und Bewertung Ihrer Lösung hier ein. Löschen Sie hierzu diesen kursiv gestellten Text aus dem Dokument.* \n",
    "\n",
    "---"
   ]
  },
  {
   "cell_type": "markdown",
   "id": "66f60b58-6aac-4a8b-bb6a-adad17f3c95a",
   "metadata": {
    "jp-MarkdownHeadingCollapsed": true
   },
   "source": [
    "## Aufgabe 3: Torsionsmodul\n",
    "\n",
    " * Bestimmen Sie für eines der zur Verfügung stehenden Materialien den Torsionmodul $G$ aus der Schwingungsdauer $T$ geeignet angeregter Torsionsschwingungen.\n",
    " * Hierzu stehen Ihnen die folgenden Materialien zur Verfügung:\n",
    "   * Messing,\n",
    "   * Aluminium.  \n",
    "\n",
    " ---"
   ]
  },
  {
   "cell_type": "markdown",
   "id": "aaacbb0e-9ef5-4e54-9015-b40266a01bf2",
   "metadata": {},
   "source": [
    "**V E R S U C H S B E S C H R E I B U N G**\n",
    "\n",
    "*Fügen Sie Ihre Versuchsbeschreibung hier ein. Löschen Sie hierzu diesen kursiv gestellten Text aus dem Dokument.* \n",
    "\n",
    "---"
   ]
  },
  {
   "cell_type": "markdown",
   "id": "6778bb25-44fe-4ef3-9338-f4e8d8b5a317",
   "metadata": {},
   "source": [
    "**L Ö S U N G**\n",
    "\n",
    "*Fügen Sie numerische Berechnungen zur Lösung dieser Aufgabe hier ein. Löschen Sie hierzu diesen kursiv gestellten Text aus dem Dokument. Um Code-Fragmente und Skripte in [Python](https://www.python.org/), sowie ggf. bildliche Darstellungen direkt ins [Jupyter notebook](https://jupyter.org/) einzubinden verwandeln Sie diese Zelle in eine Code-Zelle. Fügen Sie ggf. weitere Code-Zellen zu.* \n",
    "\n",
    "---"
   ]
  },
  {
   "cell_type": "markdown",
   "id": "fd0c95b3-f5fb-48f9-9c28-121a3010a159",
   "metadata": {},
   "source": [
    "**D I S K U S S I O N**\n",
    "\n",
    "*Fügen Sie eine abschließende Diskussion und Bewertung Ihrer Lösung hier ein. Löschen Sie hierzu diesen kursiv gestellten Text aus dem Dokument.* \n",
    "\n",
    "---"
   ]
  },
  {
   "cell_type": "markdown",
   "id": "1362ae36-8863-4ee0-a02f-53eeb0a1e161",
   "metadata": {
    "jp-MarkdownHeadingCollapsed": true
   },
   "source": [
    "# Beurteilung"
   ]
  },
  {
   "cell_type": "markdown",
   "id": "1c9e76a0-721f-4745-ab5b-c9940b7ad308",
   "metadata": {},
   "source": [
    " * Nach Abschluss des Versuchs haben Sie die Möglichkeit diesen Versuch individuell zu beurteilen.\n",
    " * **Folgen Sie zur Beurteilung dieses Versuchs diesem [Link](https://www.empirio.de/s/3m0RZlZVWx)**.\n",
    " * Beachten Sie, dass jede:r Studierende nur einmal pro Versuch eine Beurteilung abgeben kann.\n",
    " * Wir empfehlen die Beurteilung nach der Besprechung Ihrer Versuchsauswertung mit Ihrem:r Tutor:in auszufüllen.  "
   ]
  }
 ],
 "metadata": {
  "kernelspec": {
   "display_name": "Python 3 (ipykernel)",
   "language": "python",
   "name": "python3"
  },
  "language_info": {
   "codemirror_mode": {
    "name": "ipython",
    "version": 3
   },
   "file_extension": ".py",
   "mimetype": "text/x-python",
   "name": "python",
   "nbconvert_exporter": "python",
   "pygments_lexer": "ipython3",
   "version": "3.12.3"
  }
 },
 "nbformat": 4,
 "nbformat_minor": 5
}
