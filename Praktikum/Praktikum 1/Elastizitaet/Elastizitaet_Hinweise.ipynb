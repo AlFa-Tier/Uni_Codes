{
 "cells": [
  {
   "cell_type": "markdown",
   "id": "b4bcd1c9-d323-442d-ba56-1f62b6e59d1c",
   "metadata": {
    "jp-MarkdownHeadingCollapsed": true,
    "tags": []
   },
   "source": [
    "# Hinweise zum Versuch Elastizität"
   ]
  },
  {
   "cell_type": "markdown",
   "id": "671d9dc1-62a9-4b34-90e0-5731eee608fd",
   "metadata": {
    "jp-MarkdownHeadingCollapsed": true
   },
   "source": [
    "## Aufgabe 1: Elastizitätsmodul aus der Biegung flacher Balken\n",
    "\n",
    "**Zur Bearbeitung dieser Aufgabe können Sie eine der Teilaufgaben 1.1 oder 1.2 auswählen. Die jeweils andere Teilaufgabe müssen Sie daraufhin nicht bearbeiten.**"
   ]
  },
  {
   "cell_type": "markdown",
   "id": "bd7c7843-e036-404a-94be-befcc0a71a6b",
   "metadata": {
    "jp-MarkdownHeadingCollapsed": true
   },
   "source": [
    "### Aufgabe 1.1: Messuhr"
   ]
  },
  {
   "cell_type": "markdown",
   "id": "805db2e9-de7f-4e55-9e69-c2efcee9e88c",
   "metadata": {},
   "source": [
    "Gehen Sie zur Bearbeitung dieser Aufgabe wie folgt vor:\n",
    "\n",
    " * Spannen Sie die Balken aus dem Material Ihrer Wahl nacheinander zwischen den Stativständern ein.\n",
    " * **Belasten Sie die Balken** abwechselnd mit den zur Verfügung stehenden Gewichten mit den Massen $m_{i}$.\n",
    " * Bestimmen Sie die **Strecke $s_{\\mathrm{max}}$** in der Mitte des Balkens zwischen belastetem und unbelastetem Zustand mit der **mechanischen Messuhr**.\n",
    " * **Protokollieren Sie**:\n",
    "   * Die Messmethode (mit Skizze!).\n",
    "   * Die erhaltenen Werte für $s_{\\mathrm{max}}$ für alle zur Verfügung stehenden Gewichte.\n",
    "   * Geben Sie entsprechende Unsicherheiten für $s_{\\mathrm{max}}$ und $m_{i}$ an.\n",
    " * Bestimmen Sie $E$ aus der **Anpassung eines geeigneten Modells** an die Daten.\n",
    " * Diskutieren Sie die **Güte der Anpassung**, die Sie aus dem $\\chi^{2}$-Wert der Anpassung ableiten können.   \n",
    " * **Beachten Sie bei der Auswertung**, dass die Messuhren eine zusätzliche Kraft von $F_{\\mathrm{Uhr}}=3.6\\,\\mathrm{g/mm}$ auf den jeweiligen Balken ausüben.\n",
    "\n",
    "---\n",
    "\n",
    "Weitere Details zur Vorbereitung auf diese Aufgabe finden Sie in der Datei [Hinweise-Balken](https://gitlab.kit.edu/kit/etp-lehre/p1-praktikum/students/-/blob/main/Elastizitaet/doc/Hinweise-Balken.md).\n",
    "\n",
    "---"
   ]
  },
  {
   "cell_type": "markdown",
   "id": "b8549b92-bed3-444a-b22c-3168d2e965cd",
   "metadata": {
    "jp-MarkdownHeadingCollapsed": true
   },
   "source": [
    "### Aufgabe 1.2: Spiegelsystem"
   ]
  },
  {
   "cell_type": "markdown",
   "id": "9fde1b2c-46b1-4b3b-86bd-f32f4a386e66",
   "metadata": {},
   "source": [
    "Gehen Sie zur Bearbeitung dieser Aufgabe wie folgt vor:\n",
    "\n",
    " * Spannen Sie die Balken aus dem Material Ihrer Wahl nacheinander zwischen den Stativständern ein.\n",
    " * Montieren Sie die zur Verfügung stehenden **Spiegel an den Enden der Balken**.\n",
    " * Richten Sie den **Strahlengang des Positionslaser** so aus, dass er über beide Spiegel bis zu einem Schirm in geeigneter Entfernung zum Messaufbau führt.\n",
    " * **Belasten Sie die Balken** abwechselnd mit den zur Verfügung stehenden Gewichten mit den Massen $m_{i}$.\n",
    " * Bestimmen Sie den **Versatz $\\delta$ des Laserpunkts auf dem Schirm** zwischen belastetem und unbelastetem Zustand.\n",
    " * **Protokollieren Sie**:\n",
    "   * Die Messmethode (mit Skizze!).\n",
    "   * Die für die Messung **relevanten geometrischen Abmessungen**.\n",
    "   * Schätzen Sie geeignete Unsicherheiten für Ihre Abmessungen ab. \n",
    "   * Die erhaltenen Werte für $\\delta$ für alle zur Verfügung stehenden Gewichte.\n",
    "   * Geben Sie durch Fehlerforpflanzung entsprechende **Unsicherheiten für $\\delta$** an.\n",
    "   * Für die Gewichte können Sie eine Toleranz von $\\Delta m_{i}=\\pm 0.5\\,\\mathrm{g}$ annehmen. \n",
    " * Bestimmen Sie $E$ aus der **Anpassung eines geeigneten Modells** an die Daten. \n",
    "\n",
    "---\n",
    "\n",
    "Weitere Details zur Vorbereitung auf diese Aufgabe finden Sie in der Datei [Hinweise-Spiegel](https://gitlab.kit.edu/kit/etp-lehre/p1-praktikum/students/-/blob/main/Elastizitaet/doc/Hinweise-Spiegel.md).\n",
    "\n",
    "---"
   ]
  },
  {
   "cell_type": "markdown",
   "id": "d11e2b22-8522-46cf-952e-ff22132cf225",
   "metadata": {
    "jp-MarkdownHeadingCollapsed": true
   },
   "source": [
    "## Aufgabe 2: Elastizitätsmodul aus der Schallgeschwindigkeit "
   ]
  },
  {
   "cell_type": "markdown",
   "id": "d60f2477-3eec-4409-ae12-5310f9bdde80",
   "metadata": {},
   "source": [
    "Gehen Sie zur Bearbeitung dieser Aufgsabe wie folgt vor:\n",
    "\n",
    " * Versetzen Sie dem Stab mit dem Material Ihrer Wahl einen **einamligen kurzen Verdichtungsstoß** mit Hilfe der an der Pendelkonstruktion hängenden Stahlkugel.\n",
    " * Lesen Sie das Signal mit dem **USB-Oszilloskop** aus.\n",
    " * Für diese Messung müssen Sie sich für jeden Stab zunächst immer wieder **mit dem veränderten Bedingungen vertraut machen**:\n",
    "   * Hierzu müssen Sie den Bereich der **Anschlagstärke ausloten**, in dem die Ergebnisse für $\\Delta t$ gut reproduzierbar sind.\n",
    "   * Störsignale, z.B. durch unvermeidliche andersartige Anregungsmoden lassen sich auf dem Oszilloskop i.a. gut vom Hauptschwingungsmodus unterscheiden.\n",
    "   * Sie sollten für jedes Material **mindestens 4-5 Reflexionen** erkennen können. \n",
    " * **Protokollieren Sie**:\n",
    "   * Messmethode und Messaufbau (mit Skizze!).\n",
    "   * Die bestimmten Zeitdifferenzen $\\Delta t$ mit entsprechenden Unsicherheiten.\n",
    "   * Alle für die Messung relevanten geometrischen Abmessungen mit Unsicherheiten.\n",
    " * Bestimmen Sie $E$ aus der **Anpassung eines geeigneten Modells** an die Daten.\n",
    " * Diskutieren Sie die **Güte der Anpassung**, die Sie aus dem $\\chi^{2}$-Wert der Anpassung ableiten können.\n",
    " * Beurteilen Sie **Übereinstimmung der Ergebnisse** mit Ihren Ergebnissen aus **Aufgabe 1** und beurteilen Sie welche Messung die bessere ist.\n",
    "\n",
    "**Studierende mit Hauptfachphysik sollten zur Auswertung wie folgt vorgehen:**\n",
    "\n",
    " * Lesen Sie für jeden Stab die Daten **elektronisch aus dem Oszilloskop aus** und übertragen Sie sie auf den Jupyter-server.\n",
    " * Fügen Sie Ihrem Protokoll für jedes untersuchte Material eine geeignete **Darstellung der Daten** bei. Gegebenenfalls müssen Sie die Daten *down samplen*.\n",
    " * Bestimmen Sie die Zeitabstände $\\Delta t$ und entsprechende Unsicherhieten aus dem übertragenen Datensatz, z.B. mit Hilfe der PhyPraKit Funktionen `autocorrelate()` und `convolutionPeakFinder()`.  \n",
    "\n",
    "**Hinweise und Code-Beispiele hierzu finden Sie im Verzeichnis *tools* [hier](https://gitlab.kit.edu/kit/etp-lehre/p1-praktikum/students/-/blob/main/Elastizitaet/tools/peak_finder.ipynb).**\n",
    "\n",
    "---\n",
    "\n",
    "Weitere Details zur Vorbereitung auf diese Aufgabe finden Sie in der Datei [Hinweise-Schall](https://gitlab.kit.edu/kit/etp-lehre/p1-praktikum/students/-/blob/main/Elastizitaet/doc/Hinweise-Schall.md).\n",
    "\n",
    "---"
   ]
  },
  {
   "cell_type": "markdown",
   "id": "3e234ff2-04f0-404b-a58d-2e6f5a8080ff",
   "metadata": {
    "jp-MarkdownHeadingCollapsed": true
   },
   "source": [
    "## Aufgabe 3: Torsionsmodul"
   ]
  },
  {
   "cell_type": "markdown",
   "id": "a3468eff-8f13-49be-827f-1bf66e977891",
   "metadata": {},
   "source": [
    "Gehen Sie zur Bearbeitung dieser Aufgabe wie folgt vor: \n",
    "\n",
    " * Spannen Sie für das ausgewählte Material nacheinander die Stäbe mit den verschiedenen Durchmessern $d_{i}=2,\\,3,\\,4,\\,5\\,\\mathrm{mm}$ in die für die Messung vorgesehene Vorrichtung ein.\n",
    " * Versetzen Sie die Vorrichtung vorsichtig in **Schwingung**. Der maximale Auslenkwinkel $\\varphi_{0}$ sollte $10^{\\circ}$ nicht überschreiten.\n",
    " * Bestimmen Sie die Perioden $T_{\\mathrm{4Z}}^{(i)}$ und $T_{\\mathrm{2Z}}^{(i)}$ zu jedem Durchmesser $d_{i}$ mit entsprechenden Unsicherheiten. Nehmen Sie $\\pm15\\%$ Toleranz für $d_{i}$ an. \n",
    " * **Protokollieren Sie**:\n",
    "   * Messmethode und Messaufbau (mit Skizze!).\n",
    "   * Alle Werte $d_{i},\\,T_{\\mathrm{4Z}}^{(i)},\\,T_{\\mathrm{2Z}}^{(i)}$ mit entsprechenden Unsicherheiten.\n",
    " * Bestimmen Sie $G$ aus einer **Anpassung eines geeigneten Modells** an die Daten.\n",
    " * Fügen Sie Ihrem Protokoll eine geeignete **Darstellung der Daten** und des angepassten Modells bei.\n",
    " * Diskutieren Sie die **Güte der Anpassung**, wie Sie sie aus dem $\\chi^{2}$-Wert der Anpassung ableiten können.\n",
    "\n",
    "---\n",
    "\n",
    "Weitere Details zur Vorbereitung auf diese Aufgabe finden Sie in der Datei [Hinweise-Torsion](https://gitlab.kit.edu/kit/etp-lehre/p1-praktikum/students/-/blob/main/Elastizitaet/doc/Hinweise-Torsion.md).\n",
    "\n",
    "---"
   ]
  }
 ],
 "metadata": {
  "kernelspec": {
   "display_name": "Python 3 (ipykernel)",
   "language": "python",
   "name": "python3"
  },
  "language_info": {
   "codemirror_mode": {
    "name": "ipython",
    "version": 3
   },
   "file_extension": ".py",
   "mimetype": "text/x-python",
   "name": "python",
   "nbconvert_exporter": "python",
   "pygments_lexer": "ipython3",
   "version": "3.12.3"
  }
 },
 "nbformat": 4,
 "nbformat_minor": 5
}
