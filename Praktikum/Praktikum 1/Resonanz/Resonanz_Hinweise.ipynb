{
 "cells": [
  {
   "cell_type": "markdown",
   "id": "e27f092f-5efa-43d3-8f79-82bc32d4b518",
   "metadata": {
    "jp-MarkdownHeadingCollapsed": true,
    "tags": []
   },
   "source": [
    "# Hinweise zum Versuch Resonanz"
   ]
  },
  {
   "cell_type": "markdown",
   "id": "9a0db2fe-61f6-4435-8816-d46d649d9738",
   "metadata": {
    "jp-MarkdownHeadingCollapsed": true
   },
   "source": [
    "## Aufgabe 1: Freie Schwingung\n",
    "\n",
    "---\n",
    "\n",
    "Hinweise zum Umgang mit dem Messsystem CASSY finden Sie in der Datei [Hinweise-CASSY](https://gitlab.kit.edu/kit/etp-lehre/p1-praktikum/students/-/blob/main/Resonanz/doc/Hinweise-CASSY.md).\n",
    "\n",
    "---"
   ]
  },
  {
   "cell_type": "markdown",
   "id": "825368c8-ccea-489c-9871-8b3aac0f3f7c",
   "metadata": {
    "jp-MarkdownHeadingCollapsed": true
   },
   "source": [
    "### Aufgabe 1.1: Schwingung ohne äußere Dämpfung"
   ]
  },
  {
   "cell_type": "markdown",
   "id": "062cc8cb-1206-4df8-be3f-4132abce3eb5",
   "metadata": {},
   "source": [
    "Gehen Sie zur Bearbeitung dieser Aufgabe wie folgt vor: \n",
    "\n",
    " * Sie sollten mit dem Messsystem CASSY u.a. die folgenden Daten auswerten können:\n",
    "   * $t$ Zeitmessung;\n",
    "   * $\\varphi(t)$ Winkel;\n",
    "   * $\\dot{\\varphi}(t)$ Winkelgeschwindigkeit.\n",
    " * Lenken Sie das [Pohlsche Rad](https://de.wikipedia.org/wiki/Pohlsches_Rad) aus und nehmen Sie einen entsprechenden Datensatz über einen **Zeitraum von 2-3 min** auf.\n",
    " * Bereiten Sie den Datensatz für die weitere Verarbeitung auf (siehe Hinweise zum Versuch [Datenverarbeitung](https://gitlab.kit.edu/kit/etp-lehre/p1-praktikum/students/-/tree/main/Datenverarbeitung)):\n",
    "   * Beschneiden Sie den Datensatz auf eine **geeignete Zeitspanne** in der eine stabile Schwingung vorlag.\n",
    "   * Reduzieren Sie die **Datenmenge** auf ein handhabbares Maß ggf. durch *down sampling*.\n",
    "   * Beachten Sie dabei, die Periode der Schwingung und achten Sie darauf, dass die *sampling rate* nicht zu gering wird.\n",
    "   * Sie sollten aus praktischen Gründen nicht mehr als 500 Datenpunkte vorhalten.\n",
    "   * Glätten Sie die Datenpunkte gegebenenfalls.\n",
    " * **Protokollieren** Sie: \n",
    "   * Beschreiben Sie Ihr Vorgehen, auch für die Aufbereitung der Daten.\n",
    "   * Fügen Sie Ihrem Protokoll graphische **Darstellungen von $\\varphi(t)$ und $\\dot{\\varphi}(t)$** über einen geeigenten Zeitraum zu.\n",
    "   * Stellen Sie den Schwingungsvorgang in einem **[Phasenraumportrait](https://de.wikipedia.org/wiki/Phasenraum) $(\\varphi,\\,\\dot{\\varphi})(t)$** dar.\n",
    "   * Passen Sie an die Datenpunkte $(t, \\varphi(t))$ ein **geeignetes Modell einer linear gedämpften Schwingung** auf Grundlage von Gleichung **(6)** [hier](https://gitlab.kit.edu/kit/etp-lehre/p1-praktikum/students/-/blob/main/Resonanz/doc/Hinweise-Schwingung.md) an.\n",
    "     * Beachten Sie dass die Lagerdämpfung des Rads u.U. Anteile besitzt die über das naive Modell einer linear gedämpften Schwingung hinausgehen und fügen Sie Ihrem Modell ggf. geeignete Terme zu!\n",
    "     * Überprüfen Sie die Qualität Ihres Modells mit Hilfe des $\\chi^{2}$-Wertes der Anpassung.\n",
    "     * Das resultierende Modell sollte die Grundlage für Ihre weiteren Messungen sein.\n",
    "     * Bestimmen Sie die Größen $\\omega_{0}\\pm\\Delta\\omega_{0}$ und $\\lambda_{0}\\pm\\Delta\\lambda$ aus der Anpassung Ihres Modells an die Daten.\n",
    "\n",
    "**Hinweise und Code-Beispiele zur Verarbeitung und Darstellung der Daten finden Sie im Verzeichnis *tools* [hier](https://gitlab.kit.edu/kit/etp-lehre/p1-praktikum/students/-/blob/main/Resonanz/tools/swing.ipynb).** \n",
    "\n",
    "---\n",
    "\n",
    "Weitere Details zur Vorbereitung auf diese Aufgabe finden Sie in der Datei [Hinweise-Schwingung](https://gitlab.kit.edu/kit/etp-lehre/p1-praktikum/students/-/blob/main/Resonanz/doc/Hinweise-Schwingung.md).\n",
    "\n",
    "---"
   ]
  },
  {
   "cell_type": "markdown",
   "id": "2ca63eec-654b-489d-a0fe-b642cc1d4733",
   "metadata": {
    "jp-MarkdownHeadingCollapsed": true
   },
   "source": [
    "### Aufgabe 1.2: Bestimmung des Trägheitsmoments $\\Theta$"
   ]
  },
  {
   "cell_type": "markdown",
   "id": "a95ded25-a7a4-40f3-8f76-d83504fe8db9",
   "metadata": {},
   "source": [
    "Gehen Sie zur Bearbeitung dieser Aufgabe wie folgt vor: \n",
    "\n",
    " * Messen Sie die Winkelauslenkung des Pohlschen Rads, indem Sie **mit Hilfe eines Fadens Gewichte an den Zeiger des Pendels** anhängen, wie in **Abbildung 1** [hier](https://gitlab.kit.edu/kit/etp-lehre/p1-praktikum/students/-/blob/main/Resonanz/doc/Hinweise-Theta.md) gezeigt.\n",
    " * Bringen Sie den Faden so an, dass er durch die Randnut bei $r = r_{a}$ läuft.\n",
    " * Verwenden Sie die Gewichte mit den **Massen $m_{i}=5,\\ 10,\\ 20\\ \\mathrm{g}$**. Für die Massen können Sie eine allgemeine Unsicherheit von $\\Delta m=\\pm0.5\\ \\mathrm{g}$ annehmen.\n",
    " * Führen Sie die Messreihe in **beide Auslenkungsrichtungen des Zeigers** durch!\n",
    " * **Protokollieren** Sie: \n",
    "   * Beschreiben Sie Ihr Vorgehen.\n",
    "   * Die Auslenkungen $\\varphi_{i}\\pm\\Delta\\varphi_{i}$.\n",
    "   * Bestimmen Sie $D$ aus der **Anpassung eines geeigneten Modells** an die Punkte $(m_{i},\\varphi_{i})$.\n",
    "   * Bewerten Sie die Qualität des Modells mit Hilfe des $\\chi^{2}$-Werts der Anpassung.\n",
    "   * Bestimmen Sie $\\Theta$ aus Gleichung **(3)** [hier](https://gitlab.kit.edu/kit/etp-lehre/p1-praktikum/students/-/blob/main/Resonanz/doc/Hinweise-Schwingung.md).\n",
    "   * Pflanzen Sie alle Unsicherheiten entsprechend fort.\n",
    "   * Anm.: Sie können $\\Theta$ auch direkt aus der Anpassung bestimmen und $\\omega_{0}$ aus **Aufgabe 1.1** als äußeren Parameter in Ihr Modell einführen.\n",
    " * Vergleichen Sie das Ergebnis, im Rahmen der ermittelten Unsicherheiten mit Ihrer Erwartung aus einer einfachen geometrischen Abschätzung für $\\Theta$. \n",
    "\n",
    "---\n",
    "\n",
    "Weitere Details zur Vorbereitung auf diese Aufgabe finden Sie in der Datei [Hinweise-Theta](https://gitlab.kit.edu/kit/etp-lehre/p1-praktikum/students/-/blob/main/Resonanz/doc/Hinweise-Theta.md).\n",
    "\n",
    "---"
   ]
  },
  {
   "cell_type": "markdown",
   "id": "e5d68f41-8b6c-41eb-a570-3f01d5a76a2b",
   "metadata": {
    "jp-MarkdownHeadingCollapsed": true
   },
   "source": [
    "### Aufgabe 1.3: Schwingung mit äußerer Dämpfung"
   ]
  },
  {
   "cell_type": "markdown",
   "id": "50ae33b0-20f9-4c1a-997e-b61e1b7a209a",
   "metadata": {},
   "source": [
    "Gehen Sie zur Bearbeitung dieser Aufgabe wie folgt vor: \n",
    "\n",
    " * Sie können den Strom $I_{\\mathrm{B}}$ der Wirbelstrombremse aus dem CASSY-System heraus ansteuern.\n",
    " * Führen Sie die folgenden Messreihen für **mindestens vier verschiedene Werte von $I_{\\mathrm{B}}$** durch.\n",
    " * Wir schlagen $I_{\\mathrm{B}}=100,\\ 200,\\ 400,\\ 600\\ \\mathrm{mA}$ vor.\n",
    " * Gehen Sie für die Aufbereitung der Daten, wie für **Aufgabe 1.1** vor.\n",
    " * **Protokollieren** Sie: \n",
    "   * Beschreiben Sie Ihr Vorgehen.\n",
    "   * Passen Sie an die gewonnenen Datenpunkte $(t, \\varphi(t))$ für gegebene Werte von $I_{\\mathrm{B}}$ Ihr Modell aus **Aufgabe 1.1** an.\n",
    "   * Beurteilen Sie jeweils die Qualität des Modells mit Hilfe des $\\chi^{2}$-Werts der Anpassung an die Datenpunkte.\n",
    "   * Beachten Sie die Signifikanz eventueller Terme, die Sie zusätzlich zur linearen Dämpfung in Ihr Modell eingefügt haben.\n",
    "   * Bestimmen Sie **aus den Anpassungen die Werte $\\lambda\\pm\\Delta\\lambda$ und $\\omega\\pm\\Delta\\omega$** als Funktion von $I_{\\mathrm{B}}$.\n",
    "   * **Korrigieren Sie Ihre Werte von $\\lambda$** auf $\\lambda_{0}$ aus **Aufgabe 1.1** (mit entsprechender Fehlerfortpflanzung).\n",
    "   * Passen Sie an die gewonnenen Datenpunkte $(I_{\\mathrm{B}}, \\omega(I_{\\mathrm{B}}))$ und $(I_{\\mathrm{B}}, \\lambda(I_{\\mathrm{B}}))$ **geeignete Modelle** an.\n",
    "   * Geben Sie in der Diskussion Ihrer Auswertung eine **physikalische Motivation** für die gewählten Modelle an.\n",
    "   * Bestimmen Sie aus dem Verlauf von $\\lambda(I_{\\mathrm{B}})$ den Wert von $I_{\\mathrm{B}}\\pm\\Delta I_{\\mathrm{B}}$ für den der **aperiodeische Grenzfall auftritt**.\n",
    "   * Verifizieren Sie diesen Wert grob experimentell und dokumentieren Sie Ihre Beobachtung.\n",
    "   * Betimmen Sie mit Hilfe Ihrer Ergebnisse für $\\omega_{0}$ (aus **Aufgabe 1.1**) und $\\lambda(I_{\\mathrm{B}})$ die **Güte $Q(I_{\\mathrm{B}})$ des Pohlschen Rads** basierend auf Gleichung **(7)** [hier](https://gitlab.kit.edu/kit/etp-lehre/p1-praktikum/students/-/blob/main/Resonanz/doc/Hinweise-Schwingung.md).\n",
    "\n",
    "---\n",
    "\n",
    "Weitere Details zur Vorbereitung auf diese Aufgabe finden Sie in der Datei [Hinweise-Schwingung](https://gitlab.kit.edu/kit/etp-lehre/p1-praktikum/students/-/blob/main/Resonanz/doc/Hinweise-Schwingung.md).\n",
    "\n",
    "---"
   ]
  },
  {
   "cell_type": "markdown",
   "id": "9f8c34eb-9f47-4813-a8bf-63b39d960ace",
   "metadata": {
    "jp-MarkdownHeadingCollapsed": true
   },
   "source": [
    "## Aufgabe 2: Angeregte Schwingung"
   ]
  },
  {
   "cell_type": "markdown",
   "id": "529aa103-5d80-4ec8-bb4f-c07998acd74a",
   "metadata": {
    "jp-MarkdownHeadingCollapsed": true
   },
   "source": [
    "### Aufgabe 2.1: Mechanische Schwingung"
   ]
  },
  {
   "cell_type": "markdown",
   "id": "9c7a872f-92dc-4fc8-ad61-af6f550d1953",
   "metadata": {},
   "source": [
    "Gehen Sie zur Bearbeitung dieser Aufgabe wie folgt vor: \n",
    "\n",
    " * Verwenden Sie für die **Wirbelstrombremse den Strom $I_{\\mathrm{B}}=200\\ \\mathrm{mA}$**.\n",
    " * Nehmen Sie eine Resonanzkurve mit **midestens 12 verschiedenen Erregerfrequenzen $\\Omega_{i}$** auf.\n",
    " * Davon sollten mindestens 6 Werte in der Nähe der Resonanzfrequenz $\\omega_{0}$ liegen. Die Werte $\\Omega_{i}$ müssen nicht die gleichen Abstände haben!\n",
    " * Schätzen Sie **geeignete Unsicherheiten** $\\Delta\\Omega$ und $\\Delta\\varphi$ ab. \n",
    " * Die Bewegung des Motors wird über einen Winkelgeber in eine Spannung zwischen 0 und $5\\ \\mathrm{V}$ umgewandelt und über den Eingang B am CASSY Messsystem ausgelesen. Damit die Nulllage mit dem Pendel übereinstimmt, müssen Sie zu Beginn einen *Offset* von $2.5\\ \\mathrm{V}$ in der Konfiguration für den Eingang B des CASSY Systems vorgegeben. \n",
    " * **Protokollieren** Sie: \n",
    "   * Beschreiben Sie Ihr Vorgehen für die Messung.\n",
    "   * Die Werte der sich einstellenden Amplituden $\\{\\varphi_{0}(\\Omega_{i})\\}$, sowie der Phasenlagen $\\{\\phi(\\Omega_{i})\\}$ relativ zum anregenden Signal.\n",
    "   * Stellen Sie die **Verläufe von $\\varphi_{0}(\\Omega)$ und $\\phi(\\Omega)$** geeignet dar. \n",
    "   * Passen Sie an die Verteilung von $\\varphi_{0}(\\Omega)$ ein **Modell basierend auf Gleichung (3) [hier](https://gitlab.kit.edu/kit/etp-lehre/p1-praktikum/students/-/blob/main/Resonanz/doc/Hinweise-Resonanz.md)** an.\n",
    "   * Verwenden Sie für die Anpassung an die Verteilung $\\phi(\\Omega)$ ebenfalls ein **Modell basierend auf Gleichung (3) [hier](https://gitlab.kit.edu/kit/etp-lehre/p1-praktikum/students/-/blob/main/Resonanz/doc/Hinweise-Resonanz.md)**.\n",
    "   * Erweitern Sie die Modelle wenn nötig entsprechend, um eine möglichst gute Beschreibung der Daten zu erzielen.\n",
    "   * Beurteilen Sie schließlich die Qualität des jeweiligen Modells anhand des erzielten **$\\chi^{2}$-Werts der Anpassung**.\n",
    "   * Bestimmen Sie aus den Anpassungen die **Werte für $\\omega_{0}\\pm\\Delta\\omega_{0}$ und $\\lambda\\pm\\Delta\\lambda$**. Vergleichen Sie diese mit Ihren Ergebnissen aus **Aufgabe 1.3**.\n",
    "   * Benutzen Sie zur Bestimmung von $Q(I_{\\mathrm{B}})$ die Werte für $\\Omega$ bei denen die Amplitude der Schwingung aus dem angepassten Modell jeweils auf den Wert $1/\\sqrt{2}$ des maximalen Werts abgefallen ist. Vergleichen Sie Ihre Ergebnisse mit denen von **Aufgabe 1.3**.\n",
    "\n",
    "**Hinweise und Code-Beispiele zur Verarbeitung und Darstellung der Daten finden Sie im Verzeichnis *tools* [hier](https://gitlab.kit.edu/kit/etp-lehre/p1-praktikum/students/-/blob/main/Resonanz/tools/resonance.ipynb).** \n",
    "\n",
    "#### Hinweis für Studierende mit Hauptfach Physik:\n",
    "\n",
    "Sie können $\\omega_{0}$ sowohl aus der Verteilung $\\varphi_{0}(\\Omega)$, als auch aus der Verteilung $\\phi(\\Omega)$ bestimmen. Da es sich um jeweils unabhängige Messungen handelt können Sie den mächtigsten Modelltest und ggf. die präziseste Bestimmung von $\\omega_{0}\\pm\\Delta\\omega_{0}$ und $\\lambda\\pm\\Delta\\lambda$ aus einer gleichzeitigen Anpassung an beide Verteilungen mit Hilfe der Multifit-Option in [kafe2](https://etpwww.etp.kit.edu/~quast/kafe2/htmldoc/) erhalten. Ein Beispiel für die Verwendung der Multifit-Option finden Sie [hier](https://gitlab.kit.edu/kit/etp-lehre/p1-praktikum/students/-/blob/main/tools/kafe2_example_MultiFit.ipynb) \n",
    "\n",
    "---\n",
    "\n",
    "Weitere Details zur Vorbereitung auf diese Aufgabe finden Sie in der Datei [Hinweise-Resonanz](https://gitlab.kit.edu/kit/etp-lehre/p1-praktikum/students/-/blob/main/Resonanz/doc/Hinweise-Resonanz.md).\n",
    "\n",
    "---"
   ]
  },
  {
   "cell_type": "markdown",
   "id": "a765ce9a-f9b0-4bb5-8348-ccba0b79e79a",
   "metadata": {
    "jp-MarkdownHeadingCollapsed": true
   },
   "source": [
    "### Aufgabe 2.2: Elektrische Schwingung"
   ]
  },
  {
   "cell_type": "markdown",
   "id": "4fa83697-b1c0-4f71-9cd7-ed4d5e5b8cb8",
   "metadata": {},
   "source": [
    "Gehen Sie zur Bearbeitung dieser Aufgabe wie folgt vor: \n",
    "\n",
    " * Nehmen Sie Resonanzkurven für die drei zur Verfügung stehenden **Widerstände mit $R_{i}=8.2,\\ 47\\ \\Omega$ und $100\\ \\Omega$** auf.\n",
    " * **Protokollieren** Sie: \n",
    "   * Beschreiben Sie Ihr Vorgehen für die Messung.\n",
    "   * Stellen Sie den **Strom $I(\\Omega)$ für alle Widerstände $R_{i}$** gemeinsam als Funktion von $\\Omega$ dar. \n",
    "   * Stellen Sie für jeden Widerstand $R_{i}$ jeweils den **Strom $I(\\Omega)$ und die Impedanz $Z(\\Omega)$** gemeinsamen als Funktion von $\\Omega$ dar.\n",
    "   * Bestimmen Sie die **Güte $Q(R_{i})$** aus der Breite $\\Delta\\Omega$ der Resonanzkurve. Gehen Sie hierzu vor, wie für **Aufgabe 2.1**.\n",
    "   * Stellen Sie die **Spannungen $U_{C}(\\Omega)$ am Kondensator und $U_{L}(\\Omega)$ an der Spule** geeignet dar und diskutieren Sie anhand der Darstellungen das Phänomen der Spannungsüberhöhung.\n",
    "   * Bestimmen Sie $U_{C}(\\omega_{0})$, $U_{L}(\\omega_{0})$ und $U_{0}$ und berechnen Sie daraus $Q(R_{i})$.\n",
    "   * Überprüfen Sie die Übereinstimmung der aus beiden Methoden ermittelten Werte für $Q(R_{i})$ innerhalb der entsprechenden Unsicherheiten.\n",
    "   * Stellen Sie $\\phi(\\Omega)$ als Funktion von $\\Omega$ geeignet dar.\n",
    "\n",
    "---\n",
    "\n",
    "Weitere Details zur Vorbereitung auf diese Aufgabe finden Sie in der Datei [Hinweise-Resonanz](https://gitlab.kit.edu/kit/etp-lehre/p1-praktikum/students/-/blob/main/Resonanz/doc/Hinweise-Resonanz.md).\n",
    "\n",
    "---"
   ]
  }
 ],
 "metadata": {
  "kernelspec": {
   "display_name": "Python 3 (ipykernel)",
   "language": "python",
   "name": "python3"
  },
  "language_info": {
   "codemirror_mode": {
    "name": "ipython",
    "version": 3
   },
   "file_extension": ".py",
   "mimetype": "text/x-python",
   "name": "python",
   "nbconvert_exporter": "python",
   "pygments_lexer": "ipython3",
   "version": "3.12.3"
  }
 },
 "nbformat": 4,
 "nbformat_minor": 5
}
