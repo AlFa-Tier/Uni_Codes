{
 "cells": [
  {
   "cell_type": "markdown",
   "id": "001d51ab-bdf8-40b5-9aad-54e33181e05c",
   "metadata": {
    "jp-MarkdownHeadingCollapsed": true,
    "tags": []
   },
   "source": [
    "# Werkzeuge zur Darstellung und Modellanpassungen für den Versuch Resonanz"
   ]
  },
  {
   "cell_type": "markdown",
   "id": "a7fd56cb-ed0a-4516-86e6-9fe10a9dd806",
   "metadata": {},
   "source": [
    "Mit den folgenden Code-Fragmenten zeigen wir Ihnen: \n",
    "\n",
    " * Wie man die Daten des CASSY-Messsystems mit PhyPraKit **einließt**.\n",
    " * Wie man die eingelesenen Daten auf ein handhabbares Maß **reduziert**.\n",
    " * Wie man die Daten mit Hilfe von [*Spline*](https://de.wikipedia.org/wiki/Spline)-Funktionen **interpoliert**.\n",
    " * Wie man die angepassten *Spline*-Funktionen numerisch **differenziert**.  \n",
    " * Wie man die eingelesenen Daten mit Hilfe von *matplotlib* **darstellt**.\n",
    " * Wie man an die eingelesenen Daten ein **geeignetes Modell anpasst**, um die Parameter $\\Omega_{0}$ und $\\lambda_{0}$ zu bestimmen.\n",
    "\n",
    "Alle im Folgenden gezeigten Code-Fragmente lassen sich geeignet kombinieren. "
   ]
  },
  {
   "cell_type": "markdown",
   "id": "d7c21a7c-b21d-474a-8692-715e51386cd1",
   "metadata": {
    "jp-MarkdownHeadingCollapsed": true,
    "tags": []
   },
   "source": [
    "## Einlesen der Daten des CASSY-Messsystems mit PhyPraKit"
   ]
  },
  {
   "cell_type": "markdown",
   "id": "6b48a8c8-ffe3-484b-8434-0ffbc9006ece",
   "metadata": {},
   "source": [
    "Mit dem folgenden Code-Fragment zeigen wir Ihnen:\n",
    "    \n",
    " * Wie man mit der PhyPrakit Funktion *labxParser* Daten aus einer *labx*-Datei des CASSY-Messsystems **einließt**.\n",
    " * Wir verwenden hierzu die Beispiel-Datei `CassyExample.labx`, aus dem *tools*-Verzeichnis."
   ]
  },
  {
   "cell_type": "code",
   "execution_count": 105,
   "id": "c5723f54-17d7-4ba2-ac75-56ce00cbac87",
   "metadata": {},
   "outputs": [
    {
     "ename": "ModuleNotFoundError",
     "evalue": "No module named 'PhyPraKit.phyTools'",
     "output_type": "error",
     "traceback": [
      "\u001b[0;31m---------------------------------------------------------------------------\u001b[0m",
      "\u001b[0;31mModuleNotFoundError\u001b[0m                       Traceback (most recent call last)",
      "Cell \u001b[0;32mIn[105], line 2\u001b[0m\n\u001b[1;32m      1\u001b[0m \u001b[38;5;28;01mimport\u001b[39;00m \u001b[38;5;21;01mnumpy\u001b[39;00m \u001b[38;5;28;01mas\u001b[39;00m \u001b[38;5;21;01mnp\u001b[39;00m\n\u001b[0;32m----> 2\u001b[0m \u001b[38;5;28;01mfrom\u001b[39;00m \u001b[38;5;21;01mPhyPraKit\u001b[39;00m\u001b[38;5;21;01m.\u001b[39;00m\u001b[38;5;21;01mphyTools\u001b[39;00m \u001b[38;5;28;01mimport\u001b[39;00m labxParser\n\u001b[1;32m      4\u001b[0m \u001b[38;5;66;03m# Read data from CASSY; \u001b[39;00m\n\u001b[1;32m      5\u001b[0m \u001b[38;5;66;03m# column_names: hosts the column names; \u001b[39;00m\n\u001b[1;32m      6\u001b[0m \u001b[38;5;66;03m# data: hosts the individual columns as lists. \u001b[39;00m\n\u001b[0;32m   (...)\u001b[0m\n\u001b[1;32m      9\u001b[0m \u001b[38;5;66;03m# the labx file. If you want to shut the function up set prlevel=0. Check \u001b[39;00m\n\u001b[1;32m     10\u001b[0m \u001b[38;5;66;03m# help(labxParser) to learn more about this function\u001b[39;00m\n\u001b[1;32m     11\u001b[0m column_names, data \u001b[38;5;241m=\u001b[39m labxParser(\u001b[38;5;124m\"\u001b[39m\u001b[38;5;124mCassyExample.labx\u001b[39m\u001b[38;5;124m\"\u001b[39m, prlevel\u001b[38;5;241m=\u001b[39m\u001b[38;5;241m1\u001b[39m)\n",
      "\u001b[0;31mModuleNotFoundError\u001b[0m: No module named 'PhyPraKit.phyTools'"
     ]
    }
   ],
   "source": [
    "import numpy as np\n",
    "from PhyPraKit.phyTools import labxParser\n",
    "\n",
    "# Read data from CASSY; \n",
    "# column_names: hosts the column names; \n",
    "# data: hosts the individual columns as lists. \n",
    "# The argument prlevel steers how much information is printed to screen. We\n",
    "# set it to 1 here, so that you can learn something about the structure of \n",
    "# the labx file. If you want to shut the function up set prlevel=0. Check \n",
    "# help(labxParser) to learn more about this function\n",
    "column_names, data = labxParser(\"CassyExample.labx\", prlevel=1)\n",
    "# For this example we collect the oservables \"Zeit\" and \"Winkel\"\n",
    "t=[]; phi=[]\n",
    "# We cut off the first 400 and last 450 lines to reduce the amount of data \n",
    "# points from ~1300 to <500. Downsampling is not really an option for this \n",
    "# example, since the oscillation period is very small\n",
    "LOWER_CUT= 400\n",
    "UPPER_CUT=-450\n",
    "for i, tag in enumerate(column_names):\n",
    "    # Column names are encoded in a more cryptic way than necessary by Leybold\n",
    "    # experts :-(; uncomment the following line to check this encoding\n",
    "    #print(tag.split(\":\"))\n",
    "    tcn = tag.split(\":\")[1]\n",
    "    if tcn == \"Zeit\":\n",
    "        # Copy full column in variable t\n",
    "        t = np.array(data[i][LOWER_CUT:UPPER_CUT])\n",
    "    if tcn == \"Winkel\":\n",
    "        # Copy full column in variable phi\n",
    "        phi = np.array(data[i][LOWER_CUT:UPPER_CUT])"
   ]
  },
  {
   "cell_type": "markdown",
   "id": "2d624120-49a5-4f05-aa56-3aa200a04726",
   "metadata": {
    "jp-MarkdownHeadingCollapsed": true,
    "tags": []
   },
   "source": [
    "## Dastellung der eingelesenen Daten"
   ]
  },
  {
   "cell_type": "markdown",
   "id": "3dcacf72-00f4-4bff-8aa9-cba32b5425da",
   "metadata": {},
   "source": [
    "Mit dem folgenden Code-Fragment zeigen wir Ihnen:\n",
    "    \n",
    " * Wie man sich mit Hilfe von *numpy* die (numerische) Ableitung $\\partial_{t}\\varphi$ verschafft.\n",
    " * Wie man $\\varphi(t)$, $\\dot{\\varphi}(t)$ und ein Phasenraumportrait $(\\varphi, \\dot{\\varphi})(t)$ mit Hilfe von *matplotlib* darstellt."
   ]
  },
  {
   "cell_type": "code",
   "execution_count": null,
   "id": "f9886e0b-835c-4c91-8b3e-23d662322e3a",
   "metadata": {},
   "outputs": [],
   "source": [
    "# Choose difference between first an second entry in t as estimate for dt\n",
    "dt   = t[1]-t[0]\n",
    "# Apply numerical derivative to phi\n",
    "dphi = np.gradient(phi, dt)"
   ]
  },
  {
   "cell_type": "code",
   "execution_count": null,
   "id": "3c27f647-1393-40a6-9c4f-fbe6b4cda016",
   "metadata": {},
   "outputs": [],
   "source": [
    "import matplotlib.pyplot as plt\n",
    "\n",
    "# Display phi and dphi\n",
    "fig = plt.figure(\"Winkel und Winkelgeschwindigkeit\", figsize=(12.0, 12.0))\n",
    "ax1 = fig.add_subplot(2, 1, 1)\n",
    "ax1.set_xlabel(\"t (s)\")\n",
    "ax1.set_ylabel(r\"$\\varphi(t)$ (rad)\")\n",
    "ax1.plot(t, phi , color=\"darkblue\")\n",
    "ax1.grid()\n",
    "ax2 = fig.add_subplot(2, 1, 2)\n",
    "ax2.set_xlabel(\"t (s)\")\n",
    "ax2.set_ylabel(r\"$\\dot{\\varphi}(t)$ (rad/s)\")\n",
    "ax2.plot(t, dphi , color=\"darkcyan\")\n",
    "ax2.grid()\n",
    "\n",
    "plt.show()"
   ]
  },
  {
   "cell_type": "code",
   "execution_count": null,
   "id": "750e98b2-bea9-4bd0-912b-8abb19d1f8db",
   "metadata": {},
   "outputs": [],
   "source": [
    "from scipy import interpolate\n",
    "\n",
    "# Do a nice cubic spline interpolation with help of the scipy function \n",
    "# interpolate\n",
    "cs_phi  = interpolate.UnivariateSpline(t, phi, s=0)\n",
    "# Get dphi as derivative of the spline approximation to phi\n",
    "cs_dphi = cs_phi.derivative()\n",
    "\n",
    "# Display Phasenraumprotrait\n",
    "tplt = np.linspace(t[0], t[-1], 50000)\n",
    "fig = plt.figure(\"Phasenraumportrait\", figsize=(6.0, 6.0))\n",
    "plt.xlabel(r\"$\\varphi(t)$ (rad)\")\n",
    "plt.ylabel(r\"$\\dot{\\varphi}(t)$ (rad/s)\")\n",
    "plt.plot(cs_phi(tplt), cs_dphi(tplt) , color=\"darkblue\")\n",
    "plt.grid()\n",
    "\n",
    "plt.show()"
   ]
  },
  {
   "cell_type": "markdown",
   "id": "f41154f9-1c50-4c21-bc4d-3d270ab3c455",
   "metadata": {
    "jp-MarkdownHeadingCollapsed": true,
    "tags": []
   },
   "source": [
    "## Anpassung eines geeigneten Modells an die Daten"
   ]
  },
  {
   "cell_type": "markdown",
   "id": "0122e806-5095-436e-9c0a-2224e42b8688",
   "metadata": {},
   "source": [
    "Mit dem folgenden Code-Fragment zeigen wir Ihnen:\n",
    "    \n",
    " * Wie man ein geeignetes Modell an die extrahierten Daten anpasst."
   ]
  },
  {
   "cell_type": "code",
   "execution_count": null,
   "id": "22588b29-966b-4adf-9756-c53eec7d7a17",
   "metadata": {},
   "outputs": [],
   "source": [
    "from kafe2 import XYContainer\n",
    "\n",
    "# Fill XYContainer\n",
    "xy_data = XYContainer(x_data=t, y_data=phi)\n",
    "# We add some typical uncertaintes here\n",
    "xy_data.add_error(axis=\"x\", err_val=0.0125)\n",
    "xy_data.add_error(axis=\"y\", err_val=0.0500)\n",
    "xy_data.label = \"Data\"\n",
    "\n",
    "from kafe2 import Fit, Plot, ContoursProfiler\n",
    "\n",
    "# Fit model, we start of with a damped oscillation, and potentially extend by \n",
    "# a linear extra term to additional frictional effects of the wheel. The POIs \n",
    "# (parameters of interest) are lambda0 and omega0.\n",
    "def harmonic_damped(x, lambda0=0.01, x0=3.5, omega0=3.1, phi0=0., a=-1.0):\n",
    "      return x0*np.exp(-x*lambda0)*np.cos(omega0*x+phi0)+a*x\n",
    "# Declare and do the fit with a bit of cosmetic customization\n",
    "fit = Fit(xy_data, model_function=harmonic_damped)\n",
    "fit.assign_model_function_latex_name(r\"\\Omega_{X}\")\n",
    "fit.assign_parameter_latex_names(\n",
    "    lambda0 = r\"\\lambda_{0}\", \n",
    "    x0      = r\"x_{0}\", \n",
    "    omega0  = r\"\\omega_{0}\",\n",
    "    phi0    = r\"\\phi_{0}\",\n",
    "    a       = r\"a\"\n",
    ")\n",
    "# Set limits for parameters if needed. \n",
    "fit.limit_parameter(\"phi0\", lower=-180., upper=180.)\n",
    "fit.limit_parameter(\"x0\", lower=0.)\n",
    "# Do the fit\n",
    "fit.do_fit()\n",
    "# Return a reasonably clean report\n",
    "fit.report(show_data=False, show_model=False)\n",
    "\n",
    "# Plot the result with a bit of customization\n",
    "plot = Plot(fit_objects=fit)\n",
    "plot.customize('model_line', 'label', [(0, r'Model Pohls Wheel ($\\Omega_{X}$)')])\n",
    "plot.customize('model_line', 'color', [(0, 'darkblue')])\n",
    "plot.customize('model_line', 'linestyle', [(0, 'solid')])\n",
    "plot.customize('model_error_band', 'label', [(0, r'$\\pm1\\sigma$')])\n",
    "plot.customize('model_error_band', 'color', [(0, 'lightsteelblue')])\n",
    "plot.x_label = r'$t\\,(\\mathrm{s})$'\n",
    "plot.y_label = r'$\\varphi\\,(rad)$'\n",
    "plot.plot()  \n",
    "\n",
    "# Create contour plots, this step should only be used when using less than 300 \n",
    "# data points, since it may take really long otherwise\n",
    "#cpf = ContoursProfiler(fit)\n",
    "#cpf.plot_profiles_contours_matrix()\n",
    "\n",
    "# Show plot in notebook\n",
    "plot.show()"
   ]
  }
 ],
 "metadata": {
  "kernelspec": {
   "display_name": "Python 3 (ipykernel)",
   "language": "python",
   "name": "python3"
  },
  "language_info": {
   "codemirror_mode": {
    "name": "ipython",
    "version": 3
   },
   "file_extension": ".py",
   "mimetype": "text/x-python",
   "name": "python",
   "nbconvert_exporter": "python",
   "pygments_lexer": "ipython3",
   "version": "3.12.3"
  }
 },
 "nbformat": 4,
 "nbformat_minor": 5
}
