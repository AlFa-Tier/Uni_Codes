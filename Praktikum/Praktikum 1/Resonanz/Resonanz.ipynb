{
 "cells": [
  {
   "cell_type": "markdown",
   "id": "5e65796f-29ff-4821-9f49-17f8ce830371",
   "metadata": {
    "jp-MarkdownHeadingCollapsed": true
   },
   "source": [
    "# Fakultät für Physik \n",
    "\n",
    "## Physikalisches Praktikum P1 für Studierende der Physik\n",
    "\n",
    "Versuch P1-121, 221, 123 (Stand: **Oktober 2024**)\n",
    "\n",
    "[Raum F1-21](https://labs.physik.kit.edu/img/Klassische-Praktika/Lageplan_P1P2.png)\n",
    "\n",
    "# Resonanz"
   ]
  },
  {
   "cell_type": "markdown",
   "id": "ab3160e4-189a-4cf8-b018-d9302f696fe8",
   "metadata": {},
   "source": [
    "Name: __________________ Vorname: __________________ E-Mail: __________________\n",
    "\n",
    "\\begin{equation*}\n",
    "\\begin{split}\n",
    "&\\\\\n",
    "&\\\\\n",
    "\\end{split}\n",
    "\\end{equation*}\n",
    "\n",
    "Name: __________________ Vorname: __________________ E-Mail: __________________\n",
    "\n",
    "\\begin{equation*}\n",
    "\\begin{split}\n",
    "&\\\\\n",
    "&\\\\\n",
    "&\\\\\n",
    "\\end{split}\n",
    "\\end{equation*}\n",
    "\n",
    "Gruppennummer: _____\n",
    "\n",
    "\\begin{equation*}\n",
    "\\begin{split}\n",
    "&\\\\\n",
    "&\\\\\n",
    "&\\\\\n",
    "\\end{split}\n",
    "\\end{equation*}\n",
    "\n",
    "\n",
    "Betreuer: __________________\n",
    "\n",
    "\\begin{equation*}\n",
    "\\begin{split}\n",
    "&\\\\\n",
    "&\\\\\n",
    "&\\\\\n",
    "\\end{split}\n",
    "\\end{equation*}\n",
    "\n",
    "Versuch durchgeführt am: __________________"
   ]
  },
  {
   "cell_type": "markdown",
   "id": "41e92516-1938-42ea-967a-7bc581aeccec",
   "metadata": {},
   "source": [
    "---\n",
    "\n",
    "**Beanstandungen zu Protokoll Version _____:**\n",
    "\n",
    "\\begin{equation*}\n",
    "\\begin{split}\n",
    "&\\\\\n",
    "&\\\\\n",
    "&\\\\\n",
    "&\\\\\n",
    "&\\\\\n",
    "&\\\\\n",
    "&\\\\\n",
    "&\\\\\n",
    "&\\\\\n",
    "&\\\\\n",
    "\\end{split}\n",
    "%\\text{\\vspace{10cm}}\n",
    "\\end{equation*}\n",
    "\n",
    "<br>\n",
    "Testiert am: __________________ Testat: __________________"
   ]
  },
  {
   "cell_type": "markdown",
   "id": "0963271e-f27d-4460-9996-bd81b0d9c8fa",
   "metadata": {
    "jp-MarkdownHeadingCollapsed": true
   },
   "source": [
    "# Durchführung"
   ]
  },
  {
   "cell_type": "markdown",
   "id": "74c0058d-6172-4ec1-b784-533d42cf75a8",
   "metadata": {},
   "source": [
    "**Detaillierte Hinweise zur Durchführung der Versuche finden Sie in der Datei [Resonanz_Hinweise.ipynb](https://gitlab.kit.edu/kit/etp-lehre/p1-praktikum/students/-/blob/main/Resonanz/Resonanz_Hinweise.ipynb)**"
   ]
  },
  {
   "cell_type": "markdown",
   "id": "fe3bae3e-348b-4d29-a7c6-54f909e1b7f1",
   "metadata": {
    "jp-MarkdownHeadingCollapsed": true
   },
   "source": [
    "## Aufgabe 1: Freie Schwingung"
   ]
  },
  {
   "cell_type": "markdown",
   "id": "641a4d9b-829f-47bd-b325-25931cfddecd",
   "metadata": {
    "jp-MarkdownHeadingCollapsed": true
   },
   "source": [
    "### Aufgabe 1.1: Schwingung ohne äußere Dämpfung\n",
    "\n",
    "Stellen Sie die folgenden Größen für das [Pohlsche Rad](https://de.wikipedia.org/wiki/Pohlsches_Rad) geeignet dar: \n",
    "\n",
    " - Den zeitlichen Verlauf des **Phasenwinkels, $\\varphi(t)$**.\n",
    " - Den zeitlichen Verlauf der **Winkelgeschwindigkeit, $\\dot{\\varphi}(t)$**.\n",
    " - Stellen Sie den Schwingungsvorgang in einem [Phasenraumportrait](https://de.wikipedia.org/wiki/Phasenraum) $(\\varphi,\\,\\dot{\\varphi})(t)$ dar. \n",
    "\n",
    "Der Schwingungsvorgang ist auch ohne äußere Dämpfung nicht dämpfungsfrei. Passen Sie ein geeignetes Modell mit linearer Dämpfung an die Verteilung $\\varphi(t)$ an und bestimmmen Sie daraus die **Eigenfrequenz $\\omega_{0}$ und die Dämpfung $\\lambda_{0}$** der Schwingung. \n",
    "\n",
    "---"
   ]
  },
  {
   "cell_type": "markdown",
   "id": "0b0d83d9-38ec-481b-b458-ad5bb886eb9e",
   "metadata": {},
   "source": [
    "**V E R S U C H S B E S C H R E I B U N G**\n",
    "\n",
    "*Fügen Sie Ihre Versuchsbeschreibung hier ein. Löschen Sie hierzu diesen kursiv gestellten Text aus dem Dokument.* \n",
    "\n",
    "---"
   ]
  },
  {
   "cell_type": "markdown",
   "id": "8b60c9fe-d5ab-47aa-876a-b05d183c4d91",
   "metadata": {},
   "source": [
    "**L Ö S U N G**\n",
    "\n",
    "*Fügen Sie numerische Berechnungen zur Lösung dieser Aufgabe hier ein. Löschen Sie hierzu diesen kursiv gestellten Text aus dem Dokument. Um Code-Fragmente und Skripte in [Python](https://www.python.org/), sowie ggf. bildliche Darstellungen direkt ins [Jupyter notebook](https://jupyter.org/) einzubinden verwandeln Sie diese Zelle in eine Code-Zelle. Fügen Sie ggf. weitere Code-Zellen zu.* \n",
    "\n",
    "---"
   ]
  },
  {
   "cell_type": "markdown",
   "id": "7dd49219-53ea-4edc-9ab0-0a25dee75ac0",
   "metadata": {},
   "source": [
    "**D I S K U S S I O N**\n",
    "\n",
    "*Fügen Sie eine abschließende Diskussion und Bewertung Ihrer Lösung hier ein. Löschen Sie hierzu diesen kursiv gestellten Text aus dem Dokument.* \n",
    "\n",
    "---"
   ]
  },
  {
   "cell_type": "markdown",
   "id": "77dfdd87-dfcb-4ad8-9360-5b173febb895",
   "metadata": {
    "jp-MarkdownHeadingCollapsed": true
   },
   "source": [
    "### Aufgabe 1.2: Bestimmung des Trägheitsmoments $\\Theta$\n",
    "\n",
    " * Bestimmen Sie aus einer statischen Messung die **Winkelrichtgröße $D$** des Pohlschen Rads.\n",
    " * Bestimmen Sie aus $D$ und Ihren Ergebnissen aus **Aufgabe 1.1** das **Trägheitsmoment $\\Theta$** des Pohlschen Rads.\n",
    " * Vergleichen Sie das Ergebnis mit einer einfachen geometrischen Abschätzung. \n",
    "\n",
    "---"
   ]
  },
  {
   "cell_type": "markdown",
   "id": "63d06d6f-7389-43b8-aa4c-d82730265783",
   "metadata": {},
   "source": [
    "**V E R S U C H S B E S C H R E I B U N G**\n",
    "\n",
    "*Fügen Sie Ihre Versuchsbeschreibung hier ein. Löschen Sie hierzu diesen kursiv gestellten Text aus dem Dokument.* \n",
    "\n",
    "---"
   ]
  },
  {
   "cell_type": "markdown",
   "id": "729d4cf1-4a97-4270-8df8-4d0abba4f6dc",
   "metadata": {},
   "source": [
    "**L Ö S U N G**\n",
    "\n",
    "*Fügen Sie numerische Berechnungen zur Lösung dieser Aufgabe hier ein. Löschen Sie hierzu diesen kursiv gestellten Text aus dem Dokument. Um Code-Fragmente und Skripte in [Python](https://www.python.org/), sowie ggf. bildliche Darstellungen direkt ins [Jupyter notebook](https://jupyter.org/) einzubinden verwandeln Sie diese Zelle in eine Code-Zelle. Fügen Sie ggf. weitere Code-Zellen zu.* \n",
    "\n",
    "---"
   ]
  },
  {
   "cell_type": "markdown",
   "id": "28cbfb10-64e4-48f8-b9a7-9fc4ab72bf51",
   "metadata": {},
   "source": [
    "**D I S K U S S I O N**\n",
    "\n",
    "*Fügen Sie eine abschließende Diskussion und Bewertung Ihrer Lösung hier ein. Löschen Sie hierzu diesen kursiv gestellten Text aus dem Dokument.* \n",
    "\n",
    "---"
   ]
  },
  {
   "cell_type": "markdown",
   "id": "d71c251e-8c1d-49ca-a818-bad1fdf0ca49",
   "metadata": {
    "jp-MarkdownHeadingCollapsed": true
   },
   "source": [
    "### Aufgabe 1.3: Schwingung mit äußerer Dämpfung\n",
    "\n",
    "Die Drehbewegung des Pohlschen Rads kann durch eine [Wirbelstrombremse](https://de.wikipedia.org/wiki/Wirbelstrom) **zusätzlich von außen gedämpft** werden.\n",
    " \n",
    " * Bestimmen Sie $\\varphi(t)$ für vier verschiedene Ströme $I_{\\mathrm{B}}$ der Wirbelstrombremse.   \n",
    " * **Bestimmen Sie $\\lambda(I_{\\mathrm{B}})$** durch Anpassung Ihres Modells aus **Aufgabe 1.1** an die aufgezeichneten Daten. \n",
    " * Überprüfen Sie die **Abhängikeiten $\\omega(I_{\\mathrm{B}})$ und $\\lambda(I_{\\mathrm{B}})$** anhand der aufgezeichneten Daten.\n",
    " * Bestimmen Sie aus dem Verlauf von $\\lambda(I_{\\mathrm{B}})$ den Wert von $I_{\\mathrm{B}}$ für den der **aperiodische Grenzfall** eintritt.\n",
    " * Bestimmen Sie aus $\\omega_{0}$ und $\\lambda(I_{\\mathrm{B}})$ die **Güte $Q(I_{\\mathrm{B}})$** des Pohlschen Rads.\n",
    "\n",
    "---"
   ]
  },
  {
   "cell_type": "markdown",
   "id": "c531e224-6c53-4e1e-b677-a85568e93afe",
   "metadata": {},
   "source": [
    "**V E R S U C H S B E S C H R E I B U N G**\n",
    "\n",
    "*Fügen Sie Ihre Versuchsbeschreibung hier ein. Löschen Sie hierzu diesen kursiv gestellten Text aus dem Dokument.* \n",
    "\n",
    "---"
   ]
  },
  {
   "cell_type": "markdown",
   "id": "8f3c12af-ec5b-411f-b773-07961025a5f1",
   "metadata": {},
   "source": [
    "**L Ö S U N G**\n",
    "\n",
    "*Fügen Sie numerische Berechnungen zur Lösung dieser Aufgabe hier ein. Löschen Sie hierzu diesen kursiv gestellten Text aus dem Dokument. Um Code-Fragmente und Skripte in [Python](https://www.python.org/), sowie ggf. bildliche Darstellungen direkt ins [Jupyter notebook](https://jupyter.org/) einzubinden verwandeln Sie diese Zelle in eine Code-Zelle. Fügen Sie ggf. weitere Code-Zellen zu.* \n",
    "\n",
    "---"
   ]
  },
  {
   "cell_type": "markdown",
   "id": "0b1ec9e5-a405-4c01-835a-a0c3e00b9bf3",
   "metadata": {},
   "source": [
    "**D I S K U S S I O N**\n",
    "\n",
    "*Fügen Sie eine abschließende Diskussion und Bewertung Ihrer Lösung hier ein. Löschen Sie hierzu diesen kursiv gestellten Text aus dem Dokument.* \n",
    "\n",
    "---"
   ]
  },
  {
   "cell_type": "markdown",
   "id": "9a0a8d8d-96ea-4602-8f0c-bd93b9832777",
   "metadata": {
    "jp-MarkdownHeadingCollapsed": true
   },
   "source": [
    "## Aufgabe 2: Angeregte Schwingung"
   ]
  },
  {
   "attachments": {},
   "cell_type": "markdown",
   "id": "4df5f41a-640d-40e6-87c4-a54589e47dac",
   "metadata": {
    "jp-MarkdownHeadingCollapsed": true
   },
   "source": [
    "### Aufgabe 2.1: Mechanische Schwingung\n",
    "\n",
    " * Untersuchen Sie den Fall der **Resonanz am Pohlschen Rad mit Wirbelstrombremse**.\n",
    " * Diskutieren Sie den Verlauf sowohl der Amplitude $\\varphi_{0}(\\Omega)$, als auch der Phasenlage $\\phi(\\Omega)$ als funktion der Erregerfrequenz $\\Omega$.\n",
    " * Bestimmen Sie $Q(I_{\\mathrm{B}})$ aus der Resonanzkurve und vergleichen Sie Ihre Ergebnisse mit den Ergebnissen aus **Aufgabe 1.3**. \n",
    "\n",
    "---"
   ]
  },
  {
   "cell_type": "markdown",
   "id": "a8efe063-e051-4669-8923-41c0fbf41553",
   "metadata": {},
   "source": [
    "**V E R S U C H S B E S C H R E I B U N G**\n",
    "\n",
    "*Fügen Sie Ihre Versuchsbeschreibung hier ein. Löschen Sie hierzu diesen kursiv gestellten Text aus dem Dokument.* \n",
    "\n",
    "---"
   ]
  },
  {
   "cell_type": "markdown",
   "id": "1247d4d8-006e-4001-adbb-faa375613d6b",
   "metadata": {},
   "source": [
    "**L Ö S U N G**\n",
    "\n",
    "*Fügen Sie numerische Berechnungen zur Lösung dieser Aufgabe hier ein. Löschen Sie hierzu diesen kursiv gestellten Text aus dem Dokument. Um Code-Fragmente und Skripte in [Python](https://www.python.org/), sowie ggf. bildliche Darstellungen direkt ins [Jupyter notebook](https://jupyter.org/) einzubinden verwandeln Sie diese Zelle in eine Code-Zelle. Fügen Sie ggf. weitere Code-Zellen zu.* \n",
    "\n",
    "---"
   ]
  },
  {
   "cell_type": "markdown",
   "id": "03f63a6c-bb1f-4578-8097-7caf838d6827",
   "metadata": {},
   "source": [
    "**D I S K U S S I O N**\n",
    "\n",
    "*Fügen Sie eine abschließende Diskussion und Bewertung Ihrer Lösung hier ein. Löschen Sie hierzu diesen kursiv gestellten Text aus dem Dokument.* \n",
    "\n",
    "---"
   ]
  },
  {
   "cell_type": "markdown",
   "id": "81f63079-eefa-40a1-b2c2-a032b978b11f",
   "metadata": {
    "jp-MarkdownHeadingCollapsed": true
   },
   "source": [
    "### Aufgabe 2.2: Elektrische Schwingung\n",
    "\n",
    " * Untersuchen Sie den Fall der **Resonanz am Serienschwingkreis** bestehend aus Kondensator, Spule und verschiedenen Widerständen $R_{i}$.\n",
    " * Stellen Sie den Strom $I$, die Impedanz $Z$, sowie die Spannungen $U_{C}$ am Kondensator und $U_{L}$ an der Spule für drei verschiedene Widerstände $R_{i}$ als Funktion von $\\Omega$ dar. \n",
    " * **Bestimmen Sie $Q(R)$** aus der Resonanzbreite und der Resonanzüberhöhung an Kondensator und Spule und vergleichen Sie die nach beiden Methoden bestimmten Ergebnisse. \n",
    " * Stellen Sie $\\phi(\\Omega)$ dar.\n",
    "\n",
    "---"
   ]
  },
  {
   "cell_type": "markdown",
   "id": "498d4003-af03-4420-a851-365ebec0c7ad",
   "metadata": {},
   "source": [
    "**V E R S U C H S B E S C H R E I B U N G**\n",
    "\n",
    "*Fügen Sie Ihre Versuchsbeschreibung hier ein. Löschen Sie hierzu diesen kursiv gestellten Text aus dem Dokument.* \n",
    "\n",
    "---"
   ]
  },
  {
   "cell_type": "markdown",
   "id": "558d46f5-3e35-46f6-b375-eea668671448",
   "metadata": {},
   "source": [
    "**L Ö S U N G**\n",
    "\n",
    "*Fügen Sie numerische Berechnungen zur Lösung dieser Aufgabe hier ein. Löschen Sie hierzu diesen kursiv gestellten Text aus dem Dokument. Um Code-Fragmente und Skripte in [Python](https://www.python.org/), sowie ggf. bildliche Darstellungen direkt ins [Jupyter notebook](https://jupyter.org/) einzubinden verwandeln Sie diese Zelle in eine Code-Zelle. Fügen Sie ggf. weitere Code-Zellen zu.* \n",
    "\n",
    "---"
   ]
  },
  {
   "cell_type": "markdown",
   "id": "3ebc5444-2f49-45ef-86f3-27a22669b2e0",
   "metadata": {},
   "source": [
    "**D I S K U S S I O N**\n",
    "\n",
    "*Fügen Sie eine abschließende Diskussion und Bewertung Ihrer Lösung hier ein. Löschen Sie hierzu diesen kursiv gestellten Text aus dem Dokument.* \n",
    "\n",
    "---"
   ]
  },
  {
   "cell_type": "markdown",
   "id": "91f43895-a8e4-43d8-9c44-70f15521d9d8",
   "metadata": {
    "jp-MarkdownHeadingCollapsed": true
   },
   "source": [
    "# Beurteilung"
   ]
  },
  {
   "cell_type": "markdown",
   "id": "2c1f37d5-d351-4851-8514-bc96e42446c0",
   "metadata": {},
   "source": [
    " * Nach Abschluss des Versuchs haben Sie die Möglichkeit diesen Versuch individuell zu beurteilen.\n",
    " * **Folgen Sie zur Beurteilung dieses Versuchs diesem [Link](https://www.empirio.de/s/VmVbVV2b25)**.\n",
    " * Beachten Sie, dass jede:r Studierende nur einmal pro Versuch eine Beurteilung abgeben kann.\n",
    " * Wir empfehlen die Beurteilung nach der Besprechung Ihrer Versuchsauswertung mit Ihrem:r Tutor:in auszufüllen.  "
   ]
  }
 ],
 "metadata": {
  "kernelspec": {
   "display_name": "Python 3 (ipykernel)",
   "language": "python",
   "name": "python3"
  },
  "language_info": {
   "codemirror_mode": {
    "name": "ipython",
    "version": 3
   },
   "file_extension": ".py",
   "mimetype": "text/x-python",
   "name": "python",
   "nbconvert_exporter": "python",
   "pygments_lexer": "ipython3",
   "version": "3.12.3"
  }
 },
 "nbformat": 4,
 "nbformat_minor": 5
}
