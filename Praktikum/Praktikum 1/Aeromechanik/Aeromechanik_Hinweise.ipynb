{
 "cells": [
  {
   "cell_type": "markdown",
   "id": "0202679b-409b-468a-b0b5-a47dffaa9d86",
   "metadata": {
    "jp-MarkdownHeadingCollapsed": true,
    "tags": []
   },
   "source": [
    "# Hinweise zum Versuch Aeromechanik"
   ]
  },
  {
   "cell_type": "markdown",
   "id": "be8ec8ba-1984-48c2-a49f-ef2b303fad67",
   "metadata": {
    "jp-MarkdownHeadingCollapsed": true
   },
   "source": [
    "## Aufgabe 1: Bernoulli-Gleichung"
   ]
  },
  {
   "cell_type": "markdown",
   "id": "e302b387-cd10-44b6-9a36-bf14a6cc9b3d",
   "metadata": {
    "jp-MarkdownHeadingCollapsed": true
   },
   "source": [
    "### Aufgabe 1.1: Statischer und dynamischer Druck"
   ]
  },
  {
   "cell_type": "markdown",
   "id": "ad3f28f8-e664-4158-8156-d8e57440fd52",
   "metadata": {},
   "source": [
    "Gehen Sie zur Bearbeitung dieser Aufgabe wie folgt vor:\n",
    "\n",
    " * Bringen Sie den Motor mit Düse (D) zur Erzeugung des Luftstroms (LS) auf die vorgegebene **Drehzahl von $f=1300$ bzw. $2600\\,\\mathrm{U/min}$**.\n",
    " * Verbinden Sie die Sonde (S) mit dem Feinmanometer (FM).\n",
    " * Bringen Sie S im Abstand von $d=10\\,\\mathrm{cm}$ vom Ausgang von D axial (d.h. im Radius $r=0$) parallel in den LS ein, um den Gesamtdruck $p_{0}$ zu messen.\n",
    " * Drehen Sie die Sonde daraufhin um $\\Delta\\varphi=90^{\\circ}$, um den statischen Druck $p_{s}$ zu messen. Achten Sie darauf, dass sich der Druckpunkt von S immernoch im Punkt $(d=10\\,\\mathrm{cm}, r=0)$ befindet.\n",
    " * Um $p_{0}$ und $p_{s}$ zuverlässig messen zu können muss S so exakt wie möglich **parallel oder senkrecht** zum LS ausgerichtet sein. Überprüfen Sie die Auswirkung $\\Delta p_{i}(\\varphi)$ einer ungenauen Bestimmung des Winkels $\\varphi$ auf die Druckmessung.\n",
    " * Nehmen Sie diese Messungen sowohl für die **Rohrsonde** als auch für die **Scheibensonde** vor. \n",
    " * **Protokollieren Sie**:\n",
    "   * Ihr Vorgehen bei der Messung.  \n",
    "   * Die Werte $p_{0}\\pm\\Delta p _{0}$ und $p_{s}\\pm\\Delta p _{s}$.\n",
    "   * Die Unsicherheiten sollten den Ablesefehler am FM und die Unsicherheit $\\Delta p_{i}(\\varphi)$ repäsentieren.\n",
    "   * Bestimmen Sie aus den gemessenen Werten den dynamischen Druck $p_{d}$ mit entsprechenden Unsicherheiten.\n",
    " * Diskutieren und Interpretieren Sie Ihre Ergebnisse. \n",
    "\n",
    "---\n",
    "\n",
    "Weitere Details zur Vorbereitung auf diese Aufgabe finden Sie in der Datei [Hinweise-Druck](https://gitlab.kit.edu/kit/etp-lehre/p1-praktikum/students/-/blob/main/Aeromechanik/doc/Hinweise-Druck.md).\n",
    "\n",
    "---"
   ]
  },
  {
   "cell_type": "markdown",
   "id": "20887c3e-9c2e-4cf2-918e-c6091ec8f900",
   "metadata": {
    "jp-MarkdownHeadingCollapsed": true
   },
   "source": [
    "### Aufgabe 1.2: Venturirohr"
   ]
  },
  {
   "cell_type": "markdown",
   "id": "11585d55-0f47-40ba-8c73-5137c7e8e9a0",
   "metadata": {},
   "source": [
    "Gehen Sie zur Bearbeitung dieser Aufgabe wie folgt vor:\n",
    "\n",
    " * Montieren Sie das Venturirohr (VR) vor D. Am VR befinden sich an acht Stellen Flüssigkeitsmanometer.\n",
    " * Schätzen Sie die **Durchmesser $d_{j}$ an den Enden und in der Mitte** des VR ab.\n",
    " * Schätzen Sie die **Abstände der Messpunkte** ab. \n",
    " * Bestimmen Sie daraus die **Querschnittsflächen $A_{i}$** des VR in den Messpunkten.\n",
    " * Kontrollieren Sie die Höhen $\\Delta h_{i}$ der Flüssigkeitssäulen ohne LS.\n",
    " * Erhöhen Sie dann die Drehzahl des Motors auf $f=1300\\,\\mathrm{U/min}$.\n",
    " * **Protokollieren Sie**:\n",
    "   * Die Messanordnung (mit Bild oder Skizze).\n",
    "   * Ihre **Beobachtung der Manometer**, während Sie die Drehzahl des Motors erhöhen.\n",
    "   * Die $\\Delta h_{i}$ nach erreichen der endgültigen Umdrehungszahl.   \n",
    "   * Stellen Sie die $\\Delta h_{i}$ als Funktion der $A_{i}$ geeignet dar.\n",
    "   * Passen Sie an die Darstellung ein geeignetes Modell an und **überprüfen Sie Ihre Erwartung**. Diese kommt durch das angepasste Modell zum Ausdruck. Sie können Sie quantitativ auf Basis des **$\\chi^{2}$-Werts der Anpassung** überprüfen. Hierfür benötigen Sie Abschätzungen sowohl für die $\\Delta h_{i}$, als auch für die $A_{i}$. Es macht nichts, wenn diese Abschätzungen grob sind, solange sie realistisch sind.\n",
    " * Diskutieren und Interpretieren Sie Ihre Ergebnisse. \n",
    "\n",
    "**Studierende mit Nebenfach Physik und Lehramtstudierende:**\n",
    "\n",
    " * Für Sie genügt eine qualitative Beschreibung Ihrer Beoachtungen mit Erklärung.\n",
    "\n",
    "---\n",
    "\n",
    "Weitere Details zur Vorbereitung auf diese Aufgabe finden Sie in der Datei [Hinweise-Venturi](https://gitlab.kit.edu/kit/etp-lehre/p1-praktikum/students/-/blob/main/Aeromechanik/doc/Hinweise-Venturi.md).\n",
    "\n",
    "---"
   ]
  },
  {
   "cell_type": "markdown",
   "id": "b2458c0b-f451-4aee-ac51-226720aec26a",
   "metadata": {
    "jp-MarkdownHeadingCollapsed": true,
    "tags": []
   },
   "source": [
    "### Aufgabe 1.3: Aerodynamisches Paradoxon "
   ]
  },
  {
   "cell_type": "markdown",
   "id": "67e3d66a-3c09-4413-9aac-d9cac19a0ae8",
   "metadata": {
    "tags": []
   },
   "source": [
    " * Protokollieren Sie Ihre Beobachtung und erklären Sie was Sie sehen. \n",
    " * Fügen Sie Ihrem Protokoll eine **Skizze der Versuchsanordnung** bei anhand derer Sie Ihre Beobachtungen erklären. \n",
    "\n",
    "---\n",
    "\n",
    "Weitere Ausführungen zu dieser Aufgabe finden Sie in der Datei [Hinweise-Paradoxon](https://gitlab.kit.edu/kit/etp-lehre/p1-praktikum/students/-/blob/main/Aeromechanik/doc/Hinweise-Paradoxon.md).\n",
    "\n",
    "---"
   ]
  },
  {
   "cell_type": "markdown",
   "id": "4479c563-4f3a-401b-99b6-bc5052690210",
   "metadata": {
    "jp-MarkdownHeadingCollapsed": true
   },
   "source": [
    "## Aufgabe 2: Charakterisierung des Luftstroms"
   ]
  },
  {
   "cell_type": "markdown",
   "id": "9f4c853e-9c68-4f8b-9917-8eaccbac9616",
   "metadata": {
    "jp-MarkdownHeadingCollapsed": true
   },
   "source": [
    "### Aufgabe 2.1: Geschwindigkeitfeld"
   ]
  },
  {
   "cell_type": "markdown",
   "id": "a1b0dda9-c8e6-4bd8-8c58-4ae7dabdc0de",
   "metadata": {},
   "source": [
    "Gehen Sie zur Bearbeitung dieser Aufgabe wie folgt vor: \n",
    "\n",
    " * Verwenden Sie eine **Sonde Ihrer Wahl** und gehen Sie zur Ausmessung von $v(r,d)$ wie in **Aufgabe 1.1** vor.\n",
    " * Sie dürfen voraussetzen, dass das Geschwindigkeitsfeld $\\vec{v}(\\vec{r})$ **rotationssymmetrisch und $\\hat{v}$ entlang der Symmetrieachse des Luftstroms ausgerichtet** ist. Es genügt also $v(r,d)$ entlang der horizontalen Symmetrieachse $\\hat{y}$ des Luftstroms zu bestimmen.\n",
    " * Um ein **aussagekräftiges Geschwindigkeitsprofil** zu erhalten sollten Sie $v(r)$ für eine ausreichende Anzahl an Punkten ausmessen. Wir schlagen z.B. die folgenden Werte vor:\n",
    "   * Für die Abstände zu D: $d_{i}=5,\\,10,\\,15,\\,20,\\,30\\,\\mathrm{cm}$.\n",
    "   * Für die Radien: $r=0.0,\\,1.0,\\,2.0,\\,3.0,\\,3.5,\\,4.0,\\,5.0\\,\\mathrm{cm}$.\n",
    "   * Messen Sie $v(r,d)$ in beiden Richtungen entlang der $y$-Achse aus ($y=\\pm r$).\n",
    " * Es stimmt, dass es sich hierbei um viele Messpunkte handelt. Ohne eine geeignete Anzahl sorgfältig aufgenommener Messpunkte macht die Charakterisierung von $v(r,d)$ allerdings nur wenig Sinn. **Nehmen Sie sich die Zeit** sorfältig vorzugehen. \n",
    " * **Protokollieren Sie**:\n",
    "   * Alle Wertepaare $(p_{0,i}, p_{s,i})$.\n",
    "   * Bestimmen Sie daraus $v(r,d)$.\n",
    "   * Schätzen Sie geeignete allgemeine Unsicherheiten auf die von Ihnen aufgezeichneten Werte ab und halten Sie diese in ihrem Protokoll fest.\n",
    "   * Stellen $v(r,d)$ geeignet dar. Wir empfehlen zwei Darstellungen:\n",
    "     * i) Eine Schar von fünf Kurven $v(r|d_{i})$ und\n",
    "     * ii) eine dreidimensionale Darstellung mit $d$ auf der $x$-, $r$ auf der $y$- und $v(r,d)$ auf der $z$-Achse.\n",
    " * **Legen Sie einen geeigneten Punkt $(r^{*},d^{*})$ in dem Bereich fest, wo $v(r,d)$ in etwa als konstsant genommen werden kann**, um dort die Messungen der folgenden Aufgaben durchzufüren.   \n",
    "\n",
    "**Studierende mit Nebenfach Physik und Lehramtstudierende:**\n",
    "\n",
    " * Für Sie reicht es weniger Messpunkte aufzunehmen. Wir schlagen z.B. die folgenden Werte vor:\n",
    "   * Für die Abstände zu D: $d_{i}=10,\\,20,\\,30\\,\\mathrm{cm}$.\n",
    "   * Für die Radien: $r=0.0,\\,1.0,\\,2.0,\\,3.0\\,\\mathrm{cm}$.\n",
    "   * Messen Sie $v(r,d)$ in beiden Richtungen entlang der $y$-Achse aus ($y=\\pm r$).\n",
    " * Dabei geht es für Sie in erster Linie darum den Punkt $(r^{*},d^{*})$ zu bestimmen.\n",
    "\n",
    "---\n",
    "\n",
    "Weitere Details zur Vorbereitung auf diese Aufgabe finden Sie in der Datei [Hinweise-Druck](https://gitlab.kit.edu/kit/etp-lehre/p1-praktikum/students/-/blob/main/Aeromechanik/doc/Hinweise-Druck.md).\n",
    "\n",
    "---"
   ]
  },
  {
   "cell_type": "markdown",
   "id": "0b48226b-46aa-45e1-a91c-47f193179915",
   "metadata": {
    "jp-MarkdownHeadingCollapsed": true,
    "tags": []
   },
   "source": [
    "### Aufgabe 2.2: Kalibration des Motors zur Erzeugung des Luftstroms "
   ]
  },
  {
   "cell_type": "markdown",
   "id": "52076d89-0b97-49af-a81f-c0351addfa25",
   "metadata": {
    "tags": []
   },
   "source": [
    "Für einige der folgenden Aufgaben ist es notwendig, **$v(r,d)$ in Abhängigkeit der Drehzahl $f$** des Motors zur Erzeugung des LS zu kennen. Unter Annahme, dass sich $v(r,d)$ als Funktion von $|v|$ nicht ändert, genügt es diese Kalibration für den Punkt $v^{*}\\equiv v(r^{*},d^{*})$ vorzunehmen. \n",
    "\n",
    "Gehen Sie hierzu wie folgt vor:\n",
    "\n",
    " * Gehen Sie zur Messung von $v^{*}(f)$ wie in **Aufgabe 2.1** vor.\n",
    " * **Positionieren Sie** S hierzu am Punkt $(r^{*},d^{*})$.\n",
    " * Bestimmen Sie $v^{*}$ für Werte der Drehzahl von $f_{i}=600$ bis $2600\\,\\mathrm{U/min}$ in Schritten von $\\Delta f\\approx200\\,\\mathrm{U/min}$ (11 Messpunkte).\n",
    " * **Protokollieren Sie**:\n",
    "   * Ihr Vorgehen für die Messung.\n",
    "   * Alle Wertepaare $(v^{*}_{i},f_{i})$. Schätzen Sie entsprechende Unsicherheiten auf die verwendeten Werte ab.\n",
    "   * **Stellen Sie die Datenpunkte geeignet dar** und passen Sie ein geeignetes Modell an die Daten an.\n",
    "   * Diskutieren Sie die **Güte der Anpassung** mit Hilfe des $\\chi^{2}$-Werts der Anpassung. Diese erlaubt Ihnen Rückschlüsse auf die Anwendbarkeit des zugrundegelegten Modells.\n",
    "   * Die resultierenden **Parameter Ihres Modells** einschließlich Unsicherheiten aus der Anpassung.\n",
    "   * **Diese Kalibrationskonstanten sind das Ziel Ihrer Messungen aus Aufgabe 2**!\n",
    "\n",
    "**Studierende mit Nebenfach Physik und Lehramtstudierende können in Schritten von $\\Delta f\\approx400\\,\\mathrm{U/min}$ vorgehen.**\n",
    "\n",
    "---\n",
    "\n",
    "Weitere Details zur Vorbereitung auf diese Aufgabe finden Sie in der Datei [Hinweise-Druck](https://gitlab.kit.edu/kit/etp-lehre/p1-praktikum/students/-/blob/main/Aeromechanik/doc/Hinweise-Druck.md).\n",
    "\n",
    "---"
   ]
  },
  {
   "cell_type": "markdown",
   "id": "e6b83d94-cd8a-441a-aec9-2dd9e5f08333",
   "metadata": {
    "jp-MarkdownHeadingCollapsed": true,
    "tags": []
   },
   "source": [
    "## Aufgabe 3: Strömungswiderstand"
   ]
  },
  {
   "cell_type": "markdown",
   "id": "4cc21901-e400-4d0b-849a-00e64de3364f",
   "metadata": {
    "jp-MarkdownHeadingCollapsed": true,
    "tags": []
   },
   "source": [
    "### Aufgabe 3.1: Abhängigkeit von der Stirnfläche "
   ]
  },
  {
   "cell_type": "markdown",
   "id": "9c679ce8-461f-4585-a7fe-f5c9466a0f6c",
   "metadata": {
    "tags": []
   },
   "source": [
    "Gehen Sie zur Bearbeitung dieser Aufgabe wie folgt vor: \n",
    "\n",
    " * Gehen Sie zur Messung von $v^{*}$ wie in **Aufgabe 2.1** vor.\n",
    " * **Montieren Sie die Kreisscheiben**, mit Hilfe der bereitliegenden Halterung, am Punkt $(r^{*},d^{*})$.\n",
    " * Verbinden Sie die Scheiben mit Hilfe einer Schnur mit dem bereitstehenden **Sektorkraftmesser (SKM)**.\n",
    " * Achten Sie dabei auf die folgenden Punkte:\n",
    "   * Die Schnur sollte **straff gespannt** sein, jedoch keinen sichtbaren Ausschlag am SKM erzeugen.\n",
    "   * Sie können die Wirkung der Spannung der Schnur auf den SKM ansonsten bei der späteren Auswertung der Daten zusätzlich im Modell berücksichtigen.\n",
    "   * Da mit dem SKM die Kraft $F_{W}$ aus einem Drehmoment abgeleitet wird muss die Schnur **in einem Winkel von $90^{\\circ}$** am SKM angreifen. Sie erreichen dies am einfachsten, wenn Sie die Schnur einmal um die Halterung am Kraftmesser herumgewickeln, bevor Sie sie am Messwagen befestigen. \n",
    " * Überprüfen Sie mit Hilfe einer Leermessung den **zusätzlichen Strömungswiderstand der Halterung** und korrigieren Sie diesen gegebenenfalls in Ihrer Auswertung.\n",
    " * **Protokollieren Sie**:\n",
    "   * Eine Beschreibung der Anordnung (mit Skizze einschließlich SKM und Schnur!).  \n",
    "   * Alle Wertepaare $(F_{W,i}, A_{i})$. \n",
    "   * Den eingestellten Wert für $f$ und die daraus ermittelte Geschwindigkeit $v_{s}$.\n",
    "   * Letzere können Sie aus Ihren Ergebnissen von **Aufgabe 2.2** bestimmen.\n",
    "   * Geben Sie für alle numerischen Werte entsprechende Unsicherheiten an. \n",
    "   * Stellen $F_{W}$ als Funktion von $A$ geeignet dar und passen Sie ein geeignetes Modell an die Daten an.\n",
    "   * Diskutieren Sie die Anwendbarkeit des Modells auf Grundlage des $\\chi^{2}$-Werts der Anpassung.\n",
    "   * Geben Sie einen Wert für den **Luftwiderstandsbeiwert $c_{W}$ einer Kreisscheibe** mit entsprechenden Unsicherheiten an.\n",
    "\n",
    "---\n",
    "\n",
    "Weitere Details zur Vorbereitung auf diese Aufgabe finden Sie in der Datei [Hinweise-cW](https://gitlab.kit.edu/kit/etp-lehre/p1-praktikum/students/-/blob/main/Aeromechanik/doc/Hinweise-cW.md).\n",
    "\n",
    "---"
   ]
  },
  {
   "cell_type": "markdown",
   "id": "f5992b3e-bc3c-409f-9a03-495aea7389d0",
   "metadata": {
    "jp-MarkdownHeadingCollapsed": true
   },
   "source": [
    "### Aufgabe 3.2: Abhängigkeit von der Geschwindigkeit des Luftstroms"
   ]
  },
  {
   "cell_type": "markdown",
   "id": "34249934-9c36-43bb-a9ac-eff46803cced",
   "metadata": {},
   "source": [
    "Gehen Sie zur Bearbeitung dieser Aufgabe wie folgt vor: \n",
    "\n",
    " * Gehen Sie zur Messung von $v^{*}$ und $F_{W}$ wie für **Aufgabe 3.1** vor.\n",
    " * Erhöhen Sie $f$ in Schritten von $\\Delta f\\approx200\\,\\mathrm{U/min}$ und bestimmen Sie $F_{W}$ (**Studierende mit Nebenfach Physik und Lehramtstudierende sind an dieser Stelle gebeten ebenfalls 11 Messpunkte aufzunehmen**).\n",
    " * **Protokollieren Sie**:\n",
    "   * Eine Beschreibung der Anordnung.  \n",
    "   * Alle Wertepaare $(F_{W,i}, f_{i})$ mit entsprechenden Unsicherheiten. \n",
    "   * Kalibieren Sie Ihre Werte für $f_{i}$ auf die entsprechenden Geschwindigkeiten $v_{s,i}$ (gehen Sie hierzu wie für **Aufgabe 3.1** vor).\n",
    "   * Stellen Sie $F_{W}$ als Funktion von $v_{s}$ geeignet dar und passen Sie ein geeignetes Modell an die Daten an.\n",
    "   * Diskutieren Sie die Anwendbarkeit des Modells auf Grundlage des $\\chi^{2}$-Werts der Anpassung.\n",
    "   * Geben Sie einen Wert für den **Luftwiderstandsbeiwert $c_{W}$ einer Kreisscheibe** mit entsprechenden Unsicherheiten an.\n",
    " * Mit den Ergebnissen der Aufgaben 2 und 3 haben Sie das Modell des Strömungswiderstands ausgedehnter Körper überprüft! \n",
    "\n",
    "**Studierende mit Hauptfachphysik haben hier die Möglichkeit ihr gesamtes den Aufgaben 2 und 3 zugrunde gelegtes Modell einem strengen Test zu unterziehen und daraus einen Wert für $c_{W}$ mit maximal möglicher Präzision zu bestimmen.** Sie erreichen dies, indem sie alle aufgezeichneten Datenpunkte in die Anpassung mit einbeziehen: \n",
    "\n",
    " * Die Messungen zur Kalibration von $v_{s}$ aus **Aufgabe 2.2** mit entsprechendem Modell;\n",
    " * Die Messungen mit variierender Scheibenfläche aus **Aufgabe 3.1** mit entsprechendem Modell;\n",
    " * Die Messungen für beide Scheibenflächen mit variierenden Werten von $v_{s}$ aus **Aufgabe 3.2** mit entsprechendem Modell.\n",
    "\n",
    "Verwenden Sie hierzu die Möglichkeit zu einem Multifit wie [hier](https://gitlab.kit.edu/kit/etp-lehre/p1-praktikum/students/-/blob/main/tools/kafe2_example_MultiFit.ipynb) erklärt.\n",
    "\n",
    "---\n",
    "\n",
    "Weitere Details zur Vorbereitung auf diese Aufgabe finden Sie in der Datei [Hinweise-cW](https://gitlab.kit.edu/kit/etp-lehre/p1-praktikum/students/-/blob/main/Aeromechanik/doc/Hinweise-cW.md).\n",
    "\n",
    "---"
   ]
  },
  {
   "cell_type": "markdown",
   "id": "7b4b2c71-110b-4426-a88a-d4b1851897c8",
   "metadata": {
    "jp-MarkdownHeadingCollapsed": true
   },
   "source": [
    "### Aufgabe 3.3: Rücktrieb und Körperform "
   ]
  },
  {
   "cell_type": "markdown",
   "id": "4af8475d-1900-413e-98f6-713dbd8520d3",
   "metadata": {},
   "source": [
    " * Gehen Sie zur Bearbeitung dieser Aufgabe wie für **Aufgabe 3.1** vor.\n",
    " * **Protokollieren Sie** die von Ihnen bestimmten Werte für $c_{W}$.\n",
    "\n",
    "**Wer möchte darf zusätzlich den $c_{W}$-Wert eines (mitgebrachten) Spielzeugautos oder anderweitigen Objekts bestimmen und ggf. mit den $c_{W}$-Werten realer Objekte vergleichen.**\n",
    "\n",
    "---\n",
    "\n",
    "Weitere Details zur Vorbereitung auf diese Aufgabe finden Sie in der Datei [Hinweise-cW](https://gitlab.kit.edu/kit/etp-lehre/p1-praktikum/students/-/blob/main/Aeromechanik/doc/Hinweise-cW.md).\n",
    "\n",
    "---"
   ]
  },
  {
   "cell_type": "markdown",
   "id": "ec810338-56f4-4ee5-ba30-7fb4dc50ae95",
   "metadata": {
    "jp-MarkdownHeadingCollapsed": true
   },
   "source": [
    "## Aufgabe 4: Auftrieb"
   ]
  },
  {
   "cell_type": "markdown",
   "id": "9809eaf7-4d80-4ae9-9cc1-04e00c3a53c0",
   "metadata": {
    "jp-MarkdownHeadingCollapsed": true
   },
   "source": [
    "### Aufgabe 4.1: Polardiagramm"
   ]
  },
  {
   "cell_type": "markdown",
   "id": "88ffd2de-7061-4086-a46f-1e78c8b92b89",
   "metadata": {},
   "source": [
    "Gehen Sie zur Bearbeitung dieser Aufgabe wie folgt vor: \n",
    "\n",
    " * Installieren Sie **Auftriebswaage und Tragfläche** im LS.\n",
    " * Gehen Sie zur Messung von $F_{W}$ wie für **Aufgabe 3.1** vor, $F_{A}$ bestimmen Sie mit Hilfe der Auftriebswaage.\n",
    " * Variieren Sie den **Anstellwinkel $\\alpha$** im Bereich $-20^{\\circ}\\leq\\alpha\\leq20^{\\circ}$ in Schritten von $\\Delta\\alpha = 5^{\\circ}$ (neun Datenpunkte).\n",
    " * **Protokollieren Sie**:\n",
    "   * Den Messaufbau (mit Skizze!).\n",
    "   * Den Versuchsablauf.\n",
    "   * Den verwendeten Wert für $v_{s}$ mit entsprechenden Unsicherheiten.\n",
    "   * Die Werte $(\\alpha_{i}, F_{W,i}, F_{A,i})$ mit entsprechenden Unsicherheiten.\n",
    "   * Stellen Sie die Wertepaare $(\\alpha_{i},F_{W,i})$ und $(\\alpha_{i},F_{A,i})$ jeweils in einem Diagramm dar.\n",
    "   * Stellen Sie die Wertepaare $(F_{W,i},F_{A,i})$ bei jeweils vorgegebenem $\\alpha_{i}$ in einem **Polardiagramm** dar. Dieses sollte den Ursprung $(0,0)$ enthalten.\n",
    "   * Bestimmen Sie das **Gleitverhältnis $E$** als Funktion von $\\alpha$, mit entsprechenden Unsicherheiten.\n",
    "   * Fügen Sie Ihrem Polardiagramm den **Polstrahl für das höchste Gleitverhältnis $E_{\\mathrm{max}}$** zu.\n",
    "   * Das Wertepaar $(\\alpha_{\\mathrm{max}},E_{\\mathrm{max}})$ mit entsprechenden Unsicherheiten.\n",
    "\n",
    "---\n",
    "\n",
    "Weitere Details zur Vorbereitung auf diese Aufgabe finden Sie in der Datei [Hinweise-Tragflaeche](https://gitlab.kit.edu/kit/etp-lehre/p1-praktikum/students/-/blob/main/Aeromechanik/doc/Hinweise-Tragflaeche.md).\n",
    "\n",
    "---"
   ]
  },
  {
   "cell_type": "markdown",
   "id": "8ed4f68a-3bf5-4f4b-83d4-0e4c9fe0aa90",
   "metadata": {
    "jp-MarkdownHeadingCollapsed": true
   },
   "source": [
    "### Aufgabe 4.2: Druckprofil"
   ]
  },
  {
   "cell_type": "markdown",
   "id": "4ac238f4-c2f4-41fd-b0f0-815da38cc19f",
   "metadata": {},
   "source": [
    "Gehen Sie zur Bearbeitung dieser Aufgabe wie folgt vor:\n",
    "\n",
    " * Das Tragflächenmodells besitzt **neun Bohrungen** an denen Sie das FM von innen anschließen können.\n",
    " * Bestimmen Sie $p_{s}$ an jeder Bohrung.\n",
    " * **Protokollieren Sie**:\n",
    "   * Die Werte $p_{s}$ mit entsprechenden Unsicherheiten.\n",
    "   * Tragen Sie zur Veranschaulichung lotrechte Pfeile der Länge $\\propto p_{s,i}$ an den entsprechenden Bohrungen im [hier](https://gitlab.kit.edu/kit/etp-lehre/p1-praktikum/students/-/blob/main/Aeromechanik/figures/wing_profile.png) hinterlegten Tragflächenprofil ein. Ein Beipiel, wie Sie dies mit Hilfe der python Bibliothek *matplotlib* erreichen können finden Sie [hier](https://gitlab.kit.edu/kit/etp-lehre/p1-praktikum/students/-/blob/main/Aeromechanik/tools/wing_profile.ipynb).\n",
    "\n",
    "---\n",
    "\n",
    "Weitere Details zur Vorbereitung auf diese Aufgabe finden Sie in der Datei [Hinweise-Druck](https://gitlab.kit.edu/kit/etp-lehre/p1-praktikum/students/-/blob/main/Aeromechanik/doc/Hinweise-Druck.md).\n",
    "\n",
    "---"
   ]
  }
 ],
 "metadata": {
  "kernelspec": {
   "display_name": "Python 3 (ipykernel)",
   "language": "python",
   "name": "python3"
  },
  "language_info": {
   "codemirror_mode": {
    "name": "ipython",
    "version": 3
   },
   "file_extension": ".py",
   "mimetype": "text/x-python",
   "name": "python",
   "nbconvert_exporter": "python",
   "pygments_lexer": "ipython3",
   "version": "3.12.3"
  }
 },
 "nbformat": 4,
 "nbformat_minor": 5
}
