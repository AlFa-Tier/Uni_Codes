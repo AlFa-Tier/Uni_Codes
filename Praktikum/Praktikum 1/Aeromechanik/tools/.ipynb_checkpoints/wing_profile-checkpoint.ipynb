{
 "cells": [
  {
   "cell_type": "markdown",
   "id": "001d51ab-bdf8-40b5-9aad-54e33181e05c",
   "metadata": {
    "tags": []
   },
   "source": [
    "# Code-Fragment für die Beschriftung des Tragflächenmodells für Aufgabe 4.2"
   ]
  },
  {
   "cell_type": "markdown",
   "id": "a7fd56cb-ed0a-4516-86e6-9fe10a9dd806",
   "metadata": {},
   "source": [
    "Mit den folgenden Code-Fragmenten zeigen wir Ihnen: \n",
    "\n",
    " * Wie Sie das Bild `wing_profile.png` in *matplotlib* einlesen und darstellen.\n",
    " * Wie Sie Pfeile und Latex-formatierten Text in ein importiertes Bild einfügen kann.\n",
    "\n",
    "Das Bild `wing_profile` befindet sich im *figures*-Verzeichnis des Versuchs Aeromechanik. "
   ]
  },
  {
   "cell_type": "code",
   "execution_count": null,
   "id": "9d186433-2215-4c20-85c1-31fc6936e134",
   "metadata": {},
   "outputs": [],
   "source": [
    "import matplotlib.pyplot as plt\n",
    "import matplotlib.image as mpimg\n",
    "\n",
    "# Load image to render it through matplotlib rendering engine. Note that the axis ranges are \n",
    "# here predefined by the image. There might be nicer solutions to this\n",
    "wip = plt.figure(\"demo\", figsize=(15.0, 10.0))\n",
    "wip = mpimg.imread(\"../figures/wing_profile.png\")\n",
    "wipplot = plt.imshow(wip)\n",
    "# Re-adjust aix ranges \n",
    "plt.xlim(-100.,1500.)\n",
    "plt.ylim(600.,-250.)\n",
    "\n",
    "# Add an arrow with length proprtional to p_s\n",
    "plt.arrow(156., 325., 0., 120., color=\"black\", length_includes_head=True, width=2, head_width=20., head_length=20.)\n",
    "## Add some abitrary text in some abitrary position in the Axes. Note that \n",
    "## the coordinates correspond to the values given on the x- and y-axes.\n",
    "plt.text(100., 500., r'$p_{s}^{(1)}=(72\\pm5)\\,\\mathrm{Pa}$', fontsize=12)\n",
    "\n",
    "# Add another arrow\n",
    "plt.arrow(757., 95., 70., -300., color=\"black\", length_includes_head=True, width=2, head_width=20., head_length=20.)\n",
    "plt.text(860., -200., r'$p_{s}^{(6)}=(150\\pm15)\\,\\mathrm{Pa}$', fontsize=12)\n",
    "\n",
    "# Suppress axes if you want once done with your work on the arrows\n",
    "#wipplot.axes.get_xaxis().set_visible(False)\n",
    "#wipplot.axes.get_yaxis().set_visible(False)\n",
    "plt.show()"
   ]
  },
  {
   "cell_type": "markdown",
   "id": "6b48a8c8-ffe3-484b-8434-0ffbc9006ece",
   "metadata": {},
   "source": [
    "Wie man die *csv*-Dateien aus dem PicoScope mit der PhyPrakit Funktion *readPicoScope* **einließt** finden Sie z.B. [hier](https://gitlab.kit.edu/kit/etp-lehre/p1-praktikum/students/-/blob/main/Ferromagnetische_Hysterese/tools/hysteresis_curve.ipynb)."
   ]
  },
  {
   "cell_type": "markdown",
   "id": "5575a8c5-2748-4e59-8941-ae6065718215",
   "metadata": {},
   "source": [
    "Wie Sie Datenreihen ***down samplen* und glätten** können finden Sie z.B. [hier](https://gitlab.kit.edu/kit/etp-lehre/p1-praktikum/students/-/blob/main/Ferromagnetische_Hysterese/tools/hysteresis_curve.ipynb). "
   ]
  },
  {
   "cell_type": "markdown",
   "id": "22c6a38a-066c-466d-bcf2-7a5d7ced2c39",
   "metadata": {},
   "source": [
    " * Bei periodischen Daten bietet es sich manchmal an die Periodizität mit Hilfe einer **Autokorrelationsfunktion** etwas besser herauszuarbeiten.\n",
    " * Mit dem folgenden Code-Fragment zeigen wir Ihnen, wie Sie dies mit der PhyPraKit Funktion *autocorrelate* tun können. "
   ]
  },
  {
   "cell_type": "code",
   "execution_count": null,
   "id": "c0dfb476-6c59-44f2-9df0-33278d831abf",
   "metadata": {},
   "outputs": [],
   "source": [
    "import numpy as np\n",
    "from PhyPraKit.phyTools import autocorrelate\n",
    "# Find auto correlation\n",
    "ac_d = autocorrelate(d)\n",
    "\n",
    "# Plot the auto correlation on top of the original data\n",
    "fig = plt.figure(2, figsize=(6.0, 6.0))\n",
    "plt.plot(t, ac_d, color=\"darkblue\", label=\"Auto correlation\")\n",
    "plt.plot(t, d, color=\"darkred\", label=\"Input Data\")\n",
    "plt.xlabel(\"t (ms)\")\n",
    "plt.ylabel(\"Auto correlation\")\n",
    "plt.legend(numpoints=1, loc=\"best\")\n",
    "plt.grid(linestyle=\"dashed\")\n",
    "plt.show()"
   ]
  },
  {
   "cell_type": "markdown",
   "id": "4e431b2f-0fea-4db8-a7d4-65b90dd32497",
   "metadata": {},
   "source": [
    "Mit dem folgenden Code-Fragment zeigen wir Ihnen:\n",
    "    \n",
    " * Wie man mit der scipy Klasse [signal.find_peaks_cwt](https://docs.scipy.org/doc/scipy/reference/generated/scipy.signal.find_peaks_cwt.html#scipy.signal.find_peaks_cwt) **Maxima** und **Minima** in einer Datenreihe finden kann."
   ]
  },
  {
   "cell_type": "code",
   "execution_count": 73,
   "id": "0b36faaf-c9d3-47aa-b6d2-15a818e21d8e",
   "metadata": {},
   "outputs": [],
   "source": [
    "from scipy.signal import find_peaks_cwt\n",
    "# Return indices of peaks in auto correlation function, width refers to the \n",
    "# window to define a local extremum. It might require a bit of tuning \n",
    "pidxac = find_peaks_cwt( ac_d, widths=3)\n",
    "# Return indices of dips in auto correlation function \n",
    "didxac = find_peaks_cwt(-ac_d, widths=3)"
   ]
  },
  {
   "cell_type": "markdown",
   "id": "3de6c582-0177-40be-9be0-bc89f8b291e4",
   "metadata": {},
   "source": [
    "Mit dem folgenden Code-Fragment zeigen wir Ihnen:\n",
    "    \n",
    " * Wie Sie das gleiche mit der Funktion `convolutionPeakfinder` aus PhyPraKit erreichen."
   ]
  },
  {
   "cell_type": "code",
   "execution_count": 69,
   "id": "6d516f97-1550-4184-9d65-1a79f1198201",
   "metadata": {},
   "outputs": [],
   "source": [
    "from PhyPraKit.phyTools import convolutionPeakfinder\n",
    "\n",
    "# find maxima and minima using convolution peak finder\n",
    "width = 3\n",
    "pidxac = convolutionPeakfinder( ac_d, width, th=0.5)\n",
    "didxac = convolutionPeakfinder(-ac_d, width, th=0.5)"
   ]
  },
  {
   "cell_type": "markdown",
   "id": "a8cc3a36-6e14-4c82-b7c7-df44a1586403",
   "metadata": {},
   "source": [
    "Mit dem folgenden Code-Fragment demonstrieren wir, das die Minima und Maxima erfolgreich gefunden wurden."
   ]
  },
  {
   "cell_type": "code",
   "execution_count": null,
   "id": "581ffe8b-4257-4b52-a7ac-10287cfefce6",
   "metadata": {},
   "outputs": [],
   "source": [
    "# Prepare arrays for plotting\n",
    "if len(pidxac) > 1:\n",
    "    # The first peak is at 0 by construction. If you let the peak finder run \n",
    "    # loos it can stumble at the array edges, since it averages over a number \n",
    "    # of \"widths\" indices to determine the peak position\n",
    "    pidxac[0] = 0  \n",
    "    ac_tp, ac_dp = np.array(t)[pidxac], np.array(ac_d)[pidxac]\n",
    "    ac_td, ac_dd = np.array(t)[didxac], np.array(ac_d)[didxac]\n",
    "else:\n",
    "    print(\"Not enough correlation peaks found.\")\n",
    "\n",
    "# Plot the identified minima and maxima on top of auto correlation\n",
    "fig = plt.figure(3, figsize=(6.0, 6.0))\n",
    "plt.plot(t, ac_d, color=\"darkblue\", label=\"Auto correlation\")\n",
    "plt.plot(ac_tp, ac_dp, \"gx\", label=\"Identified maxima\")\n",
    "plt.plot(ac_td, ac_dd, \"rx\", label=\"Identified minima\")\n",
    "plt.xlabel(\"t (ms)\")\n",
    "plt.ylabel(\"Auto correlation\")\n",
    "plt.legend(numpoints=1, loc=\"best\")\n",
    "plt.grid(linestyle=\"dashed\")\n",
    "plt.show()"
   ]
  }
 ],
 "metadata": {
  "kernelspec": {
   "display_name": "Python 3 (ipykernel)",
   "language": "python",
   "name": "python3"
  },
  "language_info": {
   "codemirror_mode": {
    "name": "ipython",
    "version": 3
   },
   "file_extension": ".py",
   "mimetype": "text/x-python",
   "name": "python",
   "nbconvert_exporter": "python",
   "pygments_lexer": "ipython3",
   "version": "3.12.3"
  }
 },
 "nbformat": 4,
 "nbformat_minor": 5
}
