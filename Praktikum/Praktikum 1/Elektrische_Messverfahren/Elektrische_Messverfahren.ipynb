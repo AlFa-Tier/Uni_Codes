{
 "cells": [
  {
   "cell_type": "markdown",
   "id": "885c7767-e912-4e31-b5d6-3a3443ffa58e",
   "metadata": {
    "jp-MarkdownHeadingCollapsed": true,
    "tags": []
   },
   "source": [
    "# Fakultät für Physik\n",
    "\n",
    "## Physikalisches Praktikum P1 für Studierende der Physik\n",
    "\n",
    "Versuch P1-21, 22, 23 (Stand: **Oktober 2024**)\n",
    "\n",
    "[Raum F2-17](https://labs.physik.kit.edu/img/Klassische-Praktika/Lageplan_P1P2.png)\n",
    "\n",
    "\n",
    "\n",
    "# Elektrische Messverfahren"
   ]
  },
  {
   "cell_type": "markdown",
   "id": "02723acd-b4da-43cb-8534-d52f27e5e556",
   "metadata": {},
   "source": [
    "Name: __________________ Vorname: __________________ E-Mail: __________________\n",
    "\n",
    "\\begin{equation*}\n",
    "\\begin{split}\n",
    "&\\\\\n",
    "&\\\\\n",
    "\\end{split}\n",
    "\\end{equation*}\n",
    "\n",
    "Name: __________________ Vorname: __________________ E-Mail: __________________\n",
    "\n",
    "\\begin{equation*}\n",
    "\\begin{split}\n",
    "&\\\\\n",
    "&\\\\\n",
    "&\\\\\n",
    "\\end{split}\n",
    "\\end{equation*}\n",
    "\n",
    "Gruppennummer: _____\n",
    "\n",
    "\\begin{equation*}\n",
    "\\begin{split}\n",
    "&\\\\\n",
    "&\\\\\n",
    "&\\\\\n",
    "\\end{split}\n",
    "\\end{equation*}\n",
    "\n",
    "\n",
    "Betreuer: __________________\n",
    "\n",
    "\\begin{equation*}\n",
    "\\begin{split}\n",
    "&\\\\\n",
    "&\\\\\n",
    "&\\\\\n",
    "\\end{split}\n",
    "\\end{equation*}\n",
    "\n",
    "Versuch durchgeführt am: __________________"
   ]
  },
  {
   "cell_type": "markdown",
   "id": "0d6a9bf2-e9e4-4a66-943e-92b576159cc9",
   "metadata": {},
   "source": [
    "---\n",
    "\n",
    "**Beanstandungen zu Protokoll Version _____:**\n",
    "\n",
    "\\begin{equation*}\n",
    "\\begin{split}\n",
    "&\\\\\n",
    "&\\\\\n",
    "&\\\\\n",
    "&\\\\\n",
    "&\\\\\n",
    "&\\\\\n",
    "&\\\\\n",
    "&\\\\\n",
    "&\\\\\n",
    "&\\\\\n",
    "\\end{split}\n",
    "%\\text{\\vspace{10cm}}\n",
    "\\end{equation*}\n",
    "\n",
    "<br>\n",
    "Testiert am: __________________ Testat: __________________"
   ]
  },
  {
   "cell_type": "markdown",
   "id": "305b8433-7bc6-4a3c-b0e6-fa5c8955849a",
   "metadata": {
    "jp-MarkdownHeadingCollapsed": true,
    "tags": []
   },
   "source": [
    "# Durchführung"
   ]
  },
  {
   "cell_type": "markdown",
   "id": "607ee710-a5de-44f2-871b-4b90776efb9f",
   "metadata": {},
   "source": [
    "**Detaillierte Hinweise zur Durchführung der Versuche finden Sie in der Datei [Elektrische_Messverfahren_Hinweise.ipynb](https://gitlab.kit.edu/kit/etp-lehre/p1-praktikum/students/-/blob/main/Elektrische_Messverfahren/Elektrische_Messverfahren_Hinweise.ipynb)**"
   ]
  },
  {
   "cell_type": "markdown",
   "id": "1b3e1486-3583-4cba-a8e0-9491e021188b",
   "metadata": {
    "jp-MarkdownHeadingCollapsed": true,
    "tags": []
   },
   "source": [
    "## Aufgabe 1: Ohmscher Widerstand in Netzwerken"
   ]
  },
  {
   "cell_type": "markdown",
   "id": "a4a8f9ae-41ce-410d-96ed-6791d22d81f9",
   "metadata": {
    "jp-MarkdownHeadingCollapsed": true,
    "tags": []
   },
   "source": [
    "### Aufgabe 1.1: Innenwiderstände elektrischer Messgeräte\n",
    "\n",
    "Bestimmen Sie die **Innenwiderstände** der folgenden für diesen Versuch bereitgestellten Messgeräte:\n",
    "\n",
    " * **Strommessgerät** A;\n",
    " * **Spannungsmessgeräte** V1 und V2.\n",
    "\n",
    "---"
   ]
  },
  {
   "cell_type": "markdown",
   "id": "375bc285-33cc-43cc-bf8f-9247c1431ae4",
   "metadata": {},
   "source": [
    "**V E R S U C H S B E S C H R E I B U N G**\n",
    "\n",
    "*Fügen Sie Ihre Versuchsbeschreibung hier ein. Löschen Sie hierzu diesen kursiv gestellten Text aus dem Dokument.* \n",
    "\n",
    "---"
   ]
  },
  {
   "cell_type": "markdown",
   "id": "bad75ad8-6476-4470-8ad2-3d06ea58ced1",
   "metadata": {},
   "source": [
    "**L Ö S U N G**\n",
    "\n",
    "*Fügen Sie numerische Berechnungen zur Lösung dieser Aufgabe hier ein. Löschen Sie hierzu diesen kursiv gestellten Text aus dem Dokument. Um Code-Fragmente und Skripte in [Python](https://www.python.org/), sowie ggf. bildliche Darstellungen direkt ins [Jupyter notebook](https://jupyter.org/) einzubinden verwandeln Sie diese Zelle in eine Code-Zelle. Fügen Sie ggf. weitere Code-Zellen zu.* \n",
    "\n",
    "---"
   ]
  },
  {
   "cell_type": "markdown",
   "id": "b0602e12-85f5-4447-850a-83d53671c454",
   "metadata": {},
   "source": [
    "**D I S K U S S I O N**\n",
    "\n",
    "*Fügen Sie eine abschließende Diskussion und Bewertung Ihrer Lösung hier ein. Löschen Sie hierzu diesen kursiv gestellten Text aus dem Dokument.* \n",
    "\n",
    "---"
   ]
  },
  {
   "cell_type": "markdown",
   "id": "20887c3e-9c2e-4cf2-918e-c6091ec8f900",
   "metadata": {
    "jp-MarkdownHeadingCollapsed": true,
    "tags": []
   },
   "source": [
    "### Aufgabe 1.2: Bestimmung ohmsche Widerstände\n",
    "\n",
    "Bestimmen Sie den Wert eines unbekannten **ohmschen Widerstands $R_{X}$**\n",
    "\n",
    " * durch **stromrichtige** Messung;\n",
    " * durch **spannungsrichtige** Messung;\n",
    " * mit Hilfe einer **Wheatstoneschen Messbrücke**.\n",
    " \n",
    "Führen Sie diese Messungen **sowohl mit V1 also auch mit V2** durch und bewerten Sie Ihre Beobachtungen.\n",
    "\n",
    "---"
   ]
  },
  {
   "cell_type": "markdown",
   "id": "b654e0bc-8a41-440d-882b-87d1fe1f72b2",
   "metadata": {},
   "source": [
    "**V E R S U C H S B E S C H R E I B U N G**\n",
    "\n",
    "*Fügen Sie Ihre Versuchsbeschreibung hier ein. Löschen Sie hierzu diesen kursiv gestellten Text aus dem Dokument.* \n",
    "\n",
    "---"
   ]
  },
  {
   "cell_type": "markdown",
   "id": "62cc4796-ebb4-48a7-88d2-51e4fb9da1a4",
   "metadata": {},
   "source": [
    "**L Ö S U N G**\n",
    "\n",
    "*Fügen Sie numerische Berechnungen zur Lösung dieser Aufgabe hier ein. Löschen Sie hierzu diesen kursiv gestellten Text aus dem Dokument. Um Code-Fragmente und Skripte in [Python](https://www.python.org/), sowie ggf. bildliche Darstellungen direkt ins [Jupyter notebook](https://jupyter.org/) einzubinden verwandeln Sie diese Zelle in eine Code-Zelle. Fügen Sie ggf. weitere Code-Zellen zu.* \n",
    "\n",
    "---"
   ]
  },
  {
   "cell_type": "markdown",
   "id": "76045fda-bce8-419e-b9d1-91c78611a1ad",
   "metadata": {},
   "source": [
    "**D I S K U S S I O N**\n",
    "\n",
    "*Fügen Sie eine abschließende Diskussion und Bewertung Ihrer Lösung hier ein. Löschen Sie hierzu diesen kursiv gestellten Text aus dem Dokument.* \n",
    "\n",
    "---"
   ]
  },
  {
   "cell_type": "markdown",
   "id": "b97bc452-bdb2-40f8-a6b5-e6d6841e6f4f",
   "metadata": {
    "jp-MarkdownHeadingCollapsed": true,
    "tags": []
   },
   "source": [
    "### Aufgabe 1.3: Innenwiderstand einer Trockenbatterie\n",
    "\n",
    "Bestimmen Sie die **Leerlaufspannung $U_{0}$ und den Innenwiderstand $R_{i}$** einer am Versuch ausliegenden Trockenbatterie.\n",
    "\n",
    "---"
   ]
  },
  {
   "cell_type": "markdown",
   "id": "9682fb60-fb07-41d0-a9a1-f8aad03abad3",
   "metadata": {},
   "source": [
    "**V E R S U C H S B E S C H R E I B U N G**\n",
    "\n",
    "*Fügen Sie Ihre Versuchsbeschreibung hier ein. Löschen Sie hierzu diesen kursiv gestellten Text aus dem Dokument.* \n",
    "\n",
    "---"
   ]
  },
  {
   "cell_type": "markdown",
   "id": "f4e9e58e-6832-436d-ace2-1fadb2f2b1ce",
   "metadata": {},
   "source": [
    "**L Ö S U N G**\n",
    "\n",
    "*Fügen Sie numerische Berechnungen zur Lösung dieser Aufgabe hier ein. Löschen Sie hierzu diesen kursiv gestellten Text aus dem Dokument. Um Code-Fragmente und Skripte in [Python](https://www.python.org/), sowie ggf. bildliche Darstellungen direkt ins [Jupyter notebook](https://jupyter.org/) einzubinden verwandeln Sie diese Zelle in eine Code-Zelle. Fügen Sie ggf. weitere Code-Zellen zu.* \n",
    "\n",
    "---"
   ]
  },
  {
   "cell_type": "markdown",
   "id": "52d7bc29-ebed-4dcd-bfc4-ca565bad7b51",
   "metadata": {},
   "source": [
    "**D I S K U S S I O N**\n",
    "\n",
    "*Fügen Sie eine abschließende Diskussion und Bewertung Ihrer Lösung hier ein. Löschen Sie hierzu diesen kursiv gestellten Text aus dem Dokument.* \n",
    "\n",
    "---"
   ]
  },
  {
   "cell_type": "markdown",
   "id": "97b7053b-f7c8-471f-bd76-01bb183198e0",
   "metadata": {
    "jp-MarkdownHeadingCollapsed": true,
    "tags": []
   },
   "source": [
    "## Aufgabe 2: Impedanz im Wechselstromkreis "
   ]
  },
  {
   "cell_type": "markdown",
   "id": "a187952a-ddbc-4b69-ad6f-5158bc6c4b58",
   "metadata": {
    "jp-MarkdownHeadingCollapsed": true,
    "tags": []
   },
   "source": [
    "### Aufgabe 2.1: Ohmscher Widerstand der Spule\n",
    "\n",
    "Bestimmen Sie mit Hilfe eines beliebigen Verfahrens aus **Aufgabe 1.2** den ohmschen Widerstand $R_{L}$ der Spule unter $U_{0}=6\\,\\mathrm{V}$ Gleichstrom.\n",
    "\n",
    "---"
   ]
  },
  {
   "cell_type": "markdown",
   "id": "18b99d98-f335-4ded-9e7e-ad50871d6be1",
   "metadata": {},
   "source": [
    "**V E R S U C H S B E S C H R E I B U N G**\n",
    "\n",
    "*Fügen Sie Ihre Versuchsbeschreibung hier ein. Löschen Sie hierzu diesen kursiv gestellten Text aus dem Dokument.* \n",
    "\n",
    "---"
   ]
  },
  {
   "cell_type": "markdown",
   "id": "d96998c1-4d61-42c1-a78d-61c6c1908fda",
   "metadata": {},
   "source": [
    "**L Ö S U N G**\n",
    "\n",
    "*Fügen Sie numerische Berechnungen zur Lösung dieser Aufgabe hier ein. Löschen Sie hierzu diesen kursiv gestellten Text aus dem Dokument. Um Code-Fragmente und Skripte in [Python](https://www.python.org/), sowie ggf. bildliche Darstellungen direkt ins [Jupyter notebook](https://jupyter.org/) einzubinden verwandeln Sie diese Zelle in eine Code-Zelle. Fügen Sie ggf. weitere Code-Zellen zu.* \n",
    "\n",
    "---"
   ]
  },
  {
   "cell_type": "markdown",
   "id": "0df5037d-f6ed-4145-9225-aad3ead4c8de",
   "metadata": {},
   "source": [
    "**D I S K U S S I O N**\n",
    "\n",
    "*Fügen Sie eine abschließende Diskussion und Bewertung Ihrer Lösung hier ein. Löschen Sie hierzu diesen kursiv gestellten Text aus dem Dokument.* \n",
    "\n",
    "---"
   ]
  },
  {
   "cell_type": "markdown",
   "id": "66f60b58-6aac-4a8b-bb6a-adad17f3c95a",
   "metadata": {
    "jp-MarkdownHeadingCollapsed": true,
    "tags": []
   },
   "source": [
    "### Aufgabe 2.2: Impedanz einer realen Spule\n",
    "\n",
    " * Bestimmen Sie, mit Hilfe einer sinusförmigen Wechselspannung von $\\nu=30\\,\\mathrm{Hz}$ aus dem bereitgestellten Frequenzgenerator, die folgenden Größen einer am Versuch ausliegenden **realen Spule**, die die Impedanz $Z_{L}$ der Spule definieren:\n",
    "   * Den **Blindwiderstand $X_{L}$** und die daraus resultierende Induktivität $L$.\n",
    "   * Den **Wirkwiderstand $R_{L}$**.\n",
    " * Vergleichen Sie das Ergebnis für $R_{L}$ aus dieser Aufgabe mit dem Ergebnis aus **Aufgabe 2.1**.\n",
    "\n",
    " ---"
   ]
  },
  {
   "cell_type": "markdown",
   "id": "f8a37ff5-5327-4ea7-a0af-d9b1d2b4dc0f",
   "metadata": {},
   "source": [
    "**V E R S U C H S B E S C H R E I B U N G**\n",
    "\n",
    "*Fügen Sie Ihre Versuchsbeschreibung hier ein. Löschen Sie hierzu diesen kursiv gestellten Text aus dem Dokument.* \n",
    "\n",
    "---"
   ]
  },
  {
   "cell_type": "markdown",
   "id": "8f2b7506-e3ea-4090-beb4-04f758baf2d9",
   "metadata": {},
   "source": [
    "**L Ö S U N G**\n",
    "\n",
    "*Fügen Sie numerische Berechnungen zur Lösung dieser Aufgabe hier ein. Löschen Sie hierzu diesen kursiv gestellten Text aus dem Dokument. Um Code-Fragmente und Skripte in [Python](https://www.python.org/), sowie ggf. bildliche Darstellungen direkt ins [Jupyter notebook](https://jupyter.org/) einzubinden verwandeln Sie diese Zelle in eine Code-Zelle. Fügen Sie ggf. weitere Code-Zellen zu.* \n",
    "\n",
    "---"
   ]
  },
  {
   "cell_type": "markdown",
   "id": "246105d8-42e5-4761-8bb7-a647f72e3444",
   "metadata": {},
   "source": [
    "**D I S K U S S I O N**\n",
    "\n",
    "*Fügen Sie eine abschließende Diskussion und Bewertung Ihrer Lösung hier ein. Löschen Sie hierzu diesen kursiv gestellten Text aus dem Dokument.* \n",
    "\n",
    "---"
   ]
  },
  {
   "cell_type": "markdown",
   "id": "414353a0-e772-4365-9349-f43c3e8151f4",
   "metadata": {
    "jp-MarkdownHeadingCollapsed": true
   },
   "source": [
    "# Beurteilung"
   ]
  },
  {
   "cell_type": "markdown",
   "id": "97e0067c-a7df-4c30-b5a0-7a25a18ab0cc",
   "metadata": {},
   "source": [
    " * Nach Abschluss des Versuchs haben Sie die Möglichkeit diesen Versuch individuell zu beurteilen.\n",
    " * **Folgen Sie zur Beurteilung dieses Versuchs diesem [Link](https://www.empirio.de/s/ZlaZbW=gXy)**.\n",
    " * Beachten Sie, dass jede:r Studierende nur einmal pro Versuch eine Beurteilung abgeben kann.\n",
    " * Wir empfehlen die Beurteilung nach der Besprechung Ihrer Versuchsauswertung mit Ihrem:r Tutor:in auszufüllen.  "
   ]
  }
 ],
 "metadata": {
  "kernelspec": {
   "display_name": "Python 3 (ipykernel)",
   "language": "python",
   "name": "python3"
  },
  "language_info": {
   "codemirror_mode": {
    "name": "ipython",
    "version": 3
   },
   "file_extension": ".py",
   "mimetype": "text/x-python",
   "name": "python",
   "nbconvert_exporter": "python",
   "pygments_lexer": "ipython3",
   "version": "3.12.3"
  }
 },
 "nbformat": 4,
 "nbformat_minor": 5
}
