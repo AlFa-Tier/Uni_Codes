{
 "cells": [
  {
   "cell_type": "markdown",
   "id": "0ed58416-7972-4ef1-9b76-c3a2842ac14b",
   "metadata": {
    "jp-MarkdownHeadingCollapsed": true,
    "tags": []
   },
   "source": [
    "# Hinweise zum Versuch Elektrische Messverfahren"
   ]
  },
  {
   "cell_type": "markdown",
   "id": "96ca407c-799d-4a17-8cfb-fc6214f9ae9f",
   "metadata": {
    "jp-MarkdownHeadingCollapsed": true,
    "tags": []
   },
   "source": [
    "## Aufgabe 1: Ohmscher Widerstand in Netzwerken"
   ]
  },
  {
   "cell_type": "markdown",
   "id": "62ec7620-d76e-42a8-bec0-94f9903f3d0a",
   "metadata": {
    "jp-MarkdownHeadingCollapsed": true,
    "tags": []
   },
   "source": [
    "### Aufgabe 1.1: Innenwiderstände elektrischer Messgeräte"
   ]
  },
  {
   "cell_type": "markdown",
   "id": "2eb64c6a-c042-4038-ab5b-844b579366b0",
   "metadata": {
    "tags": []
   },
   "source": [
    "Gehen Sie zur Messung der Innenwiderstände ($R_{A}$) des Strommessgeräts (A) und ($R_{V}$) der Spannungsmessgeräte (V1 und V2), für diesen Versuch, wie folgt vor: \n",
    "\n",
    " * Schließen Sie A in Reihe mit \n",
    "   * einem festen $R_{2}=1\\ \\mathrm{k\\Omega}$-Widerstand; \n",
    "   * dem Potentiometer P bestehend aus einem regelbaren $R_{1}=10\\ \\mathrm{k\\Omega}$-Widerstand; und \n",
    "   * der Spannungsquelle für $U_{0}=6\\ \\mathrm{V}$ Gleichspannung, wie in [**Abbildung 1** links hier](https://gitlab.kit.edu/kit/etp-lehre/p1-praktikum/students/-/blob/main/Elektrische_Messverfahren/doc/Hinweise-Messgeraete.md) gezeigt.\n",
    " * Stellen Sie P so ein, dass A einen Strom von $I_{A}=1\\ \\mathrm{mA}$ anzeigt. \n",
    " * Fügen Sie dann V1/V2 parallel zu A in den Schaltkreis ein.\n",
    " * **Protokollieren** Sie:\n",
    "   * Den Aufbau der Schaltung in eigenen Worten (mit Skizze!).\n",
    "   * Ihre Beobachtung nach Parallelschaltung von V1/V2.\n",
    "   * Den Wert von $U_{0}$.\n",
    "   * Die Werte des an A gemessenen Stroms ($I_{0}$) ohne und ($I_{A}$) mit V1/V2 im Schaltkreis. \n",
    "   * Die mit V1/V2 gemessene Spannung $U_{V}$. \n",
    " * Protokollieren Sie **alle** numerischen Werte mit entsprechenden Unsicherheiten! \n",
    " * Berechnen Sie aus den protokollierten Werten $R_{A}$ und $R_{V}$ **mit entsprechenden Unsicherheiten**.\n",
    "\n",
    "---\n",
    "\n",
    "Weitere Details zur Vorbereitung auf diese Aufgabe finden Sie in in der Datei [Hinweise-Messgeraete](https://gitlab.kit.edu/kit/etp-lehre/p1-praktikum/students/-/blob/main/Elektrische_Messverfahren/doc/Hinweise-Messgeraete.md).\n",
    "\n",
    "---"
   ]
  },
  {
   "cell_type": "markdown",
   "id": "f9440de9-3056-48aa-aaf4-c2d7a03a7155",
   "metadata": {
    "jp-MarkdownHeadingCollapsed": true,
    "tags": []
   },
   "source": [
    "### Aufgabe 1.2: Bestimmung ohmscher Widerstände"
   ]
  },
  {
   "cell_type": "markdown",
   "id": "c2e546e6-6f07-4130-9140-2a642575a01d",
   "metadata": {},
   "source": [
    "Gehen Sie zur Bestimmung eines unbekannten Widerstands $R_{X}$, für diesen Versuch, wie folgt vor:\n",
    "\n",
    " * Schließen Sie $R_{X}$ in Reihe mit \n",
    "   * einem bekannten (Last-)Widerstand von $R=10\\,\\mathrm{k\\Omega}$; \n",
    "   * dem Strommessgerät A; und \n",
    "   * der Spannungsquelle für $ U_{0}=6\\,\\mathrm{V}$ (Gleichspannung). \n",
    " * Bestimmen Sie, wie in [**Abbildung 1** hier](https://gitlab.kit.edu/kit/etp-lehre/p1-praktikum/students/-/blob/main/Elektrische_Messverfahren/doc/Hinweise-Widerstaende.md) gezeigt, mit einem Spannungsmessgerät V die über $R_{X}$ abfallende Spannung \n",
    "   * in *spannungsrichtiger* Schaltung; und\n",
    "   * in *stromrichtiger* Schaltung.\n",
    "   * Verwenden Sie zur Berücksichtigung innerer Widerstände, die in **Aufgabe 1.1** bestimmen Werte für $R_{A}$ und $R_{V}$.\n",
    " * Bestimmen Sie $R_{X}$ mit Hilfe einer Wheatstoneschen Messbrücke, wie in [**Abbildung 2** hier](https://gitlab.kit.edu/kit/etp-lehre/p1-praktikum/students/-/blob/main/Elektrische_Messverfahren/doc/Hinweise-Widerstaende.md) gezeigt. \n",
    " * **Protokollieren** Sie:\n",
    "   * Den Aufbau der Schaltungen in eigenen Worten (mit Skizzen!).\n",
    "   * Die Werte für $R_{X}$, wie Sie sie mit Hilfe der entsprechenden Schaltungen erhalten.\n",
    " * Protokollieren Sie **alle** numerischen Werte mit entsprechenden Unsicherheiten! Berücksichtigen Sie hierzu auch die Unsicherheiten auf $R_{A}$ und $R_{V}$, wie Sie sie in **Aufgabe 1.1** bestimmt haben. \n",
    " * Berechnen Sie aus den protokollierten Werten $R_{X}$ **mit entsprechenden Unsicherheiten**. Vergleichen Sie die Ergebnisse und bewerten Sie die einzelnen Messmethoden.      \n",
    "\n",
    "---\n",
    "\n",
    "Weitere Details zur Vorbereitung auf diese Aufgabe finden Sie in in der Datei [Hinweise-Widerstaende](https://gitlab.kit.edu/kit/etp-lehre/p1-praktikum/students/-/blob/main/Elektrische_Messverfahren/doc/Hinweise-Widerstaende.md).\n",
    "\n",
    "---"
   ]
  },
  {
   "cell_type": "markdown",
   "id": "842a63f7-65c7-4752-82a0-9ca654e46acf",
   "metadata": {
    "jp-MarkdownHeadingCollapsed": true,
    "tags": []
   },
   "source": [
    "### Aufgabe 1.3: Innenwiderstand einer Trockenbattetrie"
   ]
  },
  {
   "cell_type": "markdown",
   "id": "cbc28245-1839-470d-932e-b45c10912362",
   "metadata": {},
   "source": [
    "Gehen Sie zur Messung des Innenwiderstands $R_{i}$ der ausliegenden Trockenbatterie, für diesen Versuch, wie folgt vor:\n",
    "\n",
    " * Wählen Sie ein geeignetes Spannungsmessgerät V für diese Aufgabe aus.\n",
    " * Bestimmen Sie die Leerlaufspannung $U_{0}$ der Trockenbatterie.\n",
    " * Schließen Sie den Schaltkreis mit einem äußeren Lastwiderstand $R=220\\,\\Omega$ kurz und bestimmen Sie die Klemmspannung $U_{K}$.\n",
    " * **Protokollieren** Sie:\n",
    "   * Den Aufbau der Schaltung unter Last (mit Skizze!).\n",
    "   * Die Werte für $U_{0}$, $U_{K}$ und $I$.\n",
    " * Protokollieren Sie **alle** numerischen Werte mit entsprechenden Unsicherheiten!\n",
    " * Berechnen Sie aus den protokollierten Werten $R_{i}$ **mit entsprechenden Unsicherheiten**.\n",
    "\n",
    "---\n",
    "   \n",
    "Weitere Details zur Vorbereitung auf diese Aufgabe finden Sie in in der Datei [Hinweise_Spannungsquellen](https://gitlab.kit.edu/kit/etp-lehre/p1-praktikum/students/-/blob/main/Elektrische_Messverfahren/doc/Hinweise-Spannungsquellen.md).\n",
    "\n",
    "---"
   ]
  },
  {
   "cell_type": "markdown",
   "id": "03d51509-49b5-412b-9b4c-1aa893bc4cc9",
   "metadata": {
    "jp-MarkdownHeadingCollapsed": true,
    "tags": []
   },
   "source": [
    "## Aufgabe 2: Impedanz im Wechselstromkreis"
   ]
  },
  {
   "cell_type": "markdown",
   "id": "ef823a54-8ec4-485b-b924-c1bd54293460",
   "metadata": {
    "jp-MarkdownHeadingCollapsed": true,
    "tags": []
   },
   "source": [
    "### Aufgabe 2.1: Ohmscher Widerstand der Spule"
   ]
  },
  {
   "cell_type": "markdown",
   "id": "e048aa0c-28b3-4737-909d-5d03d595b8b9",
   "metadata": {},
   "source": [
    "Wählen Sie zur Messung von $R_{L}$ der realen Spule eine der Methoden aus **Aufgabe 1.2** und gehen Sie dann analog zu **Aufgabe 1.2** vor. \n",
    "\n",
    "---"
   ]
  },
  {
   "cell_type": "markdown",
   "id": "f7014f89-694d-45e7-aff2-db783a46a3ed",
   "metadata": {
    "jp-MarkdownHeadingCollapsed": true,
    "tags": []
   },
   "source": [
    "### Aufgabe 2.2: Impedanz einer realen Spule"
   ]
  },
  {
   "cell_type": "markdown",
   "id": "37617804-1fbd-48bb-bec3-9d8dda2ebd93",
   "metadata": {
    "jp-MarkdownHeadingCollapsed": true,
    "tags": []
   },
   "source": [
    "Gehen Sie zur Bestimmung von $R_{L}$ und $X_{L}$, für diesen Versuch, wie folgt vor:\n",
    "\n",
    " * Schließen Sie die Spule $Z_{L}$ mit einem Lastwiderstand $R$ und dem Ausgang des Frequenzgenerators in Reihe. Wählen Sie hierzu einen geeigneten Lastwiderstand aus.\n",
    " * Beobachten Sie die folgenden Signale am Oszilloskop:\n",
    "   * Die Klemmspannung $U_{K}$ am Frequenzgenerator.\n",
    "   * Die über den Lastwiderstand $R$ abfallende Spannung $U_{R}$.\n",
    "   * Die über die Impedanz $Z_{L}$ der Spule abfallende Spannung $U_{L}$. \n",
    " * **Protokollieren** Sie:\n",
    "   * Den Aufbau der Schaltung in eigenen Worten (mit Skizze!).\n",
    "   * Die Peakspannungen der Signale für $U_{K}$, $U_{R}$ und $U_{L}$.\n",
    "   * Die Phasenverschiebung von $U_{K}$ gegenüber $U_{R}$.\n",
    " * Protokollieren Sie **alle** numerischen Werte mit entsprechenden Unsicherheiten!\n",
    " * Berechnen Sie $R_{L}$ und $X_{L}$ **mit entsprechenden Unsicherheiten**.\n",
    " * Vergleichen Sie den so ermittelten Wert für $R_{L}$ mit dem aus **Aufgabe 2.1** unter Berücksichtigung der entsprechenden Unsicherheiten. \n",
    "\n",
    "#### Freiwillige Zusatzaufgabe\n",
    "\n",
    "Vergleichen Sie den so ermittelbaren Wert für $|Z_{L}|$ mit dem Wert, den Sie aus der Messung von $U_{L}$, $U_{R}$ und dem gewählten Wert von $R$ ermitteln können. \n",
    "\n",
    "---\n",
    "\n",
    "Weitere Details zu dieser Aufgabe finden Sie in in der Datei [Hinweise-Impedanz](https://gitlab.kit.edu/kit/etp-lehre/p1-praktikum/students/-/blob/main/Elektrische_Messverfahren/doc/Hinweise-Impedanz.md).\n",
    "\n",
    "---"
   ]
  }
 ],
 "metadata": {
  "kernelspec": {
   "display_name": "Python 3 (ipykernel)",
   "language": "python",
   "name": "python3"
  },
  "language_info": {
   "codemirror_mode": {
    "name": "ipython",
    "version": 3
   },
   "file_extension": ".py",
   "mimetype": "text/x-python",
   "name": "python",
   "nbconvert_exporter": "python",
   "pygments_lexer": "ipython3",
   "version": "3.12.3"
  }
 },
 "nbformat": 4,
 "nbformat_minor": 5
}
