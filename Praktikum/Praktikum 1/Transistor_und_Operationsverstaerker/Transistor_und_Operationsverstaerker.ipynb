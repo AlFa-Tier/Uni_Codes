{
 "cells": [
  {
   "cell_type": "markdown",
   "id": "885c7767-e912-4e31-b5d6-3a3443ffa58e",
   "metadata": {
    "jp-MarkdownHeadingCollapsed": true,
    "tags": []
   },
   "source": [
    "# Fakultät für Physik\n",
    "\n",
    "## Physikalisches Praktikum P1 für Studierende der Physik\n",
    "\n",
    "Versuch P1-41, 42, 43 (Stand: **Oktober 2024**)\n",
    "\n",
    "[Raum F1-09](https://labs.physik.kit.edu/img/Klassische-Praktika/Lageplan_P1P2.png)\n",
    "\n",
    "\n",
    "\n",
    "# Transistor und Operationsverstärker"
   ]
  },
  {
   "cell_type": "markdown",
   "id": "02723acd-b4da-43cb-8534-d52f27e5e556",
   "metadata": {},
   "source": [
    "Name: __________________ Vorname: __________________ E-Mail: __________________\n",
    "\n",
    "\\begin{equation*}\n",
    "\\begin{split}\n",
    "&\\\\\n",
    "&\\\\\n",
    "\\end{split}\n",
    "\\end{equation*}\n",
    "\n",
    "Name: __________________ Vorname: __________________ E-Mail: __________________\n",
    "\n",
    "\\begin{equation*}\n",
    "\\begin{split}\n",
    "&\\\\\n",
    "&\\\\\n",
    "&\\\\\n",
    "\\end{split}\n",
    "\\end{equation*}\n",
    "\n",
    "Gruppennummer: _____\n",
    "\n",
    "\\begin{equation*}\n",
    "\\begin{split}\n",
    "&\\\\\n",
    "&\\\\\n",
    "&\\\\\n",
    "\\end{split}\n",
    "\\end{equation*}\n",
    "\n",
    "\n",
    "Betreuer: __________________\n",
    "\n",
    "\\begin{equation*}\n",
    "\\begin{split}\n",
    "&\\\\\n",
    "&\\\\\n",
    "&\\\\\n",
    "\\end{split}\n",
    "\\end{equation*}\n",
    "\n",
    "Versuch durchgeführt am: __________________"
   ]
  },
  {
   "cell_type": "markdown",
   "id": "0d6a9bf2-e9e4-4a66-943e-92b576159cc9",
   "metadata": {},
   "source": [
    "---\n",
    "\n",
    "**Beanstandungen zu Protokoll Version _____:**\n",
    "\n",
    "\\begin{equation*}\n",
    "\\begin{split}\n",
    "&\\\\\n",
    "&\\\\\n",
    "&\\\\\n",
    "&\\\\\n",
    "&\\\\\n",
    "&\\\\\n",
    "&\\\\\n",
    "&\\\\\n",
    "&\\\\\n",
    "&\\\\\n",
    "\\end{split}\n",
    "%\\text{\\vspace{10cm}}\n",
    "\\end{equation*}\n",
    "\n",
    "<br>\n",
    "Testiert am: __________________ Testat: __________________"
   ]
  },
  {
   "cell_type": "markdown",
   "id": "305b8433-7bc6-4a3c-b0e6-fa5c8955849a",
   "metadata": {
    "jp-MarkdownHeadingCollapsed": true,
    "tags": []
   },
   "source": [
    "# Durchführung"
   ]
  },
  {
   "cell_type": "markdown",
   "id": "1b3e1486-3583-4cba-a8e0-9491e021188b",
   "metadata": {
    "jp-MarkdownHeadingCollapsed": true,
    "tags": []
   },
   "source": [
    "## Aufgabe 1: Kennlinienfeld eines npn-Transistors"
   ]
  },
  {
   "cell_type": "markdown",
   "id": "49af5ff9-6819-463a-ab4f-fa0c1ad069e5",
   "metadata": {
    "jp-MarkdownHeadingCollapsed": true,
    "tags": []
   },
   "source": [
    "### Aufgabe 1.1: Ausgangskennlinien\n",
    "\n",
    " * Bestimmen Sie die **Ausgangskennlinien** des am Versuchsplatz ausliegenden Transistors für **mindestens fünf verschiedene Werte von $I_{\\mathrm{B}}$**.\n",
    " * Tragen Sie diese in den **ersten Quadranten** des Kennlinienfelds ein.\n",
    "\n",
    "---"
   ]
  },
  {
   "cell_type": "markdown",
   "id": "9b8dac3d-392e-452a-9d2e-90cc58bab8f9",
   "metadata": {},
   "source": [
    "**V E R S U C H S B E S C H R E I B U N G**\n",
    "\n",
    "*Fügen Sie Ihre Versuchsbeschreibung hier ein. Löschen Sie hierzu diesen kursiv gestellten Text aus dem Dokument.* \n",
    "\n",
    "---"
   ]
  },
  {
   "cell_type": "markdown",
   "id": "cdc08392-a7c9-42c7-af29-f09413bbbc1a",
   "metadata": {},
   "source": [
    "**L Ö S U N G**\n",
    "\n",
    "*Fügen Sie numerische Berechnungen zur Lösung dieser Aufgabe hier ein. Löschen Sie hierzu diesen kursiv gestellten Text aus dem Dokument. Um Code-Fragmente und Skripte in [Python](https://www.python.org/), sowie ggf. bildliche Darstellungen direkt ins [Jupyter notebook](https://jupyter.org/) einzubinden verwandeln Sie diese Zelle in eine Code-Zelle. Fügen Sie ggf. weitere Code-Zellen zu.* \n",
    "\n",
    "---"
   ]
  },
  {
   "cell_type": "markdown",
   "id": "97a5185d-22d4-4e04-a4e5-18471961b888",
   "metadata": {},
   "source": [
    "**D I S K U S S I O N**\n",
    "\n",
    "*Fügen Sie eine abschließende Diskussion und Bewertung Ihrer Lösung hier ein. Löschen Sie hierzu diesen kursiv gestellten Text aus dem Dokument.* \n",
    "\n",
    "---"
   ]
  },
  {
   "cell_type": "markdown",
   "id": "a4a8f9ae-41ce-410d-96ed-6791d22d81f9",
   "metadata": {
    "jp-MarkdownHeadingCollapsed": true,
    "tags": []
   },
   "source": [
    "### Aufgabe 1.2: Eingangskennlinie\n",
    "\n",
    " * Bestimmen Sie die **Eingangskennlinie** des Transistors. \n",
    " * Tragen Sie diese in den **dritten Quadranten** des Kennlinienfelds ein.\n",
    "\n",
    "---"
   ]
  },
  {
   "cell_type": "markdown",
   "id": "375bc285-33cc-43cc-bf8f-9247c1431ae4",
   "metadata": {},
   "source": [
    "**V E R S U C H S B E S C H R E I B U N G**\n",
    "\n",
    "*Fügen Sie Ihre Versuchsbeschreibung hier ein. Löschen Sie hierzu diesen kursiv gestellten Text aus dem Dokument.* \n",
    "\n",
    "---"
   ]
  },
  {
   "cell_type": "markdown",
   "id": "bad75ad8-6476-4470-8ad2-3d06ea58ced1",
   "metadata": {},
   "source": [
    "**L Ö S U N G**\n",
    "\n",
    "*Fügen Sie numerische Berechnungen zur Lösung dieser Aufgabe hier ein. Löschen Sie hierzu diesen kursiv gestellten Text aus dem Dokument. Um Code-Fragmente und Skripte in [Python](https://www.python.org/), sowie ggf. bildliche Darstellungen direkt ins [Jupyter notebook](https://jupyter.org/) einzubinden verwandeln Sie diese Zelle in eine Code-Zelle. Fügen Sie ggf. weitere Code-Zellen zu.* \n",
    "\n",
    "---"
   ]
  },
  {
   "cell_type": "markdown",
   "id": "b0602e12-85f5-4447-850a-83d53671c454",
   "metadata": {},
   "source": [
    "**D I S K U S S I O N**\n",
    "\n",
    "*Fügen Sie eine abschließende Diskussion und Bewertung Ihrer Lösung hier ein. Löschen Sie hierzu diesen kursiv gestellten Text aus dem Dokument.* \n",
    "\n",
    "---"
   ]
  },
  {
   "cell_type": "markdown",
   "id": "b97bc452-bdb2-40f8-a6b5-e6d6841e6f4f",
   "metadata": {
    "jp-MarkdownHeadingCollapsed": true,
    "tags": []
   },
   "source": [
    "### Aufgabe 1.3: Übertragungskennlinie\n",
    "\n",
    " * Bestimmen Sie aus den aufgenommenen Kennlinien und den zugehörigen protokollierten Werten für $I_{\\mathrm{B}}$ aus **Aufgaben 1.1** die **Übertragungskennlinie** des Transistors. \n",
    " * Tragen Sie diese in den **zweiten Quadranten** des Kennlinienfeldes ein. \n",
    " * Bestimmen Sie aus den befüllten Quadranten die **Transistorkenngrößen $\\beta$, $r_{B}$ und $r_{C}$** für den Arbeitspunkt $U_{\\mathrm{CE}}=6\\,\\mathrm{V}, I_{\\mathrm{C}}=15\\,\\mathrm{mA}$.\n",
    "\n",
    "---"
   ]
  },
  {
   "cell_type": "markdown",
   "id": "9682fb60-fb07-41d0-a9a1-f8aad03abad3",
   "metadata": {},
   "source": [
    "**V E R S U C H S B E S C H R E I B U N G**\n",
    "\n",
    "*Fügen Sie Ihre Versuchsbeschreibung hier ein. Löschen Sie hierzu diesen kursiv gestellten Text aus dem Dokument.* \n",
    "\n",
    "---"
   ]
  },
  {
   "cell_type": "markdown",
   "id": "f4e9e58e-6832-436d-ace2-1fadb2f2b1ce",
   "metadata": {},
   "source": [
    "**L Ö S U N G**\n",
    "\n",
    "*Fügen Sie numerische Berechnungen zur Lösung dieser Aufgabe hier ein. Löschen Sie hierzu diesen kursiv gestellten Text aus dem Dokument. Um Code-Fragmente und Skripte in [Python](https://www.python.org/), sowie ggf. bildliche Darstellungen direkt ins [Jupyter notebook](https://jupyter.org/) einzubinden verwandeln Sie diese Zelle in eine Code-Zelle. Fügen Sie ggf. weitere Code-Zellen zu.* \n",
    "\n",
    "---"
   ]
  },
  {
   "cell_type": "markdown",
   "id": "52d7bc29-ebed-4dcd-bfc4-ca565bad7b51",
   "metadata": {},
   "source": [
    "**D I S K U S S I O N**\n",
    "\n",
    "*Fügen Sie eine abschließende Diskussion und Bewertung Ihrer Lösung hier ein. Löschen Sie hierzu diesen kursiv gestellten Text aus dem Dokument.* \n",
    "\n",
    "---"
   ]
  },
  {
   "cell_type": "markdown",
   "id": "97b7053b-f7c8-471f-bd76-01bb183198e0",
   "metadata": {
    "jp-MarkdownHeadingCollapsed": true,
    "tags": []
   },
   "source": [
    "## Aufgabe 2: Transistorgrundschaltungen "
   ]
  },
  {
   "cell_type": "markdown",
   "id": "a187952a-ddbc-4b69-ad6f-5158bc6c4b58",
   "metadata": {
    "jp-MarkdownHeadingCollapsed": true,
    "tags": []
   },
   "source": [
    "### Aufgabe 2.1: Stromgegengekoppelte Emitterschaltung\n",
    "\n",
    "Schalten und dimensionieren Sie eine **stromgegengekoppelte Emitterschaltung** mit einer Verstärkung von $v_{U}=10$ und bearbeiten Sie die folgenden Aufgaben:\n",
    "\n",
    " * Überzeugen Sie sich von der Verstärkung $v_{U}$.\n",
    " * Bestimmen Sie die Eingangsimpedanz $Z_{e}$.\n",
    " * Bestimmen Sie die Ausgangsimpedanz $Z_{a}$.\n",
    "\n",
    "---"
   ]
  },
  {
   "cell_type": "markdown",
   "id": "18b99d98-f335-4ded-9e7e-ad50871d6be1",
   "metadata": {},
   "source": [
    "**V E R S U C H S B E S C H R E I B U N G**\n",
    "\n",
    "*Fügen Sie Ihre Versuchsbeschreibung hier ein. Löschen Sie hierzu diesen kursiv gestellten Text aus dem Dokument.* \n",
    "\n",
    "---"
   ]
  },
  {
   "cell_type": "markdown",
   "id": "d96998c1-4d61-42c1-a78d-61c6c1908fda",
   "metadata": {},
   "source": [
    "**L Ö S U N G**\n",
    "\n",
    "*Fügen Sie numerische Berechnungen zur Lösung dieser Aufgabe hier ein. Löschen Sie hierzu diesen kursiv gestellten Text aus dem Dokument. Um Code-Fragmente und Skripte in [Python](https://www.python.org/), sowie ggf. bildliche Darstellungen direkt ins [Jupyter notebook](https://jupyter.org/) einzubinden verwandeln Sie diese Zelle in eine Code-Zelle. Fügen Sie ggf. weitere Code-Zellen zu.* \n",
    "\n",
    "---"
   ]
  },
  {
   "cell_type": "markdown",
   "id": "0df5037d-f6ed-4145-9225-aad3ead4c8de",
   "metadata": {},
   "source": [
    "**D I S K U S S I O N**\n",
    "\n",
    "*Fügen Sie eine abschließende Diskussion und Bewertung Ihrer Lösung hier ein. Löschen Sie hierzu diesen kursiv gestellten Text aus dem Dokument.* \n",
    "\n",
    "---"
   ]
  },
  {
   "cell_type": "markdown",
   "id": "66f60b58-6aac-4a8b-bb6a-adad17f3c95a",
   "metadata": {
    "jp-MarkdownHeadingCollapsed": true,
    "tags": []
   },
   "source": [
    "### Aufgabe 2.2: Kollektorschaltung\n",
    "\n",
    "**Diese Aufgabe ist nur für Studierende mit Hauptfach Physik verpflichtend. Studierende mit Nebenfach Physik und Lehramtstudierende können diese Aufgabe überspringen.**\n",
    "\n",
    "Schalten Sie eine **Kollektorschaltung** und bearbeiten Sie die folgenden Aufgaben:\n",
    "\n",
    " * Überzeugen Sie sich von der Verstärkung $v_{U}$.\n",
    " * Bestimmen Sie die Eingangsimpedanz $Z_{e}$.\n",
    " * Bestimmen Sie die Ausgangsimpedanz $Z_{a}$.\n",
    "\n",
    " ---"
   ]
  },
  {
   "cell_type": "markdown",
   "id": "f8a37ff5-5327-4ea7-a0af-d9b1d2b4dc0f",
   "metadata": {},
   "source": [
    "**V E R S U C H S B E S C H R E I B U N G**\n",
    "\n",
    "*Fügen Sie Ihre Versuchsbeschreibung hier ein. Löschen Sie hierzu diesen kursiv gestellten Text aus dem Dokument.* \n",
    "\n",
    "---"
   ]
  },
  {
   "cell_type": "markdown",
   "id": "8f2b7506-e3ea-4090-beb4-04f758baf2d9",
   "metadata": {},
   "source": [
    "**L Ö S U N G**\n",
    "\n",
    "*Fügen Sie numerische Berechnungen zur Lösung dieser Aufgabe hier ein. Löschen Sie hierzu diesen kursiv gestellten Text aus dem Dokument. Um Code-Fragmente und Skripte in [Python](https://www.python.org/), sowie ggf. bildliche Darstellungen direkt ins [Jupyter notebook](https://jupyter.org/) einzubinden verwandeln Sie diese Zelle in eine Code-Zelle. Fügen Sie ggf. weitere Code-Zellen zu.* \n",
    "\n",
    "---"
   ]
  },
  {
   "cell_type": "markdown",
   "id": "246105d8-42e5-4761-8bb7-a647f72e3444",
   "metadata": {},
   "source": [
    "**D I S K U S S I O N**\n",
    "\n",
    "*Fügen Sie eine abschließende Diskussion und Bewertung Ihrer Lösung hier ein. Löschen Sie hierzu diesen kursiv gestellten Text aus dem Dokument.* \n",
    "\n",
    "---"
   ]
  },
  {
   "cell_type": "markdown",
   "id": "5a6b3c0e-c0ff-4bbe-a86f-4d35bd88e127",
   "metadata": {
    "jp-MarkdownHeadingCollapsed": true,
    "tags": []
   },
   "source": [
    "## Aufgabe 3: Operationsverstärker"
   ]
  },
  {
   "cell_type": "markdown",
   "id": "3bf814d6-a160-48c7-aad7-8a52427443cf",
   "metadata": {
    "jp-MarkdownHeadingCollapsed": true,
    "tags": []
   },
   "source": [
    "### Aufgabe 3.1: Grundschaltung nicht-invertierender Spannungsverstärker \n",
    "\n",
    "Bauen Sie die Grundschaltung eines **nicht-invertierenden Spannungsverstärkers** mit der Spannungsverstärkung $v_{U}=10$ auf und bearbeiten Sie die folgenden Aufgaben:\n",
    "\n",
    " * Überzeugen Sie sich von der Verstärkung $v_{U}$.\n",
    " * Bestimmen Sie die Eingangsimpedanz $Z_{e}$.\n",
    " * Bestimmen Sie die Ausgangsimpedanz $Z_{a}$.\n",
    "\n",
    " ---"
   ]
  },
  {
   "cell_type": "markdown",
   "id": "20fb22ee-6873-49e6-8007-a168e0daa720",
   "metadata": {},
   "source": [
    "**V E R S U C H S B E S C H R E I B U N G**\n",
    "\n",
    "*Fügen Sie Ihre Versuchsbeschreibung hier ein. Löschen Sie hierzu diesen kursiv gestellten Text aus dem Dokument.* \n",
    "\n",
    "---"
   ]
  },
  {
   "cell_type": "markdown",
   "id": "218764b8-cea5-4b4e-9d4e-2f188ad88233",
   "metadata": {},
   "source": [
    "**L Ö S U N G**\n",
    "\n",
    "*Fügen Sie numerische Berechnungen zur Lösung dieser Aufgabe hier ein. Löschen Sie hierzu diesen kursiv gestellten Text aus dem Dokument. Um Code-Fragmente und Skripte in [Python](https://www.python.org/), sowie ggf. bildliche Darstellungen direkt ins [Jupyter notebook](https://jupyter.org/) einzubinden verwandeln Sie diese Zelle in eine Code-Zelle. Fügen Sie ggf. weitere Code-Zellen zu.* \n",
    "\n",
    "---"
   ]
  },
  {
   "cell_type": "markdown",
   "id": "7848ee9c-4af5-448f-9a23-f88fce94b0aa",
   "metadata": {},
   "source": [
    "**D I S K U S S I O N**\n",
    "\n",
    "*Fügen Sie eine abschließende Diskussion und Bewertung Ihrer Lösung hier ein. Löschen Sie hierzu diesen kursiv gestellten Text aus dem Dokument.* \n",
    "\n",
    "---"
   ]
  },
  {
   "cell_type": "markdown",
   "id": "c5aca5ff-1f18-4072-a73c-95aa4f675d21",
   "metadata": {
    "jp-MarkdownHeadingCollapsed": true,
    "tags": []
   },
   "source": [
    "### Aufgabe 3.1: Grundschaltung invertierender Spannungsverstärker \n",
    "\n",
    "Bauen Sie die Grundschaltung eines **invertierenden Spannungsverstärkers** mit der Spannungsverstärkung $v_{U}=10$ auf und überzeugen Sie sich von der Verstärkung $v_{U}$.\n",
    " \n",
    " ---"
   ]
  },
  {
   "cell_type": "markdown",
   "id": "581fff02-52b9-4b44-8d1e-dc077f21f0f8",
   "metadata": {},
   "source": [
    "**V E R S U C H S B E S C H R E I B U N G**\n",
    "\n",
    "*Fügen Sie Ihre Versuchsbeschreibung hier ein. Löschen Sie hierzu diesen kursiv gestellten Text aus dem Dokument.* \n",
    "\n",
    "---"
   ]
  },
  {
   "cell_type": "markdown",
   "id": "21f33792-0416-4347-8ecd-cc331dca6c72",
   "metadata": {},
   "source": [
    "**L Ö S U N G**\n",
    "\n",
    "*Fügen Sie numerische Berechnungen zur Lösung dieser Aufgabe hier ein. Löschen Sie hierzu diesen kursiv gestellten Text aus dem Dokument. Um Code-Fragmente und Skripte in [Python](https://www.python.org/), sowie ggf. bildliche Darstellungen direkt ins [Jupyter notebook](https://jupyter.org/) einzubinden verwandeln Sie diese Zelle in eine Code-Zelle. Fügen Sie ggf. weitere Code-Zellen zu.* \n",
    "\n",
    "---"
   ]
  },
  {
   "cell_type": "markdown",
   "id": "3500f928-3697-40a4-afb6-fad8386e5936",
   "metadata": {},
   "source": [
    "**D I S K U S S I O N**\n",
    "\n",
    "*Fügen Sie eine abschließende Diskussion und Bewertung Ihrer Lösung hier ein. Löschen Sie hierzu diesen kursiv gestellten Text aus dem Dokument.* \n",
    "\n",
    "---"
   ]
  },
  {
   "cell_type": "markdown",
   "id": "e58ac1f9-d32c-42a1-ac3a-1a4711f799bb",
   "metadata": {
    "jp-MarkdownHeadingCollapsed": true
   },
   "source": [
    "# Beurteilung"
   ]
  },
  {
   "cell_type": "markdown",
   "id": "9ad80ae5-c5cc-449a-a059-74636691b6fd",
   "metadata": {},
   "source": [
    " * Nach Abschluss des Versuchs haben Sie die Möglichkeit diesen Versuch individuell zu beurteilen.\n",
    " * **Folgen Sie zur Beurteilung dieses Versuchs diesem [Link](https://www.empirio.de/s/YJ933HVHaB)**.\n",
    " * Beachten Sie, dass jede:r Studierende nur einmal pro Versuch eine Beurteilung abgeben kann.\n",
    " * Wir empfehlen die Beurteilung nach der Besprechung Ihrer Versuchsauswertung mit Ihrem:r Tutor:in auszufüllen.  "
   ]
  }
 ],
 "metadata": {
  "kernelspec": {
   "display_name": "Python 3 (ipykernel)",
   "language": "python",
   "name": "python3"
  },
  "language_info": {
   "codemirror_mode": {
    "name": "ipython",
    "version": 3
   },
   "file_extension": ".py",
   "mimetype": "text/x-python",
   "name": "python",
   "nbconvert_exporter": "python",
   "pygments_lexer": "ipython3",
   "version": "3.12.3"
  }
 },
 "nbformat": 4,
 "nbformat_minor": 5
}
