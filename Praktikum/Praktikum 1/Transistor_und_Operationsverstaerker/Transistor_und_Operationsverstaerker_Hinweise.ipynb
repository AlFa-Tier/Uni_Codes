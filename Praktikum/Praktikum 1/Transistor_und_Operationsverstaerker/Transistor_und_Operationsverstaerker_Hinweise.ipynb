{
 "cells": [
  {
   "cell_type": "markdown",
   "id": "0ed58416-7972-4ef1-9b76-c3a2842ac14b",
   "metadata": {
    "jp-MarkdownHeadingCollapsed": true,
    "tags": []
   },
   "source": [
    "# Hinweise zum Versuch Transistor und Operationsverstärker\n",
    "\n",
    "---\n",
    "\n",
    "Zur erfolgreichen Durchführung dieses Versuchs benötigen Sie grundlegende Kentnisse aus der Datei [Hinweise-Transistor](https://gitlab.kit.edu/kit/etp-lehre/p1-praktikum/students/-/blob/main/Transistor_und_Operationsverstaerker/doc/Hinweise-Transistor.md).\n",
    "\n",
    "---"
   ]
  },
  {
   "cell_type": "markdown",
   "id": "96ca407c-799d-4a17-8cfb-fc6214f9ae9f",
   "metadata": {
    "jp-MarkdownHeadingCollapsed": true,
    "tags": []
   },
   "source": [
    "## Aufgabe 1: Kennlinienfeld eines npn-Transistors\n",
    "\n",
    "---\n",
    "\n",
    "Weitere Details zur Vorbereitung auf die folgenden Aufgaben finden Sie in in der Datei [Hinweise-Kennlinienfeld](https://gitlab.kit.edu/kit/etp-lehre/p1-praktikum/students/-/blob/main/Transistor_und_Operationsverstaerker/doc/Hinweise-Kennlinienfeld.md).\n",
    "\n",
    "---"
   ]
  },
  {
   "cell_type": "markdown",
   "id": "62ec7620-d76e-42a8-bec0-94f9903f3d0a",
   "metadata": {
    "jp-MarkdownHeadingCollapsed": true,
    "tags": []
   },
   "source": [
    "### Aufgabe 1.1: Ausgangskennlinie"
   ]
  },
  {
   "cell_type": "markdown",
   "id": "2eb64c6a-c042-4038-ab5b-844b579366b0",
   "metadata": {
    "tags": []
   },
   "source": [
    "Eine Schaltung für die Messung der Ausgangskennlinien finden Sie in **Abbildung 3** [hier](https://gitlab.kit.edu/kit/etp-lehre/p1-praktikum/students/-/blob/main/Transistor_und_Operationsverstaerker/doc/Hinweise-Kennlinienfeld.md). Gehen Sie zur Bestimmung der Ausgangskennlinien wie folgt vor: \n",
    "\n",
    " * Für diese Messung verwenden Sie das Oszilloskop im XY-Betrieb. \n",
    " * Wählen Sie $\\mathrm{VCC = 12\\ V}$. Der regelbare Widerstand von bis zu $R_{V}=1\\ \\mathrm{M\\Omega}$ dient zur impliziten Steuerung von $I_{\\mathrm{B}}$. \n",
    " * Justieren Sie $R_{V}$ so, dass $I_{\\mathrm{C}}$ die folgdenen Plateauwerte annimmt: $I_{\\mathrm{C}}=30, 25, 20, 15, 10\\,\\mathrm{mA}$.  \n",
    " * Lesen Sie $I_{B}$ mit Hilfe des am Versuchsplatz bereitstehenden Multimeters aus.\n",
    " * Lesen Sie die am Oszilloskop dargestellte Ausgangskennlinie aus.\n",
    " * **Protokollieren** Sie:\n",
    "   * Den Aufbau in eigenen Worten (mit Skizze!).\n",
    "   * Mindestens 8 Messpunkte aus der mit dem Oszilloskop dargestellten Ausgangskennlinie für $U_{\\mathrm{CE}}\\lesssim 12\\,\\mathrm{V}$, zu jedem Wert von $I_{\\mathrm{C}}$. \n",
    "   * Wählen Sie eine dichtere Folge von Messpunkten im Übergang zwischen Arbeits- und Sättigungsbereich, um den funktionalen Verlauf gut abbilden zu können. \n",
    "   * Schätzen Sie **geeignete Unsicherheiten für jeden Ihrer Messpunkte** $(U_{\\mathrm{CE}}, I_{\\mathrm{C}})$ ab. \n",
    "   * Den zu jedem Wert von $I_{\\mathrm{C}}$ gehörigen Wert von $I_{B}$, mit entsprechenden Unsicherheiten."
   ]
  },
  {
   "cell_type": "markdown",
   "id": "f9440de9-3056-48aa-aaf4-c2d7a03a7155",
   "metadata": {
    "jp-MarkdownHeadingCollapsed": true,
    "tags": []
   },
   "source": [
    "### Aufgabe 1.2: Eingangskennlinie"
   ]
  },
  {
   "cell_type": "markdown",
   "id": "c2e546e6-6f07-4130-9140-2a642575a01d",
   "metadata": {},
   "source": [
    "Eine Schaltung für die Messung **einer repäsentativen Eingangskennlinie** finden Sie in **Abbildung 2** [hier](https://gitlab.kit.edu/kit/etp-lehre/p1-praktikum/students/-/blob/main/Transistor_und_Operationsverstaerker/doc/Hinweise-Kennlinienfeld.md). Gehen Sie zur Bestimmung der Eingangskennlinie wie folgt vor: \n",
    "\n",
    " * Wählen Sie einen geeigneten nicht allzu hohen Wert für $U_{\\mathrm{CE}}$, wofür die Ausgangskennlinien ihr Plateau erreicht haben.\n",
    " * Regeln Sie mit $R_{V}$ einen geeigneten Wert für $I_{\\mathrm{B}}\\lesssim 100\\, \\mathrm{\\mu A}$ ein.\n",
    " * **Protokollieren** Sie:\n",
    "   * Den Aufbau in eigenen Worten (mit Skizze!).\n",
    "   * Mindestens fünf Messpunkte $(U_{\\mathrm{BE}}, I_{\\mathrm{B}})$. \n",
    "   * Wählen Sie eine dichtere Folge von Messpunkten im Übergangsbereich für kleine Werte von $U_{\\mathrm{BE}}$, um den funktionalen Verlauf gut abbilden zu können. \n",
    "   * Schätzen Sie **geeignete Unsicherheiten für jeden Ihrer Messpunkte** $(U_{\\mathrm{BE}}, I_{\\mathrm{B}})$ ab. "
   ]
  },
  {
   "cell_type": "markdown",
   "id": "842a63f7-65c7-4752-82a0-9ca654e46acf",
   "metadata": {
    "jp-MarkdownHeadingCollapsed": true,
    "tags": []
   },
   "source": [
    "### Aufgabe 1.3: Übertragungskennlinie"
   ]
  },
  {
   "cell_type": "markdown",
   "id": "cbc28245-1839-470d-932e-b45c10912362",
   "metadata": {},
   "source": [
    "Gehen Sie zur Bearbeitung dieser Aufgabe wie folgt vor:\n",
    "\n",
    "#### Übertragungskennlinie\n",
    "\n",
    " * Bestimmen Sie für einen festen Wert von $U_{\\mathrm{CE}}$ Werte für $I_{\\mathrm{C}}$ aus den in **Aufgabe 1.1** aufgezeichneten Ausgangskennlinien und den zugehörigen, protokollierten Werten von $I_{\\mathrm{B}}$.\n",
    " * Tragen Sie die Wertepaare $(I_{\\mathrm{B}}, I_{\\mathrm{C}})$ im zweiten Quadranten des Kennlinienfelds ab.\n",
    " * Schätzen Sie **geeignete Unsicherheiten** für jeden Messpunkt ab.\n",
    " \n",
    "#### Transistorkenngrößen\n",
    "\n",
    " * Schätzen Sie Werte für $r_{\\mathrm{B}}$, $r_{\\mathrm{C}}$ und $\\beta$ für den angegebenen Arbeitspunkt ab. \n",
    " * Schätzen Sie **geeignete Unsicherheiten** für die bestimmten Werte ab. "
   ]
  },
  {
   "cell_type": "markdown",
   "id": "03d51509-49b5-412b-9b4c-1aa893bc4cc9",
   "metadata": {
    "jp-MarkdownHeadingCollapsed": true,
    "tags": []
   },
   "source": [
    "## Aufgabe 2: Transistorgrundschaltungen"
   ]
  },
  {
   "cell_type": "markdown",
   "id": "ef823a54-8ec4-485b-b924-c1bd54293460",
   "metadata": {
    "jp-MarkdownHeadingCollapsed": true,
    "tags": []
   },
   "source": [
    "### Aufgabe 2.1: Stromgegengekoppelte Emitterschaltung"
   ]
  },
  {
   "cell_type": "markdown",
   "id": "594df6be-4ad2-4188-8ca2-78c030c985e2",
   "metadata": {
    "jp-MarkdownHeadingCollapsed": true,
    "tags": []
   },
   "source": [
    "Einen Schaltplan für die stromgegengekoppelte Emitterschaltung finden Sie in **Abbildung 1** [hier](https://gitlab.kit.edu/kit/etp-lehre/p1-praktikum/students/-/blob/main/Transistor_und_Operationsverstaerker/doc/Hinweise-Emitterschaltung.md). Bauen Sie die Schaltung auf und gehen Sie dann wie folgt vor:\n",
    "\n",
    "#### Spannungsverstärkung\n",
    "\n",
    " * Verwenden Sie die Widerstände mit den in der Abbildung angegebenen Werten. Wählen Sie einen für $v_{U}=10$ geeigneten Wert für $R_{\\mathrm{E}}$.\n",
    " * Am Versuchsplatz liegen mehrere Kondensatoren verschiedener Kapazitäten aus. Wählen Sie Koppelkondensatoren mit geeigneter Kapazität.\n",
    " * Stellen Sie $R_{V}$ so ein, dass $\\mathrm{VCC}=12\\ \\mathrm{V}$ zur Hälfte über $R_{\\mathrm{C}}$ abfällt.\n",
    " * Wählen Sie einen Wert für $I_{\\mathrm{C}}$ aus den Werten $10, 15, 20, 25, 30\\ \\mathrm{mA}$ aus, mit dem Sie weiterhin arbeiten wollen. Zur Erinnerung: Für diese Plateauwerte von $I_{\\mathrm{C}}$ haben Sie die Ausgangskennlinien in **Aufgabe 1.1** aufgenommen.  \n",
    " * Bestimmen Sie aus dem in **Aufgabe 1** erstellten Kennlinienfeld einen geeigneten Wert $U_{\\mathrm{BE}}$ für den Arbeitspunkt $U_{\\mathrm{CE}}=6\\ \\mathrm{V}$ und $I_{\\mathrm{C}}$.\n",
    " * Legen Sie eine **sinusförmige Wechselspannung** mit einer Scheitelspannung von $U_{\\mathrm{BE}}$ und $\\nu=1\\ \\mathrm{kHz}$ als $U_{e}$ an.\n",
    " * Stellen Sie $U_{e}$ und $U_{a}$ im Zweikanalbetrieb geeignet auf dem Oszilloskop dar. \n",
    " * **Protokollieren** Sie:\n",
    "   * Den Aufbau der Schaltung in eigenen Worten (mit Skizze!).\n",
    "   * Ihre Wahl für $C_{e}$ und $C_{a}$. Rechtfertigen Sie Ihre Wahl.\n",
    "   * Ihre Beobachtung. Ein Bild mit der Darstellung von $U_{e}$ und $U_{a}$ am Oszilloskop.\n",
    "   * Die Werte für $\\nu$, $|U_{e}|$ und $|U_{a}|$.\n",
    " * Protokollieren Sie **alle** numerischen Werte mit entsprechenden Unsicherheiten!\n",
    " * Berechnen Sie $v_{U}$ **mit entsprechenden Unsicherheiten**.\n",
    "\n",
    "#### Bestimmung von $Z_{e}$ und $Z_{a}$ \n",
    "\n",
    " * Verwenden Sie eine für Ihren Aufbau geeingete Methode zur Messung von $Z_{e}$ und $Z_{a}$. \n",
    " * Verwenden Sie hierzu das gleiche Eingangssignal $U_{e}$, wie für die Bestimmung der Spannungsverstärkung zuvor.\n",
    " * Messen Sie die für die Bestimmung von $Z_{e}$ und $Z_{a}$ notwendigen Spannungen als Peakspannungen am Oszilloskop.\n",
    " * Bestimmen Sie $Z_{e}$ und $Z_{a}$.\n",
    " * Vergleichen Sie die gemessenen Werte mit Ihrer Erwartung aus der Widerstandsbelegung. \n",
    " * **Beachten Sie, dass Ihre Erwartung auch Unsicherheiten hat.** Die Toleranzen für Widerstände verschiedener Hersteller-Serien finden Sie z.B. [hier](https://gitlab.kit.edu/kit/etp-lehre/p1-praktikum/students/-/blob/main/Elektrische_Messverfahren/doc/Hinweise-Widerstaende.md). \n",
    " * **Protokollieren** Sie:\n",
    "   * Ihr Vorgehen, mit einer geeigneten Beschreibung der von Ihnen gewählten Methode, ggf. mit Skizzen.\n",
    "   * Die Messwerte aus denen Sie $Z_{e}$ bzw. $Z_{a}$ bestimmt haben **mit entsprechenden Unsicherheiten**.\n",
    "   * Die berechneten Werte von $Z_{e}$ und $Z_{a}$ **mit entsprechenden Unsicherheiten**.\n",
    "   * Ihre Erwartung **mit entsprechenden Unsicherheiten**.\n",
    "\n",
    "---\n",
    "\n",
    "Weitere Details zu dieser Aufgabe finden Sie in der Datei [Hinweise-Emitterschaltung](https://gitlab.kit.edu/kit/etp-lehre/p1-praktikum/students/-/blob/main/Transistor_und_Operationsverstaerker/doc/Hinweise-Emitterschaltung.md).\n",
    "\n",
    "---"
   ]
  },
  {
   "cell_type": "markdown",
   "id": "f7014f89-694d-45e7-aff2-db783a46a3ed",
   "metadata": {
    "jp-MarkdownHeadingCollapsed": true,
    "tags": []
   },
   "source": [
    "### Aufgabe 2.2: Kollektorschaltung"
   ]
  },
  {
   "cell_type": "markdown",
   "id": "37617804-1fbd-48bb-bec3-9d8dda2ebd93",
   "metadata": {
    "jp-MarkdownHeadingCollapsed": true,
    "tags": []
   },
   "source": [
    "Einen Schaltplan für die Kollektorschaltung finden Sie in **Abbildung 1** [hier](https://gitlab.kit.edu/kit/etp-lehre/p1-praktikum/students/-/blob/main/Transistor_und_Operationsverstaerker/doc/Hinweise-Kollektorschaltung.md). Bauen Sie die Schaltung auf und gehen Sie dann wie für **Aufgab 2.1** vor:\n",
    "\n",
    "#### Spannungsverstärkung\n",
    "\n",
    " * Hier ist die Wahl von $R_{\\mathrm{E}}$ vorgegeben. \n",
    " * Stellen Sie $R_{V}$ so ein, dass $\\mathrm{VCC}=12\\ \\mathrm{V}$ zur Hälfte über $R_{\\mathrm{E}}$ abfällt.\n",
    " * **Protokollieren** Sie:\n",
    "   * Den Aufbau der Schaltung in eigenen Worten (mit Skizze!).\n",
    "   * Ihre Wahl für $C_{e}$ und $C_{a}$. \n",
    "   * Ihre Beobachtung. Ein Bild mit der Darstellung von $U_{e}$ und $U_{a}$ am Oszilloskop.\n",
    "   * Die Werte für $\\nu$, $|U_{e}|$ und $|U_{a}|$.\n",
    " * Protokollieren Sie **alle** numerischen Werte mit entsprechenden Unsicherheiten!\n",
    " * Berechnen Sie $v_{U}$ **mit entsprechenden Unsicherheiten**.\n",
    "\n",
    "#### Bestimmung von $Z_{e}$ und $Z_{a}$ \n",
    "\n",
    " * **Protokollieren** Sie:\n",
    "   * Die Messwerte aus denen Sie $Z_{e}$ bzw. $Z_{a}$ bestimmt haben **mit entsprechenden Unsicherheiten**.\n",
    "   * Die berechneten Werte von $Z_{e}$ und $Z_{a}$ **mit entsprechenden Unsicherheiten**.\n",
    "   * Ihre Erwartung **mit entsprechenden Unsicherheiten**.\n",
    "\n",
    "---\n",
    "\n",
    "Weitere Details zu dieser Aufgabe finden Sie in der Datei [Hinweise-Kollektorschaltung](https://gitlab.kit.edu/kit/etp-lehre/p1-praktikum/students/-/blob/main/Transistor_und_Operationsverstaerker/doc/Hinweise-Kollektorschaltung.md).\n",
    "\n",
    "---"
   ]
  },
  {
   "cell_type": "markdown",
   "id": "8f244574-4e94-49ec-ab06-298e5a736c07",
   "metadata": {
    "jp-MarkdownHeadingCollapsed": true,
    "tags": []
   },
   "source": [
    "## Aufgabe 3: Operationsverstärker\n",
    "\n",
    "---\n",
    "\n",
    "Weitere Details zur Vorbereitung auf die folgenden Aufgaben finden Sie in der Datei [Hinweise-OPV](https://gitlab.kit.edu/kit/etp-lehre/p1-praktikum/students/-/blob/main/Transistor_und_Operationsverstaerker/doc/Hinweise-OPV.md).\n",
    "\n",
    "---"
   ]
  },
  {
   "cell_type": "markdown",
   "id": "f02bf9d0-e26d-44f6-b81f-5ab2143346a4",
   "metadata": {
    "jp-MarkdownHeadingCollapsed": true,
    "tags": []
   },
   "source": [
    "### Aufgabe 3.1: Grundschaltung nicht-invertierender Spannungsverstärker "
   ]
  },
  {
   "cell_type": "markdown",
   "id": "8a75dc6a-3fba-4d76-95c3-cfbeafdbc290",
   "metadata": {
    "jp-MarkdownHeadingCollapsed": true,
    "tags": []
   },
   "source": [
    "Einen Schaltplan für die Grundschaltung des nicht-invertierenden Spannungsverstärkers finden Sie in **Abbildung 2** [hier](https://gitlab.kit.edu/kit/etp-lehre/p1-praktikum/students/-/blob/main/Transistor_und_Operationsverstaerker/doc/Hinweise-OPV.md). Bauen Sie die Schaltung auf und gehen Sie dann wie folgt vor:\n",
    "\n",
    "#### Spannungsverstärkung\n",
    "\n",
    " * Legen Sie eine **sinusförmige Wechselspannung** mit einer Scheitelspannung von $U_{e}=0.5\\ \\mathrm{V}$ und $\\nu=1\\ \\mathrm{kHz}$ an.\n",
    " * Stellen Sie $U_{e}$ und $U_{a}$ im Zweikanalbetrieb geeignet auf dem Oszilloskop dar. \n",
    " * **Protokollieren** Sie:\n",
    "   * Den Aufbau der Schaltung in eigenen Worten (mit Skizze!).\n",
    "   * Ihre Beobachtung. Ein Bild mit der Darstellung von $U_{e}$ und $U_{a}$ am Oszilloskop.\n",
    "   * Die Werte für $\\nu$, $|U_{e}|$ und $|U_{a}|$.\n",
    " * Protokollieren Sie **alle** numerischen Werte mit entsprechenden Unsicherheiten!\n",
    " * Berechnen Sie $v_{U}$ **mit entsprechenden Unsicherheiten**.\n",
    "\n",
    "#### Bestimmung von $Z_{e}$ und $Z_{a}$ \n",
    "\n",
    " * Verwenden Sie geeignete Schaltungen zur Messung von $Z_{e}$ und $Z_{a}$.\n",
    " * **Protokollieren** Sie:\n",
    "   * Die Wahl Ihrer Schaltung, ggf. mit Skizze. Begründen Sie Ihre Wahl.\n",
    "   * Die Messwerte aus denen Sie $Z_{e}$ bzw. $Z_{a}$ bestimmt haben **mit entsprechenden Unsicherheiten**.\n",
    "   * Die berechneten Werte von $Z_{e}$ und $Z_{a}$ **mit entsprechenden Unsicherheiten**.\n",
    "   * Ihre Erwartung **mit entsprechenden Unsicherheiten**."
   ]
  },
  {
   "cell_type": "markdown",
   "id": "43514625-5ee0-4c48-b42b-0d28fb8c45d0",
   "metadata": {
    "jp-MarkdownHeadingCollapsed": true,
    "tags": []
   },
   "source": [
    "### Aufgabe 3.2: Grundschaltung invertierender Spannungsverstärker "
   ]
  },
  {
   "cell_type": "markdown",
   "id": "3cd8f8f0-ddd8-4785-acdf-08cb5834b4df",
   "metadata": {
    "jp-MarkdownHeadingCollapsed": true,
    "tags": []
   },
   "source": [
    "Einen Schaltplan für die Grundschaltung des invertierenden Spannungsverstärkers finden Sie in **Abbildung 3** [hier](https://gitlab.kit.edu/kit/etp-lehre/p1-praktikum/students/-/blob/main/Transistor_und_Operationsverstaerker/doc/Hinweise-OPV.md). Bauen Sie die Schaltung auf und gehen Sie dann wie für die Messung der Spannungsverstärkung in **Aufgabe 3.1** vor."
   ]
  }
 ],
 "metadata": {
  "kernelspec": {
   "display_name": "Python 3 (ipykernel)",
   "language": "python",
   "name": "python3"
  },
  "language_info": {
   "codemirror_mode": {
    "name": "ipython",
    "version": 3
   },
   "file_extension": ".py",
   "mimetype": "text/x-python",
   "name": "python",
   "nbconvert_exporter": "python",
   "pygments_lexer": "ipython3",
   "version": "3.12.3"
  }
 },
 "nbformat": 4,
 "nbformat_minor": 5
}
