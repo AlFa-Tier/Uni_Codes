{
 "cells": [
  {
   "cell_type": "markdown",
   "id": "0ed58416-7972-4ef1-9b76-c3a2842ac14b",
   "metadata": {
    "jp-MarkdownHeadingCollapsed": true,
    "tags": []
   },
   "source": [
    "# Hinweise zum Versuch Netzwerke und Leitungen\n",
    "\n",
    "In den [Hinweisen zur Vorbereitung](https://gitlab.kit.edu/kit/etp-lehre/p1-praktikum/students/-/tree/main/Netzwerke_und_Leitungen/doc) auf die folgenden Aufgaben sind alle Frequenzen als Kreisfrequenzen $\\omega$ angegeben, die für die Ableitung theoretischer Modelle gebräuchlicher sind. Für konkrete Messungen ist es hingegen einfacher Frequenzen $\\nu$ anzugeben. Alle Symbole aus den Hinweisen übertragen sich sinngemäß nach der Formel:\n",
    "\n",
    "$$\n",
    "\\omega=2\\pi\\, \\nu\n",
    "$$"
   ]
  },
  {
   "cell_type": "markdown",
   "id": "96ca407c-799d-4a17-8cfb-fc6214f9ae9f",
   "metadata": {
    "jp-MarkdownHeadingCollapsed": true,
    "tags": []
   },
   "source": [
    "## Aufgabe 1: Hoch- und Tiefpass"
   ]
  },
  {
   "cell_type": "markdown",
   "id": "c41a1c8b-503f-46ae-9b86-862370f65600",
   "metadata": {
    "jp-MarkdownHeadingCollapsed": true,
    "tags": []
   },
   "source": [
    "### Aufgabe 1.1: Hochpass und Differenzierglied"
   ]
  },
  {
   "cell_type": "markdown",
   "id": "bd207564-ea6f-4ce6-afa0-23472bb8f612",
   "metadata": {
    "tags": []
   },
   "source": [
    "#### Hochpass\n",
    "\n",
    "Einen Schaltplan für einen Hochpass finden Sie in [**Abbildung 1** hier](https://gitlab.kit.edu/kit/etp-lehre/p1-praktikum/students/-/blob/main/Vierpole_und_Leitungen/doc/Hinweise-Hochpass.md). Gehen Sie für Ihre Messungen wie folgt vor:\n",
    "\n",
    " * Legen Sie an den Eingang der Schaltung eine **sinusförmige Wechselspannung** $U_{E}$ mit der Frequenz $\\nu$ an.\n",
    " * Stellen Sie, im Zweikanalbetrieb, $U_{A}$ gleichzeitig mit $U_{E}$ auf dem Oszilloskop dar.\n",
    " * **Protokollieren** Sie:\n",
    "   * Den Aufbau der Schaltung in eigenen Worten (mit Skizze!).\n",
    "   * Ihre Beobachtung. \n",
    "   * Fügen Sie Ihrem Protokoll eine Abbildung der Darstellung auf dem Oszilloskop bei.    \n",
    "   * Den Spannungsübertrag $\\mu(\\nu)$, als Funktion von $\\nu$. \n",
    "   * Die Phasendifferenz $\\Delta\\varphi(\\nu)$, als Funktion von $\\nu$. \n",
    "   * Wählen Sie hierzu mindestens **neun Messpunkte**. Wir schlagen z.B. die folgenden Werte für $\\nu$ vor: $\\log(\\nu/\\nu_{0})=-2, -1, -0.75, -0.25, 0, +0.25, +0.75, +1, +2$, wobei $\\nu_{0}=\\omega_{0}/2\\pi$ der **Grenzfrequenz** [hier](https://gitlab.kit.edu/kit/etp-lehre/p1-praktikum/students/-/blob/main/Vierpole_und_Leitungen/doc/Hinweise-Hochpass.md) entspricht.\n",
    "   * Protokollieren Sie **alle** numerischen Werte mit entsprechenden Unsicherheiten! \n",
    "   * Stellen Sie sowohl $\\mu(\\nu)$, als auch $\\Delta\\varphi(\\nu)$ als Funktion von $\\log(\\nu/\\nu_{0})$ graphisch dar. \n",
    "   * **Lehramt/Nebenfach:** Tragen Sie in die gleichen Figuren jeweils den erwarteten Verlauf ein.\n",
    "   * **Hauptfach:** Nehmen Sie eine geeignete Anpassung des erwarteten Verlaufs an die Daten vor und **beurteilen Sie die Güte der Anpassung**.\n",
    "   \n",
    "#### Differenzierglied\n",
    "\n",
    "Wechseln Sie von der sinusförmigen auf eine **Dreieckspannung**. \n",
    "\n",
    " * **Protokollieren** Sie:\n",
    "   * Ihr Vorgehen.\n",
    "   * Ihre Beobachtung, wenn Sie die Frequenz der **Dreieckspannung** variieren.\n",
    "   * Für welchen Frequenzbereich (relativ zu $\\nu_{0}$) sind Sie mit der Funktion Ihrer Schaltung als Differenzierglied zufrieden? \n",
    "   * Fügen Sie Ihrem Protokoll eine exemplarische Darstellung auf dem Oszilloskop bei, auf der $U_{E}$ und $U_{A}$ gleichzeitig zu sehen sind. \n",
    "\n",
    "---\n",
    "\n",
    "Weitere Details zur Vorbereitung auf diese Aufgabe finden Sie in in der Datei [Hinweise-Hochpass](https://gitlab.kit.edu/kit/etp-lehre/p1-praktikum/students/-/blob/main/Vierpole_und_Leitungen/doc/Hinweise-Hochpass.md).\n",
    "\n",
    "---"
   ]
  },
  {
   "cell_type": "markdown",
   "id": "819fa335-784f-46b4-9818-f04c75293c66",
   "metadata": {
    "jp-MarkdownHeadingCollapsed": true,
    "tags": []
   },
   "source": [
    "### Aufgabe 1.2: Tiefpass und Integrierglied"
   ]
  },
  {
   "cell_type": "markdown",
   "id": "0b89d39a-bdf0-48b3-aebd-612456d4b188",
   "metadata": {},
   "source": [
    "#### Tiefpass\n",
    "\n",
    "Einen Schaltplan für einen Tiefpass finden Sie in [**Abbildung 1** hier](https://gitlab.kit.edu/kit/etp-lehre/p1-praktikum/students/-/blob/main/Vierpole_und_Leitungen/doc/Hinweise-Tiefpass.md). Gehen Sie für Ihre Messungen analog zu **Aufgabe 1.1** vor.\n",
    "   \n",
    "#### Differenzierglied\n",
    "\n",
    "Wechseln Sie von der sinusförmigen auf eine **Rechteckspannung**. \n",
    "\n",
    " * **Protokollieren** Sie:\n",
    "   * Ihr Vorgehen.\n",
    "   * Ihre Beobachtung, wenn Sie die Frequenz der **Rechteckspannung** variieren.\n",
    "   * Für welchen Frequenzbereich (relativ zu $\\nu_{0}$) sind Sie mit der Funktion Ihrer Schaltung als Integrierglied zufrieden? \n",
    "   * Fügen Sie Ihrem Protokoll eine exemplarische Darstellung auf dem Oszilloskop bei, auf der $U_{E}$ und $U_{A}$ gleichzeitig zu sehen sind. \n",
    "\n",
    "---\n",
    "\n",
    "Weitere Details zur Vorbereitung auf diese Aufgabe finden Sie in in der Datei [Hinweise-Tiefpass](https://gitlab.kit.edu/kit/etp-lehre/p1-praktikum/students/-/blob/main/Vierpole_und_Leitungen/doc/Hinweise-Tiefpass.md).\n",
    "\n",
    "---"
   ]
  },
  {
   "cell_type": "markdown",
   "id": "60b8cad3-40d9-4a1c-8643-bd82551566a5",
   "metadata": {
    "jp-MarkdownHeadingCollapsed": true,
    "tags": []
   },
   "source": [
    "### Aufgabe 1.3: $\\pi$-Glied als Tiefpass"
   ]
  },
  {
   "cell_type": "markdown",
   "id": "1619857f-c3f3-4d23-8456-416145493082",
   "metadata": {
    "tags": []
   },
   "source": [
    "Das $\\pi$-Glied ist im Steckkasten mit Drosselkette fest verschaltet, Sie müssen nur noch den Frequenzgenerator und das Oszilloskop mit den richtigen Klemmen verbinden. Gehen Sie dann für Ihre Messungen analog zu **Aufgabe 1.1** vor. \n",
    "\n",
    " * Fügen Sie Ihrem Protokoll explizit die folgenden numerischen Werte **mit entsprechenden Unsicherheiten** bei:\n",
    "   * $\\mu(\\nu_{0})$, \n",
    "   * $\\Delta\\varphi(\\nu_{0})$.\n",
    " * Für das $\\pi$-Glied ist eine steilere Flanke als für den Tiefpass aus **Aufgabe 1.2** zu erwarten. Stellen Sie die jeweiligen Messpunkte und Modellerwartungen für den Tiefpass aus **Aufgabe 1.2** und für das $\\pi$-Glied auf geeignete Weise gemeinsam in einem Diagramm als Funktion von $\\log(\\nu/\\nu_{0})$ dar.  \n",
    "\n",
    "---\n",
    "\n",
    "Weitere Details zur Vorbereitung auf diese Aufgabe finden Sie in in der Datei [Hinweise-PiGlied](https://gitlab.kit.edu/kit/etp-lehre/p1-praktikum/students/-/blob/main/Vierpole_und_Leitungen/doc/Hinweise-PiGlied.md).\n",
    "\n",
    "---"
   ]
  },
  {
   "cell_type": "markdown",
   "id": "5ebc3c30-0816-4cde-9476-11b334abab69",
   "metadata": {
    "jp-MarkdownHeadingCollapsed": true,
    "tags": []
   },
   "source": [
    "## Aufgabe 2: Drosselkette\n",
    "\n",
    "---\n",
    "\n",
    "Zur erfolgreichen Bearbeitung dieser Aufgabe benötigen Sie zusätzlich die Kentnisse aus der Datei [Hinweise-PiGlied](https://gitlab.kit.edu/kit/etp-lehre/p1-praktikum/students/-/blob/main/Vierpole_und_Leitungen/doc/Hinweise-PiGlied.md).\n",
    "\n",
    "---"
   ]
  },
  {
   "cell_type": "markdown",
   "id": "f9440de9-3056-48aa-aaf4-c2d7a03a7155",
   "metadata": {
    "jp-MarkdownHeadingCollapsed": true,
    "tags": []
   },
   "source": [
    "### Aufgabe 2.1: Charakteristische Impedanz $Z_{0}$ und Grenzfrequenz $\\nu_{0}$"
   ]
  },
  {
   "cell_type": "markdown",
   "id": "c2e546e6-6f07-4130-9140-2a642575a01d",
   "metadata": {},
   "source": [
    "#### Messprinzip\n",
    "\n",
    " * Für die folgenden Messungen machen wir uns den Umstand zu Nutze, dass das $U_{E}$ für $Z_{A}=Z_{0}$ am Ende der Leitung **nicht reflektiert** wird (siehe Diskussion [hier](https://gitlab.kit.edu/kit/etp-lehre/p1-praktikum/students/-/tree/main/Vierpole_und_Leitungen/doc/Hinweise-Leitungen.md)). \n",
    " * Für den Fall $Z_{A}\\neq Z_{0}$ treten hingegen Reflexionen am Leitungsende auf, so dass das beobachtete Signal am Leitungsanfang eine Überlagerung aus dem ursprünglichen Signal und ggf. sogar mehreren Reflexionen an beiden Leitungsenden ist. \n",
    " * Wir wählen für die Messung daher eine Signalform aus, mit der wir Überlagerungen möglichst einfach erkennen können. \n",
    " * Sobald Sie bei der Regelung von $Z_{A}$ die charakteristische Impedanz $Z_{A}=Z_{0}$ treffen, sollten Sie das **Eingangssignal unverfälscht beobachten** können. \n",
    " * Durch die Wahl einer niedrigen Frequenz $\\omega\\ll\\omega_{0}$ bestimmen Sie auf diese Weise in guter Näherung\n",
    "\n",
    "$$\n",
    "\\begin{equation*}\n",
    "Z_{A}=Z_{0}\\approx\\sqrt{\\frac{L}{C}}.\n",
    "\\end{equation*}\n",
    "$$\n",
    "\n",
    "#### Messung von $Z_{0}$\n",
    "\n",
    "Die Drosselkette ist in der ausliegenden Versuchsbox bereits fest verschaltet, Sie müssen nur noch den Frequenzgenerator und das Oszilloskop mit den richtigen Klemmen verbinden. Gehen Sie dann für Ihre Messungen dann wie folgt vor:\n",
    "\n",
    " * Legen Sie eine **Rechteckspannung** niedriger Frequenz an. Wir schlagen $\\nu=25\\,\\mathrm{kHz}$, $U_{E}=6\\,\\mathrm{V_{pp}}$ vor.\n",
    " * Schließen Sie die Drosselkette, mit dem in der Versuchsbox fest verbauten Potentiometer als **regelbarer** Lastimpedanz $Z_{A}$ kurz. \n",
    " * Beobachten Sie das Eingangssignal am Oszilloskop. \n",
    " * Regeln Sie $Z_{A}$ solange, bis Sie das **Eingangssignal unverfälscht beobachten** können und lesen Sie den so erhaltenen Wert von $Z_{A}$ ab. \n",
    " * **Protokollieren** Sie: \n",
    "   * Ihr Vorgehen.\n",
    "   * Ihre Beobachtungen bei Variation von $Z_{A}$.\n",
    "   * Den von Ihnen ermittelten Wert von $Z_{A}$ einschließlich einer von Ihnen abgeschätzten Unsicherheit. \n",
    "\n",
    "\n",
    "#### Messung von $\\nu_{0}$\n",
    "\n",
    " * Legen Sie nun an den Eingang der Schaltung eine **sinusförmige Wechselspannung** $U_{E}$ mit der Frequenz $\\nu$ an. Wir schlagen $\\nu\\lesssim 1\\,\\mathrm{MHz}$, $U_{E}\\approx 6\\,\\mathrm{V_{pp}}$ vor. \n",
    " * Belassen Sie $Z_{A}$ auf dem zuvor bestimmten Wert für $\\nu\\ll\\nu_{0}$.\n",
    " * Überzeugen Sie sich zunächst von der Frequenzunabhängigkeit von $|U_{E}|$.\n",
    " * Beobachten Sie dann $U_{A}$ mit dem Oszilloskop und erhöhen Sie $\\nu$ schrittweise. Beachten Sie dabei das $Z_{0}$ auch für die Drosselkette frequenzabhängig ist. Regeln Sie also $Z_{A}$ entsprechend nach, um Reflexionen in der Leitung zu vermeiden. Als Anhalt für die Abhängigkeit von $\\nu$ können Sie Gleichung **(3)** [hier](https://gitlab.kit.edu/kit/etp-lehre/p1-praktikum/students/-/blob/main/Vierpole_und_Leitungen/doc/Hinweise-PiGlied.md) verwenden.\n",
    " * Suchen Sie die Schwelle in $\\nu$ auf, ab der die Drosselkette Signale mit $\\nu\\gt\\nu_{0}$ als Tiefpass unterdrückt. Diese Flanke sollte nochmal steiler ausfallen, als für das $\\pi$-Glied. \n",
    " * Bestimmen Sie $\\nu_{0}$ z.B. aus der Position für $\\left|U_{A}\\right|/\\left|U_{E}\\right|=1/10$.\n",
    "\n",
    "#### Berechnung von $L$ und $C$\n",
    "\n",
    " * Berechnen Sie $C$ und $L$ aus den zuvor bestimmten Werten für $Z_{0}$ und $\\nu_{0}$. (Beachten Sie eventuelle Faktoren $2\\pi$ beim Übergang von $\\nu_{0}$ zu $\\omega_{0}$.)\n",
    " * Pflanzen Sie die Unsicherheiten Ihrer Messungen von $Z_{0}$ und $\\omega_{0}$ entsprechend fort und vergleichen Sie mit den Angaben im [Datenblatt](https://gitlab.kit.edu/kit/etp-lehre/p1-praktikum/students/-/tree/main/Vierpole_und_Leitungen/Datenblatt.md) zu diesem Versuch. \n",
    "\n",
    "---\n",
    "\n",
    "Weitere Details zur Vorbereitung auf diese Aufgabe finden Sie in in der Datei [Hinweise-Drosselkette](https://gitlab.kit.edu/kit/etp-lehre/p1-praktikum/students/-/blob/main/Vierpole_und_Leitungen/doc/Hinweise-Drosselkette.md).\n",
    "\n",
    "---"
   ]
  },
  {
   "cell_type": "markdown",
   "id": "842a63f7-65c7-4752-82a0-9ca654e46acf",
   "metadata": {
    "jp-MarkdownHeadingCollapsed": true,
    "tags": []
   },
   "source": [
    "### Aufgabe 2.2: Neubestimmung von $\\nu_{0}$"
   ]
  },
  {
   "cell_type": "markdown",
   "id": "cbc28245-1839-470d-932e-b45c10912362",
   "metadata": {},
   "source": [
    "Gehen Sie für Ihre Messungen an der Drosselkette wie folgt vor:\n",
    "\n",
    "#### Messung von $\\Delta\\varphi(\\nu)$ (für $\\nu<\\nu_{0}$)\n",
    "\n",
    " * Legen Sie eine **sinusförmige Wechselspannung** an.\n",
    " * Stellen Sie, im Zweikanalbetrieb, $U_{A}$ gleichzeitig mit $U_{E}$ auf dem Oszilloskop dar.\n",
    " * **Protokollieren** Sie: \n",
    "   * Ihr Vorgehen.\n",
    "   * Die Phasendifferenz $\\Delta\\varphi(\\nu)$, als Funktion von $\\nu$ (für $\\nu<\\nu_{0}$).\n",
    "   * Wir schlagen die folgenden Werte für $\\nu$ vor: $\\nu=25, 50, 75, 100, 200, 300, 400, 500, 550, 600, 650, \\nu_{0}\\,\\mathrm{kHz}$.\n",
    "   * Protokollieren Sie **alle** numerischen Werte mit entsprechenden Unsicherheiten!\n",
    "   * Passen Sie ein geeignetes Modell für $\\Delta\\varphi=\\beta$ basierend auf Gleichung **(1)** [hier](https://gitlab.kit.edu/kit/etp-lehre/p1-praktikum/students/-/blob/main/Vierpole_und_Leitungen/doc/Hinweise-Drosselkette.md) an, aus dem Sie $\\nu_{0}$ als freien Parameter bestimmen können. \n",
    "\n",
    "#### Anmerkung:\n",
    "\n",
    "Diese Modell könnte z.B. so aussehen:\n",
    "\n",
    "$$\n",
    "\\Delta\\varphi(\\nu; \\varphi_{0}, \\nu_{0}) = \\varphi_{0}\\arcsin\\left(\\frac{\\nu}{\\nu_{0}}\\right),\n",
    "$$\n",
    "\n",
    "wobei $\\varphi_{0}$ und $\\nu_{0}$ freie Parameter des Modells sind. \n",
    "\n",
    "---\n",
    "   \n",
    "Weitere Details zur Vorbereitung auf diese Aufgabe finden Sie in in der Datei [Hinweise_Drosselkette](https://gitlab.kit.edu/kit/etp-lehre/p1-praktikum/students/-/blob/main/Vierpole_und_Leitungen/doc/Hinweise-Drosselkette.md).\n",
    "\n",
    "---"
   ]
  },
  {
   "cell_type": "markdown",
   "id": "03d51509-49b5-412b-9b4c-1aa893bc4cc9",
   "metadata": {
    "jp-MarkdownHeadingCollapsed": true,
    "tags": []
   },
   "source": [
    "## Aufgabe 3: Koaxialkabel"
   ]
  },
  {
   "cell_type": "markdown",
   "id": "ef823a54-8ec4-485b-b924-c1bd54293460",
   "metadata": {
    "jp-MarkdownHeadingCollapsed": true,
    "tags": []
   },
   "source": [
    "### Aufgabe 3.1: Charakteristische Impedanz $Z_{0}$"
   ]
  },
  {
   "cell_type": "markdown",
   "id": "e048aa0c-28b3-4737-909d-5d03d595b8b9",
   "metadata": {},
   "source": [
    " * Verwenden Sie, wie für die entsprechende Messung aus **Aufgabe 2.1** eine **Rechteckspannung**. \n",
    " * Als Frequenz können Sie $\\nu=1.1\\,\\mathrm{MHz}$ verwenden. Damit liegen Sie noch weit unterhalb der Grenzfrequenz von Koaxialkabeln, die i.a. im $\\mathrm{GHz}$-Bereich liegt.\n",
    " * **Protokollieren** Sie:\n",
    "   * Den Aufbau der Schaltung in eigenen Worten (mit Skizze!).\n",
    "   * Ihre Beobachtung. \n",
    "   * Fügen Sie Ihrem Protokoll eine Abbildung der Darstellung der Signale auf dem Oszilloskop bei.    \n",
    "   * $Z_{0}$ mit entsprechend abgeschätzten Unsicherheiten.\n",
    "\n",
    "---\n",
    "   \n",
    "Weitere Details zur Vorbereitung auf diese Aufgabe finden Sie in in der Datei [Hinweise_Leitungen](https://gitlab.kit.edu/kit/etp-lehre/p1-praktikum/students/-/blob/main/Vierpole_und_Leitungen/doc/Hinweise-Leitungen.md).\n",
    "\n",
    "---"
   ]
  },
  {
   "cell_type": "markdown",
   "id": "f7014f89-694d-45e7-aff2-db783a46a3ed",
   "metadata": {
    "jp-MarkdownHeadingCollapsed": true,
    "tags": []
   },
   "source": [
    "### Aufgabe 3.2: Verzögerungszeit pro Länge $\\tau'$"
   ]
  },
  {
   "cell_type": "markdown",
   "id": "37617804-1fbd-48bb-bec3-9d8dda2ebd93",
   "metadata": {
    "jp-MarkdownHeadingCollapsed": true,
    "tags": []
   },
   "source": [
    "Bei $\\tau'$ handelt es sich um den Kehrwert der Gruppengeschwindigkeit $v_{g}$ im Kabel. Für diese Messung stehen Ihnen zwei Methoden zur Verfügung **von denen Sie eine auswählen können**:\n",
    "\n",
    " * Die Länge des Kabels finden Sie im [Datenblatt](https://gitlab.kit.edu/kit/etp-lehre/p1-praktikum/students/-/blob/main/Vierpole_und_Leitungen/Datenblatt.md) zum Versuch.\n",
    " * Wählen Sie eine **Rechteckspannung** mit der gleichen Frequenz, wie für **Aufgabe 3.1**.\n",
    " * Verwenden Sie das Oszilloskop im Zweikanalbetrieb mit maximaler Zeitachsendehnung. \n",
    " * **Methode 1**: \n",
    "   * Vergleichen Sie das Signal am Anfang und Ende des Kabels.\n",
    "   * Beantworten Sie in Ihrem Protokoll die folgende Frage: **Warum müssen Sie müssen bei dieser Aufgabe nicht auf Reflexionsfreiheit achten?**\n",
    " * **Methode 2**: \n",
    "   * Schließen Sie das Kabelende mit der Impedanz $Z_{A}=0$ kurz.\n",
    "   * Vergleichen Sie das Signal am Anfang mit dem reflektierten Signal.\n",
    " * **Protokollieren** Sie:\n",
    "   * Den Aufbau der gewählten Schaltung in eigenen Worten (mit Skizze!).\n",
    "   * Ihre Beobachtung. \n",
    "   * Fügen Sie Ihrem Protokoll eine Abbildung der Darstellung der Signale auf dem Oszilloskop bei.    \n",
    "   * $\\tau'$ mit entsprechend abgeschätzten Unsicherheiten.\n",
    "\n",
    "---\n",
    "\n",
    "Weitere Details zu dieser Aufgabe finden Sie in in der Datei [Hinweise-Leitungen](https://gitlab.kit.edu/kit/etp-lehre/p1-praktikum/students/-/blob/main/Vierpole_und_Leitungen/doc/Hinweise-Leitungen.md).\n",
    "\n",
    "---"
   ]
  },
  {
   "cell_type": "markdown",
   "id": "6972aa76-29d0-4742-9a8c-306491bbaefb",
   "metadata": {
    "jp-MarkdownHeadingCollapsed": true,
    "tags": []
   },
   "source": [
    "### Aufgabe 3.3: Bestimmung der Permittivität $\\epsilon$ des im Koaxialkabel verbauten Dielektrikums"
   ]
  },
  {
   "cell_type": "markdown",
   "id": "9426482e-ed2d-4e8d-9664-e67f0785821c",
   "metadata": {
    "jp-MarkdownHeadingCollapsed": true,
    "tags": []
   },
   "source": [
    " * Die Berechnung von $\\epsilon$ aus dem gemessenen Wert von $Z_{0}$ erfolgt, unter Verwendung der Parameter $d_{a}$ und $d_{i}$, über Gleichung **(6)** [hier](https://gitlab.kit.edu/kit/etp-lehre/p1-praktikum/students/-/blob/main/Vierpole_und_Leitungen/doc/Hinweise-Leitungen.md). Sie finden die entsprechenden Parameter im [Datenblatt](https://gitlab.kit.edu/kit/etp-lehre/p1-praktikum/students/-/blob/main/Vierpole_und_Leitungen/Datenblatt.md) zum Versuch.\n",
    " * Die Bestimmung von $\\epsilon$ aus $\\tau'$ erfolgt aus der Gruppengeschwindigkeit des Signals im Kabel, wobei $c$ der Lichtgeschwindigkeit (im Vakuum) entspricht (Sie können von $\\mu=1$ ausgehen):\n",
    "\n",
    "$$\n",
    "\\begin{equation*}\n",
    "\\begin{split}\n",
    "&v = \\frac{c}{\\sqrt{\\epsilon\\,\\mu}}; \\\\\n",
    "&\\\\\n",
    "&\\epsilon = \\frac{c^{2}}{v^{2}\\,\\mu} = \\frac{c^{2}\\tau^{\\prime 2}}{\\mu},\n",
    "\\end{split}\n",
    "\\end{equation*}\n",
    "$$\n",
    "\n",
    " * Pflanzen Sie die Unsicherheiten beider Messungen entsprechend fort und beantworten Sie in Ihrem Protokoll die folgenden Fragen:\n",
    "   * Sind die Unsicherheiten korreliert oder nicht? \n",
    "   * Gibt es unter Umständen korrelierte Anteile?\n",
    "   * Sind die berechneten Werte für $\\epsilon$ im Rahmen Ihrer Unsicherheiten miteinander kompatibel?\n",
    " * Falls Sie zu dem Schluss kommen, dass die Unsicherheiten unkorreliert sind, sind beide Ergebnisse statistich unabhängig. \n",
    " * Falls Sie zusätzlich zu dem Schluss kommen, dass beide Ergebnisse im Rahmen Ihrer Unsicherheiten komaptibel sind können Sie sie mit ihren Unsicherheiten gewichtet mitteln und erhalten dadurch ein präziseres Ergebnis.  \n",
    " * Vergleichen Sie die von Ihnen bestimmten Werte mit der Erwartung aus den Angaben im [Datenblatt](https://gitlab.kit.edu/kit/etp-lehre/p1-praktikum/students/-/tree/main/Vierpole_und_Leitungen/Datenblatt.md) zu diesem Versuch. \n",
    "\n",
    "---\n",
    "\n",
    "Weitere Details zu dieser Aufgabe finden Sie in in der Datei [Hinweise-Leitungen](https://gitlab.kit.edu/kit/etp-lehre/p1-praktikum/students/-/blob/main/Vierpole_und_Leitungen/doc/Hinweise-Leitungen.md).\n",
    "\n",
    "---"
   ]
  }
 ],
 "metadata": {
  "kernelspec": {
   "display_name": "Python 3 (ipykernel)",
   "language": "python",
   "name": "python3"
  },
  "language_info": {
   "codemirror_mode": {
    "name": "ipython",
    "version": 3
   },
   "file_extension": ".py",
   "mimetype": "text/x-python",
   "name": "python",
   "nbconvert_exporter": "python",
   "pygments_lexer": "ipython3",
   "version": "3.12.3"
  }
 },
 "nbformat": 4,
 "nbformat_minor": 5
}
