{
 "cells": [
  {
   "cell_type": "markdown",
   "id": "4abb1785-91d0-4c14-8b61-a04e2823a405",
   "metadata": {},
   "source": [
    "# Aufnahme der Daten von Hand\n",
    "\n",
    "Um Daten manuell (d.h. per Hand) aufzunehmen und ins Jupyter-notebook einzutragen empfiehlt es sich **übersichtlich und gut organisiert** zu arbeiten. Die Aufnahme der Daten ist dadurch schneller und weniger Fehleranfällig. Gehen Sie dabei wie folgt vor:\n",
    "\n",
    " * Machen Sie sich **bereits in der Vorbereitung zum Versuch** klar, was Sie messen möchten. \n",
    " * Legen Sie geeignete Tabellen in Code-Zellen an. \n",
    " * Richten Sie die grundlegende Weiterverarbeitung der Messdaten ein, indem Sie z.B. **Code-Snipets zur Berechnung systematischer Unsicherheiten in einer Code-Zelle hinterlegen**. \n",
    " * Richten Sie die Möglichkeit ein die aufgenommenen **Daten sofort zu visualisieren**. So können Sie missglückte Messungen (sog. *outlier*) leicht identifizieren und ggf. neu messen. \n",
    " * Speichern Sie das Jupyter-notebook während der Datennahme in regelmäßigen Zeitabständen, damit Ihnen keine Daten verloren gehen.\n",
    "\n",
    "In der folgenden Code-Zelle sehen Sie ein Beispiel für eine vorgefertigte Tabelle, wie man Sie bereits in der Vorbereitung zum Versuch einrichten kann, und in die Sie nur noch Ihre Messwerte eintragen müssen. Nach Ausführen der Code-Zelle können Sie die aufgenommenen Daten zu jedem Zeitpunkt **sofort visualisieren**: "
   ]
  },
  {
   "cell_type": "code",
   "execution_count": null,
   "id": "c8b97a8a-fbfb-4b35-aa9c-a0fb933adfb7",
   "metadata": {},
   "outputs": [],
   "source": [
    "# Example for the visualization of measurement points\n",
    "import matplotlib.pyplot as plt\n",
    "# You may use the numpy.nan object as a placeholder for values that you have \n",
    "# not measured, yet\n",
    "from numpy import nan, array\n",
    "# This is an example from the lab experiment \"Kreisel\" (Spinner): The following \n",
    "# values are saved in three columns of the the array a: \n",
    "# - spinner revolution frequency, at which you want to start the measurement \n",
    "#   (in Hz); \n",
    "# - spinner revolution frequency, at which you stopped the measurement (in Hz); \n",
    "# - precession periode (in s).\n",
    "# \n",
    "# ---Values have been made up for this example--- \n",
    "a = array([\n",
    "    25.0, 24.8, 2.45,\n",
    "    24.5, 24.2, 3.75,\n",
    "    24.0, 23.9, 3.80,\n",
    "    23.5, nan, nan,\n",
    "    22.5, nan, nan,\n",
    "    22.0, nan, nan,\n",
    "    21.5, nan, nan,\n",
    "    21.0, nan, nan,\n",
    "   # This array has 8 lines and 3 columns\n",
    "]).reshape(8,3)\n",
    "# In the following line each column is saved into a an individual numpy array \n",
    "# (via the numpy view)\n",
    "a0, a1, a2 = a[0:,0], a[0:,1], a[0:,2]\n",
    "# The matplotlib scatter plot ignores nan entries. All other entries are \n",
    "# displayed. \n",
    "#\n",
    "# In the example above the arithmetic mean from the rotation frequency of the \n",
    "# spinner at (a0) starting and (a1) stopping time is built and the (a2) \n",
    "# precession periode of the spinner is plotted against this mean. This scatter \n",
    "# plot is meant for a quick check of the quality of the measurement points \n",
    "# only. For the final evaluation of the lab experiment you may use tools, which \n",
    "# are better suited for statistical parameter estimation, like e.g. kafe2.\n",
    "plt.scatter((a0+a1)/2, a2)"
   ]
  }
 ],
 "metadata": {
  "kernelspec": {
   "display_name": "Python 3 (ipykernel)",
   "language": "python",
   "name": "python3"
  },
  "language_info": {
   "codemirror_mode": {
    "name": "ipython",
    "version": 3
   },
   "file_extension": ".py",
   "mimetype": "text/x-python",
   "name": "python",
   "nbconvert_exporter": "python",
   "pygments_lexer": "ipython3",
   "version": "3.10.12"
  }
 },
 "nbformat": 4,
 "nbformat_minor": 5
}
