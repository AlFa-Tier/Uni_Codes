{
 "cells": [
  {
   "cell_type": "markdown",
   "id": "6f283dbd-6d87-42b6-8cee-ae0bc3e1eb26",
   "metadata": {
    "jp-MarkdownHeadingCollapsed": true,
    "tags": []
   },
   "source": [
    "# Hinweise zum Versuch Spezifische Ladung des Elektrons"
   ]
  },
  {
   "cell_type": "markdown",
   "id": "74f44984-209a-48c1-a246-153ec65e6082",
   "metadata": {
    "jp-MarkdownHeadingCollapsed": true
   },
   "source": [
    "## Aufgabe 1: Fadenstrahlrohr"
   ]
  },
  {
   "cell_type": "markdown",
   "id": "8f58b911-dd52-4c3c-aa17-1426bb90e902",
   "metadata": {
    "jp-MarkdownHeadingCollapsed": true
   },
   "source": [
    "### Aufgabe 1.1: Magnetfeld im Fadenstrahlrohr"
   ]
  },
  {
   "cell_type": "markdown",
   "id": "eb1b9abb-863a-4024-bd0d-080f22f7fed0",
   "metadata": {},
   "source": [
    "Das Magnetfeld $\\vec{B}$ des Fadenstrahlrohrs wird durch zwei im Plexiglaskasten verbaute stromdurchflossene [Helmholtz-Spulen](https://de.wikipedia.org/wiki/Helmholtz-Spule) $H_{1}$ und $H_{2}$ erzeugt. Da der Raum zwischen $H_{1}$ und $H_{2}$ für eine Messung unzugänglich ist schätzen Sie $\\vec{B}$ wie folgt ab:\n",
    "\n",
    "#### Kontrolle der Homogenität des $B$-Feldes\n",
    "\n",
    " * Bauen Sie symmetrisch zu $H_{1}$ und $H_{2}$, vor dem Plexiglaskasten eine **baugleiche dritte Helmholtz-Spule $H_{3}$** und eine mit Bohrungen $r_{i}$ versehene Holzplatte $M$ mit Millimeter-Skala auf, so dass sich $M$ in der Mittelebene zwischen $H_{2}$ und $H_{3}$ befindet.\n",
    "   * Dies ist i.a. durch die feste Konstruktion vor dem Plexiglaskasten bereits der Fall.\n",
    "   * Achten Sie dennoch auf den **Abstand zwischen $H_{2}$ und $H_{3}$**, der dem Radius $R$ der Spulen entsprechend sollte!\n",
    " * Schließen Sie $H_{2}$ und $H_{3}$ an die Stromversorgung an.\n",
    " * Die Anordnung gleicht somit, in ihrer Geometrie, der Anordnung von $H_{1}$ und $H_{2}$. \n",
    " * In den Bohrungen von $M$ können Sie die **[Hall-Sonde](https://de.wikipedia.org/wiki/Hall-Effekt) befestigen**.\n",
    " * **Messen Sie $U_{\\mathrm{H}}$** an den vorgesehenen Stellen für die Spulenströme $I_{\\mathrm{S}}=1.0,\\ 1.5,\\ 2.0\\ \\mathrm{A}$.\n",
    " * Nutzen Sie hierzu alle zu Verfügung stehenden Bohrungen.\n",
    "\n",
    "#### Kalibration der Hall-Sonde\n",
    "\n",
    "Kalibrieren Sie anschließend die Hall-Sonde. Gehen Sie dabei wie folgt vor: \n",
    "\n",
    " * Messen Sie etwa **10 Wertepaare** aus $U_{\\mathrm{H}}$ und dem Strom $I_{\\mathrm{S}}$ durch die lange Spule, die Ihnen zur Kalibration der Hall-Sonde zur Verfügung steht.\n",
    " * Aus $I_{\\mathrm{S}}$ können Sie **mit Hilfe von Gleichung ((4) [hier](https://gitlab.kit.edu/kit/etp-lehre/p1-praktikum/students/-/blob/main/Spezifische_Ladung_des_Elektrons/doc/Hinweise-Fadenstrahlrohr.md)) $B$ berechnen**.\n",
    " * Bestimmen Sie aus den aufgezeichneten Datenpunkten eine **Kalibrationskurve $B(U_{\\mathrm{H}})$**, mit deren Hilfe Sie die zuvor bestimmten Werte von $U_{\\mathrm{H}}$ in magnetische Feldstärken $B(U_{\\mathrm{H}})$ übersetzen können. \n",
    " * Die Kalibration erfolgt **nach der eigentlichen Ausmessung** des Magnetfeldes mit der Hall-Sonde, damit Sie wissen, welcher Wertebereich von $U_{\\mathrm{H}}$ für die Kalibration von Relevanz ist.  \n",
    "\n",
    "#### Auswertung \n",
    "\n",
    " * **Protokollieren** Sie:\n",
    "   * Beschreiben Sie Ihr Vorgehen für die Aufnahme der Werte $U_{\\mathrm{H}}(r_{i})$ und die Kalibration der Hall-Sonde (ggf. mit Skizzen!). \n",
    "   * Die **Werte von $U_{\\mathrm{H}}(r_{i})\\pm\\Delta U_{\\mathrm{H}}$**, die Sie in den verschiedenen Bohrungen von $M$ aufgenomen haben. Schätzen Sie hierzu geeignete Unsicherheiten $\\Delta U_{\\mathrm{H}}$ ab.\n",
    "   * Die **Wertepaare $(I_{\\mathrm{S}},U_{\\mathrm{H}})$**, die Sie zur Bestimmung der Kalibrationskurve aufgenommen haben. Schätzen Sie hierzu geeignete Unsicherheiten $\\Delta I_{\\mathrm{S}}$ ab.\n",
    "   * Passen Sie ein **geeignetes Modell für eine Kalibrationskurve** an die Datenpunkte an.\n",
    "   * Überprüfen Sie die Qualität des Modells mit Hilfe des $\\chi^{2}$-Werts der Anpassung.\n",
    "   * Kalibieren Sie alle Werte $U_{\\mathrm{H}}(r_{i})\\pm\\Delta U_{\\mathrm{H}}$ auf $B(r_{i})\\pm\\Delta B$.\n",
    "   * Stellen Sie die Werte $B(r_{i})\\pm\\Delta B$ geeignet graphisch dar.\n",
    "   * Treffen Sie eine Aussage zur Homogenität des $B$-Felds zwischen $H_{1}$ und $H_{2}$.\n",
    "\n",
    "---\n",
    "\n",
    "Weitere Details zur Vorbereitung auf diese Aufgabe finden Sie in der Datei [Hinweise-Fadenstrahlrohr](https://gitlab.kit.edu/kit/etp-lehre/p1-praktikum/students/-/blob/main/Spezifische_Ladung_des_Elektrons/doc/Hinweise-Fadenstrahlrohr.md).\n",
    "\n",
    "---"
   ]
  },
  {
   "cell_type": "markdown",
   "id": "7b2bbff1-2d5b-49c3-80fb-8fe118709bc0",
   "metadata": {
    "jp-MarkdownHeadingCollapsed": true
   },
   "source": [
    "### Aufgabe 1.2: Elektronenkreisbahn"
   ]
  },
  {
   "cell_type": "markdown",
   "id": "90b08c39-ae61-4cce-ae1c-2215bafd5589",
   "metadata": {},
   "source": [
    "Bestimmen Sie den Durchmesser $d$ der Elektronenbahn im Fadenstrahlrohr in zwei Messreihen. Gehen Sie bei der Bearbeitung dieser Aufgabe wie folgt vor:\n",
    "\n",
    " * Bauen Sie die Spule $H_{3}$ ab und **schließen Sie das Fadenstrahlrohr, wie [hier](https://gitlab.kit.edu/kit/etp-lehre/p1-praktikum/students/-/blob/main/Spezifische_Ladung_des_Elektrons/figures/FadenstrahlrohrSchaltung.png) gezeigt an**. \n",
    " * Benutzen Sie an den vorgesehenen Stellen die vorhandenen Sicherheitskabel. Sie benötigen hierfür nur die grau markierten Spannungsanschlüsse.\n",
    " * Versuchen Sie den [Parallaxenfehler](https://de.wikipedia.org/wiki/Parallaxenfehler) bei der Bestimmung von $d$ mit Hilfe der Schiebemarker *vor*, und des Spiegels *hinter* dem Fadenstrahlrohr zu minimieren. \n",
    " * Achten Sie darauf, dass das Fadenstrahlrohr so in der Halterung orientiert ist, dass sich **Kreisbahnen** und keine Spiralen ergeben.\n",
    " * **Messreihe 1**:\n",
    "   * Bestimen Sie **$d$ als Funktion der Anodenspannung $U_{\\mathrm{A}}$** für sechs Messpunkte $U_{\\mathrm{A}}=100,\\,120,\\,\\ldots 200\\,\\mathrm{V}$.\n",
    "   * Tun Sie dies für jeweils zwei Spulenströme $I_{\\mathrm{S}}=1,\\,2\\,\\mathrm{A}$.\n",
    " * **Messreihe 2**: \n",
    "   * Bestimmen Sie **$d$ als Funktion des Spulenstroms $I_{\\mathrm{S}}$** für elf Messpunkte $I_{\\mathrm{S}}=1.0,\\,1.1,\\,\\ldots 2.0\\,\\mathrm{A}$.\n",
    "   * Tun Sie dies für jeweils zwei Anodenspannungen $U_{\\mathrm{A}}=140,\\,160\\,\\mathrm{V}$.\n",
    " * **Protokollieren** Sie:\n",
    "   * Beschreiben Sie Ihr Vorgehen, ggf. mit Skizze.\n",
    "   * Die aufgezeichneten Wertepaare $(d, U_{\\mathrm{A}})$ für gegebene Werte von $I_{\\mathrm{S}}$.  \n",
    "   * Die aufgezeichneten Wertepaare $(d, I_{\\mathrm{S}})$ für gegebene Werte von $U_{\\mathrm{A}}$.\n",
    "   * Schätzen Sie hierzu **geeignete Unsicherheiten für $U_{\\mathrm{A}}$, $I_{\\mathrm{S}}$ und $d$** ab. \n",
    "   * Stellen Sie die Ergebnisse beider Messreihen unabhängig voneinander jeweils in einem geeigneten gemeinsamen Koordinatensystem dar.\n",
    "   * Passen Sie ein geeigentes Modell an alle aufgezeichneten Daten an und **bestimmen Sie daraus den Wert von $e/m_{\\mathrm{e}}$**.\n",
    "   * Der bestimmte **Wert von $e/m_{\\mathrm{e}}\\pm \\Delta(e/m_{\\mathrm{e}})$**.\n",
    "   * Beurteilen Sie die Güte des verwendeten Modells mit Hilfe des **$\\chi^{2}$-Werts der Anpassung** an die Daten. \n",
    "\n",
    "---\n",
    "\n",
    "Weitere Details zur Vorbereitung auf diese Aufgabe finden Sie in der Datei [Hinweise-Fadenstrahlrohr](https://gitlab.kit.edu/kit/etp-lehre/p1-praktikum/students/-/blob/main/Spezifische_Ladung_des_Elektrons/doc/Hinweise-Fadenstrahlrohr.md).\n",
    "\n",
    "---"
   ]
  },
  {
   "cell_type": "markdown",
   "id": "6cd777f9-b104-452c-ab10-8f03f3660c5f",
   "metadata": {
    "jp-MarkdownHeadingCollapsed": true
   },
   "source": [
    "## Aufgabe 2: Methode von Busch"
   ]
  },
  {
   "cell_type": "markdown",
   "id": "7e428552-4997-438d-a0dd-32ddb235cf6f",
   "metadata": {
    "jp-MarkdownHeadingCollapsed": true
   },
   "source": [
    "### Aufgabe 2.1: Vorbereitung"
   ]
  },
  {
   "cell_type": "markdown",
   "id": "d1751291-1271-47a5-b31b-a7034395b177",
   "metadata": {},
   "source": [
    "Gehen Sie zur Bearbeitung dieser Aufgabe wie folgt vor:\n",
    "\n",
    " * Sie können die Oszillographenröhre im Plexiglaszylinders über das zugehörige Steuerpult (siehe **Abbildung 3** [hier](https://gitlab.kit.edu/kit/etp-lehre/p1-praktikum/students/-/blob/main/Spezifische_Ladung_des_Elektrons/README.md)) mit allen notwendigen Spannungen versorgen.\n",
    " * Die **Deflektorspannung kann wahlweise mit einem der beiden Paare von Deflektorplatten an den Positionen $d_{1}$ oder $d_{2}$ [hier](https://gitlab.kit.edu/kit/etp-lehre/p1-praktikum/students/-/blob/main/Spezifische_Ladung_des_Elektrons/figures/BuschMagnetfeld.png) verbunden werden**.\n",
    " * Legen Sie die Platten des ungenutzten Paares mit den **Kurzschlussbrücken** auf Masse. \n",
    " * Achten Sie darauf, dass die **Spule bis zum Anschlag** an die Plexiglaskonstruktion geschoben ist. \n",
    " * Stellen Sie eine Beschleunigungsspannung von $U_{z}=300\\,\\mathrm{V}$ ein. \n",
    " * Stellen Sie bei $B=0$ die Deflektorspannung $U_{y}$ so ein, dass ein **maximal langer Strich auf S** entsteht. \n",
    " * Stellen Sie die Intensität und den Fokus des beobachteten Signals sinnvoll ein. \n",
    " * Steigern Sie langsam den **Magnetspulenstrom $I_{\\mathrm{S}}$** und beobachten Sie die resultierende Veränderung des Striches auf S.\n",
    " * **Protokolieren** Sie:\n",
    "   * Beschrieben Sie das Messprinzip in eigenen Worten.\n",
    "   * Beschrieben Sie den Aufbau und Ihr Vorgehen (mit Skizze!).\n",
    "   * Beschreiben Sie Ihre Beobachtung und erklären Sie, wie diese zustande kommt. \n",
    " * Stellen Sie schließlich $I_{\\mathrm{S}}$ so ein, **dass alle Elektronen den Schirm in einem Punkt treffen**.\n",
    " * Versuchen Sie auch einen höheren Spulenstrom einzustellen, bei dem sich der auf dem Schirm beobachtete Punkt wieder zu einem Strich weitet und daraufhin erneut zu einem Punkt zusammenzieht.\n",
    "\n",
    "---\n",
    "\n",
    "Weitere Details zur Vorbereitung auf diese Aufgabe finden Sie in der Datei [Hinweise-Busch](https://gitlab.kit.edu/kit/etp-lehre/p1-praktikum/students/-/blob/main/Spezifische_Ladung_des_Elektrons/doc/Hinweise-Busch.md).\n",
    "\n",
    "---"
   ]
  },
  {
   "cell_type": "markdown",
   "id": "3e9093f7-7fb0-4907-8e03-d201de3fe584",
   "metadata": {
    "jp-MarkdownHeadingCollapsed": true
   },
   "source": [
    "### Aufgabe 2.2: Bestimmung von $e/m_{\\mathrm{e}}$ "
   ]
  },
  {
   "cell_type": "markdown",
   "id": "68aad7a0-29cd-4c33-9d3e-eeeb61d9cc25",
   "metadata": {},
   "source": [
    "Gehen Sie zur Bearbeitung diese Aufgabe wie folgt vor:\n",
    "\n",
    " * Messen Sie für Beschleunigungsspannungen von $U_{z} = 200\\,\\ldots 450\\,\\mathrm{V}$ (in Schritten von $25\\,\\mathrm{V}$) den nötigen Spulenstrom $I_{\\mathrm{S}}$, um auf dem Schirm einen Signalpunkt zu erzeugen.\n",
    " * Gehen Sie dabei, für jeden Messpunkt so, wie in **Aufgabe 2.1** vor.\n",
    " * **Protokollieren** Sie:\n",
    "   * Alle Wertepaare $(U_{z}, I_{\\mathrm{S}})$ mit entsprechenden Unsicherheiten $\\Delta U_{z}$ und $\\Delta I_{\\mathrm{S}}$. \n",
    "   * Tragen Sie in einer **entsprechenden Darstellung der Daten $U_{z}$ geeignet über $I_{\\mathrm{S}}^{2}$** auf.\n",
    "   * Passen Sie ein **geeignetes Modell** an die Datenpunkte an und bestimmen Sie daraus $e/m_{\\mathrm{e}}\\pm\\Delta(e/m_{\\mathrm{e}})$.\n",
    "   * Überprüfen Sie mit Hilfe des $\\chi^{2}$-Werts aus der Anpassung die Anwendbarkeit des Modells.  \n",
    "\n",
    "**Ein Code-Beispiele zur Berechnung von $\\langle B \\rangle$ finden Sie im *tools*-Verzeichnis [hier](https://gitlab.kit.edu/kit/etp-lehre/p1-praktikum/students/-/blob/main/Spezifische_Ladung_des_Elektrons/tools/Busch-Magnetfeld.py).** \n",
    "\n",
    "---\n",
    "\n",
    "Weitere Details zur Vorbereitung auf diese Aufgabe finden Sie in der Datei [Hinweise-Busch](https://gitlab.kit.edu/kit/etp-lehre/p1-praktikum/students/-/blob/main/Spezifische_Ladung_des_Elektrons/doc/Hinweise-Busch.md).\n",
    "\n",
    "---"
   ]
  }
 ],
 "metadata": {
  "kernelspec": {
   "display_name": "Python 3 (ipykernel)",
   "language": "python",
   "name": "python3"
  },
  "language_info": {
   "codemirror_mode": {
    "name": "ipython",
    "version": 3
   },
   "file_extension": ".py",
   "mimetype": "text/x-python",
   "name": "python",
   "nbconvert_exporter": "python",
   "pygments_lexer": "ipython3",
   "version": "3.12.3"
  }
 },
 "nbformat": 4,
 "nbformat_minor": 5
}
