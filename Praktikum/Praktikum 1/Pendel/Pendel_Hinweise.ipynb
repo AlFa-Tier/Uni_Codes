{
 "cells": [
  {
   "cell_type": "markdown",
   "id": "0c47a697-9dc9-49b1-a327-1f8e2e0f3499",
   "metadata": {
    "jp-MarkdownHeadingCollapsed": true,
    "tags": []
   },
   "source": [
    "# Hinweise zum Versuch Spezifische Ladung des Elektrons"
   ]
  },
  {
   "cell_type": "markdown",
   "id": "66e76e8e-eab7-4f1c-80e2-70be8016f884",
   "metadata": {
    "jp-MarkdownHeadingCollapsed": true,
    "tags": []
   },
   "source": [
    "## Aufgabe 1: Fadenpendel\n",
    "\n",
    "**Beachten Sie, dass der Radius $r$ der Kugel kein Bestandteil der Angaben im [Datenblatt](https://gitlab.kit.edu/kit/etp-lehre/p1-praktikum/students/-/blob/main/Pendel/Datenblatt.md) zum Versuch ist. Sie müssen $r$ also während Ihrer Messungen bestimmen.** "
   ]
  },
  {
   "cell_type": "markdown",
   "id": "3ce12aa4-c187-4acb-a9d1-c1dda76f8861",
   "metadata": {
    "jp-MarkdownHeadingCollapsed": true,
    "tags": []
   },
   "source": [
    "### Aufgabe 1.1: Kleinwinkelnäherung"
   ]
  },
  {
   "cell_type": "markdown",
   "id": "d72c3762-da93-4ff7-86ed-e7b306ffd356",
   "metadata": {
    "tags": []
   },
   "source": [
    "Gehen Sie zur Bearbeitung dieser Aufgabe wie folgt vor:\n",
    "\n",
    " * Messen $T_{0}(\\varphi_{0})$ fortlaufend, beginnend bei $\\varphi_{0}\\gtrsim60^{\\circ}$. Aufgrund der Dämpfung des Pendels verringert sich $\\varphi_{0}$ mit der Zeit von selbst. Gehen Sie dabei wie folgt vor:\n",
    "   * **Bestimmen Sie $T_{0}(\\varphi_{0})$** aus einer geeigneten Anzahl an fortlaufenden Perioden.\n",
    "   * Wählen Sie z.B. 3–5 Perioden pro Messpunkt. Schätzen Sie **entsprechende Unsicherheiten** $\\Delta T_{0}$ ab!\n",
    "   * Warten Sie dann bis $\\varphi_{0}$ um etwa $5^{\\circ}$ abgenommen hat und bestimmen Sie einen neuen Wert von $T_{0}(\\varphi_{0})$. \n",
    "   * Schätzen Sie geeignete Unsicherheiten $\\Delta\\varphi_{0}$ ab. \n",
    " * Nehmen Sie auf diese Weise eine **Messreihe mit 12 Punkten** auf.\n",
    " * **Protokollieren** Sie:\n",
    "   * Alle aufgenommenen **Wertepaare $(\\varphi_{0}, T_{0})$** mit entsprechenden Unsicherheiten auf $\\Delta\\varphi_{0}$ und $\\Delta T_{0}$!\n",
    "   * Stellen Sie die Datenpunkte in geeigneter Weise graphisch dar.\n",
    "   * Passen Sie ein **geeignetes Modell basierend auf Gleichung (5) [hier](https://gitlab.kit.edu/kit/etp-lehre/p1-praktikum/students/-/blob/main/Pendel/doc/Hinweise-Faden.md)** an die Daten an und überprüfen Sie die Anwendbarkeit mit Hilfe des $\\chi^{2}$-Werts der Anpassung.\n",
    "\n",
    "**Ein Beispiel für die effiziente, manuelle Aufnahme von Messpunkten ins Jupyter-notebook finden Sie [hier](https://gitlab.kit.edu/kit/etp-lehre/p1-praktikum/students/-/blob/main/Pendel/tools/manualDAQ.ipynb).**\n",
    "\n",
    "---\n",
    "\n",
    "Weitere Details zur Vorbereitung auf diese Aufgabe finden Sie in der Datei [Hinweise-Faden](https://gitlab.kit.edu/kit/etp-lehre/p1-praktikum/students/-/blob/main/Pendel/doc/Hinweise-Faden.md).\n",
    "\n",
    "---"
   ]
  },
  {
   "cell_type": "markdown",
   "id": "5e7b7990-9695-4558-9a4d-0d472a2517ad",
   "metadata": {
    "jp-MarkdownHeadingCollapsed": true,
    "tags": []
   },
   "source": [
    "### Aufgabe 1.2: Bestimmung der Erdbeschleunigung $g$"
   ]
  },
  {
   "cell_type": "markdown",
   "id": "2e98f63e-18bc-4360-bb93-91b5e10adea5",
   "metadata": {
    "tags": []
   },
   "source": [
    "Gehen Sie zur Bearbeitung dieser Aufgabe wie folgt vor:\n",
    "\n",
    " * Wählen Sie für die Bestimmung von $g$ einen **geeigneten Winkel $\\varphi_{0}$**.\n",
    " * Lassen Sie das Pendel los und **messen Sie fortlaufend**.\n",
    " * Bestimmen Sie die **Zeitpunkte $t_{i}$ nach jeweils 2 Perioden** der Schwingung.\n",
    " * Bestimmen Sie auf diese Weise mindestens **10 Messpunkte $(i, t_{i})$**.\n",
    " * Schätzen Sie eine geeignete Unsicherheit $\\Delta t_{i}$ ab.\n",
    " * **Protokollieren** Sie:\n",
    "   * Beschreiben Sie Ihr Vorgehen.\n",
    "   * Alle **Messpunkte $(i, t_{i})$** mit entsprechenden Unsicherheiten $\\Delta t_{i}$. \n",
    "   * Tragen Sie $t_{i}$ gegen $2\\,i$ auf und passen Sie ein **geeigentes Modell** basierend auf Gleichung **(4)** [hier](https://gitlab.kit.edu/kit/etp-lehre/p1-praktikum/students/-/blob/main/Pendel/doc/Hinweise-Faden.md) an dei Daten an.\n",
    "   * Erlauben Sie in Ihrem Modell **ggf. zusätzliche Freiheitsgrade**, wie z.B. einen *Offset* $\\delta$ für die Zeitmessung mit der Messautomatik.\n",
    "   * Beurteilen Sie die Anwendbarkeit des Modells mit Hilfe des $\\chi^{2}$-Werts aus der Anpassung.\n",
    "   * Bestimmen $g\\pm\\Delta g$ aus der Anpassung.\n",
    "   * Beurteilen Sie ggf. die **Signifikanz von $\\delta$ und weiterer zusätzlicher Freiheitsgrade** in Ihrem Modell.\n",
    "   * Beurteilen Sie die **Übereinstimmung der Messung** von $g\\pm\\Delta g$ mit Ihrer Erwartung.\n",
    "   * Diskutieren Sie den Einfluss der Dämpfung.\n",
    "   * Diskutieren Sie den Einfluss der endlichen Ausdehnung der Kugel, den Sie relativ zum mathematischen Pendel erwarten.\n",
    "   * Diskutieren Sie den Einfluss der Kleinwinkelnäherung, den Sie aus Gleichung **(5)** [hier](https://gitlab.kit.edu/kit/etp-lehre/p1-praktikum/students/-/blob/main/Pendel/doc/Hinweise-Faden.md) erwarten.\n",
    "\n",
    "---\n",
    "\n",
    "Weitere Details zur Vorbereitung auf diese Aufgabe finden Sie in der Datei [Hinweise-Faden](https://gitlab.kit.edu/kit/etp-lehre/p1-praktikum/students/-/blob/main/Pendel/doc/Hinweise-Faden.md).\n",
    "\n",
    "---"
   ]
  },
  {
   "cell_type": "markdown",
   "id": "3bbde76c-82cf-4ac8-a419-babe7c87e190",
   "metadata": {
    "jp-MarkdownHeadingCollapsed": true,
    "tags": []
   },
   "source": [
    "## Aufgabe 2: Reversionspendel"
   ]
  },
  {
   "cell_type": "markdown",
   "id": "72b5858a-1309-4b89-886f-80d4f5819b88",
   "metadata": {
    "jp-MarkdownHeadingCollapsed": true
   },
   "source": [
    "### Aufgabe 2.1: Funktionsweise"
   ]
  },
  {
   "cell_type": "markdown",
   "id": "7c9a4fa4-bf53-4dc2-816e-52cfb76b3841",
   "metadata": {
    "jp-MarkdownHeadingCollapsed": true,
    "tags": []
   },
   "source": [
    "Bearbeiten Sie im Rahmen Ihrer Erläuterungen zur Funktionsweise des Reversionspendels die folgenden Aufgaben: \n",
    "\n",
    " * Berechnen Sie aus dem einfachen Modell eines dünnen Stabs mit den Abmessungen des im Praktikum verwendeten Pendels **konkrete Werte für $\\Theta$, $s$ und $\\ell_{r}$**. \n",
    " * Das Pendel im Praktikum besteht nicht nur aus einem dünnen Stab. Es besitzt Halterungen, um K und K' zu fixieren. Wie groß sind, Ihrer Erwartung nach, die **Abweichungen dieses *realen* Pendels von der oben gemachten, vereinfachenden Annahme eines dünnen Stabs**, für die berechneten Werte? \n",
    "\n",
    "---\n",
    "\n",
    "Weitere Details zur Vorbereitung auf diese Aufgabe finden Sie in der Datei [Hinweise-Reversion](https://gitlab.kit.edu/kit/etp-lehre/p1-praktikum/students/-/blob/main/Pendel/doc/Hinweise-Reversion.md).\n",
    "\n",
    "---"
   ]
  },
  {
   "cell_type": "markdown",
   "id": "f7253ea4-5bea-4d4e-8627-d4313f6c7f38",
   "metadata": {
    "jp-MarkdownHeadingCollapsed": true
   },
   "source": [
    "### Aufgabe 2.2: Bestimmung von $g$"
   ]
  },
  {
   "cell_type": "markdown",
   "id": "75611976-8dd4-4ccb-8549-58bc4b7f4e2b",
   "metadata": {
    "jp-MarkdownHeadingCollapsed": true,
    "tags": []
   },
   "source": [
    "#### Messautomatik\n",
    "\n",
    " * Zur Messung wird eine **Lichtschranke zur Zeiterfassung** benutzt. Beachten Sie, dass eine Messung nur bei offener Schranke, d.h. wenn die Leuchtdiode an der Schranke rot leuchtet, gestartet werden kann. \n",
    " * Justieren Sie die Lichtschranke sorgfältig, so dass die Messautomatik wirklich die **Nulldurchgänge der Schwingung** zählt.\n",
    " * Sie können als **relative Unsicherheit für die Zeitmessung $\\Delta t/t=\\pm 0.2\\%$** wählen.\n",
    " * Achten Sie darauf, dass das Pendel während der Schwingung nicht anstößt. \n",
    "\n",
    "#### Aufnahme der Messpunkte zur Bestimmung von $\\ell_{r}$\n",
    "\n",
    "Gehen Sie bei der Aufnahme der Messpunkte wie folgt vor: \n",
    "\n",
    " * **Verschieben Sie K'** in einem Intervall um den in **Aufgabe 2.1** abgeschätzten Wert von $\\ell_{r}$ und messen Sie $d$, als den Abstand zwischen K und K'. Schätzen Sie eine geeignete Unsicherheit $\\Delta d$ ab.\n",
    " * Bestimmen Sie für, so ermittelte, feste Werte von $d$ die **Periode $T_{0}$** für das Pendel auf dem Auflagepunkt $A$ (siehe **Abbildung 1a** [hier](https://gitlab.kit.edu/kit/etp-lehre/p1-praktikum/students/-/blob/main/Pendel/doc/Hinweise-Reversion.md)).\n",
    " * Drehen Sie dann das Pendel um und bestimmen Sie für den gleichen Wert von $d$ die **Periode $T_{0}^{\\prime}$** für das Pendel auf dem Auflagepunkt A' (siehe **Abbildung 1b** [hier](https://gitlab.kit.edu/kit/etp-lehre/p1-praktikum/students/-/blob/main/Pendel/doc/Hinweise-Reversion.md)).\n",
    " * Beschränken Sie sich auf kleine Auslenkungen des Pendels, so dass die Kleinwinkelnäherung anwendbar ist (siehe **Aufgabe 1**). \n",
    " * Nehmen Sie auf diese Weise **10-12 Messpunkte für verschiedene Werte von $d$** im Bereich des nach **Aufgabe 2.1** von Ihnen erwarteten Werts von $\\ell_{r}\\pm5\\,\\mathrm{cm}$, jeweils in Schritten von nicht mehr als $1\\,\\mathrm{cm}$.\n",
    " * In der näheren Umgebung des von Ihnen erwarteten Werts von $\\ell_{r}$ können Sie die Messpunkte etwas dichter setzen.\n",
    " * **Protokollieren** Sie:\n",
    "   * Beschreiben Sie Ihr vorgehen, ggf. mit Skizze.\n",
    "   * Die **Werte $(d,T_{0}, T_{0}^{\\prime})$** mit entsprechenden Unsicherheiten $\\Delta d$, $\\Delta T_{0}$ und $\\Delta T_{0}^{\\prime}$.\n",
    "   * Stellen Sie die Datenpunkte $(d_{i},T_{0}(d_{i}))$ und $(d_{i},T_{0}'(d_{i}))$ mit entsprechenden Unsicherheiten im gleichen Diagramm dar.\n",
    "   * Passen Sie jeweils die **Modelle für $T_{0}$ und $T_{0}'$ aus Gleichung (1) [hier](https://gitlab.kit.edu/kit/etp-lehre/p1-praktikum/students/-/blob/main/Pendel/doc/Hinweise-Auswertung.md)** an die entsprechenden Datenpunkte beider Messreihen an. Die angepassten Kurven sollten einen Schnittpunkt aufweisen.\n",
    "   * Überprüfen Sie die Anwendbarkeit der Modelle aus Gleichungen **(1)** [hier](https://gitlab.kit.edu/kit/etp-lehre/p1-praktikum/students/-/blob/main/Pendel/doc/Hinweise-Auswertung.md) mit Hilfe der jeweiligen $\\chi^{2}$-Werte der Anpassungen.\n",
    "   * Stellen Sie, zur Bestimmung von $\\ell_{r}$ die Messpunkte $(d_{i},D(d_{i}))$ mit $D(d_{i}) = T_{0}(d_{i})-T_{0}'(d_{i})$ in einem gesonderten Diagramm dar. Vergessen Sie nicht die Unsicherheiten auf $D(d_{i})$ entsprechend fortzupflanzen.\n",
    "   * Passen Sie an diese Datenreihe das **Modell für $T_{0}'$ aus Gleichung (1) [hier](https://gitlab.kit.edu/kit/etp-lehre/p1-praktikum/students/-/blob/main/Pendel/doc/Hinweise-Auswertung.md)** an.\n",
    "   * Überprüfen Sie die Anwendbarkeit des Modells mit Hilfe des $\\chi^{2}$-Werts der Anpassung.\n",
    "   * Fügen Sie Ihrem Protokoll die **Kovarianzmatrix der Anpassung** für die Parameter $\\alpha,\\, \\beta,\\,\\gamma$ bei.\n",
    "\n",
    "---\n",
    "\n",
    "Weitere Details zur Vorbereitung auf diese Aufgabe finden Sie in den Dateien [Hinweise-Reversion](https://gitlab.kit.edu/kit/etp-lehre/p1-praktikum/students/-/blob/main/Pendel/doc/Hinweise-Reversion.md) und [Hinweise-Reversion-Auswertung](https://gitlab.kit.edu/kit/etp-lehre/p1-praktikum/students/-/blob/main/Pendel/doc/Hinweise-Reversion-Auswertung.md).\n",
    "\n",
    "---"
   ]
  },
  {
   "cell_type": "markdown",
   "id": "1716e022-ca6d-4e4e-a271-6e2623bae187",
   "metadata": {
    "jp-MarkdownHeadingCollapsed": true,
    "tags": []
   },
   "source": [
    "## Aufgabe 3: Gekoppelte Pendel"
   ]
  },
  {
   "cell_type": "markdown",
   "id": "fbc914cd-af90-4747-9bd6-65802d51ab25",
   "metadata": {
    "jp-MarkdownHeadingCollapsed": true
   },
   "source": [
    "### Aufgabe 3.1: Fundamentalschwingungen"
   ]
  },
  {
   "cell_type": "markdown",
   "id": "650d5bf1-eaf8-4d59-bfe1-4148916e5752",
   "metadata": {
    "jp-MarkdownHeadingCollapsed": true,
    "tags": []
   },
   "source": [
    "Gehen Sie zur Bearbeitung dieser Aufgabe wie folgt vor: \n",
    "\n",
    " * Stellen Sie für die zwei baugleichen Pendel P1 und P2 durch Verschieben einer der Pendelscheiben **gleiche Perioden $T_{0}$** her.\n",
    "   * Bestimmen Sie hierzu für jedes Pendel einzelne Werte $T_{0}^{(i)}$ jeweils aus mindestens 2 Perioden. \n",
    "   * Nehmen Sie **mindestens 5 Messwerte** auf und bestimmen Sie $T_{0}$ und $\\Delta T_{0}$ aus Stichprobenmittel und Stichprobenvarianz.  \n",
    " * **Koppeln Sie die Pendel** mit Hilfe einer Schraubenfeder (mit der Federkonstanten $k$) in jeweils gleichem Abstand $\\ell$ von den Aufhängepunkten der Pendel.\n",
    " * Achten Sie beim Koppeln der Pendel darauf, dass die koppelnde Schraubenfeder nicht unter Spannung steht. Koppeln Sie beide Pendel auf gleicher Höhe $\\ell$. \n",
    " * Führen Sie dann das folgende Messprogramm durch: \n",
    "   * Bestimmen Sie die **Perioden $T_{1}$ und $T_{2}$ der Fundamentalschwingungen** (bei denen keine Schwebung auftritt).\n",
    "   * Gehen Sie hierzu vor, wie bei der Bestimmung der Perioden $T_{0}$.\n",
    " * Wiederholen Sie die Messungen bei verändertem Abstand $\\ell'$.\n",
    " * **Protokollieren** Sie:\n",
    "   * Beschreiben Sie Ihr Vorgehen, jeweils mit Skizzen!\n",
    "   * Die Werte für $T_{0}^{(i)}$ zur Bestimmung von $T_{0}$ für P1 und P2.\n",
    "   * Die ermittelten **Werte $T_{0}\\pm\\Delta T_{0}$ für P1 und P2**.\n",
    "   * Fügen Sie Ihrem Protokoll eine Aussage über die **Übereinstimmung beider Perioden** zu.\n",
    "   * Die Werte $T_{1,2}^{(i)}$ zur Bestimmung von $T_{1,2}$, jeweils für $\\ell$ und $\\ell'$.\n",
    "   * Die ermittelten **Werte von $T_{1,2}\\pm\\Delta T_{1,2}$**, jeweils für $\\ell$ und $\\ell'$.\n",
    "   * Diskutieren Sie Ihre Ergebnisse für $T_{0},\\ T_{1}(\\ell),\\ T_{2}(\\ell),\\ T_{1}(\\ell'),\\ T_{2}(\\ell')$.\n",
    "   * Bestimmen Sie für $\\ell$ und $\\ell'$ aus $T_{1,2}\\pm\\Delta T_{1,2}$ jeweils die Werte für $\\omega_{1,2}\\pm\\omega_{1,2}$.\n",
    "   * Berechnen Sie auf der Grundlage des Modells eines physikalischen Pendels aus $\\omega_{1}\\pm\\omega_{1}$ das **Trägheitsmoment $\\Theta$** und vergleichen Sie das Ergebnis mit Ihrer Erwartung aus den geometrischen Abmessungen und Massen der Pendel.\n",
    "   * Berechnen Sie aus $\\omega_{2}$ die **Federkonstante $k$** der koppelnden Feder.\n",
    "   * Verwenden Sie für die Bestimmung sowohl von $\\Theta$, also auch von $k$ **alle zur Verfügung stehenden Daten** aus den Messreihen für $\\ell$ und $\\ell'$.\n",
    "\n",
    "---\n",
    "\n",
    "Weitere Details zur Vorbereitung auf diese Aufgabe finden Sie in den Dateien [Hinweise-Gekoppelt](https://gitlab.kit.edu/kit/etp-lehre/p1-praktikum/students/-/blob/main/Pendel/doc/Hinweise-Gekoppelt.md).\n",
    "\n",
    "---"
   ]
  },
  {
   "cell_type": "markdown",
   "id": "c8af730d-4ba4-4c24-a10f-b6deac63f414",
   "metadata": {
    "jp-MarkdownHeadingCollapsed": true
   },
   "source": [
    "### Aufgabe 3.2: Kopplung"
   ]
  },
  {
   "cell_type": "markdown",
   "id": "13e0c05b-de3b-4658-8ecb-03fea82bc701",
   "metadata": {
    "jp-MarkdownHeadingCollapsed": true,
    "tags": []
   },
   "source": [
    "Gehen Sie zur Bearbeitung dieser Aufgabe wie folgt vor: \n",
    "\n",
    " * Hängen Sie die Feder hierzu senkrecht auf.\n",
    " * Führen Sie zwei alternative Bestimmung von $k$ durch.\n",
    " * Mit Hilfe des **Hook'schen Gesetzes**:\n",
    "   * Versehen Sie hierzu die Feder mit verschiedenen bekannten Massen $m_{i}$.\n",
    " * Unter Verwendung der koppelnden Feder als **Federpendel**.\n",
    "   * Belasten Sie hierzu die Feder mit einer bekannten Masse Ihrer Wahl.\n",
    "   * Versetzen Sie die Feder in senkrechte Schwingung und bestimmen Sie die Periode $T_{0}$ der Schwingung.\n",
    "   * Gehen Sie hierzu wie für **Aufgabe 3.1** vor\n",
    " * **Protokollieren** Sie:\n",
    "   * Beschreiben Sie Ihr Vorgehen, jeweils mit Skizzen!\n",
    "   * Die **Wertepaare $(m_{i}, \\mathrm{d}z_{i})$** mit entsprechenden Unsicherheiten $\\Delta m_{i}$ und $\\Delta(\\mathrm{d}z)$.\n",
    "   * Für die Unsicherheiten auf die $m_{i}$ können Sie $\\Delta m_{i}=\\pm 0.5\\,\\mathrm{g}$ annehmen.\n",
    "   * Stellen Sie die Messwerte $(m_{i}, \\mathrm{d}z_{i})$ geeignet dar, und passen Sie ein **geeignetes Modell** an.\n",
    "   * Beurteilen Sie die Anwendbarkeit dieses Modells mit Hilfe des $\\chi^{2}$-Werts der Anpassung.\n",
    "   * **Den Wert $k_{\\mathrm{H}}\\pm\\Delta k_{\\mathrm{H}}$** aus der Anpassung.\n",
    "   * **Die Periode $T_{\\mathrm{PF},0}\\pm\\Delta T_{\\mathrm{PF},0}$** des Federpendels.\n",
    "   * Den aus $T_{\\mathrm{PF},0}$ ermittelten **Wert $k_{\\mathrm{FP}}\\pm\\Delta k_{\\mathrm{FP}}$**.  \n",
    "   * Vergleichen Sie alle hier und in im Rahmen von **Aufgabe 3.1** bestimmten Werte für $k$ innerhalb Ihrer Unsicherheiten und beurteilen Sie, welches die genaueste Methode zur Bestimmung von $k$ ist. \n",
    "\n",
    "---\n",
    "\n",
    "Weitere Details zur Vorbereitung auf diese Aufgabe finden Sie in den Dateien [Hinweise-Gekoppelt](https://gitlab.kit.edu/kit/etp-lehre/p1-praktikum/students/-/blob/main/Pendel/doc/Hinweise-Gekoppelt.md).\n",
    "\n",
    "---"
   ]
  },
  {
   "cell_type": "markdown",
   "id": "5b76d1f4-f58d-4e87-9ffa-f019558205e3",
   "metadata": {
    "jp-MarkdownHeadingCollapsed": true
   },
   "source": [
    "### Aufgabe 3.3: Schwebung"
   ]
  },
  {
   "cell_type": "markdown",
   "id": "fd798ed3-0e30-484c-8880-995f3c14a025",
   "metadata": {
    "jp-MarkdownHeadingCollapsed": true,
    "tags": []
   },
   "source": [
    "Gehen Sie zur Bearbeitung dieser Aufgabe wie folgt vor: \n",
    "\n",
    " * Achten Sie bei der Bestimmung von $\\overline{T}$ und $\\widetilde{T}$ darauf, dass Sie einen der Abstände für $\\ell$ wie in **Aufgabe 3.1** wählen.\n",
    " * Lenken Sie P1 (unter kleinem Winkel $\\varphi_{0}$) aus und halten Sie P2 ruhig.\n",
    " * Lassen Sie dann P1 los und versetzen Sie die gekoppelten Pendel so in Schwebung.\n",
    " * Bestimmen Sie $\\overline{T}$ und $\\widetilde{T}$, wie in **Aufgabe 3.1**.\n",
    " * Sie können $\\widetilde{T}$ als die Zeitspanne bestimmen, in der P2 wieder zur Ruhe kommt. \n",
    " * **Protokollieren** Sie:\n",
    "   * Beschreiben Sie Ihr Vorgehen, jeweils mit Skizzen!\n",
    "   * Die **Werte $\\overline{T}^{(i)}$ und $\\widetilde{T}^{(i)}$** zur Bestimmung von $\\overline{T}$ und $\\widetilde{T}$.\n",
    "   * Die **Werte $\\overline{T}\\pm\\Delta\\overline{T}$ und $\\widetilde{T}\\pm\\Delta\\widetilde{T}$**.\n",
    "   * Bestimmen Sie aus den Perioden jeweils die Kreisfrequenzen $\\overline{\\omega}$ und $\\widetilde{\\omega}$.\n",
    "   * Stellen Sie die [hier](https://gitlab.kit.edu/kit/etp-lehre/p1-praktikum/students/-/blob/main/Pendel/doc/Hinweise-Gekoppelt-Auswertung.md) definierten Größen $\\omega_{1}\\pm\\Delta\\omega_{1},\\ \\omega_{1}'\\Delta\\omega_{1}',\\ \\omega_{2}\\Delta\\omega_{2},\\ \\omega_{2}'\\Delta\\omega_{2}'$ geeignet in einem Diagramm dar.\n",
    "   * Überprüfen Sie die Korrektheit der Gleichungen **(5)** und **(6)** [hier](https://gitlab.kit.edu/kit/etp-lehre/p1-praktikum/students/-/blob/main/Pendel/doc/Hinweise-Gekoppelt.md). \n",
    "\n",
    "**Ein Beispiel dafür, wie Sie die den $p$-Wert aus der $\\chi^{2}(x,2)$-Funktion bestimmnen können finden Sie [hier](https://gitlab.kit.edu/kit/etp-lehre/p1-praktikum/students/-/blob/main/Pendel/tools/manualDAQ.ipynb).**\n",
    "\n",
    "---\n",
    "\n",
    "Weitere Details zur Vorbereitung auf diese Aufgabe finden Sie in den Dateien [Hinweise-Gekoppelt](https://gitlab.kit.edu/kit/etp-lehre/p1-praktikum/students/-/blob/main/Pendel/doc/Hinweise-Gekoppelt.md) und [Hinweise-Gekoppelt-Auswertung](https://gitlab.kit.edu/kit/etp-lehre/p1-praktikum/students/-/blob/main/Pendel/doc/Hinweise-Gekoppelt-Auswertung.md).\n",
    "\n",
    "---"
   ]
  }
 ],
 "metadata": {
  "kernelspec": {
   "display_name": "Python 3 (ipykernel)",
   "language": "python",
   "name": "python3"
  },
  "language_info": {
   "codemirror_mode": {
    "name": "ipython",
    "version": 3
   },
   "file_extension": ".py",
   "mimetype": "text/x-python",
   "name": "python",
   "nbconvert_exporter": "python",
   "pygments_lexer": "ipython3",
   "version": "3.12.3"
  }
 },
 "nbformat": 4,
 "nbformat_minor": 5
}
