{
 "cells": [
  {
   "cell_type": "markdown",
   "id": "001d51ab-bdf8-40b5-9aad-54e33181e05c",
   "metadata": {
    "jp-MarkdownHeadingCollapsed": true,
    "tags": []
   },
   "source": [
    "# Werkzeuge zur Datannahme für den Versuch Pendel"
   ]
  },
  {
   "cell_type": "markdown",
   "id": "a7fd56cb-ed0a-4516-86e6-9fe10a9dd806",
   "metadata": {},
   "source": [
    "Mit den folgenden Code-Fragmenten zeigen wir Ihnen: \n",
    "\n",
    " * Wie man die Daten Code-Zellen im Protokoll so vorbereiten kann, dass man während der Datrennahme per Hand die aufgenommenen Daten sofort graphisch darstellen kann.\n",
    " * Wie man die $\\chi^{2}$-Funktion aus dem Programmpaket `scipy` dazu verwenden kann einen $p$-Wert zu bestimmen.  \n",
    "\n",
    "Alle im Folgenden gezeigten Code-Fragmente lassen sich geeignet kombinieren. "
   ]
  },
  {
   "cell_type": "markdown",
   "id": "4847bf0a-0697-400d-a0f0-11a41a48133b",
   "metadata": {
    "jp-MarkdownHeadingCollapsed": true,
    "tags": []
   },
   "source": [
    "## Datenname per Hand und sofortige Visualierung der aufgezeichneten Daten im Protokoll"
   ]
  },
  {
   "cell_type": "markdown",
   "id": "0928d73a-39a5-48fb-aa32-a3b5f881cca0",
   "metadata": {},
   "source": [
    "Mit dem folgenden Code-Fragment zeigen wir Ihnen:\n",
    "    \n",
    " * Wie man mit Hilfe der Programmpakete `numpy` und `matplotlib` und geschickter Vorbereitung der Code-Zellen im Protokoll Datenpunkte von Hand aufnehmen und während der Entstehung sofort graphisch darstellen kann."
   ]
  },
  {
   "cell_type": "code",
   "execution_count": null,
   "id": "b019dbde-bf4c-4db8-ba60-3cbdabfb2a10",
   "metadata": {
    "tags": []
   },
   "outputs": [],
   "source": [
    "import matplotlib.pyplot as plt\n",
    "import numpy as np\n",
    "from numpy import nan\n",
    "\n",
    "# Check small angle approximation. Columns of entires are: \n",
    "# phi0, T01, T02, T03, T04, T05; \n",
    "# phi0 will run in steps of 5 deg von 60 bis 5 deg. Replace nan's by actual \n",
    "# measurments\n",
    "a = np.array([\n",
    "    60., nan, nan, nan, nan, nan,\n",
    "    55., nan, nan, nan, nan, nan,\n",
    "    50., nan, nan, nan, nan, nan,\n",
    "    45., nan, nan, nan, nan, nan,\n",
    "    40., nan, nan, nan, nan, nan,\n",
    "    35., nan, nan, nan, nan, nan,\n",
    "    30., nan, nan, nan, nan, nan,\n",
    "    25., nan, nan, nan, nan, nan,\n",
    "    20., nan, nan, nan, nan, nan,\n",
    "    15., nan, nan, nan, nan, nan,\n",
    "    10., nan, nan, nan, nan, nan,\n",
    "     5., nan, nan, nan, nan, nan,\n",
    "]).reshape((12,6))\n",
    "# Definition of a single measurement row (here done by using numpy)\n",
    "phi0 = a[0:,0]                   # For each row --> the first column\n",
    "T0 = a[0:,1:].mean(axis=1)       # For each row --> the mean over columns 1... end\n",
    "dT = a[0:,1:].std(axis=1,ddof=1) # For each row --> the standard deviation over columns 1 ... end\n",
    "# Check whether the calculated vlaues mae sense\n",
    "print(\"\\n\", phi0, \"\\n\",T0, \"\\n\", dT, \"\\n\")\n",
    "# Visualize the results; nan's wll be ignored to the figure will emerge point \n",
    "# by point visualizing the progress of our data taking\n",
    "plt.scatter(phi0, T0)"
   ]
  },
  {
   "cell_type": "markdown",
   "id": "d7c21a7c-b21d-474a-8692-715e51386cd1",
   "metadata": {
    "jp-MarkdownHeadingCollapsed": true,
    "tags": []
   },
   "source": [
    "## Berechnung eines $p$-Werts auf Grundlage einer $\\chi^{2}$-Verteilung"
   ]
  },
  {
   "cell_type": "markdown",
   "id": "6b48a8c8-ffe3-484b-8434-0ffbc9006ece",
   "metadata": {},
   "source": [
    "Mit dem folgenden Code-Fragment zeigen wir Ihnen:\n",
    "    \n",
    " * Wie man die $\\chi^{2}$-funktion des Programmpakets `scipy` einließt und darstellt.\n",
    " * Wie man mit Hilfe der kummulativen Verteilungsfunktion den $p$-Wert auf Grundlage einer $\\chi^{2}$-Verteilung berechnet. "
   ]
  },
  {
   "cell_type": "code",
   "execution_count": null,
   "id": "733f5ae8-799b-4daf-8155-9e803b2dc228",
   "metadata": {},
   "outputs": [],
   "source": [
    "from scipy.stats import chi2\n",
    "\n",
    "# The number of degrees of freedom\n",
    "ndof=2\n",
    "# Plot the PDF\n",
    "x = np.linspace(chi2.ppf(0.01, ndof), chi2.ppf(0.99, ndof), 100)\n",
    "plt.plot(x, chi2.pdf(x, ndof), color=\"darkblue\", label=r\"$\\chi^{2}(x, 2)$\")\n",
    "plt.xlabel(r\"$x$\")\n",
    "plt.ylabel(r\"$\\chi^{2}(x, 2)$\")\n",
    "plt.legend()\n",
    "plt.show()\n",
    "# Get the p-value from the CDF\n",
    "print(\"The p-value for x=2.5 is:\", 1.-chi2.cdf(2.5, ndof))"
   ]
  }
 ],
 "metadata": {
  "kernelspec": {
   "display_name": "Python 3 (ipykernel)",
   "language": "python",
   "name": "python3"
  },
  "language_info": {
   "codemirror_mode": {
    "name": "ipython",
    "version": 3
   },
   "file_extension": ".py",
   "mimetype": "text/x-python",
   "name": "python",
   "nbconvert_exporter": "python",
   "pygments_lexer": "ipython3",
   "version": "3.12.3"
  }
 },
 "nbformat": 4,
 "nbformat_minor": 5
}
