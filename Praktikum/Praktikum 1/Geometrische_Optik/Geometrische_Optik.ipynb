{
 "cells": [
  {
   "cell_type": "markdown",
   "id": "61e61a89-5383-458c-b390-c77b2e6a1817",
   "metadata": {
    "jp-MarkdownHeadingCollapsed": true
   },
   "source": [
    "# Fakultät für Physik \n",
    "\n",
    "## Physikalisches Praktikum P1 für Studierende der Physik\n",
    "\n",
    "Versuch P1-141, 142, 143 (Stand: **Oktober 2024**)\n",
    "\n",
    "[Raum F1-13](https://labs.physik.kit.edu/img/Klassische-Praktika/Lageplan_P1P2.png)\n",
    "\n",
    "# Geometrische Optik"
   ]
  },
  {
   "cell_type": "markdown",
   "id": "ec9cf5b3-27b6-45c0-9093-e830b558ba84",
   "metadata": {},
   "source": [
    "Name: __________________ Vorname: __________________ E-Mail: __________________\n",
    "\n",
    "\\begin{equation*}\n",
    "\\begin{split}\n",
    "&\\\\\n",
    "&\\\\\n",
    "\\end{split}\n",
    "\\end{equation*}\n",
    "\n",
    "Name: __________________ Vorname: __________________ E-Mail: __________________\n",
    "\n",
    "\\begin{equation*}\n",
    "\\begin{split}\n",
    "&\\\\\n",
    "&\\\\\n",
    "&\\\\\n",
    "\\end{split}\n",
    "\\end{equation*}\n",
    "\n",
    "Gruppennummer: _____\n",
    "\n",
    "\\begin{equation*}\n",
    "\\begin{split}\n",
    "&\\\\\n",
    "&\\\\\n",
    "&\\\\\n",
    "\\end{split}\n",
    "\\end{equation*}\n",
    "\n",
    "\n",
    "Betreuer: __________________\n",
    "\n",
    "\\begin{equation*}\n",
    "\\begin{split}\n",
    "&\\\\\n",
    "&\\\\\n",
    "&\\\\\n",
    "\\end{split}\n",
    "\\end{equation*}\n",
    "\n",
    "Versuch durchgeführt am: __________________"
   ]
  },
  {
   "cell_type": "markdown",
   "id": "699e52ed-cae2-4136-80ca-689c44486d2c",
   "metadata": {},
   "source": [
    "---\n",
    "\n",
    "**Beanstandungen zu Protokoll Version _____:**\n",
    "\n",
    "\\begin{equation*}\n",
    "\\begin{split}\n",
    "&\\\\\n",
    "&\\\\\n",
    "&\\\\\n",
    "&\\\\\n",
    "&\\\\\n",
    "&\\\\\n",
    "&\\\\\n",
    "&\\\\\n",
    "&\\\\\n",
    "&\\\\\n",
    "\\end{split}\n",
    "%\\text{\\vspace{10cm}}\n",
    "\\end{equation*}\n",
    "\n",
    "<br>\n",
    "Testiert am: __________________ Testat: __________________"
   ]
  },
  {
   "cell_type": "markdown",
   "id": "52381c06-0e92-404d-9c39-2dfedbfb9dde",
   "metadata": {},
   "source": [
    "# Durchführung"
   ]
  },
  {
   "cell_type": "markdown",
   "id": "cbe6305c-15ef-4a4b-89f2-77d7425faf8b",
   "metadata": {},
   "source": [
    "**Detaillierte Hinweise zur Durchführung der Versuche finden Sie in der Datei [Geometrische_Optik_Hinweise.ipynb](https://gitlab.kit.edu/kit/etp-lehre/p1-praktikum/students/-/blob/main/Geometrische_Optik/Geometrische_Optik_Hinweise.ipynb)**"
   ]
  },
  {
   "cell_type": "markdown",
   "id": "f4113a8f-45fc-4ce2-b26b-1e9a20579d0b",
   "metadata": {},
   "source": [
    "## Aufgabe 1: Bestimmung der Brennweite $f$ einer einzelnen Linse"
   ]
  },
  {
   "cell_type": "markdown",
   "id": "f8329088-29ba-4441-9617-f561c5b64c56",
   "metadata": {
    "jp-MarkdownHeadingCollapsed": true
   },
   "source": [
    "### Aufgabe 1.1: Bestimmung von $f$\n",
    "\n",
    " *  Bestimmen Sie, mit Hilfe eines Maßstabs und eines Schirms, die **Brennweite $f$ einer dünne Sammellinse**, die Sie aus dem Ihnen zur Verfügung stehenden Sortiment auswählen können. \n",
    " * Fertigen Sie zur Vorbereitung einen **Strahlengang (einschließlich Lichtquelle)** an und fügen Sie diesen Ihrer Auswertung bei. \n",
    " * Beantworten Sie in Ihrer Auswertung die folgende Frage: Wie ist sicher gestellt, dass die einfallenden Strahlen der Lichtquelle parallel in die Linse einfallen?\n",
    "\n",
    "---"
   ]
  },
  {
   "cell_type": "markdown",
   "id": "f71b18e7-f0a4-488e-b8bd-5f782371fa4c",
   "metadata": {},
   "source": [
    "**V E R S U C H S B E S C H R E I B U N G**\n",
    "\n",
    "*Fügen Sie Ihre Versuchsbeschreibung hier ein. Löschen Sie hierzu diesen kursiv gestellten Text aus dem Dokument.* \n",
    "\n",
    "---"
   ]
  },
  {
   "cell_type": "markdown",
   "id": "da34e655-652c-40db-9edb-7129c11b0854",
   "metadata": {},
   "source": [
    "**L Ö S U N G**\n",
    "\n",
    "*Fügen Sie numerische Berechnungen zur Lösung dieser Aufgabe hier ein. Löschen Sie hierzu diesen kursiv gestellten Text aus dem Dokument. Um Code-Fragmente und Skripte in [Python](https://www.python.org/), sowie ggf. bildliche Darstellungen direkt ins [Jupyter notebook](https://jupyter.org/) einzubinden verwandeln Sie diese Zelle in eine Code-Zelle. Fügen Sie ggf. weitere Code-Zellen zu.* \n",
    "\n",
    "---"
   ]
  },
  {
   "cell_type": "markdown",
   "id": "252c1a13-200b-497f-b626-74b0ca5a1f29",
   "metadata": {},
   "source": [
    "**D I S K U S S I O N**\n",
    "\n",
    "*Fügen Sie eine abschließende Diskussion und Bewertung Ihrer Lösung hier ein. Löschen Sie hierzu diesen kursiv gestellten Text aus dem Dokument.* \n",
    "\n",
    "---"
   ]
  },
  {
   "cell_type": "markdown",
   "id": "2714c1d3-c6e6-400d-af74-1e76f52ac607",
   "metadata": {
    "jp-MarkdownHeadingCollapsed": true
   },
   "source": [
    "### Aufgabe 1.2: Bestimmung von $f$ mit Hilfe des [Bessel-Verfahrens](https://de.wikipedia.org/wiki/Bessel-Verfahren)\n",
    "\n",
    " * **Bestimmen Sie $f$ der gleichen Linse** mit Hilfe des [Bessel-Verfahrens](https://de.wikipedia.org/wiki/Bessel-Verfahren). \n",
    " * Beantworten Sie in Ihrer Auswertung die **folgenden Fragen**: \n",
    "   * Warum muss der Abstsand zwischen Gegenstand G und Schirm S $a>4\\,f$ sein? \n",
    "   * Wie ändert sich Ihre Messanordnung, wenn Sie $a$ vergrößern? \n",
    "   * Warum ist beim Bessel-Verfahren B einmal kleiner und einmal gößer als G?\n",
    "   * Warum kann es von Nachteil sein, wenn Sie das Verhältnis $a:f$ zu groß wählen?\n",
    "\n",
    "---"
   ]
  },
  {
   "cell_type": "markdown",
   "id": "1eb4e2bb-8cf2-4416-8ab0-6e10bf51117c",
   "metadata": {},
   "source": [
    "**V E R S U C H S B E S C H R E I B U N G**\n",
    "\n",
    "*Fügen Sie Ihre Versuchsbeschreibung hier ein. Löschen Sie hierzu diesen kursiv gestellten Text aus dem Dokument.* \n",
    "\n",
    "---"
   ]
  },
  {
   "cell_type": "markdown",
   "id": "39c615a2-0f58-4d44-8a12-3caa35d3dbcb",
   "metadata": {},
   "source": [
    "**L Ö S U N G**\n",
    "\n",
    "*Fügen Sie numerische Berechnungen zur Lösung dieser Aufgabe hier ein. Löschen Sie hierzu diesen kursiv gestellten Text aus dem Dokument. Um Code-Fragmente und Skripte in [Python](https://www.python.org/), sowie ggf. bildliche Darstellungen direkt ins [Jupyter notebook](https://jupyter.org/) einzubinden verwandeln Sie diese Zelle in eine Code-Zelle. Fügen Sie ggf. weitere Code-Zellen zu.* \n",
    "\n",
    "---"
   ]
  },
  {
   "cell_type": "markdown",
   "id": "b0ffdeb6-a4e4-4008-962b-82f280d346c3",
   "metadata": {},
   "source": [
    "**D I S K U S S I O N**\n",
    "\n",
    "*Fügen Sie eine abschließende Diskussion und Bewertung Ihrer Lösung hier ein. Löschen Sie hierzu diesen kursiv gestellten Text aus dem Dokument.* \n",
    "\n",
    "---"
   ]
  },
  {
   "cell_type": "markdown",
   "id": "d2923da1-2d93-4d6e-9f1a-efe6fd5737d4",
   "metadata": {
    "jp-MarkdownHeadingCollapsed": true
   },
   "source": [
    "### Aufgabe 1.3: Sphärische und chromatisch Abberation\n",
    "\n",
    "Untersuchen Sie die **sphärische und chromatische [Aberration](https://de.wikipedia.org/wiki/Abbildungsfehler)** der Linse aus **Aufgabe 1.2**. \n",
    "\n",
    "---"
   ]
  },
  {
   "cell_type": "markdown",
   "id": "118535a1-7d47-4c37-97ec-1c77045b2e28",
   "metadata": {},
   "source": [
    "**V E R S U C H S B E S C H R E I B U N G**\n",
    "\n",
    "*Fügen Sie Ihre Versuchsbeschreibung hier ein. Löschen Sie hierzu diesen kursiv gestellten Text aus dem Dokument.* \n",
    "\n",
    "---"
   ]
  },
  {
   "cell_type": "markdown",
   "id": "9308daab-10ef-4639-ac67-17df39d35bdf",
   "metadata": {},
   "source": [
    "**L Ö S U N G**\n",
    "\n",
    "*Fügen Sie numerische Berechnungen zur Lösung dieser Aufgabe hier ein. Löschen Sie hierzu diesen kursiv gestellten Text aus dem Dokument. Um Code-Fragmente und Skripte in [Python](https://www.python.org/), sowie ggf. bildliche Darstellungen direkt ins [Jupyter notebook](https://jupyter.org/) einzubinden verwandeln Sie diese Zelle in eine Code-Zelle. Fügen Sie ggf. weitere Code-Zellen zu.* \n",
    "\n",
    "---"
   ]
  },
  {
   "cell_type": "markdown",
   "id": "6db02025-dac5-444d-bedf-651338fe2da6",
   "metadata": {},
   "source": [
    "**D I S K U S S I O N**\n",
    "\n",
    "*Fügen Sie eine abschließende Diskussion und Bewertung Ihrer Lösung hier ein. Löschen Sie hierzu diesen kursiv gestellten Text aus dem Dokument.* \n",
    "\n",
    "---"
   ]
  },
  {
   "cell_type": "markdown",
   "id": "d8f0f99b-e331-4dcc-b417-997937620630",
   "metadata": {
    "jp-MarkdownHeadingCollapsed": true
   },
   "source": [
    "## Aufgabe 2: Vermessung eines Zweilinsensystems $L$"
   ]
  },
  {
   "cell_type": "markdown",
   "id": "e2eeb1d7-6d41-42ed-bf2f-314772e064fd",
   "metadata": {
    "jp-MarkdownHeadingCollapsed": true
   },
   "source": [
    "### Aufgabe 2.1: Bestimmung von $f$ und der Lage der Hauptebenen $H_{1}$ und $H_{2}$ \n",
    "\n",
    "Bestimmen Sie, mit Hilfe des [Abbe-Verfahrens](https://de.wikipedia.org/wiki/Abbe-Verfahren), **für einen gegebenen Abstand $d$ der Linsen des im Messingrohr montierten Zweilinsensystems L** die Brennweite $f$, sowie die Lage der Hauptebenen $H_{1}$ und $H_{2}$, gemessen von einem Bezugspunkt X zwischen den Linsen, auf der optischen Achse von L. \n",
    "\n",
    "---"
   ]
  },
  {
   "cell_type": "markdown",
   "id": "1323190e-c537-4f30-8134-b4b7c98ce7fa",
   "metadata": {},
   "source": [
    "**V E R S U C H S B E S C H R E I B U N G**\n",
    "\n",
    "*Fügen Sie Ihre Versuchsbeschreibung hier ein. Löschen Sie hierzu diesen kursiv gestellten Text aus dem Dokument.* \n",
    "\n",
    "---"
   ]
  },
  {
   "cell_type": "markdown",
   "id": "c42bf8a7-d084-470a-8892-0f1bab688b87",
   "metadata": {},
   "source": [
    "**L Ö S U N G**\n",
    "\n",
    "*Fügen Sie numerische Berechnungen zur Lösung dieser Aufgabe hier ein. Löschen Sie hierzu diesen kursiv gestellten Text aus dem Dokument. Um Code-Fragmente und Skripte in [Python](https://www.python.org/), sowie ggf. bildliche Darstellungen direkt ins [Jupyter notebook](https://jupyter.org/) einzubinden verwandeln Sie diese Zelle in eine Code-Zelle. Fügen Sie ggf. weitere Code-Zellen zu.* \n",
    "\n",
    "---"
   ]
  },
  {
   "cell_type": "markdown",
   "id": "c3d30014-b60d-4f5d-9fd2-8543cc43637d",
   "metadata": {},
   "source": [
    "**D I S K U S S I O N**\n",
    "\n",
    "*Fügen Sie eine abschließende Diskussion und Bewertung Ihrer Lösung hier ein. Löschen Sie hierzu diesen kursiv gestellten Text aus dem Dokument.* \n",
    "\n",
    "---"
   ]
  },
  {
   "cell_type": "markdown",
   "id": "36756154-4c21-45f2-a688-f4afdb7619bf",
   "metadata": {
    "jp-MarkdownHeadingCollapsed": true
   },
   "source": [
    "### Aufgabe 2.2: Bestimmung von $f_{1}$ und $f_{2}$\n",
    "\n",
    "**Diese Aufgabe ist nur für Studierende mit Hauptfach Physik verpflichtend. Studierende mit Nebenfach Physik und Lehramtstudierende können diese Aufgabe überspringen.**\n",
    "\n",
    "Wiederholen Sie die Messung aus **Aufgabe 2.1** für **vier weitere Werte für $d$**. Bestimmen Sie aus den ermittelten Werten von $f$ für die verschiedenen Werte von $d$ die Brennweiten $f_{1}$ und $f_{2}$ der einzelnen Linsen.\n",
    "\n",
    "---"
   ]
  },
  {
   "cell_type": "markdown",
   "id": "b572e951-75df-43be-915c-08a5bf4171e3",
   "metadata": {},
   "source": [
    "**V E R S U C H S B E S C H R E I B U N G**\n",
    "\n",
    "*Fügen Sie Ihre Versuchsbeschreibung hier ein. Löschen Sie hierzu diesen kursiv gestellten Text aus dem Dokument.* \n",
    "\n",
    "---"
   ]
  },
  {
   "cell_type": "markdown",
   "id": "32f31833-9395-45d2-9843-2b9e64eba3c2",
   "metadata": {},
   "source": [
    "**L Ö S U N G**\n",
    "\n",
    "*Fügen Sie numerische Berechnungen zur Lösung dieser Aufgabe hier ein. Löschen Sie hierzu diesen kursiv gestellten Text aus dem Dokument. Um Code-Fragmente und Skripte in [Python](https://www.python.org/), sowie ggf. bildliche Darstellungen direkt ins [Jupyter notebook](https://jupyter.org/) einzubinden verwandeln Sie diese Zelle in eine Code-Zelle. Fügen Sie ggf. weitere Code-Zellen zu.* \n",
    "\n",
    "---"
   ]
  },
  {
   "cell_type": "markdown",
   "id": "3722b349-d7b1-4107-b4a8-c02cb18bbaaa",
   "metadata": {},
   "source": [
    "**D I S K U S S I O N**\n",
    "\n",
    "*Fügen Sie eine abschließende Diskussion und Bewertung Ihrer Lösung hier ein. Löschen Sie hierzu diesen kursiv gestellten Text aus dem Dokument.* \n",
    "\n",
    "---"
   ]
  },
  {
   "cell_type": "markdown",
   "id": "aabf6258-c811-4b99-9931-b4c799559cb3",
   "metadata": {
    "jp-MarkdownHeadingCollapsed": true
   },
   "source": [
    "## Aufgabe 3: Aufbau optischer Instrumente\n",
    "\n",
    "Bauen Sie **ein optisches Geräte Ihrer Wahl** aus der folgenden Auflistung auf der kleinen Führungsschiene nach und überprüfen qualitativ dessen Eigenschaften. \n",
    "\n",
    " * Ein [Keplersches (astronomisches) Fernrohr](https://de.wikipedia.org/wiki/Fernrohr#Kepler-Fernrohr) mit **mindestens 6-facher Vergrößerung**.\n",
    " * Ein [Galileisches Fernrohr](https://de.wikipedia.org/wiki/Fernrohr#Galilei-Fernrohr) mit **mindestens 6-facher Vergrößerung**.\n",
    " * Einen [Projektor](https://de.wikipedia.org/wiki/Projektor), der ein $24\\times36\\,\\mathrm{mm}^{2}$ großses Diapositiv gleichmäßig ausleuchtet und in etwa $1.5\\ \\mathrm{m}$ Entfernung eine etwa **10-fache Vergrößerung** aufweist.\n",
    " * Ein [Mikroskop](https://de.wikipedia.org/wiki/Mikroskop) mit **mindestens 20-facher Vergrößerung**.\n",
    "\n",
    "Fügen Sie für jedes der Geräte, das Sie aufbauen einen **selbst angefertigten Strahlengang** bei, der im Fall von **Aufgabe 3.3** die Lichtquelle beinhalten sollte.\n",
    "\n",
    "---"
   ]
  },
  {
   "cell_type": "markdown",
   "id": "0e7a0862-3b44-40ed-a026-3c233a2e0828",
   "metadata": {},
   "source": [
    "**V E R S U C H S B E S C H R E I B U N G**\n",
    "\n",
    "*Fügen Sie Ihre Versuchsbeschreibung hier ein. Löschen Sie hierzu diesen kursiv gestellten Text aus dem Dokument.* \n",
    "\n",
    "---"
   ]
  },
  {
   "cell_type": "markdown",
   "id": "1c865849-684d-40a8-8ab5-6314c648c037",
   "metadata": {},
   "source": [
    "**L Ö S U N G**\n",
    "\n",
    "*Fügen Sie numerische Berechnungen zur Lösung dieser Aufgabe hier ein. Löschen Sie hierzu diesen kursiv gestellten Text aus dem Dokument. Um Code-Fragmente und Skripte in [Python](https://www.python.org/), sowie ggf. bildliche Darstellungen direkt ins [Jupyter notebook](https://jupyter.org/) einzubinden verwandeln Sie diese Zelle in eine Code-Zelle. Fügen Sie ggf. weitere Code-Zellen zu.* \n",
    "\n",
    "---"
   ]
  },
  {
   "cell_type": "markdown",
   "id": "5d36e92a-e9a3-4561-8341-e966aaddf5c5",
   "metadata": {},
   "source": [
    "**D I S K U S S I O N**\n",
    "\n",
    "*Fügen Sie eine abschließende Diskussion und Bewertung Ihrer Lösung hier ein. Löschen Sie hierzu diesen kursiv gestellten Text aus dem Dokument.* \n",
    "\n",
    "---"
   ]
  },
  {
   "cell_type": "markdown",
   "id": "167895f2-9ea8-4baa-9298-659e8d02ff0d",
   "metadata": {
    "jp-MarkdownHeadingCollapsed": true
   },
   "source": [
    "# Beurteilung"
   ]
  },
  {
   "cell_type": "markdown",
   "id": "e2b5924e-3bda-4081-8f69-dc6b4aaec17c",
   "metadata": {},
   "source": [
    " * Nach Abschluss des Versuchs haben Sie die Möglichkeit diesen Versuch individuell zu beurteilen.\n",
    " * **Folgen Sie zur Beurteilung dieses Versuchs diesem [Link](https://www.empirio.de/s/YWLdVVWVWm)**.\n",
    " * Beachten Sie, dass jede:r Studierende nur einmal pro Versuch eine Beurteilung abgeben kann.\n",
    " * Wir empfehlen die Beurteilung nach der Besprechung Ihrer Versuchsauswertung mit Ihrem:r Tutor:in auszufüllen.  "
   ]
  }
 ],
 "metadata": {
  "kernelspec": {
   "display_name": "Python 3 (ipykernel)",
   "language": "python",
   "name": "python3"
  },
  "language_info": {
   "codemirror_mode": {
    "name": "ipython",
    "version": 3
   },
   "file_extension": ".py",
   "mimetype": "text/x-python",
   "name": "python",
   "nbconvert_exporter": "python",
   "pygments_lexer": "ipython3",
   "version": "3.12.3"
  }
 },
 "nbformat": 4,
 "nbformat_minor": 5
}
