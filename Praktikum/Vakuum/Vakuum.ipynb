{
 "cells": [
  {
   "cell_type": "markdown",
   "id": "89066e31-faf3-4ac9-a78a-a364e066ca84",
   "metadata": {},
   "source": [
    "# Fakultät für Physik\n",
    "\n",
    "## Physikalisches Praktikum P2 für Studierende der Physik\n",
    "\n",
    "Versuch P2-41, 42, 22 (Stand: April 2024)\n",
    "\n",
    "[Raum F1-19](https://labs.physik.kit.edu/img/Praktikum/Lageplan_P2.png)\n",
    "\n",
    "\n",
    "\n",
    "# Vakuum"
   ]
  },
  {
   "cell_type": "markdown",
   "id": "27cf71fa-c60c-45ed-a885-790064eb1939",
   "metadata": {},
   "source": [
    "Name: Alhelo Vorname: Fadi E-Mail: uylex@student.kit.edu\n",
    "\n",
    "\\begin{equation*}\n",
    "\\begin{split}\n",
    "&\\\\\n",
    "&\\\\\n",
    "\\end{split}\n",
    "\\end{equation*}\n",
    "\n",
    "Name: Ji Vorname: Tony E-Mail: uvsvo@student.kit.edu\n",
    "\n",
    "\\begin{equation*}\n",
    "\\begin{split}\n",
    "&\\\\\n",
    "&\\\\\n",
    "&\\\\\n",
    "\\end{split}\n",
    "\\end{equation*}\n",
    "\n",
    "Gruppennummer: Do-14\n",
    "\n",
    "\\begin{equation*}\n",
    "\\begin{split}\n",
    "&\\\\\n",
    "&\\\\\n",
    "&\\\\\n",
    "\\end{split}\n",
    "\\end{equation*}\n",
    "\n",
    "\n",
    "Betreuer: __________________\n",
    "\n",
    "\\begin{equation*}\n",
    "\\begin{split}\n",
    "&\\\\\n",
    "&\\\\\n",
    "&\\\\\n",
    "\\end{split}\n",
    "\\end{equation*}\n",
    "\n",
    "Versuch durchgeführt am: __________________"
   ]
  },
  {
   "cell_type": "markdown",
   "id": "a1410700-9bc1-4cc9-8192-c9aab9890af9",
   "metadata": {},
   "source": [
    "---\n",
    "\n",
    "**Beanstandungen zu Protokoll Version _____:**\n",
    "\n",
    "\\begin{equation*}\n",
    "\\begin{split}\n",
    "&\\\\\n",
    "&\\\\\n",
    "&\\\\\n",
    "&\\\\\n",
    "&\\\\\n",
    "&\\\\\n",
    "&\\\\\n",
    "&\\\\\n",
    "&\\\\\n",
    "&\\\\\n",
    "\\end{split}\n",
    "%\\text{\\vspace{10cm}}\n",
    "\\end{equation*}\n",
    "\n",
    "<br>\n",
    "Testiert am: __________________ Testat: __________________"
   ]
  },
  {
   "cell_type": "markdown",
   "id": "9f649150-8b74-49d3-83fb-1facbc06934d",
   "metadata": {},
   "source": [
    "# Durchführung\n",
    "\n",
    "**Die Anleitung zu diesem Versuch finden Sie [hier](https://gitlab.kit.edu/kit/etp-lehre/p2-praktikum/students/-/blob/main/Vakuum/README.md).**"
   ]
  },
  {
   "cell_type": "markdown",
   "id": "f6193e61-35b0-4147-ba5b-cc9369e5b192",
   "metadata": {
    "jp-MarkdownHeadingCollapsed": true,
    "tags": []
   },
   "source": [
    "## Aufgabe 1: Versuchsaufbau\n",
    "\n",
    "**Hinweise zu Aufgabe 1 finden in der Datei [Hinweise-Versuchsdurchfuehrung.md](https://gitlab.kit.edu/kit/etp-lehre/p2-praktikum/students/-/blob/main/Vakuum/doc/Hinweise-Versuchsdurchfuehrung.md).**\n",
    "\n",
    " * Machen Sie sich mit dem Versuchsaufbau vertraut. \n",
    " * Bearbeiten Sie hierzu die folgenden Aufgaben."
   ]
  },
  {
   "cell_type": "markdown",
   "id": "64fe330f-c7d1-41e0-91af-a4b379848e20",
   "metadata": {
    "jp-MarkdownHeadingCollapsed": true,
    "tags": []
   },
   "source": [
    "### Aufgabe 1.1: Orientierung und Beschreibung des Versuchsaufbaus\n",
    "\n",
    " * Verschaffen Sie sich einen Überblick über die verwendeten Apparaturen und beschreiben Sie sie in eigenen Worten.  \n",
    " * Verfolgen Sie hierzu die Leitungen und identifizieren Sie die verwendeten Elemente in der zugehörigen Skizze. \n",
    "   \n",
    "---"
   ]
  },
  {
   "cell_type": "markdown",
   "id": "32ef6302-1c01-40d7-9c83-ea5c664f14a0",
   "metadata": {},
   "source": [
    "**Lösung:**\n",
    "\n",
    "<img src='figures/VakuumSkizze.png' alt='Skizze des Versuchsaufbaus' style='width:1100px;height:auto'>\n",
    "\n",
    "**Abbildung 1.1.1:** Skizze des Aufbaus\n"
   ]
  },
  {
   "cell_type": "markdown",
   "id": "3804c7f2",
   "metadata": {},
   "source": [
    "#### Überblick der Funktionen der aufgelisteten Apparatur-Elemente"
   ]
  },
  {
   "cell_type": "markdown",
   "id": "dcb502b3",
   "metadata": {},
   "source": [
    "1. **Wärmeleitvakuummeter ($T_1, T_2, T_3$)**\n",
    "   - Diese Geräte messen den Druck in einem Vakuumsystem basierend auf der Wärmeleitfähigkeit des Gases. Je niedriger der Druck, desto weniger Wärme wird durch das Gas geleitet.\n",
    "\n",
    "2. **Ionisationsvakuummeter (IM)**\n",
    "   - Dieses Gerät misst sehr niedrige Drücke, indem es die Ionisation von Gasmolekülen durch Elektronen verwendet. Die Anzahl der erzeugten Ionen ist proportional zum Druck.\n",
    "\n",
    "3. **Vakuumventile ($V_1, V_2, V_3$)**\n",
    "   - Diese Ventile regulieren den Fluss von Gasen im Vakuumsystem. Sie können geöffnet oder geschlossen werden, um verschiedene Teile des Systems zu isolieren oder zu verbinden.\n",
    "\n",
    "4. **Belüftungsventile ($B_1, B_2$)**\n",
    "   - Diese Ventile ermöglichen es, Luft in das System zu lassen, um es zu belüften. Dies ist nützlich, um das System wieder auf Atmosphärendruck zu bringen.\n",
    "\n",
    "5. **Turbomolekularpumpe (TMP)**\n",
    "   - Diese Pumpe erzeugt ein hohes Vakuum, indem sie Gasmoleküle mechanisch mit hohen Geschwindigkeiten herauspumpt. Sie ist für die Erzeugung sehr niedriger Drücke geeignet.\n",
    "\n",
    "6. **Drehschieberpumpe (DSP)**\n",
    "   - Diese Pumpe wird oft in Kombination mit der Turbomolekularpumpe verwendet. Sie erzeugt ein grobes Vakuum und dient als Vorpumpe für die TMP.\n",
    "\n",
    "7. **Rezipient (RZ)**\n",
    "   - Dies ist das Hauptgefäß des Systems, in dem das Vakuum erzeugt und aufrechterhalten wird. Hier finden auch Experimente oder Prozesse statt, die ein Vakuum erfordern.\n",
    "\n",
    "8. **Referenzvolumen (RV)**\n",
    "   - Ein bekanntes Volumen, das zur Kalibrierung oder zum Vergleich des Vakuumdrucks verwendet wird.\n",
    "\n",
    "9. **Verdampferschiffchen (VS)**\n",
    "   - Diese Apparaturen werden verwendet, um Materialien zu verdampfen, die dann im Vakuum abgeschieden oder analysiert werden können.\n",
    "\n",
    "10. **Kugelelektroden (KE)**\n",
    "    - Dienen der Erzeugung von elektrische Felder oder Ströme im Vakuum. Für manchen Experimenten von relevanz.\n",
    "\n",
    "11. **Austauschbares Leitungselement (L)**\n",
    "    - Ein flexibles Element, das ausgetauscht werden kann, um verschiedene Teile des Systems zu verbinden."
   ]
  },
  {
   "cell_type": "markdown",
   "id": "d3a79a37",
   "metadata": {},
   "source": [
    "#### Verfolgung der Leitungen und Identifizierung der Elemente"
   ]
  },
  {
   "cell_type": "markdown",
   "id": "84d3f22b",
   "metadata": {},
   "source": [
    "1. **Start bei Rezipient (RZ):**\n",
    "   - Innerhalb des Rezipient (RZ) befinden sich zwei Apparaturen $\\dots$\n",
    "      - Verdampferschiffchen (VS)\n",
    "      - Kugelelektroden (KE).\n",
    "\n",
    "   - Der Reipiept ist zudem an einem Ionisationsvakuumeter (IM) verbunden.\n",
    "   \n",
    "   - Von RZ führen zwei Leitungen $\\dots$\n",
    "      - zu einem Vakuumventil ($V_2$)\n",
    "      - zu einem Vakuumventil ($V_3$)\n",
    "\n",
    "2. **Leitung von $V_3$:**\n",
    "   - Die Leitung von $V_3$ fürht zu $\\dots$\n",
    "      - dem Referenzvolumen\n",
    "      - dem Belüftungsventil ($B_2$)\n",
    "      - dem Wärmeleitvakuumeter ($T_3$)\n",
    "\n",
    "3. **Leitung von $V_2$:**\n",
    "   - Die Leitung von $V_2$ führt zur Turbomolekularpumpe (TMP).\n",
    "\n",
    "4. **Leitung von TMP:**\n",
    "   - Von TMP führt eine Leitung zu einem Austauschbaren Leitungselement (L).\n",
    "   - Nach L kommt ein weiteres Vakuumventil ($V_1$).\n",
    "\n",
    "5. **Leitung von $V_1$:**\n",
    "   - Es gibt drei verbundene Elemente $\\dots$\n",
    "      - ein Belüftungsventil ($B_1$)\n",
    "      - der Wärmeleitvakuumeter ($T_1$)\n",
    "      - die Drehscheibenpumpe (DSP)\n",
    "---"
   ]
  },
  {
   "cell_type": "markdown",
   "id": "660733e2-8145-4f32-9654-08c0f45b56b9",
   "metadata": {
    "jp-MarkdownHeadingCollapsed": true,
    "tags": []
   },
   "source": [
    "### Aufgabe 1.2: Gasentladung (Demonstrationsversuch)\n",
    "\n",
    " * Schalten Sie das Hochspannungsgerät zur Erzeugung der Gasentladungen ein.\n",
    " * Evakuieren Sie RZ und die Gasentladungsröhre gemeinsam mit Hilfe der DSP. \n",
    " * Senken Sie den Druck kontinuierlich, bis die Gasentladung erlischt. \n",
    " * Skizzieren und beschreiben Sie die Gasentladung in Abhängigkeit vom Gasdruck. \n",
    "\n",
    "---"
   ]
  },
  {
   "cell_type": "markdown",
   "id": "dcb3d760-7527-4b14-b5f5-ced25fb0258a",
   "metadata": {},
   "source": [
    "**Lösung:**"
   ]
  },
  {
   "cell_type": "markdown",
   "id": "68f89699",
   "metadata": {},
   "source": [
    "#### Vorbereitung\n"
   ]
  },
  {
   "cell_type": "markdown",
   "id": "1dd403d1",
   "metadata": {},
   "source": [
    "\n",
    "Zuerst wird das Hochspannungsgerät angeschaltet und die Gasentladung erzeugt.\n",
    "Danach wird die Kammaer langsam evakuert.  \n",
    "Um die Kammer zu evakuieren werden die Ventile $V_2\\,\\&\\,V_3$ geöffnet. Die TMP wird aber vorerst ausgelschaltet bleiben.  \n",
    "Dieser Prozess läuft solang, bis die Gasentladung erlischt. Letzendlich wird dann der Ventil $V_2$ für die folgende Versuche zugedreht."
   ]
  },
  {
   "cell_type": "markdown",
   "id": "bdce7798",
   "metadata": {},
   "source": [
    "#### Durchführung"
   ]
  },
  {
   "cell_type": "markdown",
   "id": "56893d6c",
   "metadata": {},
   "source": []
  },
  {
   "cell_type": "markdown",
   "id": "c7769307",
   "metadata": {},
   "source": [
    "---"
   ]
  },
  {
   "cell_type": "markdown",
   "id": "6d7d2608-13c8-4244-98f6-978666bfeaba",
   "metadata": {
    "jp-MarkdownHeadingCollapsed": true,
    "tags": []
   },
   "source": [
    "## Aufgabe 2: Saugvermögen und Leitwert\n",
    "\n",
    "**Hinweise zu Aufgabe 1 finden in der Datei [Hinweise-Versuchsdurchfuehrung.md](https://gitlab.kit.edu/kit/etp-lehre/p2-praktikum/students/-/blob/main/Vakuum/doc/Hinweise-Versuchsdurchfuehrung.md).**\n",
    "\n",
    " - Untersuchen Sie das effektive Saugvermögen von DSP und TMP, sowie den Strömungsleitwert eines dünnen Rohrs. \n",
    " - Bearbeiten Sie hierzu die folgenden Aufgaben."
   ]
  },
  {
   "cell_type": "markdown",
   "id": "8265f1be-61c4-4334-be19-699e469c3398",
   "metadata": {
    "jp-MarkdownHeadingCollapsed": true,
    "tags": []
   },
   "source": [
    "### Aufgabe 2.1: Saugvermögen der DSP\n",
    "\n",
    "Evakuieren Sie die Apparatur mit Hilfe der DSP und stellen Sie die folgenden funktionalen Zusammenhänge des Druck jeweils **bei T1** geeignet graphisch dar:\n",
    " - Den Druck als Funktion der Zeit $p(t)$. \n",
    " - Das Saugvermögen als Funktion des Drucks $S(p)$.\n",
    " - Beachten Sie die **Hinweise zur Versuchsdurchführung** insbesondere zu diesem Aufgabenteil.  \n",
    "\n",
    "---"
   ]
  },
  {
   "cell_type": "markdown",
   "id": "13def5a7-a0e5-4099-8465-fe63f5f654e1",
   "metadata": {},
   "source": [
    "**Lösung:**"
   ]
  },
  {
   "cell_type": "markdown",
   "id": "e5171b20",
   "metadata": {},
   "source": [
    "#### Vorbereitung"
   ]
  },
  {
   "cell_type": "markdown",
   "id": "3b0d0bdd",
   "metadata": {},
   "source": [
    "Es wird über eine Zeitspanne von 5 Minuten in 5 Sekunden Intervalle den Messwert am Wärmeleitvakuumeter $T_1$ gemessen. Diese wird dann graphisch als $p(t)$ Diagramm aufgezeichnet. \n",
    "Anschließend wird das Saugvernögen bestimmt mithilfe der Gleichung\n",
    "$$\n",
    "\\ln\\left(\\frac{p}{p_0}\\right) = -\\frac SV \\left(t-t_0\\right)\n",
    "$$\n",
    "Umgeformt lautet sie dann:\n",
    "$$\n",
    "S = -\\frac{V}{(t-t_0)}\\cdot \\ln\\left(\\frac{p(t)}{p_0}\\right)\n",
    "$$\n",
    "\n",
    "wobei in der Gleichung $p(t)$ der gemmesene Druck, $p_0$ dem Anfgansdruck, $t_0$ die Anfangszeit und $V$ den Volumen des Apparates meinen.\n",
    "\n",
    "Die angaben zum Schlauch lauten\n",
    "$$\n",
    "\\begin{array}c\n",
    "\n",
    "l =\\dots mm \n",
    "&\n",
    "d =\\dots mm\n",
    "\\end{array}\n",
    "$$\n",
    "Womit sich das Volumen $V= $ berechnen lässt.\n",
    "\n",
    "\n",
    "Als Angabe zum Bauteil wird das Saugvermögen $S= 2.5\\frac{m^3}{h}$ angegeben."
   ]
  },
  {
   "cell_type": "markdown",
   "id": "e51e5b56",
   "metadata": {
    "vscode": {
     "languageId": "plaintext"
    }
   },
   "source": [
    "#### Durchführung"
   ]
  },
  {
   "cell_type": "markdown",
   "id": "d8458321",
   "metadata": {},
   "source": [
    "Die Messung erfolgt wie in der Vorbereitung bereits erwähnt an dem Vakuumeter $T_1$ und wird alle 5 Sekunden aufgezeichnet."
   ]
  },
  {
   "cell_type": "markdown",
   "id": "aec34c0c",
   "metadata": {},
   "source": [
    "#### Auswertung der Messdaten"
   ]
  },
  {
   "cell_type": "code",
   "execution_count": 1,
   "id": "d983e95d",
   "metadata": {},
   "outputs": [],
   "source": [
    "#Importing all needed libraries\n",
    "\n",
    "import numpy as np\n",
    "import matplotlib.pyplot as plt\n",
    "import kafe2\n",
    "import pandas as pd \n",
    "from IPython.display import display, Math"
   ]
  },
  {
   "cell_type": "code",
   "execution_count": 2,
   "id": "6da5c4f6",
   "metadata": {},
   "outputs": [],
   "source": [
    "# Creating the list of times we will need\n",
    "x = [i for i in range (301) if i%5 ==0]\n",
    "time = np.array(x)"
   ]
  },
  {
   "cell_type": "markdown",
   "id": "020dee50",
   "metadata": {},
   "source": [
    "#### Besprechung der Ergebnisse"
   ]
  },
  {
   "cell_type": "markdown",
   "id": "2a921a21",
   "metadata": {},
   "source": []
  },
  {
   "cell_type": "markdown",
   "id": "a8f37817",
   "metadata": {},
   "source": [
    "\n",
    "---"
   ]
  },
  {
   "cell_type": "markdown",
   "id": "3edf8c1a-8093-424d-b71c-ffed083c79a8",
   "metadata": {
    "jp-MarkdownHeadingCollapsed": true,
    "tags": []
   },
   "source": [
    "### Aufgabe 2.2: Leitwert eines dünnen Rohrs\n",
    "\n",
    " - Bei der Verbindungsleitung L [hier](https://gitlab.kit.edu/kit/etp-lehre/p2-praktikum/students/-/blob/main/Vakuum/figures/VakuumSkizze.png) handelt es sich im Originalaufbau um einen Metallwellschlauch. Tauschen Sie diesen gegen das bereitliegende etwa gleichlange dünne Metallrohr aus.\n",
    " - Bestimmen Sie die Drucke $p_{1}$ (bei T1) vor und $p_{2}$ (bei T2) hinter dem Rohr als Funktion der Zeit. \n",
    " - Bestimmen Sie aus den gewonnenen Daten den Leitwert des Rohrs als Funktion des Drucks.\n",
    "\n",
    "---"
   ]
  },
  {
   "cell_type": "markdown",
   "id": "824ddc4d-ac26-44c1-8c69-e90313d52617",
   "metadata": {},
   "source": [
    "**Lösung:**\n"
   ]
  },
  {
   "cell_type": "markdown",
   "id": "a7312d05",
   "metadata": {},
   "source": [
    "#### Vorbereitung"
   ]
  },
  {
   "cell_type": "markdown",
   "id": "a825f244",
   "metadata": {},
   "source": [
    "##### Gesetz von Hagen-Poiseuille\n"
   ]
  },
  {
   "cell_type": "markdown",
   "id": "1a9ab541",
   "metadata": {},
   "source": [
    "Bei einem Druckuntershied zwischen zwei Seiten eines Volumenelements, kommt es zu eine Strömung eines sich darin befindendes Fluids mit einer vom Druckdifferenz abhängige Kraft\n",
    "$$\n",
    "F =\\pi r^2\\left[\n",
    "    p\n",
    "    \\left(\n",
    "        x+\\mathrm dx\n",
    "    \\right)\n",
    "    -p(x)\n",
    "\\right]\n",
    "= \\pi r^2 \\mathrm dp\n",
    "$$\n",
    "\n",
    "Entgegen dieser Kraft wirkt auf die Strömung die folgende Reibung aufgrund der Viskosität des Fluids.  \n",
    "$$\n",
    "F_R = -\\eta A\\frac{\\mathrm dv}{\\mathrm dz}\n",
    "$$\n",
    "In einem Zylinder (wie hier in dem Versuch) wird die Ableitung nach $\\mathrm dz$ durch eine nach $\\mathrm dr$ ersetzt, somit erhalten wir die folgende Gleichung:\n",
    "$$\n",
    "F_R = -\\eta 2\\pi r\\;\\mathrm dx\\frac{\\mathrm dv}{\\mathrm dr}\n",
    "$$\n",
    "\n",
    "im stationären Fall ergeben die zwei Kräfte $F+F_R=0$ und die folgende Ortsableitung der Geschwindigkeit:\n",
    "$$\n",
    "\\frac{\\mathrm dv}{\\mathrm dr} = \\frac{r}{2\\eta}\\frac{\\mathrm dp}{\\mathrm dx}\n",
    "$$"
   ]
  },
  {
   "cell_type": "markdown",
   "id": "230d7a14",
   "metadata": {},
   "source": [
    "Durch die zwei Kräfte und resultiert dann ein Geschwindichkeitsprofil für unser FLuid:\n",
    "$$\n",
    "v(r)= \\int_R^r \\frac{r}{2\\eta}\\;\\frac{\\mathrm dp}{\\mathrm dx}\\;\\mathrm dr = \\frac{r^2-R^2}{4\\eta}\\;\\frac{\\mathrm dp}{\\mathrm dx}\n",
    "$$\n",
    "\n",
    "Im zylindrischen Körper ergibt sich dann die folgendes Volumendurchfluss:\n",
    "$$\n",
    "\\dot V=\\int_{0}^{2\\pi}\\int_{0}^{R}\\frac{r^2-R^2}{4\\eta}\\;\\frac{\\mathrm dp}{\\mathrm dx}r\\;\\mathrm d\\phi\\; \\mathrm dr\n",
    "= -\\frac{\\pi R^4}{8\\eta}\\;\\frac{\\mathrm dp}{\\mathrm dx}\n",
    "$$\n",
    "\n",
    "Schaut man sich dem Massenfluss nach dem Seperationsansatz an\n",
    "$$\n",
    "\\int_0^l p\\dot V\\;\\mathrm dx=-\\int_{p_{ein}}^{p_{aus}}\n",
    "\\frac{\\pi R^4}{8\\eta}p\\;\\mathrm dq\n",
    "$$ \n",
    "erhält man folgendes raus:\n",
    "$$\n",
    "p\\dot V= -\\frac{\\pi R^4}{8\\eta l}\\bar p\\,\\Delta p\n",
    "$$\n",
    "\n",
    "mit $\\bar p = \\frac{p_{aus}+p_{ein}}2$ und $\\,\\Delta p =p_{aus}-p_{ein}$"
   ]
  },
  {
   "cell_type": "markdown",
   "id": "da5e7083",
   "metadata": {},
   "source": [
    "##### Strömungsleitwert"
   ]
  },
  {
   "cell_type": "markdown",
   "id": "a935b9fa",
   "metadata": {},
   "source": [
    "Den Strömungsleitwert $L$ ist dann als der Proportionalitätsfaktor zwischen Saugleistung $S$ und und Druckdiferrenz $\\Delta p$ gegebegen und lautet\n",
    "$$\n",
    "L = \\frac{\\pi R^4\\bar p}{8\\eta l}\n",
    "$$\n",
    "\n",
    "In den <a href=\"https://gitlab.kit.edu/kit/etp-lehre/p2-praktikum/students/-/blob/main/Vakuum/doc/Hinweise-Vakuum-a.md\">Hinweisen</a> wird gezeigt, dass sich der Stömungsleitwert $L$, der Volumenfluss $\\dot V$, und $\\frac{\\mathrm dp}{\\mathrm dx}$ Analoge zur Stromstärke $I$, Spannung $U$ und der Elektrischeleitwert $\\sigma$ aus den Kirchhoffschen Regeln der E-Lehre sind.  "
   ]
  },
  {
   "cell_type": "markdown",
   "id": "6ee6e19a",
   "metadata": {},
   "source": [
    "##### Effektive Suagleistung"
   ]
  },
  {
   "cell_type": "markdown",
   "id": "8398c8a5",
   "metadata": {},
   "source": [
    "Da die DSP nicht direkt an dem Metallrohr verbunden ist, kann hier nicht mit dem Saugvermögen gearbeitet werden. Anstelle dessen wird das sogenante effektive Saugvermögen $S_{eff}$\n",
    "$$\n",
    "S_{eff} = \\left(\n",
    "    \\frac 1L+\\frac 1S\n",
    "\\right)^{-1}= \\frac{p_1}{p_2}S\n",
    "$$\n",
    "eingeführt. \n",
    "$S_{eff}$ ergibt sich durch die Serienschaltung der Leitungselemente.\n",
    "\n",
    "Formt man nach dem Stromleitwert um, erhält man dann folgende Gleichung:\n",
    "$$\n",
    "L = \\frac{S\\,S_{eff}}{S-S_{eff}} = \\frac{p_1}{p_2-p_1}S\n",
    "$$\n",
    "\n",
    "Dabei sind $p_1$ und $p_2$ die Messergebnisse von $T_1$ und $T_2$.\n",
    "\n",
    "---\n",
    "\n",
    "$$L[\\mathrm{l/s}] = 12.1\\frac{d^{3}}{\\ell}\\cdot\\frac{1+203\\, d\\, \\overline{p} + 2.78\\times 10^{3}\\,\\left(d\\,\\overline{p}\\right)^{2}}{1+237\\, d\\, \\overline{p}}$$\n",
    "Ist eine Theoretische Gleichung mitder man das Resultat vergleichen kann."
   ]
  },
  {
   "cell_type": "markdown",
   "id": "d56f4aae",
   "metadata": {},
   "source": [
    "#### Durchführung"
   ]
  },
  {
   "cell_type": "markdown",
   "id": "15a53dd4",
   "metadata": {},
   "source": [
    "Es wird über eine Zeitspanne von $5\\,\\mathrm{min}$ der Druck bei $T_1$ und $T_2$ gemessen. Diese werden dann wie davor bei [Aufgabe 2.1](#aufgabe-21-saugvermögen-der-dsp) als $p(t)$-Diagramm dargestellt."
   ]
  },
  {
   "cell_type": "markdown",
   "id": "f784c5e8",
   "metadata": {},
   "source": [
    "#### Auswertung"
   ]
  },
  {
   "cell_type": "markdown",
   "id": "8d0ddafe",
   "metadata": {},
   "source": []
  },
  {
   "cell_type": "markdown",
   "id": "806a059e",
   "metadata": {},
   "source": [
    "\n",
    "---"
   ]
  },
  {
   "cell_type": "markdown",
   "id": "0ba91206-e004-4c1a-b373-2e67f979a67c",
   "metadata": {
    "jp-MarkdownHeadingCollapsed": true,
    "tags": []
   },
   "source": [
    "### Aufgabe 2.3: Saugvermögen der TMP\n",
    "\n",
    " - Nehmen Sie die TMP in Betrieb und bestimmen Sie analog zu **Aufgabe 2.1** das Saugvermögen der TMP als Funktion des Drucks bei IM. \n",
    " - Stellen Sie S(p) für die DSP und die TMP in einem Diagramm graphisch dar und diskutieren Sie Ihr Ergebnis.\n",
    " - Schätzen Sie die Kraft ab, mit der die Glasglocke auf die Gummidichtung gedrückt wird.\n",
    "\n",
    "---"
   ]
  },
  {
   "cell_type": "markdown",
   "id": "cc29074d-9701-4ec1-ae6a-79d9e4b6f6e9",
   "metadata": {},
   "source": [
    "**Lösung:**\n"
   ]
  },
  {
   "cell_type": "markdown",
   "id": "9bc6028b",
   "metadata": {},
   "source": [
    "#### Vorbereitung"
   ]
  },
  {
   "cell_type": "markdown",
   "id": "36cc9e62",
   "metadata": {},
   "source": [
    "Um das Saugvermögen der TMP zu bestimmen wird zur Messung die IM verwendet.  \n",
    "\n",
    "Zuerst wird die Apparatur belüftet bis sich ein druck von $\\sim 0.2\\mathrm{mbar}$ einstellt.  \n",
    "Danach wird dies mit der DSP auf einem Druck von $\\sim0.08\\mathrm{mbar}$ abgepumpt. Nach erreichen diesem Drucks wird die TMP eingeschaltet.\n",
    "\n",
    "Am IM wird dann alle $10\\mathrm{sec}$ der Druck aufgezeichnet.\n",
    "\n",
    "Andschließend soll ein $S(p)$-Diagramm analog zu dem in [Aufgabe 2.1](#aufgabe-21-saugvermögen-der-dsp) erstellt werden damit die zwei $S(p)$-Diagramme anschließend verglichen werden."
   ]
  },
  {
   "cell_type": "markdown",
   "id": "0baf6f58",
   "metadata": {},
   "source": [
    "#### Durchführung"
   ]
  },
  {
   "cell_type": "markdown",
   "id": "c62e40a4",
   "metadata": {},
   "source": [
    "Es wird wie in der Vorbereitung bereits beschrieben den Versuch durchgefürht.  \n",
    "Im laufe des Versuches soll auch der Ventil $V_3$ geöffnet werden. "
   ]
  },
  {
   "cell_type": "markdown",
   "id": "072dfb89",
   "metadata": {},
   "source": [
    "#### Auswertung"
   ]
  },
  {
   "cell_type": "markdown",
   "id": "16ae9143",
   "metadata": {},
   "source": []
  },
  {
   "cell_type": "markdown",
   "id": "593a6e74",
   "metadata": {},
   "source": [
    "\n",
    "---"
   ]
  },
  {
   "cell_type": "markdown",
   "id": "c7b52bb9-ae42-4298-b14a-141cea21fffb",
   "metadata": {
    "jp-MarkdownHeadingCollapsed": true,
    "tags": []
   },
   "source": [
    "## Aufgabe 3: Experimente im Vakuum\n",
    "\n",
    "**Hinweise zu Aufgabe 1 finden in der Datei [Hinweise-Versuchsdurchfuehrung.md](https://gitlab.kit.edu/kit/etp-lehre/p2-praktikum/students/-/blob/main/Vakuum/doc/Hinweise-Versuchsdurchfuehrung.md).**\n",
    "\n",
    " - Für diese Aufgabe führen Sie einige einfache Experimente im Vakuum durch. \n",
    " - Bearbeiten Sie hierzu die folgenden Aufgaben. "
   ]
  },
  {
   "cell_type": "markdown",
   "id": "6e2a190c-eb0d-4a60-83e5-d9118e9ccefc",
   "metadata": {
    "jp-MarkdownHeadingCollapsed": true,
    "tags": []
   },
   "source": [
    "### Aufgabe 3.1: Statische Kalibration von T3\n",
    "\n",
    "Führen Sie mit Hilfe des Referenzvolumes RV eine statische Kalibration des Vakuummeters T3 durch.\n",
    "\n",
    "---"
   ]
  },
  {
   "cell_type": "markdown",
   "id": "8dc78b54-7666-4457-ad0b-0716ad3a37fa",
   "metadata": {},
   "source": [
    "**Lösung:**"
   ]
  },
  {
   "cell_type": "markdown",
   "id": "aea7f25a",
   "metadata": {},
   "source": [
    "#### Vorbereitung"
   ]
  },
  {
   "cell_type": "markdown",
   "id": "e50cc049",
   "metadata": {},
   "source": [
    "Um den Druck nach jeder itteration zu bestimmen, wird das Boyle-Mariottesche Gesetz verwendet. Bei einen konstanten Temperatur lautet dies:\n",
    "$$\n",
    "p_1V_1=p_2V_2\n",
    "$$\n",
    "\n",
    "Im Versuch wird p_1 als Atmospharendruck $p_0$ und $V_1$ als RV eingesetzt. \n",
    "\n",
    "Der Verdichtungsverhältnis des Systems wird durch die Gleichung\n",
    "$$\n",
    "\\epsilon =\\frac{\\Delta p}{p_0}\n",
    "$$\n",
    "gegeben.  \n",
    "Es wird ein linearer Zusammenhang vermutet. Aber aufgrund von der Leckrate des Aufbaus, wird dies möglicherweise nicht der Fall sein.\n",
    "\n",
    "Es gilt folgende Veränderung des Drucks nach jeder Iteration:\n",
    "\n",
    "$$\n",
    "\\begin{split}\n",
    "&\\bigl(p_{\\mathrm{RZ}}+\\Delta p\\bigr)\\,\\bigl(V_{\\mathrm{RZ}}+V_{\\mathrm{RV}}\\bigr) = \\bigl(n_{\\mathrm{RZ}}+n_{\\mathrm{RV}}\\bigr)\\,R\\,T \\\\\n",
    "&\\\\\n",
    "&\\text{mit:}\\\\\n",
    "&\\\\\n",
    "&n_{\\mathrm{RZ}} = \\frac{p_{\\mathrm{RZ}}\\,V_{\\mathrm{RZ}}}{R\\,T}\\qquad\n",
    "n_{\\mathrm{RV}} = \\frac{p_{0}\\,V_{\\mathrm{RV}}}{R\\,T} \\\\\n",
    "&\\\\\n",
    "&\\bigl(p_{\\mathrm{RZ}}+\\Delta p\\bigr)\\,\\bigl(V_{\\mathrm{RZ}}+V_{\\mathrm{RV}}\\bigr) = p_{\\mathrm{RZ}}\\,V_{\\mathrm{RZ}}+p_{0}\\,V_{\\mathrm{RV}}\\\\\n",
    "&\\\\\n",
    "&V_{\\mathrm{RV}} = \\frac{\\Delta p\\,V_{\\mathrm{RZ}}}{p_{0}-\\left(p_{\\mathrm{RZ}}+\\Delta p\\right)}\\approx\\frac{\\Delta p\\,V_{\\mathrm{RZ}}}{p_{0}} \\\\\n",
    "&\\\\\n",
    "&\\epsilon=\\frac{\\Delta p}{p_{0}}\\approx\\frac{V_{\\mathrm{RV}}}{V_{\\mathrm{RZ}}} \\\\\n",
    "\\end{split}\n",
    "$$"
   ]
  },
  {
   "cell_type": "markdown",
   "id": "370c5329",
   "metadata": {},
   "source": [
    "#### Durchführung"
   ]
  },
  {
   "cell_type": "markdown",
   "id": "04029ae0",
   "metadata": {},
   "source": [
    "Es werden $V_3$ geschlossen und $B_2$.  \n",
    "Danach wird RZ mithife beider Pumpen (DSP & TMP) evakuiert.\n",
    "\n",
    "Nachdem ein Druck von $p\\lesssim 10^{-4}mbar$ erreicht wird, wird $V_2$ geschlossen um die Pumpe abzutrennen.  \n",
    "\n",
    "1. Nun werden $B_2$ geschlossen und $V_3$ geöffnet. Nachdem sich der Druck dann einstellt, wird dies bei $T_3$ abgelesen.\n",
    "\n",
    "2. Nachdem dies abgelesen wird, wird daraufhin $V_3$ geschlossen und $B_2$.  \n",
    "Daraufhin stellt sich dann der Atmospharendruck $p_0$ im Referenzvolumen (RV) ein.\n",
    "\n",
    "Diese zwei Schritte werden stehts wiederholt bis sich im RZ ein Druck von $\\sim \\mathrm{80mbar}$ einstellt.\n",
    "\n",
    "Der Verlauf des Drucks wird dann in der Auswertung als Funktion der Iterationen $i$ dargestellt.  \n",
    "Daruas wird dann auch das Verdichtungsverhältnis bestimmt."
   ]
  },
  {
   "cell_type": "markdown",
   "id": "63d02280",
   "metadata": {},
   "source": [
    "#### Auswertung"
   ]
  },
  {
   "cell_type": "code",
   "execution_count": null,
   "id": "605c723f",
   "metadata": {},
   "outputs": [],
   "source": []
  },
  {
   "cell_type": "markdown",
   "id": "d789aa54",
   "metadata": {},
   "source": [
    "---"
   ]
  },
  {
   "cell_type": "markdown",
   "id": "79a35b76-2580-482e-b90b-a53977b5e53f",
   "metadata": {
    "jp-MarkdownHeadingCollapsed": true,
    "tags": []
   },
   "source": [
    "### Aufgabe 3.2: Elektrische Durchschlagfestigkeit\n",
    "\n",
    " - Bestimmen Sie die elektrische Durchschlagfestigkeit der KE als Funktion des Umgebungsdrucks in Luft. \n",
    " - Diese Aufgabe kann nur an den Apparaturen 41 und 42 durchgeführt werden. \n",
    "\n",
    "---"
   ]
  },
  {
   "cell_type": "markdown",
   "id": "3be7af57-b3c2-4f1e-a028-a2d2920887f0",
   "metadata": {},
   "source": [
    "**Lösung:**"
   ]
  },
  {
   "cell_type": "markdown",
   "id": "6139553e",
   "metadata": {},
   "source": [
    "#### Vorbereitung"
   ]
  },
  {
   "cell_type": "markdown",
   "id": "a7fdb27a",
   "metadata": {},
   "source": [
    "Bei dem anlegen einer hinreichend großen Spannung zwischen zwei Körper, Entladen sich diese duch einen Funken.  \n",
    "Im Versuch wird dieses Phänomen in Abhängigkeit vom anliegenden Druck geprüft.\n",
    "\n",
    "Der Entladungsprozess ist vom [Druck abhängig](https://de.wikipedia.org/wiki/Durchschlagfestigkeit). Dementsprechend, wird vermutet, dass die dazu benötigte Spannung mit dem Druck sinkent wird.\n",
    "\n",
    "Es werden zwei Entladungsprozesse erwartet:\n",
    "- Funkenentladung wie sie unter normalen Bedingungen gesehen wird (bsp. Blitze)\n",
    "- Glimmentladung bei niedrigem Druck\n",
    "\n",
    "Die beobachtbare Glimmladung ist kann nur bei niedrigem Druck entstehen, da es im Vakuum eine geringe Menge and Luftteilchen gibt und somit die geringere Wahrscheinlichkeit, dass ein Elektron mit einem dieser Teilchen stößt.\n",
    "\n",
    "Zur Bestimmung der mittleren freien Weglänge $\\lambda$ wird folgende formel verwendet:\n",
    "\n",
    "\\begin{equation*}\n",
    "\\begin{split}\n",
    "&\\lambda = \\frac{1}{\\sigma\\,n} = \\frac{k_{B}\\,T}{\\sigma\\,p_{\\mathrm{RZ}}};\\\\\n",
    "&\\\\\n",
    "&\\text{mit:}\\\\\n",
    "&\\\\\n",
    "&\\sigma= \\pi\\,r^{2};\\qquad r=\\sqrt[3]{\\frac{3}{4\\pi}V};\n",
    "\\qquad V= \\frac{M_{m}\\,f}{N_{A}\\,\\rho_{\\mathrm{fl}}},\\\\\n",
    "\\end{split}\n",
    "\\end{equation*}\n",
    "\n",
    "wobei $N_{A}$ der [Avogradro-Konstanten](https://de.wikipedia.org/wiki/Avogadro-Konstante),  $M_{m}$ der [molaren Masse](https://de.wikipedia.org/wiki/Molare_Masse), $\\rho_{\\mathrm{fl}}=807\\ \\mathrm{g/\\ell}$ der Dichte von flüssigem $\\mathrm{N}_{2}$ und $f\\approx0.74$ als Füllfaktor."
   ]
  },
  {
   "cell_type": "markdown",
   "id": "4d464477",
   "metadata": {},
   "source": [
    "#### Durchführung"
   ]
  },
  {
   "cell_type": "markdown",
   "id": "4970b9b5",
   "metadata": {},
   "source": [
    "Das RZ wird zuerst mit dem DSP evakuiert. Stehts nach erreichen des gewünschten Drucks, wird dann $V_1$ geschlossen, damit der Druck im laufe der Messung konstant bleibt.\n",
    "\n",
    "Die Messung wird zuerst mit geöffnete Ventile bei Atmosphärendruck durchgefürt. Danach wird der Druck zwischen den einzelnen Messungen stehts halbiert.\n",
    "\n",
    "Ab einem Druck von $\\sim 0.08\\mathrm{mbar}$ wird dann die TMP ebenfalls angeschaltet um einen Druck von $p\\lesssim 10^{-4}\\mathrm{mbar}$ erreicht wird.  \n",
    "Anschließend wird dann $V_2$ geschlossen.  \n",
    "Aufgrundder Leckrate des Vakuums wird der Druck stehtig aufsteigen. Während dies geschieht, werden weitere Messwerte aufgezeichnet mit der Bedingung, dass die Spannung $U\\leq 9\\mathrm{kV}$ bleibt.  \n",
    "Diese Messreihe endet beim erreichen des Drucks $p\\sim 0.08\\mathrm{mbar}$"
   ]
  },
  {
   "cell_type": "markdown",
   "id": "e7b929fc",
   "metadata": {},
   "source": [
    "#### Auswertung"
   ]
  },
  {
   "cell_type": "code",
   "execution_count": null,
   "id": "9ea35725",
   "metadata": {},
   "outputs": [],
   "source": [
    "# Defining needed constants\n",
    "k_B = 1.380649E-23 # in J pro K\n",
    "T = 293.15 # in K\n",
    "N_A = 6.02214076E23 # pro Mol\n",
    "M_m = 28.013 # von Stickstoff in units \n",
    "\n",
    "r =\n",
    "V= "
   ]
  },
  {
   "cell_type": "markdown",
   "id": "eb357c2b",
   "metadata": {},
   "source": [
    "\n",
    "---"
   ]
  },
  {
   "cell_type": "markdown",
   "id": "21028425-06e0-4e28-994a-187646cc8ee1",
   "metadata": {
    "jp-MarkdownHeadingCollapsed": true,
    "tags": []
   },
   "source": [
    "### Aufgabe 3.3: Aufdampfen von Indium\n",
    "\n",
    "Dampfen Sie mit Hilfe einer Schablone bei zwei verschiedenen Drucken Indium auf eine Plexiglasplatte auf.\n",
    "\n",
    "---"
   ]
  },
  {
   "cell_type": "markdown",
   "id": "b849f76a-0ffe-4b63-bf83-cb71bf57a012",
   "metadata": {},
   "source": [
    "**Lösung:**"
   ]
  },
  {
   "cell_type": "markdown",
   "id": "4b93ed02",
   "metadata": {},
   "source": [
    "#### Vorbereitung"
   ]
  },
  {
   "cell_type": "markdown",
   "id": "bffb3dc3",
   "metadata": {},
   "source": [
    "Es wird nun ein Indium Fleck bei einem Druck von$dots$\n",
    "- $p\\leq 10^{-4}\\mathrm{mbar}$\n",
    "- $p\\leq10^{-3}\\mathrm{mbar}$\n",
    "$\\dots$ aufgedampft.\n",
    "\n",
    "Ähnlich wie bei Aufgabe 3.2 wird auch hier Aufgrund der unterschiedlichen mittleren freien Weglänge $\\lambda$ von verschiedene Ergebnisse ausgegangen."
   ]
  },
  {
   "cell_type": "markdown",
   "id": "597822bd",
   "metadata": {},
   "source": [
    "#### Durchführung"
   ]
  },
  {
   "cell_type": "markdown",
   "id": "ce2f7620",
   "metadata": {},
   "source": [
    "Das RZ wird zu begin mithilfe der TMP Evakuiert bis der herschende Druck auf $\\sim 10^{-4}$ fällt. Danach wird der Ventil $V_2$ geschlossen und der erste Fleck bei diesem Druck aufgedampft.\n",
    "\n",
    "Als nächstest wird etwas Luft durch $B_2 eingelassen damit ein Vakuum mit $p\\sim 10^{-3}\\mathrm{mbar} erreicht wird. Der zweite Fleck wird dann unter diesem Druck aufgedampft.\n",
    "\n",
    "Am ende wird die Randschärfe der jeweiligen Flecken untersucht."
   ]
  },
  {
   "cell_type": "markdown",
   "id": "36d67e6f",
   "metadata": {},
   "source": [
    "#### Auswertung"
   ]
  },
  {
   "cell_type": "markdown",
   "id": "7c9f6b4a",
   "metadata": {},
   "source": []
  },
  {
   "cell_type": "markdown",
   "id": "730dce6d",
   "metadata": {},
   "source": [
    "\n",
    "---"
   ]
  }
 ],
 "metadata": {
  "kernelspec": {
   "display_name": "Python 3 (ipykernel)",
   "language": "python",
   "name": "python3"
  },
  "language_info": {
   "codemirror_mode": {
    "name": "ipython",
    "version": 3
   },
   "file_extension": ".py",
   "mimetype": "text/x-python",
   "name": "python",
   "nbconvert_exporter": "python",
   "pygments_lexer": "ipython3",
   "version": "3.11.9"
  }
 },
 "nbformat": 4,
 "nbformat_minor": 5
}
