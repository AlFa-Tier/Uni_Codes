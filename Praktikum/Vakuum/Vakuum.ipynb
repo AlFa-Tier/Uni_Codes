{
 "cells": [
  {
   "cell_type": "markdown",
   "id": "89066e31-faf3-4ac9-a78a-a364e066ca84",
   "metadata": {},
   "source": [
    "# Fakultät für Physik\n",
    "\n",
    "## Physikalisches Praktikum P2 für Studierende der Physik\n",
    "\n",
    "Versuch P2-41, 42, 22 (Stand: April 2024)\n",
    "\n",
    "[Raum F1-19](https://labs.physik.kit.edu/img/Praktikum/Lageplan_P2.png)\n",
    "\n",
    "\n",
    "\n",
    "# Vakuum"
   ]
  },
  {
   "cell_type": "markdown",
   "id": "27cf71fa-c60c-45ed-a885-790064eb1939",
   "metadata": {},
   "source": [
    "Name: Alhelo Vorname: Fadi E-Mail: uylex@student.kit.edu\n",
    "\n",
    "\\begin{equation*}\n",
    "\\begin{split}\n",
    "&\\\\\n",
    "&\\\\\n",
    "\\end{split}\n",
    "\\end{equation*}\n",
    "\n",
    "Name: Ji Vorname: Tony E-Mail: uvsvo@student.kit.edu\n",
    "\n",
    "\\begin{equation*}\n",
    "\\begin{split}\n",
    "&\\\\\n",
    "&\\\\\n",
    "&\\\\\n",
    "\\end{split}\n",
    "\\end{equation*}\n",
    "\n",
    "Gruppennummer: Do-14\n",
    "\n",
    "\\begin{equation*}\n",
    "\\begin{split}\n",
    "&\\\\\n",
    "&\\\\\n",
    "&\\\\\n",
    "\\end{split}\n",
    "\\end{equation*}\n",
    "\n",
    "\n",
    "Betreuer: __________________\n",
    "\n",
    "\\begin{equation*}\n",
    "\\begin{split}\n",
    "&\\\\\n",
    "&\\\\\n",
    "&\\\\\n",
    "\\end{split}\n",
    "\\end{equation*}\n",
    "\n",
    "Versuch durchgeführt am: __________________"
   ]
  },
  {
   "cell_type": "markdown",
   "id": "a1410700-9bc1-4cc9-8192-c9aab9890af9",
   "metadata": {},
   "source": [
    "---\n",
    "\n",
    "**Beanstandungen zu Protokoll Version _____:**\n",
    "\n",
    "\\begin{equation*}\n",
    "\\begin{split}\n",
    "&\\\\\n",
    "&\\\\\n",
    "&\\\\\n",
    "&\\\\\n",
    "&\\\\\n",
    "&\\\\\n",
    "&\\\\\n",
    "&\\\\\n",
    "&\\\\\n",
    "&\\\\\n",
    "\\end{split}\n",
    "%\\text{\\vspace{10cm}}\n",
    "\\end{equation*}\n",
    "\n",
    "<br>\n",
    "Testiert am: __________________ Testat: __________________"
   ]
  },
  {
   "cell_type": "markdown",
   "id": "9f649150-8b74-49d3-83fb-1facbc06934d",
   "metadata": {},
   "source": [
    "# Durchführung\n",
    "\n",
    "**Die Anleitung zu diesem Versuch finden Sie [hier](https://gitlab.kit.edu/kit/etp-lehre/p2-praktikum/students/-/blob/main/Vakuum/README.md).**"
   ]
  },
  {
   "cell_type": "markdown",
   "id": "f6193e61-35b0-4147-ba5b-cc9369e5b192",
   "metadata": {
    "jp-MarkdownHeadingCollapsed": true,
    "tags": []
   },
   "source": [
    "## Aufgabe 1: Versuchsaufbau\n",
    "\n",
    "**Hinweise zu Aufgabe 1 finden in der Datei [Hinweise-Versuchsdurchfuehrung.md](https://gitlab.kit.edu/kit/etp-lehre/p2-praktikum/students/-/blob/main/Vakuum/doc/Hinweise-Versuchsdurchfuehrung.md).**\n",
    "\n",
    " * Machen Sie sich mit dem Versuchsaufbau vertraut. \n",
    " * Bearbeiten Sie hierzu die folgenden Aufgaben."
   ]
  },
  {
   "cell_type": "markdown",
   "id": "64fe330f-c7d1-41e0-91af-a4b379848e20",
   "metadata": {
    "jp-MarkdownHeadingCollapsed": true,
    "tags": []
   },
   "source": [
    "### Aufgabe 1.1: Orientierung und Beschreibung des Versuchsaufbaus\n",
    "\n",
    " * Verschaffen Sie sich einen Überblick über die verwendeten Apparaturen und beschreiben Sie sie in eigenen Worten.  \n",
    " * Verfolgen Sie hierzu die Leitungen und identifizieren Sie die verwendeten Elemente in der zugehörigen Skizze. \n",
    "   \n",
    "---"
   ]
  },
  {
   "cell_type": "markdown",
   "id": "32ef6302-1c01-40d7-9c83-ea5c664f14a0",
   "metadata": {},
   "source": [
    "**Lösung:**\n",
    "\n",
    "<img src='figures/VakuumSkizze.png' alt='Skizze des Versuchsaufbaus' style='width:1100px;height:auto'>\n",
    "\n",
    "**Abbildung 1.1.1:** Skizze des Aufbaus\n"
   ]
  },
  {
   "cell_type": "markdown",
   "id": "c3f58574",
   "metadata": {},
   "source": [
    "#### Überblick der Funktionen der aufgelisteten Apparatur-Elemente und Verfolgung der Leitungen\n",
    "\n",
    "Das Vakuumsystem besteht aus mehreren wichtigen Apparaturen, die jeweils spezifische Funktionen erfüllen.\n",
    "\n",
    "Zu den Hauptbestandteilen gehören die **Wärmeleitvakuummeter** ($T_1, T_2, T_3$), die den Druck im Vakuumsystem anhand der Wärmeleitfähigkeit des Gases messen. Je niedriger der Druck, desto weniger Wärme wird durch das Gas geleitet. Weiterhin gibt es das **Ionisationsvakuummeter** (IM), das sehr niedrige Drücke misst (ab etwa eine größenordnung von $10^{-3}$), indem es die Ionisation von Gasmolekülen durch Elektronen verwendet. Die Anzahl der erzeugten Ionen ist proportional zum Druck.\n",
    "\n",
    "Die **Vakuumventile** ($V_1, V_2, V_3$) regulieren den Fluss von Gasen im Vakuumsystem und können geöffnet oder geschlossen werden, um verschiedene Teile des Systems zu isolieren oder zu verbinden. Die **Belüftungsventile** ($B_1, B_2$) ermöglichen es, Luft in das System zu lassen, um es zu belüften und wieder auf Atmosphärendruck zu bringen.\n",
    "\n",
    "Die **Turbomolekularpumpe** ($TMP$) erzeugt ein hohes Vakuum, indem sie Gasmoleküle mechanisch mit hohen Geschwindigkeiten herauspumpt, und ist für die Erzeugung sehr niedriger Drücke geeignet. Die **Drehschieberpumpe** ($DSP$) wird oft in Kombination mit der Turbomolekularpumpe verwendet, um ein grobes Vakuum zu erzeugen und als Vorpumpe für die $TMP$ zu dienen.\n",
    "\n",
    "Der **Rezipient** ($RZ$) ist das Hauptgefäß des Systems, in dem das Vakuum erzeugt und aufrechterhalten wird. Hier finden auch Experimente oder Prozesse statt, die ein Vakuum erfordern. Das **Referenzvolumen** ($RV$) dient als bekanntes Volumen zur Kalibrierung oder zum Vergleich des Vakuumdrucks.\n",
    "\n",
    "Das **Verdampferschiffchen** ($VS$) wird verwendet, um Materialien zu verdampfen, die dann im Vakuum abgeschieden oder analysiert werden können. Die **Kugelelektroden** ($KE$) dienen der Erzeugung von elektrischen Feldern oder Strömen im Vakuum, was für manche Experimente von Relevanz ist. Schließlich gibt es noch das austauschbare **Leitungselement** ($L$), ein flexibles Element, das ausgetauscht werden kann, um verschiedene Teile des Systems zu verbinden.\n"
   ]
  },
  {
   "cell_type": "markdown",
   "id": "448b794e",
   "metadata": {},
   "source": [
    "\n",
    "#### Überbilick der Leitungen\n",
    "\n",
    "Der Startpunkt ist der Rezipient ($RZ$), in dem sich die Verdampferschiffchen ($VS$) und Kugelelektroden ($KE$) befinden. Der Rezipient ist zudem mit einem Ionisationsvakuummeter ($IM$) verbunden. Von $RZ$ führen zwei Leitungen: eine zu einem Vakuumventil ($V_2$) und eine zu einem Vakuumventil ($V_3$).\n",
    "\n",
    "Die Leitung von $V_3$ führt weiter zum Referenzvolumen ($RV$), dem Belüftungsventil ($B_2$) und dem Wärmeleitvakuummeter ($T_3$).  \n",
    "Die Leitung von $V_2$ hingegen führt zur Turbomolekularpumpe ($TMP$). Von $TMP$ führt eine Leitung zu einem austauschbaren Leitungselement ($L$). Nach $L$ kommt ein weiteres Vakuumventil ($V_1$).\n",
    "\n",
    "Von $V_1$ aus gibt es drei verbundene Elemente: ein Belüftungsventil ($B_1$), das Wärmeleitvakuummeter ($T_1$) und die Drehschieberpumpe ($DSP$)."
   ]
  },
  {
   "cell_type": "markdown",
   "id": "660733e2-8145-4f32-9654-08c0f45b56b9",
   "metadata": {
    "jp-MarkdownHeadingCollapsed": true,
    "tags": []
   },
   "source": [
    "### Aufgabe 1.2: Gasentladung (Demonstrationsversuch)\n",
    "\n",
    " * Schalten Sie das Hochspannungsgerät zur Erzeugung der Gasentladungen ein.\n",
    " * Evakuieren Sie RZ und die Gasentladungsröhre gemeinsam mit Hilfe der DSP. \n",
    " * Senken Sie den Druck kontinuierlich, bis die Gasentladung erlischt. \n",
    " * Skizzieren und beschreiben Sie die Gasentladung in Abhängigkeit vom Gasdruck. \n",
    "\n",
    "---"
   ]
  },
  {
   "cell_type": "markdown",
   "id": "dcb3d760-7527-4b14-b5f5-ced25fb0258a",
   "metadata": {},
   "source": [
    "**Lösung:**"
   ]
  },
  {
   "cell_type": "markdown",
   "id": "bdce7798",
   "metadata": {},
   "source": [
    "#### Durchführung"
   ]
  },
  {
   "cell_type": "markdown",
   "id": "56893d6c",
   "metadata": {},
   "source": [
    "Es wird eine Gasentladungsröhre mithilfe einer DSP eveakuiert.  \n",
    "An beiden Enden der Gasentladunsröher wird dann eine hohe Spannung angelegt.\n",
    "\n",
    "Es gibt insgesamt 3 Zustände indem sich das System dann in Abhängigkeit zum Druck befindet.#\n",
    "\n",
    "Der erste Zustand ist bereits am Anfang zu sehen. Hier ist noch nichts visuelle zu erkennen.\n",
    "\n",
    "Im laufe des Abpumpens geht die Röhre in den zweiten Zustand über. In diesem zustand wird die Röhre von einem Leutchten durchsetzt, welches von oben anfängt und sich anschließend nach unten ausbreitet. Es ist keine Struktur im Leuchten zu erkennen.\n",
    "\n",
    "<section>\n",
    "    <img src='Messung/Röhre_2.jpg' alt='Zweiter Zustand der Röhre' style='height:600px'>\n",
    "    <p>\n",
    "        <strong>Abbildung 1.2.1:</strong> Zweiter Zustand der Röhre\n",
    "    </p>\n",
    "</section>\n",
    "<br>\n",
    "<section>\n",
    "    <p>\n",
    "        Der dritte Zustand wird erreicht wenn der Druck noch weiter sinkt. In diesem Zustand bilden sich leuchtende Scheiben mit dunkle Stellen dazwischen. Der in Abbildung 1.2.2 zu sehende Zustand entspricht diese beobachtung.<br>\n",
    "        <br>\n",
    "        Mit Abnehmendem Druck wird diese Struktur schärfer.<br> Dies liegt daran, dass diese Struktur mit der mittleren freien Weglänge zusammenhängt. <br>\n",
    "        Bei hoherem Druck gibt es noch viel Kollision zwischen den beschleunigten Elektronen und die Lust Teilchen. Mit abnehmendem Druck sinkt die Anzahl an Teilchem im Volumen und somit kommt es auch zu eine größere mittlere freie Weglänge und somit zu eine längere Strecke, wo sich ein Elektron beschleunigt bevor es erneut zur Kollision kommt.<br>\n",
    "        Bei dem verkürzen der Weglängen (erhöhen des Drucks) kommt es zu mehr Kolisionen in der Röhre und somit zu einem sinken der Schärfe bis die einzelne Bereiche ineinander übergehen.<br>\n",
    "        <br>\n",
    "        Die Position der Scheiben ist Spannungsunabhängig.<br>\n",
    "        Durch das ändern der Spannung wird die Helligkeit der einzelnen Scheiben beinflüsst.\n",
    "        Die Entstehung des Musters lässt sich hingegen damit erklären, dass sich die mittlere freie Weglänge erklären.\n",
    "    </p>\n",
    "<section>\n",
    "<section>\n",
    "    <img src='Messung/Röhre_3.jpg' alt='Dritter Zustand der Röhre' style='height:600px'>\n",
    "    <p>\n",
    "    <strong>Abbildung 1.2.2:</strong> Dritter Zustand der Röhre\n",
    "    </p>\n",
    "</section>"
   ]
  },
  {
   "cell_type": "markdown",
   "id": "c7769307",
   "metadata": {},
   "source": [
    "---"
   ]
  },
  {
   "cell_type": "markdown",
   "id": "6d7d2608-13c8-4244-98f6-978666bfeaba",
   "metadata": {
    "jp-MarkdownHeadingCollapsed": true,
    "tags": []
   },
   "source": [
    "## Aufgabe 2: Saugvermögen und Leitwert\n",
    "\n",
    "**Hinweise zu Aufgabe 1 finden in der Datei [Hinweise-Versuchsdurchfuehrung.md](https://gitlab.kit.edu/kit/etp-lehre/p2-praktikum/students/-/blob/main/Vakuum/doc/Hinweise-Versuchsdurchfuehrung.md).**\n",
    "\n",
    " - Untersuchen Sie das effektive Saugvermögen von DSP und TMP, sowie den Strömungsleitwert eines dünnen Rohrs. \n",
    " - Bearbeiten Sie hierzu die folgenden Aufgaben."
   ]
  },
  {
   "cell_type": "markdown",
   "id": "8265f1be-61c4-4334-be19-699e469c3398",
   "metadata": {
    "jp-MarkdownHeadingCollapsed": true,
    "tags": []
   },
   "source": [
    "### Aufgabe 2.1: Saugvermögen der DSP\n",
    "\n",
    "Evakuieren Sie die Apparatur mit Hilfe der DSP und stellen Sie die folgenden funktionalen Zusammenhänge des Druck jeweils **bei T1** geeignet graphisch dar:\n",
    " - Den Druck als Funktion der Zeit $p(t)$. \n",
    " - Das Saugvermögen als Funktion des Drucks $S(p)$.\n",
    " - Beachten Sie die **Hinweise zur Versuchsdurchführung** insbesondere zu diesem Aufgabenteil.  \n",
    "\n",
    "---"
   ]
  },
  {
   "cell_type": "markdown",
   "id": "13def5a7-a0e5-4099-8465-fe63f5f654e1",
   "metadata": {},
   "source": [
    "**Lösung:**"
   ]
  },
  {
   "cell_type": "markdown",
   "id": "e5171b20",
   "metadata": {},
   "source": [
    "#### Vorbereitung"
   ]
  },
  {
   "cell_type": "markdown",
   "id": "3b0d0bdd",
   "metadata": {},
   "source": [
    "Es wird über eine Zeitspanne von 5 Minuten in 5 Sekunden Intervalle den Messwert am Wärmeleitvakuumeter $T_1$ gemessen. Diese wird dann graphisch als $p(t)$ Diagramm aufgezeichnet. \n",
    "Anschließend wird das Saugvernögen bestimmt mithilfe der Gleichung\n",
    "$$\n",
    "\\ln\\left(\\frac{p}{p_0}\\right) = -\\frac SV \\left(t-t_0\\right)\n",
    "$$\n",
    "Umgeformt lautet sie dann:\n",
    "$$\n",
    "S = -\\frac{V}{(t-t_0)}\\cdot \\ln\\left(\\frac{p(t)}{p_0}\\right)\n",
    "$$\n",
    "\n",
    "wobei in der Gleichung $p(t)$ der gemmesene Druck, $p_0$ dem Anfgansdruck, $t_0$ die Anfangszeit und $V$ den Volumen des Apparates meinen.\n",
    "\n",
    "Die angaben zum Schlauch lauten\n",
    "$$\n",
    "\\begin{array}c\n",
    "\n",
    "l = 510 mm \n",
    "&\n",
    "d = 28 mm\n",
    "\\end{array}\n",
    "$$\n",
    "Womit sich das Volumen $V= V_{RZ} +V_{Schlauch} + 0.5l$ berechnen lässt.\n",
    "\n",
    "\n",
    "Als Angabe zum Bauteil wird das Saugvermögen $S= 2.5\\frac{m^3}{h}\\approx 0.694\\frac{l}{s}$ angegeben."
   ]
  },
  {
   "cell_type": "markdown",
   "id": "e51e5b56",
   "metadata": {
    "vscode": {
     "languageId": "plaintext"
    }
   },
   "source": [
    "#### Durchführung"
   ]
  },
  {
   "cell_type": "markdown",
   "id": "d8458321",
   "metadata": {},
   "source": [
    "Die Messung erfolgt püber die Aufnahme eines Videos ausdem dann wie in der Vorbereitung erwähnt an dem Vakuumeter $T_1$ alle 5 Sekunden abgelesen wird."
   ]
  },
  {
   "cell_type": "markdown",
   "id": "aec34c0c",
   "metadata": {},
   "source": [
    "#### Auswertung der Messdaten"
   ]
  },
  {
   "cell_type": "markdown",
   "id": "fb6852e6",
   "metadata": {},
   "source": [
    "Als Unsicherheiten werden die vom dem Messgerät in der [Hinweiseblatt](https://gitlab.kit.edu/kit/etp-lehre/p2-praktikum/students/-/blob/main/Vakuum/doc/Hinweise-Vakuummeter.md) angegebenen $\\pm 5\\%$ für den Intervall $10^{-3}\\leq p\\leq 10^2\\,\\mathrm{mbar}$ angenommen und die Reaktionszeit von Fadi Alhelo, welcher die Auswertung des Videos per hand gemacht hat. Diese betrug $\\approx 196\\, ms$\n",
    "\n",
    "Bei dem Motor gab es eine Anlaufzeit von $\\approx 20\\,s$ Diese wird im kommenden nicht berücksichtigt."
   ]
  },
  {
   "cell_type": "code",
   "execution_count": 1,
   "id": "d983e95d",
   "metadata": {},
   "outputs": [],
   "source": [
    "#Importing all needed libraries\n",
    "\n",
    "import numpy as np\n",
    "import matplotlib.pyplot as plt\n",
    "import kafe2\n",
    "import pandas as pd \n",
    "from IPython.display import display, Math"
   ]
  },
  {
   "cell_type": "code",
   "execution_count": 2,
   "id": "6da5c4f6",
   "metadata": {},
   "outputs": [
    {
     "data": {
      "image/png": "[encoded data removed]",
      "text/plain": [
       "<Figure size 640x480 with 1 Axes>"
      ]
     },
     "metadata": {},
     "output_type": "display_data"
    }
   ],
   "source": [
    "#Import the meassured values and turning them into usable variables\n",
    "df = pd.read_csv(r'Messung\\2.1_T1_Messung.csv', delimiter=',')\n",
    "time = df['t in sec']\n",
    "pressure = df['p in mbar']\n",
    "\n",
    "#Create the plot\n",
    "plt.errorbar(time,pressure,yerr=0.05*pressure,xerr=0.196,ls='none')\n",
    "plt.title('Druck-Zeit Diagramm')\n",
    "plt.xlabel(('Zeit in s'))\n",
    "plt.ylabel('Druck in mbar')\n",
    "plt.yscale('log')\n",
    "plt.show()"
   ]
  },
  {
   "cell_type": "markdown",
   "id": "dd61f25d",
   "metadata": {},
   "source": [
    "Im nächsten Schritt wird dann das Saugvermögen der Pumpe untersucht.\n",
    "\n",
    "Laut [Datenblatt](https://gitlab.kit.edu/kit/etp-lehre/p2-praktikum/students/-/blob/main/Vakuum/Datenblatt.md) sind folgende Angaben zu der Apparatur 41 angegeben:  \n",
    "- Der Rezepientvolumen ist: $V_{RZ} = 10.1l$\n",
    "- Der Volumen des Schlauches lässt sich als $V_{Schlauch} = 0.314l$ berechnen\n",
    "- Zusätlichem Volumen durch den Aufbau: $0.5l$\n",
    "\n",
    "Der Gesamt Volumen ist also: $V=10.914 l$\n",
    "    "
   ]
  },
  {
   "cell_type": "code",
   "execution_count": 3,
   "id": "cdc1e037",
   "metadata": {},
   "outputs": [],
   "source": [
    "#Define function to calculate S\n",
    "def Saugvermoegen(t,p,p_0,V,t_0 = 0):\n",
    "    return V/(t_0-t)*np.log(p/p_0)\n",
    "\n",
    "#Define the error of S\n",
    "def del_S(t,p,p_0,V,t_0=0):\n",
    "    return V*np.sqrt(((0.05)/(t-t_0))**2+((0.196*np.log(p/p_0))/(t-t_0)**2)**2)\n",
    "\n",
    "#Define function to calculate the mean of a list\n",
    "def mean(list,start, finish):\n",
    "    sum = 0\n",
    "    i = 0\n",
    "    for _ in range(start,finish+1):\n",
    "        sum += list[_]\n",
    "        i += 1\n",
    "    return sum/i\n"
   ]
  },
  {
   "cell_type": "code",
   "execution_count": 4,
   "id": "fb4819f2",
   "metadata": {},
   "outputs": [
    {
     "data": {
      "image/png": "[encoded data removed]",
      "text/plain": [
       "<Figure size 640x480 with 1 Axes>"
      ]
     },
     "metadata": {},
     "output_type": "display_data"
    }
   ],
   "source": [
    "V=10.914\n",
    "\n",
    "#Generate a list for S and it's error\n",
    "S = [Saugvermoegen(time[i]+20,pressure[i],p_0=pressure[0],V=V) for i in range(len(pressure))]\n",
    "S_err= [del_S(time[i]+20,pressure[i],p_0=pressure[0],V=V) for i in range(len(pressure))]\n",
    "\n",
    "#Create the Plot for S-p\n",
    "plt.errorbar(x=pressure,y=S,xerr=0.05*pressure,yerr=S_err,ls='none')\n",
    "plt.title('Saugvermögen in Abhängigkeit zum Druck')\n",
    "plt.xlabel('Druck in $mbar$')\n",
    "plt.ylabel(r'S in $\\frac{{l}}{{s}}$')\n",
    "plt.xscale('log')\n",
    "plt.ylim(-0.2,1.2)\n",
    "\n",
    "#Mark the three intervals\n",
    "plt.axvline(x=pressure[5],color=\"red\")\n",
    "plt.axvline(x=pressure[14],color=\"red\")\n",
    "plt.axhline(y=mean(list=S,start=5,finish=14))\n",
    "\n",
    "#distinct naming of the intervals\n",
    "plt.text(x=pressure[3],y=1,s='Bereich I',fontweight='bold',fontsize='large')\n",
    "plt.text(x=pressure[12],y=1,s='Bereich II',fontweight='bold',fontsize='large')\n",
    "plt.text(x=pressure[45],y=1,s='Bereich III',fontweight='bold',fontsize='large')\n",
    "\n",
    "#Show end result\n",
    "plt.show()"
   ]
  },
  {
   "cell_type": "markdown",
   "id": "06fe6838",
   "metadata": {},
   "source": [
    "Die Graphik läst gut ersichtlich in drei Abschnitte zerteilen.  \n",
    "In **Bereich I** ist zu sehen, dass das Saugvermögen mit abnehmendem Druck steigt.  \n",
    "In **Bereich II** bleibt das Saugvermögen trotz abnahme des Druckes gleich.  \n",
    "In **Bereich III** fält diese wieder je geringer der Druck wird."
   ]
  },
  {
   "cell_type": "markdown",
   "id": "68d21906",
   "metadata": {},
   "source": [
    "Anschließend wird der zweite Bereich, da in diesem Bereich das Saugvermögen quasi-sonstant ist, genauer untersucht.\n",
    "\n",
    "Hierfür werden diese Messpunkte zuerst isoliert verbildlicht."
   ]
  },
  {
   "cell_type": "code",
   "execution_count": 5,
   "id": "69026d53",
   "metadata": {},
   "outputs": [
    {
     "data": {
      "image/png": "[encoded data removed]",
      "text/plain": [
       "<Figure size 640x480 with 1 Axes>"
      ]
     },
     "metadata": {},
     "output_type": "display_data"
    }
   ],
   "source": [
    "plt.errorbar(time[5:15],pressure[5:15],yerr=0.05*pressure[5:15],xerr=0.196,ls='none')\n",
    "plt.title('Druck-Zeit Diagramm von Beriech II')\n",
    "plt.xlabel(('Zeit in s'))\n",
    "plt.ylabel('Druck in mbar')\n",
    "plt.show()"
   ]
  },
  {
   "cell_type": "markdown",
   "id": "bdf09fc1",
   "metadata": {},
   "source": [
    "Unter der Annahme dass das Saugvermögen hier quasi-constant ist, wird ein Fit der Form\n",
    "$$\n",
    "p(t)=p_0\\cdot e^{-\\frac SV\\left(t-t_0\\right)}\n",
    "$$\n",
    "angebracht."
   ]
  },
  {
   "cell_type": "code",
   "execution_count": 6,
   "id": "806d3c38",
   "metadata": {},
   "outputs": [
    {
     "data": {
      "image/png": "[encoded data removed]",
      "text/plain": [
       "<Figure size 1200x500 with 2 Axes>"
      ]
     },
     "metadata": {},
     "output_type": "display_data"
    }
   ],
   "source": [
    "# Define fit function\n",
    "def moddel(t,t_0=time[5],p_0=pressure[5],S=mean(list=S,start=5,finish=15)):\n",
    "    return p_0*np.exp(-(S)/(V)*(t-t_0))\n",
    "\n",
    "# Dataset erstellen\n",
    "dataset = kafe2.XYContainer(x_data=time[5:15],y_data=pressure[5:15])\n",
    "dataset.axis_labels=['Time in s', 'Pressure in mbar']\n",
    "dataset.label='Druck-Zeit Diagramm in Bereich II'\n",
    "\n",
    "dataset.add_error(axis='x',err_val=0.196)\n",
    "dataset.add_error(axis='y',err_val=0.05*pressure[5:15])\n",
    "\n",
    "\n",
    "\n",
    "# Fit-Objekt erstellen  \n",
    "fit = kafe2.Fit(dataset,model_function=moddel)\n",
    "fit.limit_parameter(\"t_0\", lower=0)\n",
    "\n",
    "# Fit durchführen\n",
    "fit.do_fit()\n",
    "fit_result=kafe2.Plot([fit])\n",
    "\n",
    "\n",
    "# Fit-Ergebnisse plotten\n",
    "fit_result.plot()\n",
    "plt.show()"
   ]
  },
  {
   "cell_type": "markdown",
   "id": "020dee50",
   "metadata": {},
   "source": [
    "##### Besprechung des Fits"
   ]
  },
  {
   "cell_type": "markdown",
   "id": "2a921a21",
   "metadata": {},
   "source": [
    "Der Fit ist leider sehr ungünstig und es fällt auf, dass sowohl die $\\chi^2$-probability sehr niedrig ist, als auch dass eine enorme Abweichung von S vorliegt!\n",
    "\n",
    "Im Fit ergibt sich $S_{fit}=\\left(0.821\\pm0.013\\right)\\frac{l}{s}$ Der Literaturwert dagegen beträgt $S_{lit}=2.5\\frac{m^3}{h}\\approx 0.694\\frac ls$. Dies liegt bei weitem außerhalb der ungenauigkeit des Wertes.  \n",
    "\n",
    "Urshachen dafür könnte die Ungenauigkeit des Messwerte sein, da diese per Hand aus dem Video ohne weitere Hilfsmittel entnommen wurden, oder auch die geringe Anzahl an Werte welche im Bereich II aufgezeichnet wurden."
   ]
  },
  {
   "cell_type": "markdown",
   "id": "a8f37817",
   "metadata": {},
   "source": [
    "\n",
    "---"
   ]
  },
  {
   "cell_type": "markdown",
   "id": "3edf8c1a-8093-424d-b71c-ffed083c79a8",
   "metadata": {
    "jp-MarkdownHeadingCollapsed": true,
    "tags": []
   },
   "source": [
    "### Aufgabe 2.2: Leitwert eines dünnen Rohrs\n",
    "\n",
    " - Bei der Verbindungsleitung L [hier](https://gitlab.kit.edu/kit/etp-lehre/p2-praktikum/students/-/blob/main/Vakuum/figures/VakuumSkizze.png) handelt es sich im Originalaufbau um einen Metallwellschlauch. Tauschen Sie diesen gegen das bereitliegende etwa gleichlange dünne Metallrohr aus.\n",
    " - Bestimmen Sie die Drucke $p_{1}$ (bei T1) vor und $p_{2}$ (bei T2) hinter dem Rohr als Funktion der Zeit. \n",
    " - Bestimmen Sie aus den gewonnenen Daten den Leitwert des Rohrs als Funktion des Drucks.\n",
    "\n",
    "---"
   ]
  },
  {
   "cell_type": "markdown",
   "id": "824ddc4d-ac26-44c1-8c69-e90313d52617",
   "metadata": {},
   "source": [
    "**Lösung:**\n"
   ]
  },
  {
   "cell_type": "markdown",
   "id": "a7312d05",
   "metadata": {},
   "source": [
    "#### Vorbereitung"
   ]
  },
  {
   "cell_type": "markdown",
   "id": "a825f244",
   "metadata": {},
   "source": [
    "##### Gesetz von Hagen-Poiseuille\n"
   ]
  },
  {
   "cell_type": "markdown",
   "id": "1a9ab541",
   "metadata": {},
   "source": [
    "Bei einem Druckuntershied zwischen zwei Seiten eines Volumenelements, kommt es zu eine Strömung eines sich darin befindendes Fluids mit einer vom Druckdifferenz abhängige Kraft\n",
    "$$\n",
    "F =\\pi r^2\\left[\n",
    "    p\n",
    "    \\left(\n",
    "        x+\\mathrm dx\n",
    "    \\right)\n",
    "    -p(x)\n",
    "\\right]\n",
    "= \\pi r^2 \\mathrm dp\n",
    "$$\n",
    "\n",
    "Entgegen dieser Kraft wirkt auf die Strömung die folgende Reibung aufgrund der Viskosität des Fluids.  \n",
    "$$\n",
    "F_R = -\\eta A\\frac{\\mathrm dv}{\\mathrm dz}\n",
    "$$\n",
    "In einem Zylinder (wie hier in dem Versuch) wird die Ableitung nach $\\mathrm dz$ durch eine nach $\\mathrm dr$ ersetzt, somit erhalten wir die folgende Gleichung:\n",
    "$$\n",
    "F_R = -\\eta 2\\pi r\\;\\mathrm dx\\frac{\\mathrm dv}{\\mathrm dr}\n",
    "$$\n",
    "\n",
    "im stationären Fall ergeben die zwei Kräfte $F+F_R=0$ und die folgende Ortsableitung der Geschwindigkeit:\n",
    "$$\n",
    "\\frac{\\mathrm dv}{\\mathrm dr} = \\frac{r}{2\\eta}\\frac{\\mathrm dp}{\\mathrm dx}\n",
    "$$"
   ]
  },
  {
   "cell_type": "markdown",
   "id": "230d7a14",
   "metadata": {},
   "source": [
    "Durch die zwei Kräfte und resultiert dann ein Geschwindichkeitsprofil für unser FLuid:\n",
    "$$\n",
    "v(r)= \\int_R^r \\frac{r}{2\\eta}\\;\\frac{\\mathrm dp}{\\mathrm dx}\\;\\mathrm dr = \\frac{r^2-R^2}{4\\eta}\\;\\frac{\\mathrm dp}{\\mathrm dx}\n",
    "$$\n",
    "\n",
    "Im zylindrischen Körper ergibt sich dann die folgendes Volumendurchfluss:\n",
    "$$\n",
    "\\dot V=\\int_{0}^{2\\pi}\\int_{0}^{R}\\frac{r^2-R^2}{4\\eta}\\;\\frac{\\mathrm dp}{\\mathrm dx}r\\;\\mathrm d\\phi\\; \\mathrm dr\n",
    "= -\\frac{\\pi R^4}{8\\eta}\\;\\frac{\\mathrm dp}{\\mathrm dx}\n",
    "$$\n",
    "\n",
    "Schaut man sich dem Massenfluss nach dem Seperationsansatz an\n",
    "$$\n",
    "\\int_0^l p\\dot V\\;\\mathrm dx=-\\int_{p_{ein}}^{p_{aus}}\n",
    "\\frac{\\pi R^4}{8\\eta}p\\;\\mathrm dq\n",
    "$$ \n",
    "erhält man folgendes raus:\n",
    "$$\n",
    "p\\dot V= -\\frac{\\pi R^4}{8\\eta l}\\bar p\\,\\Delta p\n",
    "$$\n",
    "\n",
    "mit $\\bar p = \\frac{p_{aus}+p_{ein}}2$ und $\\,\\Delta p =p_{aus}-p_{ein}$"
   ]
  },
  {
   "cell_type": "markdown",
   "id": "da5e7083",
   "metadata": {},
   "source": [
    "##### Strömungsleitwert"
   ]
  },
  {
   "cell_type": "markdown",
   "id": "a935b9fa",
   "metadata": {},
   "source": [
    "Den Strömungsleitwert $L$ ist dann als der Proportionalitätsfaktor zwischen Saugleistung $S$ und und Druckdiferrenz $\\Delta p$ gegebegen und lautet\n",
    "$$\n",
    "L = \\frac{\\pi R^4\\bar p}{8\\eta l}\n",
    "$$\n",
    "\n",
    "In den <a href=\"https://gitlab.kit.edu/kit/etp-lehre/p2-praktikum/students/-/blob/main/Vakuum/doc/Hinweise-Vakuum-a.md\">Hinweisen</a> wird gezeigt, dass sich der Stömungsleitwert $L$, der Volumenfluss $\\dot V$, und $\\frac{\\mathrm dp}{\\mathrm dx}$ Analoge zur Stromstärke $I$, Spannung $U$ und der Elektrischeleitwert $\\sigma$ aus den Kirchhoffschen Regeln der E-Lehre sind.  "
   ]
  },
  {
   "cell_type": "markdown",
   "id": "6ee6e19a",
   "metadata": {},
   "source": [
    "##### Effektive Suagleistung"
   ]
  },
  {
   "cell_type": "markdown",
   "id": "8398c8a5",
   "metadata": {},
   "source": [
    "Da die DSP nicht direkt an dem Metallrohr verbunden ist, kann hier nicht mit dem Saugvermögen gearbeitet werden. Anstelle dessen wird das sogenante effektive Saugvermögen $S_{eff}$\n",
    "$$\n",
    "S_{eff} = \\left(\n",
    "    \\frac 1L+\\frac 1S\n",
    "\\right)^{-1}= \\frac{p_1}{p_2}S\n",
    "$$\n",
    "eingeführt. \n",
    "$S_{eff}$ ergibt sich durch die Serienschaltung der Leitungselemente.\n",
    "\n",
    "Formt man nach dem Stromleitwert um, erhält man dann folgende Gleichung:\n",
    "$$\n",
    "L = \\frac{S\\,S_{eff}}{S-S_{eff}} = \\frac{p_1}{p_2-p_1}S\n",
    "$$\n",
    "\n",
    "Dabei sind $p_1$ und $p_2$ die Messergebnisse von $T_1$ und $T_2$.\n",
    "\n",
    "---\n",
    "\n",
    "$$L[\\mathrm{l/s}] = 12.1\\frac{d^{3}}{\\ell}\\cdot\\frac{1+203\\, d\\, \\overline{p} + 2.78\\times 10^{3}\\,\\left(d\\,\\overline{p}\\right)^{2}}{1+237\\, d\\, \\overline{p}}$$\n",
    "Ist eine Theoretische Gleichung mitder man das Resultat vergleichen kann."
   ]
  },
  {
   "cell_type": "markdown",
   "id": "d56f4aae",
   "metadata": {},
   "source": [
    "#### Durchführung"
   ]
  },
  {
   "cell_type": "markdown",
   "id": "15a53dd4",
   "metadata": {},
   "source": [
    "Der vorher verbindende Metallwellschlauch wurde nun durch ein sehr dünnes Rohr ausgetauscht und\n",
    "die Glocke wieder evakuiert. Danach wird über eine Zeitspanne von $5\\,\\mathrm{min}$ der Druck bei $T_1$ und $T_2$ gemessen. Diese werden dann wie davor bei [Aufgabe 2.1](#aufgabe-21-saugvermögen-der-dsp) als $p(t)$-Diagramm dargestellt."
   ]
  },
  {
   "cell_type": "markdown",
   "id": "f784c5e8",
   "metadata": {},
   "source": [
    "#### Auswertung"
   ]
  },
  {
   "cell_type": "markdown",
   "id": "ba60be28",
   "metadata": {},
   "source": [
    "Es werden zunächst die Messdaten der jeweiligen Vakuummeter $T_1\\,\\&\\,T_2$ geplottet."
   ]
  },
  {
   "cell_type": "code",
   "execution_count": 9,
   "id": "8d0ddafe",
   "metadata": {},
   "outputs": [
    {
     "data": {
      "image/png": "[encoded data removed]",
      "text/plain": [
       "<Figure size 640x480 with 1 Axes>"
      ]
     },
     "metadata": {},
     "output_type": "display_data"
    }
   ],
   "source": [
    "#Import the meassured values and turning them into usable variables\n",
    "df = pd.read_csv(r'Messung\\2.2_T1-T2_Messung.csv', delimiter=',')\n",
    "time_2 = df['t in sec']\n",
    "pressure_1 = df['p1 in mbar']\n",
    "pressure_2 = df['p2 in mbar']\n",
    "\n",
    "#Create the plots\n",
    "plt.errorbar(time_2,pressure_1,yerr=0.05*pressure_1,xerr=0.196,ls='none',color='#3232ff',label='p1')\n",
    "plt.errorbar(time_2,pressure_2,yerr=0.05*pressure_2,xerr=0.196,ls='none',color='#ff8000',label='p2')\n",
    "\n",
    "#Add legend\n",
    "\n",
    "plt.title('Druck-Zeit Diagramm')\n",
    "plt.xlabel(('Zeit in s'))\n",
    "plt.ylabel('Druck in mbar')\n",
    "plt.yscale('log')\n",
    "plt.legend()\n",
    "plt.show()"
   ]
  },
  {
   "cell_type": "markdown",
   "id": "806a059e",
   "metadata": {},
   "source": [
    "\n",
    "---"
   ]
  },
  {
   "cell_type": "markdown",
   "id": "0ba91206-e004-4c1a-b373-2e67f979a67c",
   "metadata": {
    "jp-MarkdownHeadingCollapsed": true,
    "tags": []
   },
   "source": [
    "### Aufgabe 2.3: Saugvermögen der TMP\n",
    "\n",
    " - Nehmen Sie die TMP in Betrieb und bestimmen Sie analog zu **Aufgabe 2.1** das Saugvermögen der TMP als Funktion des Drucks bei IM. \n",
    " - Stellen Sie S(p) für die DSP und die TMP in einem Diagramm graphisch dar und diskutieren Sie Ihr Ergebnis.\n",
    " - Schätzen Sie die Kraft ab, mit der die Glasglocke auf die Gummidichtung gedrückt wird.\n",
    "\n",
    "---"
   ]
  },
  {
   "cell_type": "markdown",
   "id": "cc29074d-9701-4ec1-ae6a-79d9e4b6f6e9",
   "metadata": {},
   "source": [
    "**Lösung:**\n"
   ]
  },
  {
   "cell_type": "markdown",
   "id": "9bc6028b",
   "metadata": {},
   "source": [
    "#### Vorbereitung"
   ]
  },
  {
   "cell_type": "markdown",
   "id": "36cc9e62",
   "metadata": {},
   "source": [
    "Um das Saugvermögen der TMP zu bestimmen wird zur Messung die IM verwendet.  \n",
    "\n",
    "Zuerst wird die Apparatur belüftet bis sich ein druck von $\\sim 0.2\\mathrm{mbar}$ einstellt.  \n",
    "Danach wird dies mit der DSP auf einem Druck von $\\sim0.08\\mathrm{mbar}$ abgepumpt. Nach erreichen diesem Drucks wird die TMP eingeschaltet.\n",
    "\n",
    "Am IM wird dann alle $10\\mathrm{sec}$ der Druck aufgezeichnet.\n",
    "\n",
    "Andschließend soll ein $S(p)$-Diagramm analog zu dem in [Aufgabe 2.1](#aufgabe-21-saugvermögen-der-dsp) erstellt werden damit die zwei $S(p)$-Diagramme anschließend verglichen werden."
   ]
  },
  {
   "cell_type": "markdown",
   "id": "0baf6f58",
   "metadata": {},
   "source": [
    "#### Durchführung"
   ]
  },
  {
   "cell_type": "markdown",
   "id": "c62e40a4",
   "metadata": {},
   "source": [
    "Es wird wie in der Vorbereitung bereits beschrieben den Versuch durchgefürht.  \n",
    "Im laufe des Versuches soll auch der Ventil $V_3$ geöffnet werden. "
   ]
  },
  {
   "cell_type": "markdown",
   "id": "072dfb89",
   "metadata": {},
   "source": [
    "#### Auswertung"
   ]
  },
  {
   "cell_type": "markdown",
   "id": "16ae9143",
   "metadata": {},
   "source": []
  },
  {
   "cell_type": "markdown",
   "id": "593a6e74",
   "metadata": {},
   "source": [
    "\n",
    "---"
   ]
  },
  {
   "cell_type": "markdown",
   "id": "c7b52bb9-ae42-4298-b14a-141cea21fffb",
   "metadata": {
    "jp-MarkdownHeadingCollapsed": true,
    "tags": []
   },
   "source": [
    "## Aufgabe 3: Experimente im Vakuum\n",
    "\n",
    "**Hinweise zu Aufgabe 1 finden in der Datei [Hinweise-Versuchsdurchfuehrung.md](https://gitlab.kit.edu/kit/etp-lehre/p2-praktikum/students/-/blob/main/Vakuum/doc/Hinweise-Versuchsdurchfuehrung.md).**\n",
    "\n",
    " - Für diese Aufgabe führen Sie einige einfache Experimente im Vakuum durch. \n",
    " - Bearbeiten Sie hierzu die folgenden Aufgaben. "
   ]
  },
  {
   "cell_type": "markdown",
   "id": "6e2a190c-eb0d-4a60-83e5-d9118e9ccefc",
   "metadata": {
    "jp-MarkdownHeadingCollapsed": true,
    "tags": []
   },
   "source": [
    "### Aufgabe 3.1: Statische Kalibration von T3\n",
    "\n",
    "Führen Sie mit Hilfe des Referenzvolumes RV eine statische Kalibration des Vakuummeters T3 durch.\n",
    "\n",
    "---"
   ]
  },
  {
   "cell_type": "markdown",
   "id": "8dc78b54-7666-4457-ad0b-0716ad3a37fa",
   "metadata": {},
   "source": [
    "**Lösung:**"
   ]
  },
  {
   "cell_type": "markdown",
   "id": "aea7f25a",
   "metadata": {},
   "source": [
    "#### Vorbereitung"
   ]
  },
  {
   "cell_type": "markdown",
   "id": "e50cc049",
   "metadata": {},
   "source": [
    "Um den Druck nach jeder itteration zu bestimmen, wird das Boyle-Mariottesche Gesetz verwendet. Bei einen konstanten Temperatur lautet dies:\n",
    "$$\n",
    "p_1V_1=p_2V_2\n",
    "$$\n",
    "\n",
    "Im Versuch wird p_1 als Atmospharendruck $p_0$ und $V_1$ als RV eingesetzt. \n",
    "\n",
    "Der Verdichtungsverhältnis des Systems wird durch die Gleichung\n",
    "$$\n",
    "\\epsilon =\\frac{\\Delta p}{p_0}\n",
    "$$\n",
    "gegeben.  \n",
    "Es wird ein linearer Zusammenhang vermutet. Aber aufgrund von der Leckrate des Aufbaus, wird dies möglicherweise nicht der Fall sein.\n",
    "\n",
    "Es gilt folgende Veränderung des Drucks nach jeder Iteration:\n",
    "\n",
    "$$\n",
    "\\begin{split}\n",
    "&\\bigl(p_{\\mathrm{RZ}}+\\Delta p\\bigr)\\,\\bigl(V_{\\mathrm{RZ}}+V_{\\mathrm{RV}}\\bigr) = \\bigl(n_{\\mathrm{RZ}}+n_{\\mathrm{RV}}\\bigr)\\,R\\,T \\\\\n",
    "&\\\\\n",
    "&\\text{mit:}\\\\\n",
    "&\\\\\n",
    "&n_{\\mathrm{RZ}} = \\frac{p_{\\mathrm{RZ}}\\,V_{\\mathrm{RZ}}}{R\\,T}\\qquad\n",
    "n_{\\mathrm{RV}} = \\frac{p_{0}\\,V_{\\mathrm{RV}}}{R\\,T} \\\\\n",
    "&\\\\\n",
    "&\\bigl(p_{\\mathrm{RZ}}+\\Delta p\\bigr)\\,\\bigl(V_{\\mathrm{RZ}}+V_{\\mathrm{RV}}\\bigr) = p_{\\mathrm{RZ}}\\,V_{\\mathrm{RZ}}+p_{0}\\,V_{\\mathrm{RV}}\\\\\n",
    "&\\\\\n",
    "&V_{\\mathrm{RV}} = \\frac{\\Delta p\\,V_{\\mathrm{RZ}}}{p_{0}-\\left(p_{\\mathrm{RZ}}+\\Delta p\\right)}\\approx\\frac{\\Delta p\\,V_{\\mathrm{RZ}}}{p_{0}} \\\\\n",
    "&\\\\\n",
    "&\\epsilon=\\frac{\\Delta p}{p_{0}}\\approx\\frac{V_{\\mathrm{RV}}}{V_{\\mathrm{RZ}}} \\\\\n",
    "\\end{split}\n",
    "$$"
   ]
  },
  {
   "cell_type": "markdown",
   "id": "370c5329",
   "metadata": {},
   "source": [
    "#### Durchführung"
   ]
  },
  {
   "cell_type": "markdown",
   "id": "04029ae0",
   "metadata": {},
   "source": [
    "Es werden $V_3$ geschlossen und $B_2$.  \n",
    "Danach wird RZ mithife beider Pumpen (DSP & TMP) evakuiert.\n",
    "\n",
    "Nachdem ein Druck von $p\\lesssim 10^{-4}mbar$ erreicht wird, wird $V_2$ geschlossen um die Pumpe abzutrennen.  \n",
    "\n",
    "1. Nun werden $B_2$ geschlossen und $V_3$ geöffnet. Nachdem sich der Druck dann einstellt, wird dies bei $T_3$ abgelesen.\n",
    "\n",
    "2. Nachdem dies abgelesen wird, wird daraufhin $V_3$ geschlossen und $B_2$.  \n",
    "Daraufhin stellt sich dann der Atmospharendruck $p_0$ im Referenzvolumen (RV) ein.\n",
    "\n",
    "Diese zwei Schritte werden stehts wiederholt bis sich im RZ ein Druck von $\\sim \\mathrm{80mbar}$ einstellt.\n",
    "\n",
    "Der Verlauf des Drucks wird dann in der Auswertung als Funktion der Iterationen $i$ dargestellt.  \n",
    "Daruas wird dann auch das Verdichtungsverhältnis bestimmt."
   ]
  },
  {
   "cell_type": "markdown",
   "id": "63d02280",
   "metadata": {},
   "source": [
    "#### Auswertung"
   ]
  },
  {
   "cell_type": "code",
   "execution_count": null,
   "id": "605c723f",
   "metadata": {},
   "outputs": [],
   "source": [
    "pressure = np.array([3.80,8.09, 12.5,17.6,22.6,28.5,35.4,43.8,49.3,59.5,66.0,76.4,90.7 ])"
   ]
  },
  {
   "cell_type": "markdown",
   "id": "d789aa54",
   "metadata": {},
   "source": [
    "---"
   ]
  },
  {
   "cell_type": "markdown",
   "id": "79a35b76-2580-482e-b90b-a53977b5e53f",
   "metadata": {
    "jp-MarkdownHeadingCollapsed": true,
    "tags": []
   },
   "source": [
    "### Aufgabe 3.2: Elektrische Durchschlagfestigkeit\n",
    "\n",
    " - Bestimmen Sie die elektrische Durchschlagfestigkeit der KE als Funktion des Umgebungsdrucks in Luft. \n",
    " - Diese Aufgabe kann nur an den Apparaturen 41 und 42 durchgeführt werden. \n",
    "\n",
    "---"
   ]
  },
  {
   "cell_type": "markdown",
   "id": "3be7af57-b3c2-4f1e-a028-a2d2920887f0",
   "metadata": {},
   "source": [
    "**Lösung:**"
   ]
  },
  {
   "cell_type": "markdown",
   "id": "6139553e",
   "metadata": {},
   "source": [
    "#### Vorbereitung"
   ]
  },
  {
   "cell_type": "markdown",
   "id": "a7fdb27a",
   "metadata": {},
   "source": [
    "Bei dem anlegen einer hinreichend großen Spannung zwischen zwei Körper, Entladen sich diese duch einen Funken.  \n",
    "Im Versuch wird dieses Phänomen in Abhängigkeit vom anliegenden Druck geprüft.\n",
    "\n",
    "Der Entladungsprozess ist vom [Druck abhängig](https://de.wikipedia.org/wiki/Durchschlagfestigkeit). Dementsprechend, wird vermutet, dass die dazu benötigte Spannung mit dem Druck sinkent wird.\n",
    "\n",
    "Es werden zwei Entladungsprozesse erwartet:\n",
    "- Funkenentladung wie sie unter normalen Bedingungen gesehen wird (bsp. Blitze)\n",
    "- Glimmentladung bei niedrigem Druck\n",
    "\n",
    "Die beobachtbare Glimmladung ist kann nur bei niedrigem Druck entstehen, da es im Vakuum eine geringe Menge and Luftteilchen gibt und somit die geringere Wahrscheinlichkeit, dass ein Elektron mit einem dieser Teilchen stößt.\n",
    "\n",
    "Zur Bestimmung der mittleren freien Weglänge $\\lambda$ wird folgende formel verwendet:\n",
    "\n",
    "\\begin{equation*}\n",
    "\\begin{split}\n",
    "&\\lambda = \\frac{1}{\\sigma\\,n} = \\frac{k_{B}\\,T}{\\sigma\\,p_{\\mathrm{RZ}}};\\\\\n",
    "&\\\\\n",
    "&\\text{mit:}\\\\\n",
    "&\\\\\n",
    "&\\sigma= \\pi\\,r^{2};\\qquad r=\\sqrt[3]{\\frac{3}{4\\pi}V};\n",
    "\\qquad V= \\frac{M_{m}\\,f}{N_{A}\\,\\rho_{\\mathrm{fl}}},\\\\\n",
    "\\end{split}\n",
    "\\end{equation*}\n",
    "\n",
    "wobei $N_{A}$ der [Avogradro-Konstanten](https://de.wikipedia.org/wiki/Avogadro-Konstante),  $M_{m}$ der [molaren Masse](https://de.wikipedia.org/wiki/Molare_Masse), $\\rho_{\\mathrm{fl}}=807\\ \\mathrm{g/\\ell}$ der Dichte von flüssigem $\\mathrm{N}_{2}$ und $f\\approx0.74$ als Füllfaktor."
   ]
  },
  {
   "cell_type": "markdown",
   "id": "4d464477",
   "metadata": {},
   "source": [
    "#### Durchführung"
   ]
  },
  {
   "cell_type": "markdown",
   "id": "4970b9b5",
   "metadata": {},
   "source": [
    "Das RZ wird zuerst mit dem DSP evakuiert. Stehts nach erreichen des gewünschten Drucks, wird dann $V_1$ geschlossen, damit der Druck im laufe der Messung konstant bleibt.\n",
    "\n",
    "Die Messung wird zuerst mit geöffnete Ventile bei Atmosphärendruck durchgefürt. Danach wird der Druck zwischen den einzelnen Messungen stehts halbiert.\n",
    "\n",
    "Ab einem Druck von $\\sim 0.08\\mathrm{mbar}$ wird dann die TMP ebenfalls angeschaltet um einen Druck von $p\\lesssim 10^{-4}\\mathrm{mbar}$ erreicht wird.  \n",
    "Anschließend wird dann $V_2$ geschlossen.  \n",
    "Aufgrundder Leckrate des Vakuums wird der Druck stehtig aufsteigen. Während dies geschieht, werden weitere Messwerte aufgezeichnet mit der Bedingung, dass die Spannung $U\\leq 9\\mathrm{kV}$ bleibt.  \n",
    "Diese Messreihe endet beim erreichen des Drucks $p\\sim 0.08\\mathrm{mbar}$"
   ]
  },
  {
   "cell_type": "markdown",
   "id": "e7b929fc",
   "metadata": {},
   "source": [
    "#### Auswertung"
   ]
  },
  {
   "cell_type": "code",
   "execution_count": null,
   "id": "9ea35725",
   "metadata": {},
   "outputs": [
    {
     "ename": "SyntaxError",
     "evalue": "invalid syntax (3444055629.py, line 7)",
     "output_type": "error",
     "traceback": [
      "\u001b[1;36m  Cell \u001b[1;32mIn[78], line 7\u001b[1;36m\u001b[0m\n\u001b[1;33m    r =\u001b[0m\n\u001b[1;37m       ^\u001b[0m\n\u001b[1;31mSyntaxError\u001b[0m\u001b[1;31m:\u001b[0m invalid syntax\n"
     ]
    }
   ],
   "source": [
    "# Defining needed constants\n",
    "k_B = 1.380649E-23 # in J pro K\n",
    "T = 293.15 # in K\n",
    "N_A = 6.02214076E23 # pro Mol\n",
    "M_m = 28.013 # von Stickstoff in units \n",
    "\n",
    "r =\n",
    "V= "
   ]
  },
  {
   "cell_type": "code",
   "execution_count": null,
   "id": "c37beb05",
   "metadata": {},
   "outputs": [],
   "source": [
    "Volt = np.array([4.357,0.807,0.793,0.706,0.585,0.475,0.402,0.395,0.378,0.341,0.473,0.511,0.598,0.522,0.567,1.1,0.8,0.760.72])# in kV\n",
    "    # Multimeter * 10\n",
    "pressure = np.array([1000,490,255,125,61.3,31.0, 15.7,7.75,3.83,1.88,0.911,0.45,0.225,0.117,0.055,0.])# in mbar\n"
   ]
  },
  {
   "cell_type": "code",
   "execution_count": null,
   "id": "e7f22809",
   "metadata": {},
   "outputs": [
    {
     "data": {
      "text/plain": [
       "<function matplotlib.pyplot.show(close=None, block=None)>"
      ]
     },
     "execution_count": 26,
     "metadata": {},
     "output_type": "execute_result"
    },
    {
     "data": {
      "image/png": "[encoded data removed]",
      "text/plain": [
       "<Figure size 640x480 with 1 Axes>"
      ]
     },
     "metadata": {},
     "output_type": "display_data"
    }
   ],
   "source": [
    "plt.plot(pressure,Volt)\n",
    "plt.xscale(\"log\")\n",
    "plt.show\n"
   ]
  },
  {
   "cell_type": "markdown",
   "id": "f78ad156",
   "metadata": {},
   "source": [
    "Es wurden keine Messwerte im bereich $p \\sim 10^{-4}$ da kein Überschlag stattfinden konnte \n",
    "Bei 2.3 wird bei dem Plotten ein nähster punkt zwischen IM und T3 gefunden. Dieser soll verwendet werden."
   ]
  },
  {
   "cell_type": "markdown",
   "id": "eb357c2b",
   "metadata": {},
   "source": [
    "\n",
    "---"
   ]
  },
  {
   "cell_type": "markdown",
   "id": "21028425-06e0-4e28-994a-187646cc8ee1",
   "metadata": {
    "jp-MarkdownHeadingCollapsed": true,
    "tags": []
   },
   "source": [
    "### Aufgabe 3.3: Aufdampfen von Indium\n",
    "\n",
    "Dampfen Sie mit Hilfe einer Schablone bei zwei verschiedenen Drucken Indium auf eine Plexiglasplatte auf.\n",
    "\n",
    "---"
   ]
  },
  {
   "cell_type": "markdown",
   "id": "b849f76a-0ffe-4b63-bf83-cb71bf57a012",
   "metadata": {},
   "source": [
    "**Lösung:**"
   ]
  },
  {
   "cell_type": "markdown",
   "id": "4b93ed02",
   "metadata": {},
   "source": [
    "#### Vorbereitung"
   ]
  },
  {
   "cell_type": "markdown",
   "id": "bffb3dc3",
   "metadata": {},
   "source": [
    "Es wird nun ein Indium Fleck bei einem Druck von $\\dots$\n",
    "- $p\\leq 10^{-4}\\mathrm{mbar}$\n",
    "- $p\\leq10^{-3}\\mathrm{mbar}$\n",
    "\n",
    "$\\dots$ aufgedampft.\n",
    "\n",
    "Ähnlich wie bei Aufgabe 3.2 wird auch hier Aufgrund der unterschiedlichen mittleren freien Weglänge $\\lambda$ von verschiedene Ergebnisse ausgegangen."
   ]
  },
  {
   "cell_type": "markdown",
   "id": "597822bd",
   "metadata": {},
   "source": [
    "#### Durchführung"
   ]
  },
  {
   "cell_type": "markdown",
   "id": "ce2f7620",
   "metadata": {},
   "source": [
    "Das RZ wird zu begin mithilfe der TMP Evakuiert bis der herschende Druck auf $\\sim 10^{-4}$ fällt. Danach wird der Ventil $V_2$ geschlossen und der erste Fleck bei diesem Druck aufgedampft.\n",
    "\n",
    "Als nächstest wird etwas Luft durch $B_2$ eingelassen damit ein Vakuum mit $p\\sim 10^{-3}\\mathrm{mbar}$ erreicht wird. Der zweite Fleck wird dann unter diesem Druck aufgedampft.\n",
    "\n",
    "Am ende wird die Randschärfe der jeweiligen Flecken untersucht."
   ]
  },
  {
   "cell_type": "markdown",
   "id": "36d67e6f",
   "metadata": {},
   "source": [
    "#### Auswertung"
   ]
  },
  {
   "cell_type": "markdown",
   "id": "7c9f6b4a",
   "metadata": {},
   "source": [
    "<img src='Messung/Indium_Flecke.jpg' alt='Bild der zwei Indium Flecke' style='height:700px'>\n",
    "\n",
    "**Abbildung 3.3.1:** Aufnahmen der Indium Flecke. Links bei $p\\leq10^{-4}\\mathrm{mbar}$ und rechts bei $p\\leq10^{-3}\\mathrm{mbar}$\n",
    "\n",
    "Wie bereits in der Vorbereitung vermutet, zeigt sich ein Unterschied.  \n",
    "Das im Vakuum mit dem Druck $p\\leq10^{-4}\\mathrm{mbar}$ entsandene Fleck hat sehr scharfe Kanten wogegen der Fleck beim Druck $p\\leq10^{-3}\\mathrm{mbar}$ dagegen sogut wie keine Kanten aufweisst.\n",
    "\n",
    "Das liegt daran, dass sich die mittlere freie Weglänge $\\lambda$ geändert hat und bei dem höheren Druck es zu viele Stöße zwischen dem Damp und die Gaß Atome kam. Hingegen geschah eine solche Wechselwirkung im geringeren Druck fast nie."
   ]
  },
  {
   "cell_type": "markdown",
   "id": "730dce6d",
   "metadata": {},
   "source": [
    "\n",
    "---"
   ]
  }
 ],
 "metadata": {
  "kernelspec": {
   "display_name": "Python 3 (ipykernel)",
   "language": "python",
   "name": "python3"
  },
  "language_info": {
   "codemirror_mode": {
    "name": "ipython",
    "version": 3
   },
   "file_extension": ".py",
   "mimetype": "text/x-python",
   "name": "python",
   "nbconvert_exporter": "python",
   "pygments_lexer": "ipython3",
   "version": "3.11.9"
  }
 },
 "nbformat": 4,
 "nbformat_minor": 5
}
